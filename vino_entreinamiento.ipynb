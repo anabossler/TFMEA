{
  "nbformat": 4,
  "nbformat_minor": 0,
  "metadata": {
    "kernelspec": {
      "display_name": "Python 3",
      "language": "python",
      "name": "python3"
    },
    "language_info": {
      "codemirror_mode": {
        "name": "ipython",
        "version": 3
      },
      "file_extension": ".py",
      "mimetype": "text/x-python",
      "name": "python",
      "nbconvert_exporter": "python",
      "pygments_lexer": "ipython3",
      "version": "3.8.5"
    },
    "colab": {
      "name": "vino entreinamiento",
      "provenance": []
    }
  },
  "cells": [
    {
      "cell_type": "code",
      "metadata": {
        "colab": {
          "base_uri": "https://localhost:8080/"
        },
        "id": "MeBht8HI0O0m",
        "outputId": "0ffbc079-4010-4c4f-c78a-2bdbd8287661"
      },
      "source": [
        "import pandas as pd\n",
        "from sklearn.model_selection import train_test_split\n",
        "import matplotlib.pyplot as plt\n",
        "import numpy as np\n",
        "import sklearn\n",
        "# Commented out IPython magic to ensure Python compatibility.\n",
        "import seaborn as sns\n",
        "# %matplotlib inline\n",
        "\n",
        "print(\"Versión de librería sklearn: {}\".format(sklearn.__version__))"
      ],
      "execution_count": 1,
      "outputs": [
        {
          "output_type": "stream",
          "text": [
            "Versión de librería sklearn: 0.22.2.post1\n"
          ],
          "name": "stdout"
        }
      ]
    },
    {
      "cell_type": "code",
      "metadata": {
        "id": "50aL_sHR0O0x"
      },
      "source": [
        "vino = pd.read_csv('/content/winequality-red.csv', header=0, delimiter=';')\n"
      ],
      "execution_count": 2,
      "outputs": []
    },
    {
      "cell_type": "code",
      "metadata": {
        "colab": {
          "base_uri": "https://localhost:8080/",
          "height": 233
        },
        "id": "TtlOInz70O0z",
        "outputId": "eee28317-3e92-4e8f-a0a4-d9b235cdf495"
      },
      "source": [
        "vino.head()"
      ],
      "execution_count": 5,
      "outputs": [
        {
          "output_type": "execute_result",
          "data": {
            "text/html": [
              "<div>\n",
              "<style scoped>\n",
              "    .dataframe tbody tr th:only-of-type {\n",
              "        vertical-align: middle;\n",
              "    }\n",
              "\n",
              "    .dataframe tbody tr th {\n",
              "        vertical-align: top;\n",
              "    }\n",
              "\n",
              "    .dataframe thead th {\n",
              "        text-align: right;\n",
              "    }\n",
              "</style>\n",
              "<table border=\"1\" class=\"dataframe\">\n",
              "  <thead>\n",
              "    <tr style=\"text-align: right;\">\n",
              "      <th></th>\n",
              "      <th>fixed acidity</th>\n",
              "      <th>volatile acidity</th>\n",
              "      <th>citric acid</th>\n",
              "      <th>residual sugar</th>\n",
              "      <th>chlorides</th>\n",
              "      <th>free sulfur dioxide</th>\n",
              "      <th>total sulfur dioxide</th>\n",
              "      <th>density</th>\n",
              "      <th>pH</th>\n",
              "      <th>sulphates</th>\n",
              "      <th>alcohol</th>\n",
              "      <th>quality</th>\n",
              "    </tr>\n",
              "  </thead>\n",
              "  <tbody>\n",
              "    <tr>\n",
              "      <th>0</th>\n",
              "      <td>7.4</td>\n",
              "      <td>0.70</td>\n",
              "      <td>0.00</td>\n",
              "      <td>1.9</td>\n",
              "      <td>0.076</td>\n",
              "      <td>11.0</td>\n",
              "      <td>34.0</td>\n",
              "      <td>0.9978</td>\n",
              "      <td>3.51</td>\n",
              "      <td>0.56</td>\n",
              "      <td>9.4</td>\n",
              "      <td>5</td>\n",
              "    </tr>\n",
              "    <tr>\n",
              "      <th>1</th>\n",
              "      <td>7.8</td>\n",
              "      <td>0.88</td>\n",
              "      <td>0.00</td>\n",
              "      <td>2.6</td>\n",
              "      <td>0.098</td>\n",
              "      <td>25.0</td>\n",
              "      <td>67.0</td>\n",
              "      <td>0.9968</td>\n",
              "      <td>3.20</td>\n",
              "      <td>0.68</td>\n",
              "      <td>9.8</td>\n",
              "      <td>5</td>\n",
              "    </tr>\n",
              "    <tr>\n",
              "      <th>2</th>\n",
              "      <td>7.8</td>\n",
              "      <td>0.76</td>\n",
              "      <td>0.04</td>\n",
              "      <td>2.3</td>\n",
              "      <td>0.092</td>\n",
              "      <td>15.0</td>\n",
              "      <td>54.0</td>\n",
              "      <td>0.9970</td>\n",
              "      <td>3.26</td>\n",
              "      <td>0.65</td>\n",
              "      <td>9.8</td>\n",
              "      <td>5</td>\n",
              "    </tr>\n",
              "    <tr>\n",
              "      <th>3</th>\n",
              "      <td>11.2</td>\n",
              "      <td>0.28</td>\n",
              "      <td>0.56</td>\n",
              "      <td>1.9</td>\n",
              "      <td>0.075</td>\n",
              "      <td>17.0</td>\n",
              "      <td>60.0</td>\n",
              "      <td>0.9980</td>\n",
              "      <td>3.16</td>\n",
              "      <td>0.58</td>\n",
              "      <td>9.8</td>\n",
              "      <td>6</td>\n",
              "    </tr>\n",
              "    <tr>\n",
              "      <th>4</th>\n",
              "      <td>7.4</td>\n",
              "      <td>0.70</td>\n",
              "      <td>0.00</td>\n",
              "      <td>1.9</td>\n",
              "      <td>0.076</td>\n",
              "      <td>11.0</td>\n",
              "      <td>34.0</td>\n",
              "      <td>0.9978</td>\n",
              "      <td>3.51</td>\n",
              "      <td>0.56</td>\n",
              "      <td>9.4</td>\n",
              "      <td>5</td>\n",
              "    </tr>\n",
              "  </tbody>\n",
              "</table>\n",
              "</div>"
            ],
            "text/plain": [
              "   fixed acidity  volatile acidity  citric acid  ...  sulphates  alcohol  quality\n",
              "0            7.4              0.70         0.00  ...       0.56      9.4        5\n",
              "1            7.8              0.88         0.00  ...       0.68      9.8        5\n",
              "2            7.8              0.76         0.04  ...       0.65      9.8        5\n",
              "3           11.2              0.28         0.56  ...       0.58      9.8        6\n",
              "4            7.4              0.70         0.00  ...       0.56      9.4        5\n",
              "\n",
              "[5 rows x 12 columns]"
            ]
          },
          "metadata": {
            "tags": []
          },
          "execution_count": 5
        }
      ]
    },
    {
      "cell_type": "code",
      "metadata": {
        "colab": {
          "base_uri": "https://localhost:8080/"
        },
        "id": "o08G9QTLSkaK",
        "outputId": "b63a5569-428b-4563-df83-d5556374ca39"
      },
      "source": [
        "vino.info"
      ],
      "execution_count": 42,
      "outputs": [
        {
          "output_type": "execute_result",
          "data": {
            "text/plain": [
              "<bound method DataFrame.info of       fixed acidity  volatile acidity  citric acid  ...  sulphates  alcohol  quality\n",
              "0               7.4             0.700         0.00  ...       0.56      9.4        5\n",
              "1               7.8             0.880         0.00  ...       0.68      9.8        5\n",
              "2               7.8             0.760         0.04  ...       0.65      9.8        5\n",
              "3              11.2             0.280         0.56  ...       0.58      9.8        6\n",
              "4               7.4             0.700         0.00  ...       0.56      9.4        5\n",
              "...             ...               ...          ...  ...        ...      ...      ...\n",
              "1594            6.2             0.600         0.08  ...       0.58     10.5        5\n",
              "1595            5.9             0.550         0.10  ...       0.76     11.2        6\n",
              "1596            6.3             0.510         0.13  ...       0.75     11.0        6\n",
              "1597            5.9             0.645         0.12  ...       0.71     10.2        5\n",
              "1598            6.0             0.310         0.47  ...       0.66     11.0        6\n",
              "\n",
              "[1599 rows x 12 columns]>"
            ]
          },
          "metadata": {
            "tags": []
          },
          "execution_count": 42
        }
      ]
    },
    {
      "cell_type": "code",
      "metadata": {
        "colab": {
          "base_uri": "https://localhost:8080/"
        },
        "id": "D3Q66Kmw0O06",
        "outputId": "f32952c2-f62b-49bc-9959-dc8e25fd86d3"
      },
      "source": [
        "def missing(df):\n",
        "    total=df.isnull().sum().sort_values(ascending=False)\n",
        "    percent=(df.isnull().sum()*100/df.isnull().count()).sort_values(ascending=False)\n",
        "\n",
        "missing(vino)\n",
        "\n",
        "\n",
        "vino.isnull().sum()\n",
        "\n"
      ],
      "execution_count": 43,
      "outputs": [
        {
          "output_type": "execute_result",
          "data": {
            "text/plain": [
              "fixed acidity           0\n",
              "volatile acidity        0\n",
              "citric acid             0\n",
              "residual sugar          0\n",
              "chlorides               0\n",
              "free sulfur dioxide     0\n",
              "total sulfur dioxide    0\n",
              "density                 0\n",
              "pH                      0\n",
              "sulphates               0\n",
              "alcohol                 0\n",
              "quality                 0\n",
              "dtype: int64"
            ]
          },
          "metadata": {
            "tags": []
          },
          "execution_count": 43
        }
      ]
    },
    {
      "cell_type": "code",
      "metadata": {
        "colab": {
          "base_uri": "https://localhost:8080/",
          "height": 282
        },
        "id": "UZLzh8PY0O0-",
        "outputId": "df4a8de9-17e7-4fb7-f98e-7dc3a0b8e7a5"
      },
      "source": [
        "plt.scatter(vino['residual sugar'], vino['quality'],alpha=0.05)"
      ],
      "execution_count": 17,
      "outputs": [
        {
          "output_type": "execute_result",
          "data": {
            "text/plain": [
              "<matplotlib.collections.PathCollection at 0x7fa0df403bd0>"
            ]
          },
          "metadata": {
            "tags": []
          },
          "execution_count": 17
        },
        {
          "output_type": "display_data",
          "data": {
            "image/png": "[encoded data removed]",
            "text/plain": [
              "<Figure size 432x288 with 1 Axes>"
            ]
          },
          "metadata": {
            "tags": [],
            "needs_background": "light"
          }
        }
      ]
    },
    {
      "cell_type": "code",
      "metadata": {
        "colab": {
          "base_uri": "https://localhost:8080/",
          "height": 343
        },
        "id": "UfUcPqFzkGZQ",
        "outputId": "27301a5e-2b11-416d-bb42-320d02e3c9c4"
      },
      "source": [
        "vino.describe()"
      ],
      "execution_count": 18,
      "outputs": [
        {
          "output_type": "execute_result",
          "data": {
            "text/html": [
              "<div>\n",
              "<style scoped>\n",
              "    .dataframe tbody tr th:only-of-type {\n",
              "        vertical-align: middle;\n",
              "    }\n",
              "\n",
              "    .dataframe tbody tr th {\n",
              "        vertical-align: top;\n",
              "    }\n",
              "\n",
              "    .dataframe thead th {\n",
              "        text-align: right;\n",
              "    }\n",
              "</style>\n",
              "<table border=\"1\" class=\"dataframe\">\n",
              "  <thead>\n",
              "    <tr style=\"text-align: right;\">\n",
              "      <th></th>\n",
              "      <th>fixed acidity</th>\n",
              "      <th>volatile acidity</th>\n",
              "      <th>citric acid</th>\n",
              "      <th>residual sugar</th>\n",
              "      <th>chlorides</th>\n",
              "      <th>free sulfur dioxide</th>\n",
              "      <th>total sulfur dioxide</th>\n",
              "      <th>density</th>\n",
              "      <th>pH</th>\n",
              "      <th>sulphates</th>\n",
              "      <th>alcohol</th>\n",
              "      <th>quality</th>\n",
              "    </tr>\n",
              "  </thead>\n",
              "  <tbody>\n",
              "    <tr>\n",
              "      <th>count</th>\n",
              "      <td>6487.000000</td>\n",
              "      <td>6489.000000</td>\n",
              "      <td>6494.000000</td>\n",
              "      <td>6495.000000</td>\n",
              "      <td>6495.000000</td>\n",
              "      <td>6497.000000</td>\n",
              "      <td>6497.000000</td>\n",
              "      <td>6497.000000</td>\n",
              "      <td>6488.000000</td>\n",
              "      <td>6493.000000</td>\n",
              "      <td>6497.000000</td>\n",
              "      <td>6497.000000</td>\n",
              "    </tr>\n",
              "    <tr>\n",
              "      <th>mean</th>\n",
              "      <td>7.216579</td>\n",
              "      <td>0.339691</td>\n",
              "      <td>0.318722</td>\n",
              "      <td>5.444326</td>\n",
              "      <td>0.056042</td>\n",
              "      <td>30.525319</td>\n",
              "      <td>115.744574</td>\n",
              "      <td>0.994697</td>\n",
              "      <td>3.218395</td>\n",
              "      <td>0.531215</td>\n",
              "      <td>10.491801</td>\n",
              "      <td>5.818378</td>\n",
              "    </tr>\n",
              "    <tr>\n",
              "      <th>std</th>\n",
              "      <td>1.296750</td>\n",
              "      <td>0.164649</td>\n",
              "      <td>0.145265</td>\n",
              "      <td>4.758125</td>\n",
              "      <td>0.035036</td>\n",
              "      <td>17.749400</td>\n",
              "      <td>56.521855</td>\n",
              "      <td>0.002999</td>\n",
              "      <td>0.160748</td>\n",
              "      <td>0.148814</td>\n",
              "      <td>1.192712</td>\n",
              "      <td>0.873255</td>\n",
              "    </tr>\n",
              "    <tr>\n",
              "      <th>min</th>\n",
              "      <td>3.800000</td>\n",
              "      <td>0.080000</td>\n",
              "      <td>0.000000</td>\n",
              "      <td>0.600000</td>\n",
              "      <td>0.009000</td>\n",
              "      <td>1.000000</td>\n",
              "      <td>6.000000</td>\n",
              "      <td>0.987110</td>\n",
              "      <td>2.720000</td>\n",
              "      <td>0.220000</td>\n",
              "      <td>8.000000</td>\n",
              "      <td>3.000000</td>\n",
              "    </tr>\n",
              "    <tr>\n",
              "      <th>25%</th>\n",
              "      <td>6.400000</td>\n",
              "      <td>0.230000</td>\n",
              "      <td>0.250000</td>\n",
              "      <td>1.800000</td>\n",
              "      <td>0.038000</td>\n",
              "      <td>17.000000</td>\n",
              "      <td>77.000000</td>\n",
              "      <td>0.992340</td>\n",
              "      <td>3.110000</td>\n",
              "      <td>0.430000</td>\n",
              "      <td>9.500000</td>\n",
              "      <td>5.000000</td>\n",
              "    </tr>\n",
              "    <tr>\n",
              "      <th>50%</th>\n",
              "      <td>7.000000</td>\n",
              "      <td>0.290000</td>\n",
              "      <td>0.310000</td>\n",
              "      <td>3.000000</td>\n",
              "      <td>0.047000</td>\n",
              "      <td>29.000000</td>\n",
              "      <td>118.000000</td>\n",
              "      <td>0.994890</td>\n",
              "      <td>3.210000</td>\n",
              "      <td>0.510000</td>\n",
              "      <td>10.300000</td>\n",
              "      <td>6.000000</td>\n",
              "    </tr>\n",
              "    <tr>\n",
              "      <th>75%</th>\n",
              "      <td>7.700000</td>\n",
              "      <td>0.400000</td>\n",
              "      <td>0.390000</td>\n",
              "      <td>8.100000</td>\n",
              "      <td>0.065000</td>\n",
              "      <td>41.000000</td>\n",
              "      <td>156.000000</td>\n",
              "      <td>0.996990</td>\n",
              "      <td>3.320000</td>\n",
              "      <td>0.600000</td>\n",
              "      <td>11.300000</td>\n",
              "      <td>6.000000</td>\n",
              "    </tr>\n",
              "    <tr>\n",
              "      <th>max</th>\n",
              "      <td>15.900000</td>\n",
              "      <td>1.580000</td>\n",
              "      <td>1.660000</td>\n",
              "      <td>65.800000</td>\n",
              "      <td>0.611000</td>\n",
              "      <td>289.000000</td>\n",
              "      <td>440.000000</td>\n",
              "      <td>1.038980</td>\n",
              "      <td>4.010000</td>\n",
              "      <td>2.000000</td>\n",
              "      <td>14.900000</td>\n",
              "      <td>9.000000</td>\n",
              "    </tr>\n",
              "  </tbody>\n",
              "</table>\n",
              "</div>"
            ],
            "text/plain": [
              "       fixed acidity  volatile acidity  ...      alcohol      quality\n",
              "count    6487.000000       6489.000000  ...  6497.000000  6497.000000\n",
              "mean        7.216579          0.339691  ...    10.491801     5.818378\n",
              "std         1.296750          0.164649  ...     1.192712     0.873255\n",
              "min         3.800000          0.080000  ...     8.000000     3.000000\n",
              "25%         6.400000          0.230000  ...     9.500000     5.000000\n",
              "50%         7.000000          0.290000  ...    10.300000     6.000000\n",
              "75%         7.700000          0.400000  ...    11.300000     6.000000\n",
              "max        15.900000          1.580000  ...    14.900000     9.000000\n",
              "\n",
              "[8 rows x 12 columns]"
            ]
          },
          "metadata": {
            "tags": []
          },
          "execution_count": 18
        }
      ]
    },
    {
      "cell_type": "markdown",
      "metadata": {
        "id": "QCuxRpSolmjO"
      },
      "source": [
        "Now we will proceed with correlation analysis"
      ]
    },
    {
      "cell_type": "code",
      "metadata": {
        "colab": {
          "base_uri": "https://localhost:8080/",
          "height": 584
        },
        "id": "NSWFrxqvwI_0",
        "outputId": "de30ba51-28e3-4d60-ef9e-1b766ada8959"
      },
      "source": [
        "vino.corr()"
      ],
      "execution_count": 19,
      "outputs": [
        {
          "output_type": "execute_result",
          "data": {
            "text/html": [
              "<div>\n",
              "<style scoped>\n",
              "    .dataframe tbody tr th:only-of-type {\n",
              "        vertical-align: middle;\n",
              "    }\n",
              "\n",
              "    .dataframe tbody tr th {\n",
              "        vertical-align: top;\n",
              "    }\n",
              "\n",
              "    .dataframe thead th {\n",
              "        text-align: right;\n",
              "    }\n",
              "</style>\n",
              "<table border=\"1\" class=\"dataframe\">\n",
              "  <thead>\n",
              "    <tr style=\"text-align: right;\">\n",
              "      <th></th>\n",
              "      <th>fixed acidity</th>\n",
              "      <th>volatile acidity</th>\n",
              "      <th>citric acid</th>\n",
              "      <th>residual sugar</th>\n",
              "      <th>chlorides</th>\n",
              "      <th>free sulfur dioxide</th>\n",
              "      <th>total sulfur dioxide</th>\n",
              "      <th>density</th>\n",
              "      <th>pH</th>\n",
              "      <th>sulphates</th>\n",
              "      <th>alcohol</th>\n",
              "      <th>quality</th>\n",
              "    </tr>\n",
              "  </thead>\n",
              "  <tbody>\n",
              "    <tr>\n",
              "      <th>fixed acidity</th>\n",
              "      <td>1.000000</td>\n",
              "      <td>0.220172</td>\n",
              "      <td>0.323736</td>\n",
              "      <td>-0.112319</td>\n",
              "      <td>0.298421</td>\n",
              "      <td>-0.283317</td>\n",
              "      <td>-0.329747</td>\n",
              "      <td>0.459204</td>\n",
              "      <td>-0.251814</td>\n",
              "      <td>0.300380</td>\n",
              "      <td>-0.095603</td>\n",
              "      <td>-0.077031</td>\n",
              "    </tr>\n",
              "    <tr>\n",
              "      <th>volatile acidity</th>\n",
              "      <td>0.220172</td>\n",
              "      <td>1.000000</td>\n",
              "      <td>-0.378061</td>\n",
              "      <td>-0.196702</td>\n",
              "      <td>0.377167</td>\n",
              "      <td>-0.353230</td>\n",
              "      <td>-0.414928</td>\n",
              "      <td>0.271193</td>\n",
              "      <td>0.260660</td>\n",
              "      <td>0.225476</td>\n",
              "      <td>-0.038248</td>\n",
              "      <td>-0.265953</td>\n",
              "    </tr>\n",
              "    <tr>\n",
              "      <th>citric acid</th>\n",
              "      <td>0.323736</td>\n",
              "      <td>-0.378061</td>\n",
              "      <td>1.000000</td>\n",
              "      <td>0.142486</td>\n",
              "      <td>0.039315</td>\n",
              "      <td>0.133437</td>\n",
              "      <td>0.195218</td>\n",
              "      <td>0.096320</td>\n",
              "      <td>-0.328689</td>\n",
              "      <td>0.057613</td>\n",
              "      <td>-0.010433</td>\n",
              "      <td>0.085706</td>\n",
              "    </tr>\n",
              "    <tr>\n",
              "      <th>residual sugar</th>\n",
              "      <td>-0.112319</td>\n",
              "      <td>-0.196702</td>\n",
              "      <td>0.142486</td>\n",
              "      <td>1.000000</td>\n",
              "      <td>-0.128902</td>\n",
              "      <td>0.403439</td>\n",
              "      <td>0.495820</td>\n",
              "      <td>0.552498</td>\n",
              "      <td>-0.267050</td>\n",
              "      <td>-0.185745</td>\n",
              "      <td>-0.359706</td>\n",
              "      <td>-0.036825</td>\n",
              "    </tr>\n",
              "    <tr>\n",
              "      <th>chlorides</th>\n",
              "      <td>0.298421</td>\n",
              "      <td>0.377167</td>\n",
              "      <td>0.039315</td>\n",
              "      <td>-0.128902</td>\n",
              "      <td>1.000000</td>\n",
              "      <td>-0.195042</td>\n",
              "      <td>-0.279580</td>\n",
              "      <td>0.362594</td>\n",
              "      <td>0.044806</td>\n",
              "      <td>0.395332</td>\n",
              "      <td>-0.256861</td>\n",
              "      <td>-0.200886</td>\n",
              "    </tr>\n",
              "    <tr>\n",
              "      <th>free sulfur dioxide</th>\n",
              "      <td>-0.283317</td>\n",
              "      <td>-0.353230</td>\n",
              "      <td>0.133437</td>\n",
              "      <td>0.403439</td>\n",
              "      <td>-0.195042</td>\n",
              "      <td>1.000000</td>\n",
              "      <td>0.720934</td>\n",
              "      <td>0.025717</td>\n",
              "      <td>-0.145191</td>\n",
              "      <td>-0.188489</td>\n",
              "      <td>-0.179838</td>\n",
              "      <td>0.055463</td>\n",
              "    </tr>\n",
              "    <tr>\n",
              "      <th>total sulfur dioxide</th>\n",
              "      <td>-0.329747</td>\n",
              "      <td>-0.414928</td>\n",
              "      <td>0.195218</td>\n",
              "      <td>0.495820</td>\n",
              "      <td>-0.279580</td>\n",
              "      <td>0.720934</td>\n",
              "      <td>1.000000</td>\n",
              "      <td>0.032395</td>\n",
              "      <td>-0.237687</td>\n",
              "      <td>-0.275381</td>\n",
              "      <td>-0.265740</td>\n",
              "      <td>-0.041385</td>\n",
              "    </tr>\n",
              "    <tr>\n",
              "      <th>density</th>\n",
              "      <td>0.459204</td>\n",
              "      <td>0.271193</td>\n",
              "      <td>0.096320</td>\n",
              "      <td>0.552498</td>\n",
              "      <td>0.362594</td>\n",
              "      <td>0.025717</td>\n",
              "      <td>0.032395</td>\n",
              "      <td>1.000000</td>\n",
              "      <td>0.011920</td>\n",
              "      <td>0.259454</td>\n",
              "      <td>-0.686745</td>\n",
              "      <td>-0.305858</td>\n",
              "    </tr>\n",
              "    <tr>\n",
              "      <th>pH</th>\n",
              "      <td>-0.251814</td>\n",
              "      <td>0.260660</td>\n",
              "      <td>-0.328689</td>\n",
              "      <td>-0.267050</td>\n",
              "      <td>0.044806</td>\n",
              "      <td>-0.145191</td>\n",
              "      <td>-0.237687</td>\n",
              "      <td>0.011920</td>\n",
              "      <td>1.000000</td>\n",
              "      <td>0.191248</td>\n",
              "      <td>0.121002</td>\n",
              "      <td>0.019366</td>\n",
              "    </tr>\n",
              "    <tr>\n",
              "      <th>sulphates</th>\n",
              "      <td>0.300380</td>\n",
              "      <td>0.225476</td>\n",
              "      <td>0.057613</td>\n",
              "      <td>-0.185745</td>\n",
              "      <td>0.395332</td>\n",
              "      <td>-0.188489</td>\n",
              "      <td>-0.275381</td>\n",
              "      <td>0.259454</td>\n",
              "      <td>0.191248</td>\n",
              "      <td>1.000000</td>\n",
              "      <td>-0.003261</td>\n",
              "      <td>0.038729</td>\n",
              "    </tr>\n",
              "    <tr>\n",
              "      <th>alcohol</th>\n",
              "      <td>-0.095603</td>\n",
              "      <td>-0.038248</td>\n",
              "      <td>-0.010433</td>\n",
              "      <td>-0.359706</td>\n",
              "      <td>-0.256861</td>\n",
              "      <td>-0.179838</td>\n",
              "      <td>-0.265740</td>\n",
              "      <td>-0.686745</td>\n",
              "      <td>0.121002</td>\n",
              "      <td>-0.003261</td>\n",
              "      <td>1.000000</td>\n",
              "      <td>0.444319</td>\n",
              "    </tr>\n",
              "    <tr>\n",
              "      <th>quality</th>\n",
              "      <td>-0.077031</td>\n",
              "      <td>-0.265953</td>\n",
              "      <td>0.085706</td>\n",
              "      <td>-0.036825</td>\n",
              "      <td>-0.200886</td>\n",
              "      <td>0.055463</td>\n",
              "      <td>-0.041385</td>\n",
              "      <td>-0.305858</td>\n",
              "      <td>0.019366</td>\n",
              "      <td>0.038729</td>\n",
              "      <td>0.444319</td>\n",
              "      <td>1.000000</td>\n",
              "    </tr>\n",
              "  </tbody>\n",
              "</table>\n",
              "</div>"
            ],
            "text/plain": [
              "                      fixed acidity  volatile acidity  ...   alcohol   quality\n",
              "fixed acidity              1.000000          0.220172  ... -0.095603 -0.077031\n",
              "volatile acidity           0.220172          1.000000  ... -0.038248 -0.265953\n",
              "citric acid                0.323736         -0.378061  ... -0.010433  0.085706\n",
              "residual sugar            -0.112319         -0.196702  ... -0.359706 -0.036825\n",
              "chlorides                  0.298421          0.377167  ... -0.256861 -0.200886\n",
              "free sulfur dioxide       -0.283317         -0.353230  ... -0.179838  0.055463\n",
              "total sulfur dioxide      -0.329747         -0.414928  ... -0.265740 -0.041385\n",
              "density                    0.459204          0.271193  ... -0.686745 -0.305858\n",
              "pH                        -0.251814          0.260660  ...  0.121002  0.019366\n",
              "sulphates                  0.300380          0.225476  ... -0.003261  0.038729\n",
              "alcohol                   -0.095603         -0.038248  ...  1.000000  0.444319\n",
              "quality                   -0.077031         -0.265953  ...  0.444319  1.000000\n",
              "\n",
              "[12 rows x 12 columns]"
            ]
          },
          "metadata": {
            "tags": []
          },
          "execution_count": 19
        }
      ]
    },
    {
      "cell_type": "code",
      "metadata": {
        "colab": {
          "base_uri": "https://localhost:8080/",
          "height": 370
        },
        "id": "XchxuBF_m0up",
        "outputId": "682bbcc2-44de-4332-b9cb-f28cd11c5572"
      },
      "source": [
        "import seaborn as sns\n",
        "corr = vino.corr()\n",
        "sns.heatmap(corr, \n",
        "            xticklabels=corr.columns.values,\n",
        "            yticklabels=corr.columns.values)"
      ],
      "execution_count": 20,
      "outputs": [
        {
          "output_type": "execute_result",
          "data": {
            "text/plain": [
              "<matplotlib.axes._subplots.AxesSubplot at 0x7fa0ded9ced0>"
            ]
          },
          "metadata": {
            "tags": []
          },
          "execution_count": 20
        },
        {
          "output_type": "display_data",
          "data": {
            "image/png": "[encoded data removed]",
            "text/plain": [
              "<Figure size 432x288 with 2 Axes>"
            ]
          },
          "metadata": {
            "tags": [],
            "needs_background": "light"
          }
        }
      ]
    },
    {
      "cell_type": "code",
      "metadata": {
        "id": "fH7-WwNz0O1K"
      },
      "source": [
        "X = vino.loc[:,'fixed acidity':'alcohol']\n",
        "Y = vino.loc[:,'quality']"
      ],
      "execution_count": 7,
      "outputs": []
    },
    {
      "cell_type": "code",
      "metadata": {
        "id": "fgagGYOG0O1K",
        "colab": {
          "base_uri": "https://localhost:8080/"
        },
        "outputId": "8045e88d-a6f2-4b08-c741-e4617de0a5f0"
      },
      "source": [
        "X_train, X_test, Y_train, Y_test = train_test_split(X, Y, test_size=.15)\n",
        "X_val, X_test_test, Y_val, Y_test = train_test_split(X, Y, test_size=.15)\n",
        "print(\"Datos iniciales\\t\\t:\\t{}\\n\\t- X_train\\t:\\t{}\\n\\t- X_test\\t:\\t{}\".format(len(X),len(X_train),len(X_test)))"
      ],
      "execution_count": 9,
      "outputs": [
        {
          "output_type": "stream",
          "text": [
            "Datos iniciales\t\t:\t1599\n",
            "\t- X_train\t:\t1359\n",
            "\t- X_test\t:\t240\n"
          ],
          "name": "stdout"
        }
      ]
    },
    {
      "cell_type": "code",
      "metadata": {
        "id": "bqWry5G-xOVd"
      },
      "source": [
        "X_train, X_val, Y_train, Y_val = train_test_split(X_train, Y_train, test_size=len(X_test))"
      ],
      "execution_count": 10,
      "outputs": []
    },
    {
      "cell_type": "code",
      "metadata": {
        "colab": {
          "base_uri": "https://localhost:8080/"
        },
        "id": "1Bt7zn0pxPLV",
        "outputId": "25c5ff13-63c0-40f5-f17a-989145e6efc0"
      },
      "source": [
        "print(\"Datos iniciales\\t\\t:\\t{}\\n\\t- X_train\\t:\\t{}\\n\\t- X_val\\t\\t:\\t{}\\n\\t- X_test\\t:\\t{}\".format(len(X),len(X_train),len(X_val),len(X_test)))"
      ],
      "execution_count": 11,
      "outputs": [
        {
          "output_type": "stream",
          "text": [
            "Datos iniciales\t\t:\t1599\n",
            "\t- X_train\t:\t1119\n",
            "\t- X_val\t\t:\t240\n",
            "\t- X_test\t:\t240\n"
          ],
          "name": "stdout"
        }
      ]
    },
    {
      "cell_type": "code",
      "metadata": {
        "id": "JXXLflcFxVUB"
      },
      "source": [
        "from sklearn.linear_model import LinearRegression"
      ],
      "execution_count": 12,
      "outputs": []
    },
    {
      "cell_type": "code",
      "metadata": {
        "id": "fs3eYY7VxWIu"
      },
      "source": [
        "model = LinearRegression().fit(X_train,Y_train)"
      ],
      "execution_count": 13,
      "outputs": []
    },
    {
      "cell_type": "code",
      "metadata": {
        "colab": {
          "base_uri": "https://localhost:8080/"
        },
        "id": "Ax95RQAgyRhd",
        "outputId": "fe5daef8-15b5-41ec-f63c-d63766c8acd3"
      },
      "source": [
        "print(\"Bondad del ajuste en Train:\\t{}\".format(model.score(X_train,Y_train)))\n",
        "print(\"Bondad del ajuste en Test:\\t{}\".format(model.score(X_test,Y_test)))"
      ],
      "execution_count": 14,
      "outputs": [
        {
          "output_type": "stream",
          "text": [
            "Bondad del ajuste en Train:\t0.3644311972903636\n",
            "Bondad del ajuste en Test:\t-0.33225638937691837\n"
          ],
          "name": "stdout"
        }
      ]
    },
    {
      "cell_type": "code",
      "metadata": {
        "id": "Dv_BmRvxyZV8"
      },
      "source": [
        "from sklearn.linear_model import Lasso\n"
      ],
      "execution_count": 15,
      "outputs": []
    },
    {
      "cell_type": "code",
      "metadata": {
        "id": "EStRLB8Fyewv"
      },
      "source": [
        "model1 = Lasso().fit(X_train,Y_train)"
      ],
      "execution_count": 17,
      "outputs": []
    },
    {
      "cell_type": "code",
      "metadata": {
        "colab": {
          "base_uri": "https://localhost:8080/"
        },
        "id": "Vi3e4HS4ykAy",
        "outputId": "41c432ee-2761-4224-b4b9-47ba5e04bc25"
      },
      "source": [
        "print(\"Bondad del ajuste en Train:\\t{}\".format(model1.score(X_train,Y_train)))\n",
        "print(\"Bondad del ajuste en Test:\\t{}\".format(model1.score(X_test,Y_test)))"
      ],
      "execution_count": 18,
      "outputs": [
        {
          "output_type": "stream",
          "text": [
            "Bondad del ajuste en Train:\t0.02983929689610465\n",
            "Bondad del ajuste en Test:\t-0.012937372963398365\n"
          ],
          "name": "stdout"
        }
      ]
    },
    {
      "cell_type": "code",
      "metadata": {
        "id": "mPYh4hhMyner"
      },
      "source": [
        "from sklearn.linear_model import LogisticRegression"
      ],
      "execution_count": 19,
      "outputs": []
    },
    {
      "cell_type": "code",
      "metadata": {
        "colab": {
          "base_uri": "https://localhost:8080/"
        },
        "id": "x8zkE7_SyuGA",
        "outputId": "7ced9cc8-09c2-478c-d084-b31686b7f1ae"
      },
      "source": [
        "model2 = LogisticRegression().fit(X_train,Y_train)"
      ],
      "execution_count": 20,
      "outputs": [
        {
          "output_type": "stream",
          "text": [
            "/usr/local/lib/python3.7/dist-packages/sklearn/linear_model/_logistic.py:940: ConvergenceWarning: lbfgs failed to converge (status=1):\n",
            "STOP: TOTAL NO. of ITERATIONS REACHED LIMIT.\n",
            "\n",
            "Increase the number of iterations (max_iter) or scale the data as shown in:\n",
            "    https://scikit-learn.org/stable/modules/preprocessing.html\n",
            "Please also refer to the documentation for alternative solver options:\n",
            "    https://scikit-learn.org/stable/modules/linear_model.html#logistic-regression\n",
            "  extra_warning_msg=_LOGISTIC_SOLVER_CONVERGENCE_MSG)\n"
          ],
          "name": "stderr"
        }
      ]
    },
    {
      "cell_type": "code",
      "metadata": {
        "id": "oheKGJaly6SL"
      },
      "source": [
        "from sklearn.svm import SVC\n",
        "model = SVC(kernel='linear', C=1E10)\n",
        "model.fit(X, Y)"
      ],
      "execution_count": null,
      "outputs": []
    },
    {
      "cell_type": "code",
      "metadata": {
        "id": "vm3TfiHCG5n1"
      },
      "source": [
        "import tensorflow as tf"
      ],
      "execution_count": 27,
      "outputs": []
    },
    {
      "cell_type": "code",
      "metadata": {
        "id": "8Rv0ac3N0O1L"
      },
      "source": [
        "def get_compiled_model():\n",
        "    model = tf.keras.Sequential([\n",
        "    tf.keras.layers.Dense(8, activation='relu'),\n",
        "    tf.keras.layers.Dense(10, activation='relu'),\n",
        "    tf.keras.layers.Dense(1)\n",
        "  ])\n",
        "\n",
        "    model.compile(optimizer='adam',\n",
        "                loss=tf.keras.losses.BinaryCrossentropy(from_logits=True),\n",
        "                metrics=['accuracy'])\n",
        "    return model"
      ],
      "execution_count": 28,
      "outputs": []
    },
    {
      "cell_type": "markdown",
      "metadata": {
        "id": "0jjuvQuBpV8L"
      },
      "source": [
        "We can see that after 15 epochs we reach an accuracy of 76.3% predicting if there such features define Yellow Cab or Pink Cab customers. We will drop income and age. "
      ]
    },
    {
      "cell_type": "code",
      "metadata": {
        "id": "A0QA3D8KHapK"
      },
      "source": [
        "target = vino.pop('quality')"
      ],
      "execution_count": 35,
      "outputs": []
    },
    {
      "cell_type": "code",
      "metadata": {
        "id": "cqDqpm8IHWnQ"
      },
      "source": [
        "import tensorflow as tf\n",
        "dataset = tf.data.Dataset.from_tensor_slices((vino.values, target.values))"
      ],
      "execution_count": 36,
      "outputs": []
    },
    {
      "cell_type": "code",
      "metadata": {
        "id": "_YBub3Kpp7rC"
      },
      "source": [
        "train_dataset = dataset.shuffle(len(vino)).batch(64)"
      ],
      "execution_count": 38,
      "outputs": []
    },
    {
      "cell_type": "code",
      "metadata": {
        "id": "MrtDSd_JqGSh"
      },
      "source": [
        "def get_compiled_model():\n",
        "    model = tf.keras.Sequential([\n",
        "    tf.keras.layers.Dense(8, activation='relu'),\n",
        "    tf.keras.layers.Dense(10, activation='relu'),\n",
        "    tf.keras.layers.Dense(1)\n",
        "  ])\n",
        "\n",
        "    model.compile(optimizer='adam',\n",
        "                loss=tf.keras.losses.BinaryCrossentropy(from_logits=True),\n",
        "                metrics=['accuracy'])\n",
        "    return model"
      ],
      "execution_count": 39,
      "outputs": []
    },
    {
      "cell_type": "code",
      "metadata": {
        "colab": {
          "base_uri": "https://localhost:8080/"
        },
        "id": "0eBGvBX1qJOj",
        "outputId": "d60b59a0-63e9-44bf-c149-070ab843753a"
      },
      "source": [
        "model = get_compiled_model()\n",
        "model.fit(train_dataset, epochs=15)"
      ],
      "execution_count": 40,
      "outputs": [
        {
          "output_type": "stream",
          "text": [
            "Epoch 1/15\n",
            "25/25 [==============================] - 1s 1ms/step - loss: -11.2816 - accuracy: 0.0000e+00\n",
            "Epoch 2/15\n",
            "25/25 [==============================] - 0s 2ms/step - loss: -22.7544 - accuracy: 0.0000e+00\n",
            "Epoch 3/15\n",
            "25/25 [==============================] - 0s 2ms/step - loss: -40.0029 - accuracy: 0.0000e+00\n",
            "Epoch 4/15\n",
            "25/25 [==============================] - 0s 2ms/step - loss: -63.7418 - accuracy: 0.0000e+00\n",
            "Epoch 5/15\n",
            "25/25 [==============================] - 0s 2ms/step - loss: -93.0723 - accuracy: 0.0000e+00\n",
            "Epoch 6/15\n",
            "25/25 [==============================] - 0s 2ms/step - loss: -129.9427 - accuracy: 0.0000e+00\n",
            "Epoch 7/15\n",
            "25/25 [==============================] - 0s 2ms/step - loss: -176.6251 - accuracy: 0.0000e+00\n",
            "Epoch 8/15\n",
            "25/25 [==============================] - 0s 2ms/step - loss: -234.7210 - accuracy: 0.0000e+00\n",
            "Epoch 9/15\n",
            "25/25 [==============================] - 0s 2ms/step - loss: -307.0813 - accuracy: 0.0000e+00\n",
            "Epoch 10/15\n",
            "25/25 [==============================] - 0s 2ms/step - loss: -394.8378 - accuracy: 0.0000e+00\n",
            "Epoch 11/15\n",
            "25/25 [==============================] - 0s 2ms/step - loss: -500.4578 - accuracy: 0.0000e+00\n",
            "Epoch 12/15\n",
            "25/25 [==============================] - 0s 2ms/step - loss: -627.7254 - accuracy: 0.0000e+00\n",
            "Epoch 13/15\n",
            "25/25 [==============================] - 0s 2ms/step - loss: -777.8868 - accuracy: 0.0000e+00\n",
            "Epoch 14/15\n",
            "25/25 [==============================] - 0s 3ms/step - loss: -961.2069 - accuracy: 0.0000e+00\n",
            "Epoch 15/15\n",
            "25/25 [==============================] - 0s 2ms/step - loss: -1185.1943 - accuracy: 0.0000e+00\n"
          ],
          "name": "stdout"
        },
        {
          "output_type": "execute_result",
          "data": {
            "text/plain": [
              "<tensorflow.python.keras.callbacks.History at 0x7fcc24b0ccd0>"
            ]
          },
          "metadata": {
            "tags": []
          },
          "execution_count": 40
        }
      ]
    },
    {
      "cell_type": "markdown",
      "metadata": {
        "id": "WhsfYWDBqmM6"
      },
      "source": [
        "We reach an accuracy of 76.42%, not a good improvement from our former model."
      ]
    },
    {
      "cell_type": "markdown",
      "metadata": {
        "id": "K_AnJmy_kLBG"
      },
      "source": [
        "Now we will test the hypothesis of linearity of the relationship between our variables."
      ]
    },
    {
      "cell_type": "code",
      "metadata": {
        "colab": {
          "base_uri": "https://localhost:8080/"
        },
        "id": "sV-ARAxklMoF",
        "outputId": "0d738bf7-28c5-4791-e85d-e4f09e056c95"
      },
      "source": [
        "import pandas as pd\n",
        "from sklearn.model_selection import train_test_split\n",
        "import matplotlib.pyplot as plt\n",
        "import numpy as np\n",
        "import sklearn\n",
        "# Commented out IPython magic to ensure Python compatibility.\n",
        "import seaborn as sns\n",
        "# %matplotlib inline\n",
        "\n",
        "print(\"Versión de librería sklearn: {}\".format(sklearn.__version__))\n"
      ],
      "execution_count": null,
      "outputs": [
        {
          "output_type": "stream",
          "text": [
            "Versión de librería sklearn: 0.22.2.post1\n"
          ],
          "name": "stdout"
        }
      ]
    },
    {
      "cell_type": "code",
      "metadata": {
        "id": "GotfOwjKlctl"
      },
      "source": [
        "datacab = pd.read_csv('Cab_Data.csv', header=0)\n",
        "datacity = pd.read_csv('/content/cityedited - City (1).csv', header=0)\n",
        "datacustomer = pd.read_csv('Customer_ID.csv', header=0)\n",
        "datatransaction = pd.read_csv('Transaction_ID.csv', header=0)"
      ],
      "execution_count": null,
      "outputs": []
    },
    {
      "cell_type": "code",
      "metadata": {
        "colab": {
          "base_uri": "https://localhost:8080/",
          "height": 407
        },
        "id": "3Qrs7D6bllHm",
        "outputId": "e307add1-a401-4e71-9860-db9f02fd5d97"
      },
      "source": [
        "transactions = pd.merge(datacab, datatransaction, on='Transaction ID')\n",
        "transactions"
      ],
      "execution_count": null,
      "outputs": [
        {
          "output_type": "execute_result",
          "data": {
            "text/html": [
              "<div>\n",
              "<style scoped>\n",
              "    .dataframe tbody tr th:only-of-type {\n",
              "        vertical-align: middle;\n",
              "    }\n",
              "\n",
              "    .dataframe tbody tr th {\n",
              "        vertical-align: top;\n",
              "    }\n",
              "\n",
              "    .dataframe thead th {\n",
              "        text-align: right;\n",
              "    }\n",
              "</style>\n",
              "<table border=\"1\" class=\"dataframe\">\n",
              "  <thead>\n",
              "    <tr style=\"text-align: right;\">\n",
              "      <th></th>\n",
              "      <th>Transaction ID</th>\n",
              "      <th>Date of Travel</th>\n",
              "      <th>Company</th>\n",
              "      <th>City</th>\n",
              "      <th>KM Travelled</th>\n",
              "      <th>Price Charged</th>\n",
              "      <th>Cost of Trip</th>\n",
              "      <th>Customer ID</th>\n",
              "      <th>Payment_Mode</th>\n",
              "    </tr>\n",
              "  </thead>\n",
              "  <tbody>\n",
              "    <tr>\n",
              "      <th>0</th>\n",
              "      <td>10000011</td>\n",
              "      <td>42377</td>\n",
              "      <td>Pink Cab</td>\n",
              "      <td>ATLANTA GA</td>\n",
              "      <td>30.45</td>\n",
              "      <td>370.95</td>\n",
              "      <td>313.6350</td>\n",
              "      <td>29290</td>\n",
              "      <td>Card</td>\n",
              "    </tr>\n",
              "    <tr>\n",
              "      <th>1</th>\n",
              "      <td>10000012</td>\n",
              "      <td>42375</td>\n",
              "      <td>Pink Cab</td>\n",
              "      <td>ATLANTA GA</td>\n",
              "      <td>28.62</td>\n",
              "      <td>358.52</td>\n",
              "      <td>334.8540</td>\n",
              "      <td>27703</td>\n",
              "      <td>Card</td>\n",
              "    </tr>\n",
              "    <tr>\n",
              "      <th>2</th>\n",
              "      <td>10000013</td>\n",
              "      <td>42371</td>\n",
              "      <td>Pink Cab</td>\n",
              "      <td>ATLANTA GA</td>\n",
              "      <td>9.04</td>\n",
              "      <td>125.20</td>\n",
              "      <td>97.6320</td>\n",
              "      <td>28712</td>\n",
              "      <td>Cash</td>\n",
              "    </tr>\n",
              "    <tr>\n",
              "      <th>3</th>\n",
              "      <td>10000014</td>\n",
              "      <td>42376</td>\n",
              "      <td>Pink Cab</td>\n",
              "      <td>ATLANTA GA</td>\n",
              "      <td>33.17</td>\n",
              "      <td>377.40</td>\n",
              "      <td>351.6020</td>\n",
              "      <td>28020</td>\n",
              "      <td>Cash</td>\n",
              "    </tr>\n",
              "    <tr>\n",
              "      <th>4</th>\n",
              "      <td>10000015</td>\n",
              "      <td>42372</td>\n",
              "      <td>Pink Cab</td>\n",
              "      <td>ATLANTA GA</td>\n",
              "      <td>8.73</td>\n",
              "      <td>114.62</td>\n",
              "      <td>97.7760</td>\n",
              "      <td>27182</td>\n",
              "      <td>Card</td>\n",
              "    </tr>\n",
              "    <tr>\n",
              "      <th>...</th>\n",
              "      <td>...</td>\n",
              "      <td>...</td>\n",
              "      <td>...</td>\n",
              "      <td>...</td>\n",
              "      <td>...</td>\n",
              "      <td>...</td>\n",
              "      <td>...</td>\n",
              "      <td>...</td>\n",
              "      <td>...</td>\n",
              "    </tr>\n",
              "    <tr>\n",
              "      <th>359387</th>\n",
              "      <td>10440101</td>\n",
              "      <td>43108</td>\n",
              "      <td>Yellow Cab</td>\n",
              "      <td>WASHINGTON DC</td>\n",
              "      <td>4.80</td>\n",
              "      <td>69.24</td>\n",
              "      <td>63.3600</td>\n",
              "      <td>52392</td>\n",
              "      <td>Cash</td>\n",
              "    </tr>\n",
              "    <tr>\n",
              "      <th>359388</th>\n",
              "      <td>10440104</td>\n",
              "      <td>43104</td>\n",
              "      <td>Yellow Cab</td>\n",
              "      <td>WASHINGTON DC</td>\n",
              "      <td>8.40</td>\n",
              "      <td>113.75</td>\n",
              "      <td>106.8480</td>\n",
              "      <td>53286</td>\n",
              "      <td>Cash</td>\n",
              "    </tr>\n",
              "    <tr>\n",
              "      <th>359389</th>\n",
              "      <td>10440105</td>\n",
              "      <td>43105</td>\n",
              "      <td>Yellow Cab</td>\n",
              "      <td>WASHINGTON DC</td>\n",
              "      <td>27.75</td>\n",
              "      <td>437.07</td>\n",
              "      <td>349.6500</td>\n",
              "      <td>52265</td>\n",
              "      <td>Cash</td>\n",
              "    </tr>\n",
              "    <tr>\n",
              "      <th>359390</th>\n",
              "      <td>10440106</td>\n",
              "      <td>43105</td>\n",
              "      <td>Yellow Cab</td>\n",
              "      <td>WASHINGTON DC</td>\n",
              "      <td>8.80</td>\n",
              "      <td>146.19</td>\n",
              "      <td>114.0480</td>\n",
              "      <td>52175</td>\n",
              "      <td>Card</td>\n",
              "    </tr>\n",
              "    <tr>\n",
              "      <th>359391</th>\n",
              "      <td>10440107</td>\n",
              "      <td>43102</td>\n",
              "      <td>Yellow Cab</td>\n",
              "      <td>WASHINGTON DC</td>\n",
              "      <td>12.76</td>\n",
              "      <td>191.58</td>\n",
              "      <td>177.6192</td>\n",
              "      <td>52917</td>\n",
              "      <td>Card</td>\n",
              "    </tr>\n",
              "  </tbody>\n",
              "</table>\n",
              "<p>359392 rows × 9 columns</p>\n",
              "</div>"
            ],
            "text/plain": [
              "        Transaction ID  Date of Travel  ... Customer ID Payment_Mode\n",
              "0             10000011           42377  ...       29290         Card\n",
              "1             10000012           42375  ...       27703         Card\n",
              "2             10000013           42371  ...       28712         Cash\n",
              "3             10000014           42376  ...       28020         Cash\n",
              "4             10000015           42372  ...       27182         Card\n",
              "...                ...             ...  ...         ...          ...\n",
              "359387        10440101           43108  ...       52392         Cash\n",
              "359388        10440104           43104  ...       53286         Cash\n",
              "359389        10440105           43105  ...       52265         Cash\n",
              "359390        10440106           43105  ...       52175         Card\n",
              "359391        10440107           43102  ...       52917         Card\n",
              "\n",
              "[359392 rows x 9 columns]"
            ]
          },
          "metadata": {
            "tags": []
          },
          "execution_count": 51
        }
      ]
    },
    {
      "cell_type": "code",
      "metadata": {
        "colab": {
          "base_uri": "https://localhost:8080/",
          "height": 563
        },
        "id": "irneUJpXloRd",
        "outputId": "cfc789ba-d218-4fc4-9e2d-ee95a4999ac0"
      },
      "source": [
        "new = pd.merge(transactions, datacustomer, on='Customer ID')\n",
        "new"
      ],
      "execution_count": null,
      "outputs": [
        {
          "output_type": "execute_result",
          "data": {
            "text/html": [
              "<div>\n",
              "<style scoped>\n",
              "    .dataframe tbody tr th:only-of-type {\n",
              "        vertical-align: middle;\n",
              "    }\n",
              "\n",
              "    .dataframe tbody tr th {\n",
              "        vertical-align: top;\n",
              "    }\n",
              "\n",
              "    .dataframe thead th {\n",
              "        text-align: right;\n",
              "    }\n",
              "</style>\n",
              "<table border=\"1\" class=\"dataframe\">\n",
              "  <thead>\n",
              "    <tr style=\"text-align: right;\">\n",
              "      <th></th>\n",
              "      <th>Transaction ID</th>\n",
              "      <th>Date of Travel</th>\n",
              "      <th>Company</th>\n",
              "      <th>City</th>\n",
              "      <th>KM Travelled</th>\n",
              "      <th>Price Charged</th>\n",
              "      <th>Cost of Trip</th>\n",
              "      <th>Customer ID</th>\n",
              "      <th>Payment_Mode</th>\n",
              "      <th>Gender</th>\n",
              "      <th>Age</th>\n",
              "      <th>Income (USD/Month)</th>\n",
              "    </tr>\n",
              "  </thead>\n",
              "  <tbody>\n",
              "    <tr>\n",
              "      <th>0</th>\n",
              "      <td>10000011</td>\n",
              "      <td>42377</td>\n",
              "      <td>Pink Cab</td>\n",
              "      <td>ATLANTA GA</td>\n",
              "      <td>30.45</td>\n",
              "      <td>370.95</td>\n",
              "      <td>313.6350</td>\n",
              "      <td>29290</td>\n",
              "      <td>Card</td>\n",
              "      <td>Male</td>\n",
              "      <td>28</td>\n",
              "      <td>10813</td>\n",
              "    </tr>\n",
              "    <tr>\n",
              "      <th>1</th>\n",
              "      <td>10351127</td>\n",
              "      <td>43302</td>\n",
              "      <td>Yellow Cab</td>\n",
              "      <td>ATLANTA GA</td>\n",
              "      <td>26.19</td>\n",
              "      <td>598.70</td>\n",
              "      <td>317.4228</td>\n",
              "      <td>29290</td>\n",
              "      <td>Cash</td>\n",
              "      <td>Male</td>\n",
              "      <td>28</td>\n",
              "      <td>10813</td>\n",
              "    </tr>\n",
              "    <tr>\n",
              "      <th>2</th>\n",
              "      <td>10412921</td>\n",
              "      <td>43427</td>\n",
              "      <td>Yellow Cab</td>\n",
              "      <td>ATLANTA GA</td>\n",
              "      <td>42.55</td>\n",
              "      <td>792.05</td>\n",
              "      <td>597.4020</td>\n",
              "      <td>29290</td>\n",
              "      <td>Card</td>\n",
              "      <td>Male</td>\n",
              "      <td>28</td>\n",
              "      <td>10813</td>\n",
              "    </tr>\n",
              "    <tr>\n",
              "      <th>3</th>\n",
              "      <td>10000012</td>\n",
              "      <td>42375</td>\n",
              "      <td>Pink Cab</td>\n",
              "      <td>ATLANTA GA</td>\n",
              "      <td>28.62</td>\n",
              "      <td>358.52</td>\n",
              "      <td>334.8540</td>\n",
              "      <td>27703</td>\n",
              "      <td>Card</td>\n",
              "      <td>Male</td>\n",
              "      <td>27</td>\n",
              "      <td>9237</td>\n",
              "    </tr>\n",
              "    <tr>\n",
              "      <th>4</th>\n",
              "      <td>10320494</td>\n",
              "      <td>43211</td>\n",
              "      <td>Yellow Cab</td>\n",
              "      <td>ATLANTA GA</td>\n",
              "      <td>36.38</td>\n",
              "      <td>721.10</td>\n",
              "      <td>467.1192</td>\n",
              "      <td>27703</td>\n",
              "      <td>Card</td>\n",
              "      <td>Male</td>\n",
              "      <td>27</td>\n",
              "      <td>9237</td>\n",
              "    </tr>\n",
              "    <tr>\n",
              "      <th>...</th>\n",
              "      <td>...</td>\n",
              "      <td>...</td>\n",
              "      <td>...</td>\n",
              "      <td>...</td>\n",
              "      <td>...</td>\n",
              "      <td>...</td>\n",
              "      <td>...</td>\n",
              "      <td>...</td>\n",
              "      <td>...</td>\n",
              "      <td>...</td>\n",
              "      <td>...</td>\n",
              "      <td>...</td>\n",
              "    </tr>\n",
              "    <tr>\n",
              "      <th>359387</th>\n",
              "      <td>10439790</td>\n",
              "      <td>43107</td>\n",
              "      <td>Yellow Cab</td>\n",
              "      <td>SEATTLE WA</td>\n",
              "      <td>16.66</td>\n",
              "      <td>261.18</td>\n",
              "      <td>213.9144</td>\n",
              "      <td>38520</td>\n",
              "      <td>Card</td>\n",
              "      <td>Female</td>\n",
              "      <td>42</td>\n",
              "      <td>19417</td>\n",
              "    </tr>\n",
              "    <tr>\n",
              "      <th>359388</th>\n",
              "      <td>10439799</td>\n",
              "      <td>43103</td>\n",
              "      <td>Yellow Cab</td>\n",
              "      <td>SILICON VALLEY</td>\n",
              "      <td>13.72</td>\n",
              "      <td>277.97</td>\n",
              "      <td>172.8720</td>\n",
              "      <td>12490</td>\n",
              "      <td>Cash</td>\n",
              "      <td>Male</td>\n",
              "      <td>33</td>\n",
              "      <td>18713</td>\n",
              "    </tr>\n",
              "    <tr>\n",
              "      <th>359389</th>\n",
              "      <td>10439838</td>\n",
              "      <td>43104</td>\n",
              "      <td>Yellow Cab</td>\n",
              "      <td>TUCSON AZ</td>\n",
              "      <td>19.00</td>\n",
              "      <td>303.77</td>\n",
              "      <td>232.5600</td>\n",
              "      <td>41414</td>\n",
              "      <td>Card</td>\n",
              "      <td>Male</td>\n",
              "      <td>38</td>\n",
              "      <td>3960</td>\n",
              "    </tr>\n",
              "    <tr>\n",
              "      <th>359390</th>\n",
              "      <td>10439840</td>\n",
              "      <td>43106</td>\n",
              "      <td>Yellow Cab</td>\n",
              "      <td>TUCSON AZ</td>\n",
              "      <td>5.60</td>\n",
              "      <td>92.42</td>\n",
              "      <td>70.5600</td>\n",
              "      <td>41677</td>\n",
              "      <td>Cash</td>\n",
              "      <td>Male</td>\n",
              "      <td>23</td>\n",
              "      <td>19454</td>\n",
              "    </tr>\n",
              "    <tr>\n",
              "      <th>359391</th>\n",
              "      <td>10439846</td>\n",
              "      <td>43104</td>\n",
              "      <td>Yellow Cab</td>\n",
              "      <td>TUCSON AZ</td>\n",
              "      <td>13.30</td>\n",
              "      <td>244.65</td>\n",
              "      <td>180.3480</td>\n",
              "      <td>39761</td>\n",
              "      <td>Card</td>\n",
              "      <td>Female</td>\n",
              "      <td>32</td>\n",
              "      <td>10128</td>\n",
              "    </tr>\n",
              "  </tbody>\n",
              "</table>\n",
              "<p>359392 rows × 12 columns</p>\n",
              "</div>"
            ],
            "text/plain": [
              "        Transaction ID  Date of Travel  ... Age Income (USD/Month)\n",
              "0             10000011           42377  ...  28              10813\n",
              "1             10351127           43302  ...  28              10813\n",
              "2             10412921           43427  ...  28              10813\n",
              "3             10000012           42375  ...  27               9237\n",
              "4             10320494           43211  ...  27               9237\n",
              "...                ...             ...  ...  ..                ...\n",
              "359387        10439790           43107  ...  42              19417\n",
              "359388        10439799           43103  ...  33              18713\n",
              "359389        10439838           43104  ...  38               3960\n",
              "359390        10439840           43106  ...  23              19454\n",
              "359391        10439846           43104  ...  32              10128\n",
              "\n",
              "[359392 rows x 12 columns]"
            ]
          },
          "metadata": {
            "tags": []
          },
          "execution_count": 52
        }
      ]
    },
    {
      "cell_type": "code",
      "metadata": {
        "colab": {
          "base_uri": "https://localhost:8080/",
          "height": 600
        },
        "id": "F4fPTPWgl0t5",
        "outputId": "30dd2e15-bc23-4200-b550-fc54f96ba28b"
      },
      "source": [
        "ally = pd.merge(new, datacity, on='City')\n",
        "ally"
      ],
      "execution_count": null,
      "outputs": [
        {
          "output_type": "execute_result",
          "data": {
            "text/html": [
              "<div>\n",
              "<style scoped>\n",
              "    .dataframe tbody tr th:only-of-type {\n",
              "        vertical-align: middle;\n",
              "    }\n",
              "\n",
              "    .dataframe tbody tr th {\n",
              "        vertical-align: top;\n",
              "    }\n",
              "\n",
              "    .dataframe thead th {\n",
              "        text-align: right;\n",
              "    }\n",
              "</style>\n",
              "<table border=\"1\" class=\"dataframe\">\n",
              "  <thead>\n",
              "    <tr style=\"text-align: right;\">\n",
              "      <th></th>\n",
              "      <th>Transaction ID</th>\n",
              "      <th>Date of Travel</th>\n",
              "      <th>Company</th>\n",
              "      <th>City</th>\n",
              "      <th>KM Travelled</th>\n",
              "      <th>Price Charged</th>\n",
              "      <th>Cost of Trip</th>\n",
              "      <th>Customer ID</th>\n",
              "      <th>Payment_Mode</th>\n",
              "      <th>Gender</th>\n",
              "      <th>Age</th>\n",
              "      <th>Income (USD/Month)</th>\n",
              "      <th>Population</th>\n",
              "      <th>Users</th>\n",
              "    </tr>\n",
              "  </thead>\n",
              "  <tbody>\n",
              "    <tr>\n",
              "      <th>0</th>\n",
              "      <td>10000011</td>\n",
              "      <td>42377</td>\n",
              "      <td>Pink Cab</td>\n",
              "      <td>ATLANTA GA</td>\n",
              "      <td>30.45</td>\n",
              "      <td>370.95</td>\n",
              "      <td>313.6350</td>\n",
              "      <td>29290</td>\n",
              "      <td>Card</td>\n",
              "      <td>Male</td>\n",
              "      <td>28</td>\n",
              "      <td>10813</td>\n",
              "      <td>814885</td>\n",
              "      <td>24701</td>\n",
              "    </tr>\n",
              "    <tr>\n",
              "      <th>1</th>\n",
              "      <td>10351127</td>\n",
              "      <td>43302</td>\n",
              "      <td>Yellow Cab</td>\n",
              "      <td>ATLANTA GA</td>\n",
              "      <td>26.19</td>\n",
              "      <td>598.70</td>\n",
              "      <td>317.4228</td>\n",
              "      <td>29290</td>\n",
              "      <td>Cash</td>\n",
              "      <td>Male</td>\n",
              "      <td>28</td>\n",
              "      <td>10813</td>\n",
              "      <td>814885</td>\n",
              "      <td>24701</td>\n",
              "    </tr>\n",
              "    <tr>\n",
              "      <th>2</th>\n",
              "      <td>10412921</td>\n",
              "      <td>43427</td>\n",
              "      <td>Yellow Cab</td>\n",
              "      <td>ATLANTA GA</td>\n",
              "      <td>42.55</td>\n",
              "      <td>792.05</td>\n",
              "      <td>597.4020</td>\n",
              "      <td>29290</td>\n",
              "      <td>Card</td>\n",
              "      <td>Male</td>\n",
              "      <td>28</td>\n",
              "      <td>10813</td>\n",
              "      <td>814885</td>\n",
              "      <td>24701</td>\n",
              "    </tr>\n",
              "    <tr>\n",
              "      <th>3</th>\n",
              "      <td>10000012</td>\n",
              "      <td>42375</td>\n",
              "      <td>Pink Cab</td>\n",
              "      <td>ATLANTA GA</td>\n",
              "      <td>28.62</td>\n",
              "      <td>358.52</td>\n",
              "      <td>334.8540</td>\n",
              "      <td>27703</td>\n",
              "      <td>Card</td>\n",
              "      <td>Male</td>\n",
              "      <td>27</td>\n",
              "      <td>9237</td>\n",
              "      <td>814885</td>\n",
              "      <td>24701</td>\n",
              "    </tr>\n",
              "    <tr>\n",
              "      <th>4</th>\n",
              "      <td>10320494</td>\n",
              "      <td>43211</td>\n",
              "      <td>Yellow Cab</td>\n",
              "      <td>ATLANTA GA</td>\n",
              "      <td>36.38</td>\n",
              "      <td>721.10</td>\n",
              "      <td>467.1192</td>\n",
              "      <td>27703</td>\n",
              "      <td>Card</td>\n",
              "      <td>Male</td>\n",
              "      <td>27</td>\n",
              "      <td>9237</td>\n",
              "      <td>814885</td>\n",
              "      <td>24701</td>\n",
              "    </tr>\n",
              "    <tr>\n",
              "      <th>...</th>\n",
              "      <td>...</td>\n",
              "      <td>...</td>\n",
              "      <td>...</td>\n",
              "      <td>...</td>\n",
              "      <td>...</td>\n",
              "      <td>...</td>\n",
              "      <td>...</td>\n",
              "      <td>...</td>\n",
              "      <td>...</td>\n",
              "      <td>...</td>\n",
              "      <td>...</td>\n",
              "      <td>...</td>\n",
              "      <td>...</td>\n",
              "      <td>...</td>\n",
              "    </tr>\n",
              "    <tr>\n",
              "      <th>359387</th>\n",
              "      <td>10307228</td>\n",
              "      <td>43162</td>\n",
              "      <td>Yellow Cab</td>\n",
              "      <td>WASHINGTON DC</td>\n",
              "      <td>38.40</td>\n",
              "      <td>668.93</td>\n",
              "      <td>525.3120</td>\n",
              "      <td>51406</td>\n",
              "      <td>Cash</td>\n",
              "      <td>Female</td>\n",
              "      <td>29</td>\n",
              "      <td>6829</td>\n",
              "      <td>418859</td>\n",
              "      <td>127001</td>\n",
              "    </tr>\n",
              "    <tr>\n",
              "      <th>359388</th>\n",
              "      <td>10319775</td>\n",
              "      <td>43203</td>\n",
              "      <td>Yellow Cab</td>\n",
              "      <td>WASHINGTON DC</td>\n",
              "      <td>3.57</td>\n",
              "      <td>67.60</td>\n",
              "      <td>44.5536</td>\n",
              "      <td>51406</td>\n",
              "      <td>Cash</td>\n",
              "      <td>Female</td>\n",
              "      <td>29</td>\n",
              "      <td>6829</td>\n",
              "      <td>418859</td>\n",
              "      <td>127001</td>\n",
              "    </tr>\n",
              "    <tr>\n",
              "      <th>359389</th>\n",
              "      <td>10347676</td>\n",
              "      <td>43287</td>\n",
              "      <td>Yellow Cab</td>\n",
              "      <td>WASHINGTON DC</td>\n",
              "      <td>23.46</td>\n",
              "      <td>331.97</td>\n",
              "      <td>337.8240</td>\n",
              "      <td>51406</td>\n",
              "      <td>Card</td>\n",
              "      <td>Female</td>\n",
              "      <td>29</td>\n",
              "      <td>6829</td>\n",
              "      <td>418859</td>\n",
              "      <td>127001</td>\n",
              "    </tr>\n",
              "    <tr>\n",
              "      <th>359390</th>\n",
              "      <td>10358624</td>\n",
              "      <td>43314</td>\n",
              "      <td>Yellow Cab</td>\n",
              "      <td>WASHINGTON DC</td>\n",
              "      <td>27.60</td>\n",
              "      <td>358.23</td>\n",
              "      <td>364.3200</td>\n",
              "      <td>51406</td>\n",
              "      <td>Cash</td>\n",
              "      <td>Female</td>\n",
              "      <td>29</td>\n",
              "      <td>6829</td>\n",
              "      <td>418859</td>\n",
              "      <td>127001</td>\n",
              "    </tr>\n",
              "    <tr>\n",
              "      <th>359391</th>\n",
              "      <td>10370709</td>\n",
              "      <td>43342</td>\n",
              "      <td>Yellow Cab</td>\n",
              "      <td>WASHINGTON DC</td>\n",
              "      <td>34.24</td>\n",
              "      <td>453.11</td>\n",
              "      <td>427.3152</td>\n",
              "      <td>51406</td>\n",
              "      <td>Card</td>\n",
              "      <td>Female</td>\n",
              "      <td>29</td>\n",
              "      <td>6829</td>\n",
              "      <td>418859</td>\n",
              "      <td>127001</td>\n",
              "    </tr>\n",
              "  </tbody>\n",
              "</table>\n",
              "<p>359392 rows × 14 columns</p>\n",
              "</div>"
            ],
            "text/plain": [
              "        Transaction ID  Date of Travel  ... Population   Users\n",
              "0             10000011           42377  ...     814885   24701\n",
              "1             10351127           43302  ...     814885   24701\n",
              "2             10412921           43427  ...     814885   24701\n",
              "3             10000012           42375  ...     814885   24701\n",
              "4             10320494           43211  ...     814885   24701\n",
              "...                ...             ...  ...        ...     ...\n",
              "359387        10307228           43162  ...     418859  127001\n",
              "359388        10319775           43203  ...     418859  127001\n",
              "359389        10347676           43287  ...     418859  127001\n",
              "359390        10358624           43314  ...     418859  127001\n",
              "359391        10370709           43342  ...     418859  127001\n",
              "\n",
              "[359392 rows x 14 columns]"
            ]
          },
          "metadata": {
            "tags": []
          },
          "execution_count": 53
        }
      ]
    },
    {
      "cell_type": "code",
      "metadata": {
        "colab": {
          "base_uri": "https://localhost:8080/",
          "height": 563
        },
        "id": "VHV25mmnmMvV",
        "outputId": "2687a523-5834-4c46-bedc-f8b4d14a33c6"
      },
      "source": [
        "ally = ally.drop(['Transaction ID', 'Customer ID'],axis=1)\n",
        "ally"
      ],
      "execution_count": null,
      "outputs": [
        {
          "output_type": "execute_result",
          "data": {
            "text/html": [
              "<div>\n",
              "<style scoped>\n",
              "    .dataframe tbody tr th:only-of-type {\n",
              "        vertical-align: middle;\n",
              "    }\n",
              "\n",
              "    .dataframe tbody tr th {\n",
              "        vertical-align: top;\n",
              "    }\n",
              "\n",
              "    .dataframe thead th {\n",
              "        text-align: right;\n",
              "    }\n",
              "</style>\n",
              "<table border=\"1\" class=\"dataframe\">\n",
              "  <thead>\n",
              "    <tr style=\"text-align: right;\">\n",
              "      <th></th>\n",
              "      <th>Date of Travel</th>\n",
              "      <th>Company</th>\n",
              "      <th>City</th>\n",
              "      <th>KM Travelled</th>\n",
              "      <th>Price Charged</th>\n",
              "      <th>Cost of Trip</th>\n",
              "      <th>Payment_Mode</th>\n",
              "      <th>Gender</th>\n",
              "      <th>Age</th>\n",
              "      <th>Income (USD/Month)</th>\n",
              "      <th>Population</th>\n",
              "      <th>Users</th>\n",
              "    </tr>\n",
              "  </thead>\n",
              "  <tbody>\n",
              "    <tr>\n",
              "      <th>0</th>\n",
              "      <td>42377</td>\n",
              "      <td>Pink Cab</td>\n",
              "      <td>ATLANTA GA</td>\n",
              "      <td>30.45</td>\n",
              "      <td>370.95</td>\n",
              "      <td>313.6350</td>\n",
              "      <td>Card</td>\n",
              "      <td>Male</td>\n",
              "      <td>28</td>\n",
              "      <td>10813</td>\n",
              "      <td>814885</td>\n",
              "      <td>24701</td>\n",
              "    </tr>\n",
              "    <tr>\n",
              "      <th>1</th>\n",
              "      <td>43302</td>\n",
              "      <td>Yellow Cab</td>\n",
              "      <td>ATLANTA GA</td>\n",
              "      <td>26.19</td>\n",
              "      <td>598.70</td>\n",
              "      <td>317.4228</td>\n",
              "      <td>Cash</td>\n",
              "      <td>Male</td>\n",
              "      <td>28</td>\n",
              "      <td>10813</td>\n",
              "      <td>814885</td>\n",
              "      <td>24701</td>\n",
              "    </tr>\n",
              "    <tr>\n",
              "      <th>2</th>\n",
              "      <td>43427</td>\n",
              "      <td>Yellow Cab</td>\n",
              "      <td>ATLANTA GA</td>\n",
              "      <td>42.55</td>\n",
              "      <td>792.05</td>\n",
              "      <td>597.4020</td>\n",
              "      <td>Card</td>\n",
              "      <td>Male</td>\n",
              "      <td>28</td>\n",
              "      <td>10813</td>\n",
              "      <td>814885</td>\n",
              "      <td>24701</td>\n",
              "    </tr>\n",
              "    <tr>\n",
              "      <th>3</th>\n",
              "      <td>42375</td>\n",
              "      <td>Pink Cab</td>\n",
              "      <td>ATLANTA GA</td>\n",
              "      <td>28.62</td>\n",
              "      <td>358.52</td>\n",
              "      <td>334.8540</td>\n",
              "      <td>Card</td>\n",
              "      <td>Male</td>\n",
              "      <td>27</td>\n",
              "      <td>9237</td>\n",
              "      <td>814885</td>\n",
              "      <td>24701</td>\n",
              "    </tr>\n",
              "    <tr>\n",
              "      <th>4</th>\n",
              "      <td>43211</td>\n",
              "      <td>Yellow Cab</td>\n",
              "      <td>ATLANTA GA</td>\n",
              "      <td>36.38</td>\n",
              "      <td>721.10</td>\n",
              "      <td>467.1192</td>\n",
              "      <td>Card</td>\n",
              "      <td>Male</td>\n",
              "      <td>27</td>\n",
              "      <td>9237</td>\n",
              "      <td>814885</td>\n",
              "      <td>24701</td>\n",
              "    </tr>\n",
              "    <tr>\n",
              "      <th>...</th>\n",
              "      <td>...</td>\n",
              "      <td>...</td>\n",
              "      <td>...</td>\n",
              "      <td>...</td>\n",
              "      <td>...</td>\n",
              "      <td>...</td>\n",
              "      <td>...</td>\n",
              "      <td>...</td>\n",
              "      <td>...</td>\n",
              "      <td>...</td>\n",
              "      <td>...</td>\n",
              "      <td>...</td>\n",
              "    </tr>\n",
              "    <tr>\n",
              "      <th>359387</th>\n",
              "      <td>43162</td>\n",
              "      <td>Yellow Cab</td>\n",
              "      <td>WASHINGTON DC</td>\n",
              "      <td>38.40</td>\n",
              "      <td>668.93</td>\n",
              "      <td>525.3120</td>\n",
              "      <td>Cash</td>\n",
              "      <td>Female</td>\n",
              "      <td>29</td>\n",
              "      <td>6829</td>\n",
              "      <td>418859</td>\n",
              "      <td>127001</td>\n",
              "    </tr>\n",
              "    <tr>\n",
              "      <th>359388</th>\n",
              "      <td>43203</td>\n",
              "      <td>Yellow Cab</td>\n",
              "      <td>WASHINGTON DC</td>\n",
              "      <td>3.57</td>\n",
              "      <td>67.60</td>\n",
              "      <td>44.5536</td>\n",
              "      <td>Cash</td>\n",
              "      <td>Female</td>\n",
              "      <td>29</td>\n",
              "      <td>6829</td>\n",
              "      <td>418859</td>\n",
              "      <td>127001</td>\n",
              "    </tr>\n",
              "    <tr>\n",
              "      <th>359389</th>\n",
              "      <td>43287</td>\n",
              "      <td>Yellow Cab</td>\n",
              "      <td>WASHINGTON DC</td>\n",
              "      <td>23.46</td>\n",
              "      <td>331.97</td>\n",
              "      <td>337.8240</td>\n",
              "      <td>Card</td>\n",
              "      <td>Female</td>\n",
              "      <td>29</td>\n",
              "      <td>6829</td>\n",
              "      <td>418859</td>\n",
              "      <td>127001</td>\n",
              "    </tr>\n",
              "    <tr>\n",
              "      <th>359390</th>\n",
              "      <td>43314</td>\n",
              "      <td>Yellow Cab</td>\n",
              "      <td>WASHINGTON DC</td>\n",
              "      <td>27.60</td>\n",
              "      <td>358.23</td>\n",
              "      <td>364.3200</td>\n",
              "      <td>Cash</td>\n",
              "      <td>Female</td>\n",
              "      <td>29</td>\n",
              "      <td>6829</td>\n",
              "      <td>418859</td>\n",
              "      <td>127001</td>\n",
              "    </tr>\n",
              "    <tr>\n",
              "      <th>359391</th>\n",
              "      <td>43342</td>\n",
              "      <td>Yellow Cab</td>\n",
              "      <td>WASHINGTON DC</td>\n",
              "      <td>34.24</td>\n",
              "      <td>453.11</td>\n",
              "      <td>427.3152</td>\n",
              "      <td>Card</td>\n",
              "      <td>Female</td>\n",
              "      <td>29</td>\n",
              "      <td>6829</td>\n",
              "      <td>418859</td>\n",
              "      <td>127001</td>\n",
              "    </tr>\n",
              "  </tbody>\n",
              "</table>\n",
              "<p>359392 rows × 12 columns</p>\n",
              "</div>"
            ],
            "text/plain": [
              "        Date of Travel     Company  ... Population   Users\n",
              "0                42377    Pink Cab  ...     814885   24701\n",
              "1                43302  Yellow Cab  ...     814885   24701\n",
              "2                43427  Yellow Cab  ...     814885   24701\n",
              "3                42375    Pink Cab  ...     814885   24701\n",
              "4                43211  Yellow Cab  ...     814885   24701\n",
              "...                ...         ...  ...        ...     ...\n",
              "359387           43162  Yellow Cab  ...     418859  127001\n",
              "359388           43203  Yellow Cab  ...     418859  127001\n",
              "359389           43287  Yellow Cab  ...     418859  127001\n",
              "359390           43314  Yellow Cab  ...     418859  127001\n",
              "359391           43342  Yellow Cab  ...     418859  127001\n",
              "\n",
              "[359392 rows x 12 columns]"
            ]
          },
          "metadata": {
            "tags": []
          },
          "execution_count": 54
        }
      ]
    },
    {
      "cell_type": "code",
      "metadata": {
        "colab": {
          "base_uri": "https://localhost:8080/",
          "height": 563
        },
        "id": "TPURAvo_mOUU",
        "outputId": "cee90922-823d-4bff-8582-e07fceb9d664"
      },
      "source": [
        "ally['Gender'] = ally['Gender'].map({'Female': 0, 'Male': 1})\n",
        "ally"
      ],
      "execution_count": null,
      "outputs": [
        {
          "output_type": "execute_result",
          "data": {
            "text/html": [
              "<div>\n",
              "<style scoped>\n",
              "    .dataframe tbody tr th:only-of-type {\n",
              "        vertical-align: middle;\n",
              "    }\n",
              "\n",
              "    .dataframe tbody tr th {\n",
              "        vertical-align: top;\n",
              "    }\n",
              "\n",
              "    .dataframe thead th {\n",
              "        text-align: right;\n",
              "    }\n",
              "</style>\n",
              "<table border=\"1\" class=\"dataframe\">\n",
              "  <thead>\n",
              "    <tr style=\"text-align: right;\">\n",
              "      <th></th>\n",
              "      <th>Date of Travel</th>\n",
              "      <th>Company</th>\n",
              "      <th>City</th>\n",
              "      <th>KM Travelled</th>\n",
              "      <th>Price Charged</th>\n",
              "      <th>Cost of Trip</th>\n",
              "      <th>Payment_Mode</th>\n",
              "      <th>Gender</th>\n",
              "      <th>Age</th>\n",
              "      <th>Income (USD/Month)</th>\n",
              "      <th>Population</th>\n",
              "      <th>Users</th>\n",
              "    </tr>\n",
              "  </thead>\n",
              "  <tbody>\n",
              "    <tr>\n",
              "      <th>0</th>\n",
              "      <td>42377</td>\n",
              "      <td>Pink Cab</td>\n",
              "      <td>ATLANTA GA</td>\n",
              "      <td>30.45</td>\n",
              "      <td>370.95</td>\n",
              "      <td>313.6350</td>\n",
              "      <td>Card</td>\n",
              "      <td>1</td>\n",
              "      <td>28</td>\n",
              "      <td>10813</td>\n",
              "      <td>814885</td>\n",
              "      <td>24701</td>\n",
              "    </tr>\n",
              "    <tr>\n",
              "      <th>1</th>\n",
              "      <td>43302</td>\n",
              "      <td>Yellow Cab</td>\n",
              "      <td>ATLANTA GA</td>\n",
              "      <td>26.19</td>\n",
              "      <td>598.70</td>\n",
              "      <td>317.4228</td>\n",
              "      <td>Cash</td>\n",
              "      <td>1</td>\n",
              "      <td>28</td>\n",
              "      <td>10813</td>\n",
              "      <td>814885</td>\n",
              "      <td>24701</td>\n",
              "    </tr>\n",
              "    <tr>\n",
              "      <th>2</th>\n",
              "      <td>43427</td>\n",
              "      <td>Yellow Cab</td>\n",
              "      <td>ATLANTA GA</td>\n",
              "      <td>42.55</td>\n",
              "      <td>792.05</td>\n",
              "      <td>597.4020</td>\n",
              "      <td>Card</td>\n",
              "      <td>1</td>\n",
              "      <td>28</td>\n",
              "      <td>10813</td>\n",
              "      <td>814885</td>\n",
              "      <td>24701</td>\n",
              "    </tr>\n",
              "    <tr>\n",
              "      <th>3</th>\n",
              "      <td>42375</td>\n",
              "      <td>Pink Cab</td>\n",
              "      <td>ATLANTA GA</td>\n",
              "      <td>28.62</td>\n",
              "      <td>358.52</td>\n",
              "      <td>334.8540</td>\n",
              "      <td>Card</td>\n",
              "      <td>1</td>\n",
              "      <td>27</td>\n",
              "      <td>9237</td>\n",
              "      <td>814885</td>\n",
              "      <td>24701</td>\n",
              "    </tr>\n",
              "    <tr>\n",
              "      <th>4</th>\n",
              "      <td>43211</td>\n",
              "      <td>Yellow Cab</td>\n",
              "      <td>ATLANTA GA</td>\n",
              "      <td>36.38</td>\n",
              "      <td>721.10</td>\n",
              "      <td>467.1192</td>\n",
              "      <td>Card</td>\n",
              "      <td>1</td>\n",
              "      <td>27</td>\n",
              "      <td>9237</td>\n",
              "      <td>814885</td>\n",
              "      <td>24701</td>\n",
              "    </tr>\n",
              "    <tr>\n",
              "      <th>...</th>\n",
              "      <td>...</td>\n",
              "      <td>...</td>\n",
              "      <td>...</td>\n",
              "      <td>...</td>\n",
              "      <td>...</td>\n",
              "      <td>...</td>\n",
              "      <td>...</td>\n",
              "      <td>...</td>\n",
              "      <td>...</td>\n",
              "      <td>...</td>\n",
              "      <td>...</td>\n",
              "      <td>...</td>\n",
              "    </tr>\n",
              "    <tr>\n",
              "      <th>359387</th>\n",
              "      <td>43162</td>\n",
              "      <td>Yellow Cab</td>\n",
              "      <td>WASHINGTON DC</td>\n",
              "      <td>38.40</td>\n",
              "      <td>668.93</td>\n",
              "      <td>525.3120</td>\n",
              "      <td>Cash</td>\n",
              "      <td>0</td>\n",
              "      <td>29</td>\n",
              "      <td>6829</td>\n",
              "      <td>418859</td>\n",
              "      <td>127001</td>\n",
              "    </tr>\n",
              "    <tr>\n",
              "      <th>359388</th>\n",
              "      <td>43203</td>\n",
              "      <td>Yellow Cab</td>\n",
              "      <td>WASHINGTON DC</td>\n",
              "      <td>3.57</td>\n",
              "      <td>67.60</td>\n",
              "      <td>44.5536</td>\n",
              "      <td>Cash</td>\n",
              "      <td>0</td>\n",
              "      <td>29</td>\n",
              "      <td>6829</td>\n",
              "      <td>418859</td>\n",
              "      <td>127001</td>\n",
              "    </tr>\n",
              "    <tr>\n",
              "      <th>359389</th>\n",
              "      <td>43287</td>\n",
              "      <td>Yellow Cab</td>\n",
              "      <td>WASHINGTON DC</td>\n",
              "      <td>23.46</td>\n",
              "      <td>331.97</td>\n",
              "      <td>337.8240</td>\n",
              "      <td>Card</td>\n",
              "      <td>0</td>\n",
              "      <td>29</td>\n",
              "      <td>6829</td>\n",
              "      <td>418859</td>\n",
              "      <td>127001</td>\n",
              "    </tr>\n",
              "    <tr>\n",
              "      <th>359390</th>\n",
              "      <td>43314</td>\n",
              "      <td>Yellow Cab</td>\n",
              "      <td>WASHINGTON DC</td>\n",
              "      <td>27.60</td>\n",
              "      <td>358.23</td>\n",
              "      <td>364.3200</td>\n",
              "      <td>Cash</td>\n",
              "      <td>0</td>\n",
              "      <td>29</td>\n",
              "      <td>6829</td>\n",
              "      <td>418859</td>\n",
              "      <td>127001</td>\n",
              "    </tr>\n",
              "    <tr>\n",
              "      <th>359391</th>\n",
              "      <td>43342</td>\n",
              "      <td>Yellow Cab</td>\n",
              "      <td>WASHINGTON DC</td>\n",
              "      <td>34.24</td>\n",
              "      <td>453.11</td>\n",
              "      <td>427.3152</td>\n",
              "      <td>Card</td>\n",
              "      <td>0</td>\n",
              "      <td>29</td>\n",
              "      <td>6829</td>\n",
              "      <td>418859</td>\n",
              "      <td>127001</td>\n",
              "    </tr>\n",
              "  </tbody>\n",
              "</table>\n",
              "<p>359392 rows × 12 columns</p>\n",
              "</div>"
            ],
            "text/plain": [
              "        Date of Travel     Company  ... Population   Users\n",
              "0                42377    Pink Cab  ...     814885   24701\n",
              "1                43302  Yellow Cab  ...     814885   24701\n",
              "2                43427  Yellow Cab  ...     814885   24701\n",
              "3                42375    Pink Cab  ...     814885   24701\n",
              "4                43211  Yellow Cab  ...     814885   24701\n",
              "...                ...         ...  ...        ...     ...\n",
              "359387           43162  Yellow Cab  ...     418859  127001\n",
              "359388           43203  Yellow Cab  ...     418859  127001\n",
              "359389           43287  Yellow Cab  ...     418859  127001\n",
              "359390           43314  Yellow Cab  ...     418859  127001\n",
              "359391           43342  Yellow Cab  ...     418859  127001\n",
              "\n",
              "[359392 rows x 12 columns]"
            ]
          },
          "metadata": {
            "tags": []
          },
          "execution_count": 55
        }
      ]
    },
    {
      "cell_type": "code",
      "metadata": {
        "colab": {
          "base_uri": "https://localhost:8080/",
          "height": 563
        },
        "id": "K2xApLjjmcVx",
        "outputId": "814af1fb-52ea-4cdb-99db-68fc83a1b328"
      },
      "source": [
        "ally['Payment_Mode'] = ally['Payment_Mode'].map({'Card': 0, 'Cash': 1})\n",
        "ally\n"
      ],
      "execution_count": null,
      "outputs": [
        {
          "output_type": "execute_result",
          "data": {
            "text/html": [
              "<div>\n",
              "<style scoped>\n",
              "    .dataframe tbody tr th:only-of-type {\n",
              "        vertical-align: middle;\n",
              "    }\n",
              "\n",
              "    .dataframe tbody tr th {\n",
              "        vertical-align: top;\n",
              "    }\n",
              "\n",
              "    .dataframe thead th {\n",
              "        text-align: right;\n",
              "    }\n",
              "</style>\n",
              "<table border=\"1\" class=\"dataframe\">\n",
              "  <thead>\n",
              "    <tr style=\"text-align: right;\">\n",
              "      <th></th>\n",
              "      <th>Date of Travel</th>\n",
              "      <th>Company</th>\n",
              "      <th>City</th>\n",
              "      <th>KM Travelled</th>\n",
              "      <th>Price Charged</th>\n",
              "      <th>Cost of Trip</th>\n",
              "      <th>Payment_Mode</th>\n",
              "      <th>Gender</th>\n",
              "      <th>Age</th>\n",
              "      <th>Income (USD/Month)</th>\n",
              "      <th>Population</th>\n",
              "      <th>Users</th>\n",
              "    </tr>\n",
              "  </thead>\n",
              "  <tbody>\n",
              "    <tr>\n",
              "      <th>0</th>\n",
              "      <td>42377</td>\n",
              "      <td>Pink Cab</td>\n",
              "      <td>ATLANTA GA</td>\n",
              "      <td>30.45</td>\n",
              "      <td>370.95</td>\n",
              "      <td>313.6350</td>\n",
              "      <td>0</td>\n",
              "      <td>1</td>\n",
              "      <td>28</td>\n",
              "      <td>10813</td>\n",
              "      <td>814885</td>\n",
              "      <td>24701</td>\n",
              "    </tr>\n",
              "    <tr>\n",
              "      <th>1</th>\n",
              "      <td>43302</td>\n",
              "      <td>Yellow Cab</td>\n",
              "      <td>ATLANTA GA</td>\n",
              "      <td>26.19</td>\n",
              "      <td>598.70</td>\n",
              "      <td>317.4228</td>\n",
              "      <td>1</td>\n",
              "      <td>1</td>\n",
              "      <td>28</td>\n",
              "      <td>10813</td>\n",
              "      <td>814885</td>\n",
              "      <td>24701</td>\n",
              "    </tr>\n",
              "    <tr>\n",
              "      <th>2</th>\n",
              "      <td>43427</td>\n",
              "      <td>Yellow Cab</td>\n",
              "      <td>ATLANTA GA</td>\n",
              "      <td>42.55</td>\n",
              "      <td>792.05</td>\n",
              "      <td>597.4020</td>\n",
              "      <td>0</td>\n",
              "      <td>1</td>\n",
              "      <td>28</td>\n",
              "      <td>10813</td>\n",
              "      <td>814885</td>\n",
              "      <td>24701</td>\n",
              "    </tr>\n",
              "    <tr>\n",
              "      <th>3</th>\n",
              "      <td>42375</td>\n",
              "      <td>Pink Cab</td>\n",
              "      <td>ATLANTA GA</td>\n",
              "      <td>28.62</td>\n",
              "      <td>358.52</td>\n",
              "      <td>334.8540</td>\n",
              "      <td>0</td>\n",
              "      <td>1</td>\n",
              "      <td>27</td>\n",
              "      <td>9237</td>\n",
              "      <td>814885</td>\n",
              "      <td>24701</td>\n",
              "    </tr>\n",
              "    <tr>\n",
              "      <th>4</th>\n",
              "      <td>43211</td>\n",
              "      <td>Yellow Cab</td>\n",
              "      <td>ATLANTA GA</td>\n",
              "      <td>36.38</td>\n",
              "      <td>721.10</td>\n",
              "      <td>467.1192</td>\n",
              "      <td>0</td>\n",
              "      <td>1</td>\n",
              "      <td>27</td>\n",
              "      <td>9237</td>\n",
              "      <td>814885</td>\n",
              "      <td>24701</td>\n",
              "    </tr>\n",
              "    <tr>\n",
              "      <th>...</th>\n",
              "      <td>...</td>\n",
              "      <td>...</td>\n",
              "      <td>...</td>\n",
              "      <td>...</td>\n",
              "      <td>...</td>\n",
              "      <td>...</td>\n",
              "      <td>...</td>\n",
              "      <td>...</td>\n",
              "      <td>...</td>\n",
              "      <td>...</td>\n",
              "      <td>...</td>\n",
              "      <td>...</td>\n",
              "    </tr>\n",
              "    <tr>\n",
              "      <th>359387</th>\n",
              "      <td>43162</td>\n",
              "      <td>Yellow Cab</td>\n",
              "      <td>WASHINGTON DC</td>\n",
              "      <td>38.40</td>\n",
              "      <td>668.93</td>\n",
              "      <td>525.3120</td>\n",
              "      <td>1</td>\n",
              "      <td>0</td>\n",
              "      <td>29</td>\n",
              "      <td>6829</td>\n",
              "      <td>418859</td>\n",
              "      <td>127001</td>\n",
              "    </tr>\n",
              "    <tr>\n",
              "      <th>359388</th>\n",
              "      <td>43203</td>\n",
              "      <td>Yellow Cab</td>\n",
              "      <td>WASHINGTON DC</td>\n",
              "      <td>3.57</td>\n",
              "      <td>67.60</td>\n",
              "      <td>44.5536</td>\n",
              "      <td>1</td>\n",
              "      <td>0</td>\n",
              "      <td>29</td>\n",
              "      <td>6829</td>\n",
              "      <td>418859</td>\n",
              "      <td>127001</td>\n",
              "    </tr>\n",
              "    <tr>\n",
              "      <th>359389</th>\n",
              "      <td>43287</td>\n",
              "      <td>Yellow Cab</td>\n",
              "      <td>WASHINGTON DC</td>\n",
              "      <td>23.46</td>\n",
              "      <td>331.97</td>\n",
              "      <td>337.8240</td>\n",
              "      <td>0</td>\n",
              "      <td>0</td>\n",
              "      <td>29</td>\n",
              "      <td>6829</td>\n",
              "      <td>418859</td>\n",
              "      <td>127001</td>\n",
              "    </tr>\n",
              "    <tr>\n",
              "      <th>359390</th>\n",
              "      <td>43314</td>\n",
              "      <td>Yellow Cab</td>\n",
              "      <td>WASHINGTON DC</td>\n",
              "      <td>27.60</td>\n",
              "      <td>358.23</td>\n",
              "      <td>364.3200</td>\n",
              "      <td>1</td>\n",
              "      <td>0</td>\n",
              "      <td>29</td>\n",
              "      <td>6829</td>\n",
              "      <td>418859</td>\n",
              "      <td>127001</td>\n",
              "    </tr>\n",
              "    <tr>\n",
              "      <th>359391</th>\n",
              "      <td>43342</td>\n",
              "      <td>Yellow Cab</td>\n",
              "      <td>WASHINGTON DC</td>\n",
              "      <td>34.24</td>\n",
              "      <td>453.11</td>\n",
              "      <td>427.3152</td>\n",
              "      <td>0</td>\n",
              "      <td>0</td>\n",
              "      <td>29</td>\n",
              "      <td>6829</td>\n",
              "      <td>418859</td>\n",
              "      <td>127001</td>\n",
              "    </tr>\n",
              "  </tbody>\n",
              "</table>\n",
              "<p>359392 rows × 12 columns</p>\n",
              "</div>"
            ],
            "text/plain": [
              "        Date of Travel     Company  ... Population   Users\n",
              "0                42377    Pink Cab  ...     814885   24701\n",
              "1                43302  Yellow Cab  ...     814885   24701\n",
              "2                43427  Yellow Cab  ...     814885   24701\n",
              "3                42375    Pink Cab  ...     814885   24701\n",
              "4                43211  Yellow Cab  ...     814885   24701\n",
              "...                ...         ...  ...        ...     ...\n",
              "359387           43162  Yellow Cab  ...     418859  127001\n",
              "359388           43203  Yellow Cab  ...     418859  127001\n",
              "359389           43287  Yellow Cab  ...     418859  127001\n",
              "359390           43314  Yellow Cab  ...     418859  127001\n",
              "359391           43342  Yellow Cab  ...     418859  127001\n",
              "\n",
              "[359392 rows x 12 columns]"
            ]
          },
          "metadata": {
            "tags": []
          },
          "execution_count": 56
        }
      ]
    },
    {
      "cell_type": "code",
      "metadata": {
        "colab": {
          "base_uri": "https://localhost:8080/",
          "height": 511
        },
        "id": "TjZZvNpfnE2r",
        "outputId": "7c62b6ce-b6c1-48de-d86f-e6105e03493c"
      },
      "source": [
        "ally['Company'] = ally['Company'].map({'Pink Cab': 0, 'Yellow Cab': 1})\n",
        "ally"
      ],
      "execution_count": null,
      "outputs": [
        {
          "output_type": "execute_result",
          "data": {
            "text/html": [
              "<div>\n",
              "<style scoped>\n",
              "    .dataframe tbody tr th:only-of-type {\n",
              "        vertical-align: middle;\n",
              "    }\n",
              "\n",
              "    .dataframe tbody tr th {\n",
              "        vertical-align: top;\n",
              "    }\n",
              "\n",
              "    .dataframe thead th {\n",
              "        text-align: right;\n",
              "    }\n",
              "</style>\n",
              "<table border=\"1\" class=\"dataframe\">\n",
              "  <thead>\n",
              "    <tr style=\"text-align: right;\">\n",
              "      <th></th>\n",
              "      <th>Date of Travel</th>\n",
              "      <th>Company</th>\n",
              "      <th>City</th>\n",
              "      <th>KM Travelled</th>\n",
              "      <th>Price Charged</th>\n",
              "      <th>Cost of Trip</th>\n",
              "      <th>Payment_Mode</th>\n",
              "      <th>Gender</th>\n",
              "      <th>Age</th>\n",
              "      <th>Income (USD/Month)</th>\n",
              "      <th>Population</th>\n",
              "      <th>Users</th>\n",
              "    </tr>\n",
              "  </thead>\n",
              "  <tbody>\n",
              "    <tr>\n",
              "      <th>0</th>\n",
              "      <td>42377</td>\n",
              "      <td>0</td>\n",
              "      <td>ATLANTA GA</td>\n",
              "      <td>30.45</td>\n",
              "      <td>370.95</td>\n",
              "      <td>313.6350</td>\n",
              "      <td>0</td>\n",
              "      <td>1</td>\n",
              "      <td>28</td>\n",
              "      <td>10813</td>\n",
              "      <td>814885</td>\n",
              "      <td>24701</td>\n",
              "    </tr>\n",
              "    <tr>\n",
              "      <th>1</th>\n",
              "      <td>43302</td>\n",
              "      <td>1</td>\n",
              "      <td>ATLANTA GA</td>\n",
              "      <td>26.19</td>\n",
              "      <td>598.70</td>\n",
              "      <td>317.4228</td>\n",
              "      <td>1</td>\n",
              "      <td>1</td>\n",
              "      <td>28</td>\n",
              "      <td>10813</td>\n",
              "      <td>814885</td>\n",
              "      <td>24701</td>\n",
              "    </tr>\n",
              "    <tr>\n",
              "      <th>2</th>\n",
              "      <td>43427</td>\n",
              "      <td>1</td>\n",
              "      <td>ATLANTA GA</td>\n",
              "      <td>42.55</td>\n",
              "      <td>792.05</td>\n",
              "      <td>597.4020</td>\n",
              "      <td>0</td>\n",
              "      <td>1</td>\n",
              "      <td>28</td>\n",
              "      <td>10813</td>\n",
              "      <td>814885</td>\n",
              "      <td>24701</td>\n",
              "    </tr>\n",
              "    <tr>\n",
              "      <th>3</th>\n",
              "      <td>42375</td>\n",
              "      <td>0</td>\n",
              "      <td>ATLANTA GA</td>\n",
              "      <td>28.62</td>\n",
              "      <td>358.52</td>\n",
              "      <td>334.8540</td>\n",
              "      <td>0</td>\n",
              "      <td>1</td>\n",
              "      <td>27</td>\n",
              "      <td>9237</td>\n",
              "      <td>814885</td>\n",
              "      <td>24701</td>\n",
              "    </tr>\n",
              "    <tr>\n",
              "      <th>4</th>\n",
              "      <td>43211</td>\n",
              "      <td>1</td>\n",
              "      <td>ATLANTA GA</td>\n",
              "      <td>36.38</td>\n",
              "      <td>721.10</td>\n",
              "      <td>467.1192</td>\n",
              "      <td>0</td>\n",
              "      <td>1</td>\n",
              "      <td>27</td>\n",
              "      <td>9237</td>\n",
              "      <td>814885</td>\n",
              "      <td>24701</td>\n",
              "    </tr>\n",
              "    <tr>\n",
              "      <th>...</th>\n",
              "      <td>...</td>\n",
              "      <td>...</td>\n",
              "      <td>...</td>\n",
              "      <td>...</td>\n",
              "      <td>...</td>\n",
              "      <td>...</td>\n",
              "      <td>...</td>\n",
              "      <td>...</td>\n",
              "      <td>...</td>\n",
              "      <td>...</td>\n",
              "      <td>...</td>\n",
              "      <td>...</td>\n",
              "    </tr>\n",
              "    <tr>\n",
              "      <th>359387</th>\n",
              "      <td>43162</td>\n",
              "      <td>1</td>\n",
              "      <td>WASHINGTON DC</td>\n",
              "      <td>38.40</td>\n",
              "      <td>668.93</td>\n",
              "      <td>525.3120</td>\n",
              "      <td>1</td>\n",
              "      <td>0</td>\n",
              "      <td>29</td>\n",
              "      <td>6829</td>\n",
              "      <td>418859</td>\n",
              "      <td>127001</td>\n",
              "    </tr>\n",
              "    <tr>\n",
              "      <th>359388</th>\n",
              "      <td>43203</td>\n",
              "      <td>1</td>\n",
              "      <td>WASHINGTON DC</td>\n",
              "      <td>3.57</td>\n",
              "      <td>67.60</td>\n",
              "      <td>44.5536</td>\n",
              "      <td>1</td>\n",
              "      <td>0</td>\n",
              "      <td>29</td>\n",
              "      <td>6829</td>\n",
              "      <td>418859</td>\n",
              "      <td>127001</td>\n",
              "    </tr>\n",
              "    <tr>\n",
              "      <th>359389</th>\n",
              "      <td>43287</td>\n",
              "      <td>1</td>\n",
              "      <td>WASHINGTON DC</td>\n",
              "      <td>23.46</td>\n",
              "      <td>331.97</td>\n",
              "      <td>337.8240</td>\n",
              "      <td>0</td>\n",
              "      <td>0</td>\n",
              "      <td>29</td>\n",
              "      <td>6829</td>\n",
              "      <td>418859</td>\n",
              "      <td>127001</td>\n",
              "    </tr>\n",
              "    <tr>\n",
              "      <th>359390</th>\n",
              "      <td>43314</td>\n",
              "      <td>1</td>\n",
              "      <td>WASHINGTON DC</td>\n",
              "      <td>27.60</td>\n",
              "      <td>358.23</td>\n",
              "      <td>364.3200</td>\n",
              "      <td>1</td>\n",
              "      <td>0</td>\n",
              "      <td>29</td>\n",
              "      <td>6829</td>\n",
              "      <td>418859</td>\n",
              "      <td>127001</td>\n",
              "    </tr>\n",
              "    <tr>\n",
              "      <th>359391</th>\n",
              "      <td>43342</td>\n",
              "      <td>1</td>\n",
              "      <td>WASHINGTON DC</td>\n",
              "      <td>34.24</td>\n",
              "      <td>453.11</td>\n",
              "      <td>427.3152</td>\n",
              "      <td>0</td>\n",
              "      <td>0</td>\n",
              "      <td>29</td>\n",
              "      <td>6829</td>\n",
              "      <td>418859</td>\n",
              "      <td>127001</td>\n",
              "    </tr>\n",
              "  </tbody>\n",
              "</table>\n",
              "<p>359392 rows × 12 columns</p>\n",
              "</div>"
            ],
            "text/plain": [
              "        Date of Travel  Company  ... Population   Users\n",
              "0                42377        0  ...     814885   24701\n",
              "1                43302        1  ...     814885   24701\n",
              "2                43427        1  ...     814885   24701\n",
              "3                42375        0  ...     814885   24701\n",
              "4                43211        1  ...     814885   24701\n",
              "...                ...      ...  ...        ...     ...\n",
              "359387           43162        1  ...     418859  127001\n",
              "359388           43203        1  ...     418859  127001\n",
              "359389           43287        1  ...     418859  127001\n",
              "359390           43314        1  ...     418859  127001\n",
              "359391           43342        1  ...     418859  127001\n",
              "\n",
              "[359392 rows x 12 columns]"
            ]
          },
          "metadata": {
            "tags": []
          },
          "execution_count": 57
        }
      ]
    },
    {
      "cell_type": "code",
      "metadata": {
        "colab": {
          "base_uri": "https://localhost:8080/",
          "height": 425
        },
        "id": "OZYt8o2Jnfh1",
        "outputId": "fdda0944-a2ee-4ec9-88ba-4b06698432d6"
      },
      "source": [
        "ally['City']= ally['City'].map( {'NEW YORK NY': 0, 'CHICAGO IL': 1, 'LOS ANGELES CA': 2, 'WASHINGTON DC': 3,'BOSTON MA': 4, 'SAN DIEGO CA': 5, 'SILICON VALLEY': 6, 'SEATTLE WA': 7, 'ATLANTA GA': 8, 'DALLAS TX': 9, 'MIAMI FL': 10, 'AUSTIN TX': 11, 'ORANGE COUNTY': 12, 'DENVER CO': 13, 'NASHVILLE TN': 14, 'SACRAMENTO CA': 15, 'PHOENIX AZ': 16, 'TUCSON AZ': 17, 'PITTSBURGH PA': 18})#.astype(int)\n",
        "ally"
      ],
      "execution_count": null,
      "outputs": [
        {
          "output_type": "execute_result",
          "data": {
            "text/html": [
              "<div>\n",
              "<style scoped>\n",
              "    .dataframe tbody tr th:only-of-type {\n",
              "        vertical-align: middle;\n",
              "    }\n",
              "\n",
              "    .dataframe tbody tr th {\n",
              "        vertical-align: top;\n",
              "    }\n",
              "\n",
              "    .dataframe thead th {\n",
              "        text-align: right;\n",
              "    }\n",
              "</style>\n",
              "<table border=\"1\" class=\"dataframe\">\n",
              "  <thead>\n",
              "    <tr style=\"text-align: right;\">\n",
              "      <th></th>\n",
              "      <th>Date of Travel</th>\n",
              "      <th>Company</th>\n",
              "      <th>City</th>\n",
              "      <th>KM Travelled</th>\n",
              "      <th>Price Charged</th>\n",
              "      <th>Cost of Trip</th>\n",
              "      <th>Payment_Mode</th>\n",
              "      <th>Gender</th>\n",
              "      <th>Age</th>\n",
              "      <th>Income (USD/Month)</th>\n",
              "      <th>Population</th>\n",
              "      <th>Users</th>\n",
              "    </tr>\n",
              "  </thead>\n",
              "  <tbody>\n",
              "    <tr>\n",
              "      <th>0</th>\n",
              "      <td>42377</td>\n",
              "      <td>0</td>\n",
              "      <td>8</td>\n",
              "      <td>30.45</td>\n",
              "      <td>370.95</td>\n",
              "      <td>313.6350</td>\n",
              "      <td>0</td>\n",
              "      <td>1</td>\n",
              "      <td>28</td>\n",
              "      <td>10813</td>\n",
              "      <td>814885</td>\n",
              "      <td>24701</td>\n",
              "    </tr>\n",
              "    <tr>\n",
              "      <th>1</th>\n",
              "      <td>43302</td>\n",
              "      <td>1</td>\n",
              "      <td>8</td>\n",
              "      <td>26.19</td>\n",
              "      <td>598.70</td>\n",
              "      <td>317.4228</td>\n",
              "      <td>1</td>\n",
              "      <td>1</td>\n",
              "      <td>28</td>\n",
              "      <td>10813</td>\n",
              "      <td>814885</td>\n",
              "      <td>24701</td>\n",
              "    </tr>\n",
              "    <tr>\n",
              "      <th>2</th>\n",
              "      <td>43427</td>\n",
              "      <td>1</td>\n",
              "      <td>8</td>\n",
              "      <td>42.55</td>\n",
              "      <td>792.05</td>\n",
              "      <td>597.4020</td>\n",
              "      <td>0</td>\n",
              "      <td>1</td>\n",
              "      <td>28</td>\n",
              "      <td>10813</td>\n",
              "      <td>814885</td>\n",
              "      <td>24701</td>\n",
              "    </tr>\n",
              "    <tr>\n",
              "      <th>3</th>\n",
              "      <td>42375</td>\n",
              "      <td>0</td>\n",
              "      <td>8</td>\n",
              "      <td>28.62</td>\n",
              "      <td>358.52</td>\n",
              "      <td>334.8540</td>\n",
              "      <td>0</td>\n",
              "      <td>1</td>\n",
              "      <td>27</td>\n",
              "      <td>9237</td>\n",
              "      <td>814885</td>\n",
              "      <td>24701</td>\n",
              "    </tr>\n",
              "    <tr>\n",
              "      <th>4</th>\n",
              "      <td>43211</td>\n",
              "      <td>1</td>\n",
              "      <td>8</td>\n",
              "      <td>36.38</td>\n",
              "      <td>721.10</td>\n",
              "      <td>467.1192</td>\n",
              "      <td>0</td>\n",
              "      <td>1</td>\n",
              "      <td>27</td>\n",
              "      <td>9237</td>\n",
              "      <td>814885</td>\n",
              "      <td>24701</td>\n",
              "    </tr>\n",
              "    <tr>\n",
              "      <th>...</th>\n",
              "      <td>...</td>\n",
              "      <td>...</td>\n",
              "      <td>...</td>\n",
              "      <td>...</td>\n",
              "      <td>...</td>\n",
              "      <td>...</td>\n",
              "      <td>...</td>\n",
              "      <td>...</td>\n",
              "      <td>...</td>\n",
              "      <td>...</td>\n",
              "      <td>...</td>\n",
              "      <td>...</td>\n",
              "    </tr>\n",
              "    <tr>\n",
              "      <th>359387</th>\n",
              "      <td>43162</td>\n",
              "      <td>1</td>\n",
              "      <td>3</td>\n",
              "      <td>38.40</td>\n",
              "      <td>668.93</td>\n",
              "      <td>525.3120</td>\n",
              "      <td>1</td>\n",
              "      <td>0</td>\n",
              "      <td>29</td>\n",
              "      <td>6829</td>\n",
              "      <td>418859</td>\n",
              "      <td>127001</td>\n",
              "    </tr>\n",
              "    <tr>\n",
              "      <th>359388</th>\n",
              "      <td>43203</td>\n",
              "      <td>1</td>\n",
              "      <td>3</td>\n",
              "      <td>3.57</td>\n",
              "      <td>67.60</td>\n",
              "      <td>44.5536</td>\n",
              "      <td>1</td>\n",
              "      <td>0</td>\n",
              "      <td>29</td>\n",
              "      <td>6829</td>\n",
              "      <td>418859</td>\n",
              "      <td>127001</td>\n",
              "    </tr>\n",
              "    <tr>\n",
              "      <th>359389</th>\n",
              "      <td>43287</td>\n",
              "      <td>1</td>\n",
              "      <td>3</td>\n",
              "      <td>23.46</td>\n",
              "      <td>331.97</td>\n",
              "      <td>337.8240</td>\n",
              "      <td>0</td>\n",
              "      <td>0</td>\n",
              "      <td>29</td>\n",
              "      <td>6829</td>\n",
              "      <td>418859</td>\n",
              "      <td>127001</td>\n",
              "    </tr>\n",
              "    <tr>\n",
              "      <th>359390</th>\n",
              "      <td>43314</td>\n",
              "      <td>1</td>\n",
              "      <td>3</td>\n",
              "      <td>27.60</td>\n",
              "      <td>358.23</td>\n",
              "      <td>364.3200</td>\n",
              "      <td>1</td>\n",
              "      <td>0</td>\n",
              "      <td>29</td>\n",
              "      <td>6829</td>\n",
              "      <td>418859</td>\n",
              "      <td>127001</td>\n",
              "    </tr>\n",
              "    <tr>\n",
              "      <th>359391</th>\n",
              "      <td>43342</td>\n",
              "      <td>1</td>\n",
              "      <td>3</td>\n",
              "      <td>34.24</td>\n",
              "      <td>453.11</td>\n",
              "      <td>427.3152</td>\n",
              "      <td>0</td>\n",
              "      <td>0</td>\n",
              "      <td>29</td>\n",
              "      <td>6829</td>\n",
              "      <td>418859</td>\n",
              "      <td>127001</td>\n",
              "    </tr>\n",
              "  </tbody>\n",
              "</table>\n",
              "<p>359392 rows × 12 columns</p>\n",
              "</div>"
            ],
            "text/plain": [
              "        Date of Travel  Company  City  ...  Income (USD/Month)  Population   Users\n",
              "0                42377        0     8  ...               10813      814885   24701\n",
              "1                43302        1     8  ...               10813      814885   24701\n",
              "2                43427        1     8  ...               10813      814885   24701\n",
              "3                42375        0     8  ...                9237      814885   24701\n",
              "4                43211        1     8  ...                9237      814885   24701\n",
              "...                ...      ...   ...  ...                 ...         ...     ...\n",
              "359387           43162        1     3  ...                6829      418859  127001\n",
              "359388           43203        1     3  ...                6829      418859  127001\n",
              "359389           43287        1     3  ...                6829      418859  127001\n",
              "359390           43314        1     3  ...                6829      418859  127001\n",
              "359391           43342        1     3  ...                6829      418859  127001\n",
              "\n",
              "[359392 rows x 12 columns]"
            ]
          },
          "metadata": {
            "tags": []
          },
          "execution_count": 58
        }
      ]
    },
    {
      "cell_type": "code",
      "metadata": {
        "colab": {
          "base_uri": "https://localhost:8080/",
          "height": 407
        },
        "id": "UFn5WlceoCTe",
        "outputId": "223bc959-fca7-4da9-93c4-ff06685ad8f8"
      },
      "source": [
        "ally = ally.drop(['Age', 'Date of Travel', 'Income (USD/Month)'],axis=1)\n",
        "ally"
      ],
      "execution_count": null,
      "outputs": [
        {
          "output_type": "execute_result",
          "data": {
            "text/html": [
              "<div>\n",
              "<style scoped>\n",
              "    .dataframe tbody tr th:only-of-type {\n",
              "        vertical-align: middle;\n",
              "    }\n",
              "\n",
              "    .dataframe tbody tr th {\n",
              "        vertical-align: top;\n",
              "    }\n",
              "\n",
              "    .dataframe thead th {\n",
              "        text-align: right;\n",
              "    }\n",
              "</style>\n",
              "<table border=\"1\" class=\"dataframe\">\n",
              "  <thead>\n",
              "    <tr style=\"text-align: right;\">\n",
              "      <th></th>\n",
              "      <th>Company</th>\n",
              "      <th>City</th>\n",
              "      <th>KM Travelled</th>\n",
              "      <th>Price Charged</th>\n",
              "      <th>Cost of Trip</th>\n",
              "      <th>Payment_Mode</th>\n",
              "      <th>Gender</th>\n",
              "      <th>Population</th>\n",
              "      <th>Users</th>\n",
              "    </tr>\n",
              "  </thead>\n",
              "  <tbody>\n",
              "    <tr>\n",
              "      <th>0</th>\n",
              "      <td>0</td>\n",
              "      <td>8</td>\n",
              "      <td>30.45</td>\n",
              "      <td>370.95</td>\n",
              "      <td>313.6350</td>\n",
              "      <td>0</td>\n",
              "      <td>1</td>\n",
              "      <td>814885</td>\n",
              "      <td>24701</td>\n",
              "    </tr>\n",
              "    <tr>\n",
              "      <th>1</th>\n",
              "      <td>1</td>\n",
              "      <td>8</td>\n",
              "      <td>26.19</td>\n",
              "      <td>598.70</td>\n",
              "      <td>317.4228</td>\n",
              "      <td>1</td>\n",
              "      <td>1</td>\n",
              "      <td>814885</td>\n",
              "      <td>24701</td>\n",
              "    </tr>\n",
              "    <tr>\n",
              "      <th>2</th>\n",
              "      <td>1</td>\n",
              "      <td>8</td>\n",
              "      <td>42.55</td>\n",
              "      <td>792.05</td>\n",
              "      <td>597.4020</td>\n",
              "      <td>0</td>\n",
              "      <td>1</td>\n",
              "      <td>814885</td>\n",
              "      <td>24701</td>\n",
              "    </tr>\n",
              "    <tr>\n",
              "      <th>3</th>\n",
              "      <td>0</td>\n",
              "      <td>8</td>\n",
              "      <td>28.62</td>\n",
              "      <td>358.52</td>\n",
              "      <td>334.8540</td>\n",
              "      <td>0</td>\n",
              "      <td>1</td>\n",
              "      <td>814885</td>\n",
              "      <td>24701</td>\n",
              "    </tr>\n",
              "    <tr>\n",
              "      <th>4</th>\n",
              "      <td>1</td>\n",
              "      <td>8</td>\n",
              "      <td>36.38</td>\n",
              "      <td>721.10</td>\n",
              "      <td>467.1192</td>\n",
              "      <td>0</td>\n",
              "      <td>1</td>\n",
              "      <td>814885</td>\n",
              "      <td>24701</td>\n",
              "    </tr>\n",
              "    <tr>\n",
              "      <th>...</th>\n",
              "      <td>...</td>\n",
              "      <td>...</td>\n",
              "      <td>...</td>\n",
              "      <td>...</td>\n",
              "      <td>...</td>\n",
              "      <td>...</td>\n",
              "      <td>...</td>\n",
              "      <td>...</td>\n",
              "      <td>...</td>\n",
              "    </tr>\n",
              "    <tr>\n",
              "      <th>359387</th>\n",
              "      <td>1</td>\n",
              "      <td>3</td>\n",
              "      <td>38.40</td>\n",
              "      <td>668.93</td>\n",
              "      <td>525.3120</td>\n",
              "      <td>1</td>\n",
              "      <td>0</td>\n",
              "      <td>418859</td>\n",
              "      <td>127001</td>\n",
              "    </tr>\n",
              "    <tr>\n",
              "      <th>359388</th>\n",
              "      <td>1</td>\n",
              "      <td>3</td>\n",
              "      <td>3.57</td>\n",
              "      <td>67.60</td>\n",
              "      <td>44.5536</td>\n",
              "      <td>1</td>\n",
              "      <td>0</td>\n",
              "      <td>418859</td>\n",
              "      <td>127001</td>\n",
              "    </tr>\n",
              "    <tr>\n",
              "      <th>359389</th>\n",
              "      <td>1</td>\n",
              "      <td>3</td>\n",
              "      <td>23.46</td>\n",
              "      <td>331.97</td>\n",
              "      <td>337.8240</td>\n",
              "      <td>0</td>\n",
              "      <td>0</td>\n",
              "      <td>418859</td>\n",
              "      <td>127001</td>\n",
              "    </tr>\n",
              "    <tr>\n",
              "      <th>359390</th>\n",
              "      <td>1</td>\n",
              "      <td>3</td>\n",
              "      <td>27.60</td>\n",
              "      <td>358.23</td>\n",
              "      <td>364.3200</td>\n",
              "      <td>1</td>\n",
              "      <td>0</td>\n",
              "      <td>418859</td>\n",
              "      <td>127001</td>\n",
              "    </tr>\n",
              "    <tr>\n",
              "      <th>359391</th>\n",
              "      <td>1</td>\n",
              "      <td>3</td>\n",
              "      <td>34.24</td>\n",
              "      <td>453.11</td>\n",
              "      <td>427.3152</td>\n",
              "      <td>0</td>\n",
              "      <td>0</td>\n",
              "      <td>418859</td>\n",
              "      <td>127001</td>\n",
              "    </tr>\n",
              "  </tbody>\n",
              "</table>\n",
              "<p>359392 rows × 9 columns</p>\n",
              "</div>"
            ],
            "text/plain": [
              "        Company  City  KM Travelled  ...  Gender  Population   Users\n",
              "0             0     8         30.45  ...       1      814885   24701\n",
              "1             1     8         26.19  ...       1      814885   24701\n",
              "2             1     8         42.55  ...       1      814885   24701\n",
              "3             0     8         28.62  ...       1      814885   24701\n",
              "4             1     8         36.38  ...       1      814885   24701\n",
              "...         ...   ...           ...  ...     ...         ...     ...\n",
              "359387        1     3         38.40  ...       0      418859  127001\n",
              "359388        1     3          3.57  ...       0      418859  127001\n",
              "359389        1     3         23.46  ...       0      418859  127001\n",
              "359390        1     3         27.60  ...       0      418859  127001\n",
              "359391        1     3         34.24  ...       0      418859  127001\n",
              "\n",
              "[359392 rows x 9 columns]"
            ]
          },
          "metadata": {
            "tags": []
          },
          "execution_count": 59
        }
      ]
    },
    {
      "cell_type": "code",
      "metadata": {
        "id": "EgUaXnif2Xks"
      },
      "source": [
        "X = ally.drop('Company', axis=1)\n",
        "Y = ally.Company"
      ],
      "execution_count": null,
      "outputs": []
    },
    {
      "cell_type": "code",
      "metadata": {
        "colab": {
          "base_uri": "https://localhost:8080/"
        },
        "id": "YK4Ng2uKpPh-",
        "outputId": "42f90c0c-9f0a-4293-d923-8b2f650c270c"
      },
      "source": [
        "print(Y)"
      ],
      "execution_count": null,
      "outputs": [
        {
          "output_type": "stream",
          "text": [
            "0         0\n",
            "1         1\n",
            "2         1\n",
            "3         0\n",
            "4         1\n",
            "         ..\n",
            "359387    1\n",
            "359388    1\n",
            "359389    1\n",
            "359390    1\n",
            "359391    1\n",
            "Name: Company, Length: 359392, dtype: int64\n"
          ],
          "name": "stdout"
        }
      ]
    },
    {
      "cell_type": "code",
      "metadata": {
        "colab": {
          "base_uri": "https://localhost:8080/"
        },
        "id": "wF3BsGKe220C",
        "outputId": "42ab76b6-4dc0-4adf-eb48-0a1c7ff57946"
      },
      "source": [
        "X_train, X_test, Y_train, Y_test = train_test_split(X, Y, test_size=.20)\n",
        "X_val, X_test_test, Y_val, Y_test = train_test_split(X, Y, test_size=.20)\n",
        "print(\"Datos iniciales\\t\\t:\\t{}\\n\\t- X_train\\t:\\t{}\\n\\t- X_test\\t:\\t{}\".format(len(X),len(X_train),len(X_test)))"
      ],
      "execution_count": null,
      "outputs": [
        {
          "output_type": "stream",
          "text": [
            "Datos iniciales\t\t:\t359392\n",
            "\t- X_train\t:\t287513\n",
            "\t- X_test\t:\t71879\n"
          ],
          "name": "stdout"
        }
      ]
    },
    {
      "cell_type": "code",
      "metadata": {
        "id": "WHuvMJ-M2-bT"
      },
      "source": [
        "X_train, X_val, Y_train, Y_val = train_test_split(X_train, Y_train, test_size=len(X_test))"
      ],
      "execution_count": null,
      "outputs": []
    },
    {
      "cell_type": "code",
      "metadata": {
        "colab": {
          "base_uri": "https://localhost:8080/"
        },
        "id": "lwKcRbXh3DFS",
        "outputId": "015e4839-18a6-4cde-eceb-340487e5c3ea"
      },
      "source": [
        "print(\"Datos iniciales\\t\\t:\\t{}\\n\\t- X_train\\t:\\t{}\\n\\t- X_val\\t\\t:\\t{}\\n\\t- X_test\\t:\\t{}\".format(len(X),len(X_train),len(X_val),len(X_test)))"
      ],
      "execution_count": null,
      "outputs": [
        {
          "output_type": "stream",
          "text": [
            "Datos iniciales\t\t:\t359392\n",
            "\t- X_train\t:\t215634\n",
            "\t- X_val\t\t:\t71879\n",
            "\t- X_test\t:\t71879\n"
          ],
          "name": "stdout"
        }
      ]
    },
    {
      "cell_type": "code",
      "metadata": {
        "id": "EDlExFFR3GIo"
      },
      "source": [
        "from sklearn.linear_model import LinearRegression"
      ],
      "execution_count": null,
      "outputs": []
    },
    {
      "cell_type": "code",
      "metadata": {
        "id": "Hd7mkdXR3Jo-"
      },
      "source": [
        "model = LinearRegression().fit(X_train,Y_train)"
      ],
      "execution_count": null,
      "outputs": []
    },
    {
      "cell_type": "code",
      "metadata": {
        "colab": {
          "base_uri": "https://localhost:8080/",
          "height": 268
        },
        "id": "66EnPJ3T5d9A",
        "outputId": "3ae3adc2-f67f-4c5f-d897-cac4d19e9717"
      },
      "source": [
        "Y_predict = model.predict(X_test)\n",
        "plt.plot(np.array(Y_test)[:200],'b')\n",
        "plt.plot(Y_predict[:200],'r')\n",
        "plt.legend(['Original', 'Prediction'])\n",
        "plt.show()"
      ],
      "execution_count": null,
      "outputs": [
        {
          "output_type": "display_data",
          "data": {
            "image/png": "[encoded data removed]",
            "text/plain": [
              "<Figure size 432x288 with 1 Axes>"
            ]
          },
          "metadata": {
            "tags": []
          }
        }
      ]
    },
    {
      "cell_type": "code",
      "metadata": {
        "colab": {
          "base_uri": "https://localhost:8080/"
        },
        "id": "p-63T70z5i2I",
        "outputId": "a5fb2825-d25e-4b45-9d5c-7de2befd86d5"
      },
      "source": [
        "print(\"Bondad del ajuste en Train:\\t{}\".format(model.score(X_train,Y_train)))\n",
        "print(\"Bondad del ajuste en Test:\\t{}\".format(model.score(X_test,Y_test)))"
      ],
      "execution_count": null,
      "outputs": [
        {
          "output_type": "stream",
          "text": [
            "Bondad del ajuste en Train:\t0.5326447676786412\n",
            "Bondad del ajuste en Test:\t-0.5407200843456326\n"
          ],
          "name": "stdout"
        }
      ]
    },
    {
      "cell_type": "markdown",
      "metadata": {
        "id": "KCZRTBuUpcZ7"
      },
      "source": [
        "We can see that linear regression gives us a bad result: it would explain variability in companies in 53.24%  in train data and worst than taking the average of data in test data (-54.36%). We will proceed to make a Lasso regression."
      ]
    },
    {
      "cell_type": "code",
      "metadata": {
        "id": "psKKj3of5pNR"
      },
      "source": [
        "from sklearn.linear_model import Lasso\n",
        "model = Lasso(alpha=1.0).fit(X_train,Y_train)"
      ],
      "execution_count": null,
      "outputs": []
    },
    {
      "cell_type": "code",
      "metadata": {
        "colab": {
          "base_uri": "https://localhost:8080/"
        },
        "id": "iyekvL2m5t9Z",
        "outputId": "b9d3cd73-7f61-4995-ce71-3b8a2689f3ba"
      },
      "source": [
        "print(\"Bondad del ajuste en Train:\\t{}\".format(model.score(X_train,Y_train)))\n",
        "print(\"Bondad del ajuste en Test:\\t{}\".format(model.score(X_test,Y_test)))"
      ],
      "execution_count": null,
      "outputs": [
        {
          "output_type": "stream",
          "text": [
            "Bondad del ajuste en Train:\t0.09705466564178611\n",
            "Bondad del ajuste en Test:\t-0.08817346466803033\n"
          ],
          "name": "stdout"
        }
      ]
    },
    {
      "cell_type": "code",
      "metadata": {
        "id": "_8eeI8RlvoYM"
      },
      "source": [
        "import pandas as pd\n",
        "import numpy as np\n",
        "from sklearn import preprocessing\n",
        "import matplotlib.pyplot as plt \n",
        "plt.rc(\"font\", size=14)\n",
        "from sklearn.linear_model import LogisticRegression\n",
        "from sklearn.model_selection import train_test_split\n",
        "import seaborn as sns\n",
        "sns.set(style=\"white\")\n",
        "sns.set(style=\"whitegrid\", color_codes=True)"
      ],
      "execution_count": null,
      "outputs": []
    },
    {
      "cell_type": "code",
      "metadata": {
        "colab": {
          "base_uri": "https://localhost:8080/"
        },
        "id": "FlUBEcYzwTcn",
        "outputId": "f6c1440c-d5c1-49e7-9e82-abab7424b1ff"
      },
      "source": [
        "X_train, X_test, Y_train, Y_test = train_test_split(X, Y, test_size=.20)\n",
        "X_val, X_test_test, Y_val, Y_test = train_test_split(X, Y, test_size=.20)\n",
        "X_train, X_val, Y_train, Y_val = train_test_split(X_train, Y_train, test_size=len(X_test))\n",
        "print(\"Datos iniciales\\t\\t:\\t{}\\n\\t- X_train\\t:\\t{}\\n\\t- X_test\\t:\\t{}\".format(len(X),len(X_train),len(X_test)))"
      ],
      "execution_count": null,
      "outputs": [
        {
          "output_type": "stream",
          "text": [
            "Datos iniciales\t\t:\t359392\n",
            "\t- X_train\t:\t215634\n",
            "\t- X_test\t:\t71879\n"
          ],
          "name": "stdout"
        }
      ]
    },
    {
      "cell_type": "code",
      "metadata": {
        "colab": {
          "base_uri": "https://localhost:8080/"
        },
        "id": "JpnRZ9b0xVA8",
        "outputId": "58b5c64f-1f1c-45c1-8913-3d9c9645cbdc"
      },
      "source": [
        "from sklearn.linear_model import LogisticRegression\n",
        "classifier = LogisticRegression()\n",
        "classifier.fit(X_train, Y_train)\n",
        "print(\"Bondad del ajuste en Train:\\t{}\".format(model.score(X_train,Y_train)))\n",
        "print(\"Bondad del ajuste en Test:\\t{}\".format(model.score(X_test,Y_test)))"
      ],
      "execution_count": null,
      "outputs": [
        {
          "output_type": "stream",
          "text": [
            "Bondad del ajuste en Train:\t0.09640085912178875\n",
            "Bondad del ajuste en Test:\t-0.08515549419635837\n"
          ],
          "name": "stdout"
        }
      ]
    },
    {
      "cell_type": "markdown",
      "metadata": {
        "id": "GQ-v0CzLpxvj"
      },
      "source": [
        "We can see that Lasso performs even worst, with train data capable of give correct companies in 9.57% of cases and less than average in test data (-8.06%). Logistic Regression give us similar results (9.64% and -8.51%). We will try to fit the data in KNN to check if we have a better results.\n"
      ]
    },
    {
      "cell_type": "code",
      "metadata": {
        "id": "CxogzzC75y5d"
      },
      "source": [
        "from sklearn import neighbors\n",
        "###se utiliza los parámetros default: distancia euclídea y k=5\n",
        "model = neighbors.KNeighborsClassifier().fit(X_train, Y_train)\n",
        "\n",
        "#predicción sobre la partición de test\n",
        "Y_predict = model.predict(X_test)"
      ],
      "execution_count": null,
      "outputs": []
    },
    {
      "cell_type": "code",
      "metadata": {
        "colab": {
          "base_uri": "https://localhost:8080/"
        },
        "id": "xmU24qax6kgZ",
        "outputId": "a7d6b04d-26ea-433b-c3d3-1a6aef112bca"
      },
      "source": [
        "from sklearn.metrics import accuracy_score\n",
        "acc_sklearn = accuracy_score(Y_test, Y_predict)\n",
        "\n",
        "print(\"Acc (sklearn): {}\".format(acc_sklearn))\n",
        "print(\"Bondad del ajuste en Train:\\t{}\".format(model.score(X_train,Y_train)))\n",
        "print(\"Bondad del ajuste en Test:\\t{}\".format(model.score(X_test,Y_test)))"
      ],
      "execution_count": null,
      "outputs": [
        {
          "output_type": "stream",
          "text": [
            "Acc (sklearn): 0.6622240153591452\n",
            "Bondad del ajuste en Train:\t0.9290928146767208\n",
            "Bondad del ajuste en Test:\t0.6622240153591452\n"
          ],
          "name": "stdout"
        }
      ]
    },
    {
      "cell_type": "markdown",
      "metadata": {
        "id": "yNcLWfJWqV1U"
      },
      "source": [
        "KNN model gave us better results, with an accuracy of 66.71% in test. Let´s try Decision Tree Classifier."
      ]
    },
    {
      "cell_type": "code",
      "metadata": {
        "colab": {
          "base_uri": "https://localhost:8080/"
        },
        "id": "n8kAab9c6suk",
        "outputId": "7732012c-28a4-4072-ecfd-1187fec384a8"
      },
      "source": [
        "from sklearn import tree\n",
        "\n",
        "#árbol de decisión importado con parámetros default\n",
        "model = tree.DecisionTreeClassifier().fit(X_train,Y_train)\n",
        "\n",
        "Y_predict = model.predict(X_test)\n",
        "\n",
        "print(\"Bondad del ajuste en Train:\\t{}\".format(model.score(X_train,Y_train)))\n",
        "print(\"Bondad del ajuste en Test:\\t{}\".format(model.score(X_test,Y_test)))"
      ],
      "execution_count": null,
      "outputs": [
        {
          "output_type": "stream",
          "text": [
            "Bondad del ajuste en Train:\t1.0\n",
            "Bondad del ajuste en Test:\t0.6388514030523519\n"
          ],
          "name": "stdout"
        }
      ]
    },
    {
      "cell_type": "markdown",
      "metadata": {
        "id": "zqfyeJRKqiKB"
      },
      "source": [
        "Results of Decision Tree were worst than KNN, with an accuracy of 63.88% regarding test data. As data is two class problem (yellow cab and pink cab) we will apply a SVM to check if it is better than the other models."
      ]
    },
    {
      "cell_type": "code",
      "metadata": {
        "id": "hBfK_Ib16xYY"
      },
      "source": [
        "from sklearn.model_selection import train_test_split\n",
        "import numpy as np\n",
        "import matplotlib.pyplot as plt\n",
        "from sklearn import datasets\n",
        "from sklearn import svm"
      ],
      "execution_count": null,
      "outputs": []
    },
    {
      "cell_type": "code",
      "metadata": {
        "id": "u_HvCO6k60j4"
      },
      "source": [
        "model = svm.SVC().fit(X_train,Y_train)"
      ],
      "execution_count": null,
      "outputs": []
    },
    {
      "cell_type": "code",
      "metadata": {
        "id": "i1LqkSjx63eD"
      },
      "source": [
        "Y_predict = model.predict(X_test)\n",
        "print(\"Acc: {}\".format(accuracy_score(Y_test, Y_predict)))"
      ],
      "execution_count": null,
      "outputs": []
    },
    {
      "cell_type": "code",
      "metadata": {
        "id": "AD41ToMc66Ri"
      },
      "source": [
        "from sklearn.ensemble import RandomForestClassifier\n",
        "model = RandomForestClassifier().fit(X_train,Y_train)\n",
        "Y_predict = model.predict(X_test)\n",
        "print(\"Acc: {}\".format(accuracy_score(Y_test, Y_predict)))"
      ],
      "execution_count": null,
      "outputs": []
    },
    {
      "cell_type": "code",
      "metadata": {
        "id": "2HIxD0l67FuL"
      },
      "source": [
        "import pandas as pd\n",
        "from sklearn.model_selection import train_test_split"
      ],
      "execution_count": null,
      "outputs": []
    },
    {
      "cell_type": "code",
      "metadata": {
        "colab": {
          "base_uri": "https://localhost:8080/"
        },
        "id": "kVB9Eh6v9HaC",
        "outputId": "87dcea6f-734b-481f-82c7-1a8a0df98d7f"
      },
      "source": [
        "X_train, X_test, Y_train, Y_test = train_test_split(X, Y, test_size = 0.25)\n",
        "\n",
        "histogr = {i:list(Y).count(i) for i in set(Y)}\n",
        "print(\"La distribución inicial de clases es: {}\".format(histogr))"
      ],
      "execution_count": null,
      "outputs": [
        {
          "output_type": "stream",
          "text": [
            "La distribución inicial de clases es: {0: 84711, 1: 274681}\n"
          ],
          "name": "stdout"
        }
      ]
    },
    {
      "cell_type": "code",
      "metadata": {
        "id": "0vpvVANo-Nlm"
      },
      "source": [
        "from sklearn.metrics import precision_score,recall_score,f1_score"
      ],
      "execution_count": null,
      "outputs": []
    },
    {
      "cell_type": "code",
      "metadata": {
        "colab": {
          "base_uri": "https://localhost:8080/"
        },
        "id": "-4WRsbdA9YzA",
        "outputId": "351092ae-ef6d-4fb1-9006-147e76c2c0b7"
      },
      "source": [
        "#import cross validation\n",
        "from sklearn.model_selection import cross_val_score\n",
        "\n",
        "#create a classificator which is a decision tree with its default parameters\n",
        "todo_CV = tree.DecisionTreeClassifier()\n",
        "\n",
        "#we cross validate in 10 partitions\n",
        "scores = cross_val_score(todo_CV, X, Y, cv=10)\n",
        "\n",
        "#show the results for each partition\n",
        "print(scores)\n",
        "\n",
        "#we include make_scorer that balances the classes instead of sklearn \n",
        "from sklearn.metrics import make_scorer\n",
        "\n",
        "#we use the same cross validation with k=10 but using the metric F1 under class 0 \n",
        "scores = cross_val_score(todo_CV, X, Y, cv=10, scoring=make_scorer(f1_score, average='weighted'))\n",
        "\n",
        "#we show the results for each partition\n",
        "print(scores)"
      ],
      "execution_count": null,
      "outputs": [
        {
          "output_type": "stream",
          "text": [
            "[0.98266555 0.984335   0.98436239 0.98422327 0.98341634 0.98316592\n",
            " 0.98386154 0.98233117 0.97999388 0.97359415]\n",
            "[0.98269837 0.98455302 0.98403406 0.9846372  0.98332987 0.98305391\n",
            " 0.98337153 0.98234876 0.97953086 0.97366969]\n"
          ],
          "name": "stdout"
        }
      ]
    },
    {
      "cell_type": "code",
      "metadata": {
        "colab": {
          "base_uri": "https://localhost:8080/",
          "height": 1000
        },
        "id": "MvLmqTBh-VcT",
        "outputId": "2be4cad3-396d-40bf-d2f7-a2a65499bda1"
      },
      "source": [
        "#we do the same for randomforest and make a cross validation matrix \n",
        "\n",
        "from sklearn.model_selection import KFold\n",
        "from sklearn.metrics import f1_score\n",
        "from sklearn.metrics import multilabel_confusion_matrix\n",
        "import matplotlib.pyplot as plt\n",
        "\n",
        "kf = KFold(n_splits=10)\n",
        "kf.get_n_splits(X)\n",
        "\n",
        "print(kf)\n",
        "k=0\n",
        "for train_index, test_index in kf.split(X):\n",
        "    #print(\"TRAIN:\", train_index, \"TEST:\", test_index)\n",
        "    X_train, X_test = X.loc[train_index], X.loc[test_index]\n",
        "    y_train, y_test = Y.loc[train_index], Y.loc[test_index]\n",
        "    model = RandomForestClassifier().fit(X_train, y_train)\n",
        "    Y_predict = model.predict(X_test)\n",
        "    print('fold: ',k)\n",
        "    print(\"F1 score: {}\".format(f1_score(y_test, Y_predict,pos_label=1, average='binary')))\n",
        "    print(\"Acc: {}\".format(accuracy_score(y_test, Y_predict)))\n",
        "    fig, (ax1, ax2) = plt.subplots(1, 2)\n",
        "    \n",
        "    ax1.imshow(multilabel_confusion_matrix(y_test, Y_predict)[0], cmap='binary')\n",
        "    ax1.set_title('label: 0')\n",
        "    for i in range(2):\n",
        "        for j in range(2):\n",
        "            text = ax1.text(j, i, multilabel_confusion_matrix(y_test, Y_predict)[0][i, j],\n",
        "                       ha=\"center\", va=\"center\", color=\"g\")\n",
        "    ax2.imshow(multilabel_confusion_matrix(y_test, Y_predict)[1], cmap='binary')\n",
        "    ax2.set_title('label: 1')\n",
        "    for i in range(2):\n",
        "        for j in range(2):\n",
        "            text = ax2.text(j, i, multilabel_confusion_matrix(y_test, Y_predict)[1][i, j],\n",
        "                       ha=\"center\", va=\"center\", color=\"g\")\n",
        "    plt.show()\n",
        "    \n",
        "    TN = multilabel_confusion_matrix(y_test, Y_predict)[1][0,0]\n",
        "    FP = multilabel_confusion_matrix(y_test, Y_predict)[1][0,1]\n",
        "    FN = multilabel_confusion_matrix(y_test, Y_predict)[1][1,0]\n",
        "    TP = multilabel_confusion_matrix(y_test, Y_predict)[1][1,1]\n",
        "    \n",
        "    recall = TP/(TP+FN)\n",
        "    precision = TP/(TP+FP)\n",
        "    \n",
        "    f1_calculado = 2 * (precision * recall) / (precision + recall)\n",
        "    print('F1 calculado', f1_calculado)\n",
        "    \n",
        "    k += 1"
      ],
      "execution_count": null,
      "outputs": [
        {
          "output_type": "stream",
          "text": [
            "KFold(n_splits=10, random_state=None, shuffle=False)\n",
            "fold:  0\n",
            "F1 score: 0.9837435662233094\n",
            "Acc: 0.973372287145242\n"
          ],
          "name": "stdout"
        },
        {
          "output_type": "display_data",
          "data": {
            "image/png": "[encoded data removed]",
            "text/plain": [
              "<Figure size 432x288 with 2 Axes>"
            ]
          },
          "metadata": {
            "tags": [],
            "needs_background": "light"
          }
        },
        {
          "output_type": "stream",
          "text": [
            "F1 calculado 0.9837435662233094\n",
            "fold:  1\n",
            "F1 score: 0.985051221299879\n",
            "Acc: 0.9755982192543128\n"
          ],
          "name": "stdout"
        },
        {
          "output_type": "display_data",
          "data": {
            "image/png": "[encoded data removed]",
            "text/plain": [
              "<Figure size 432x288 with 2 Axes>"
            ]
          },
          "metadata": {
            "tags": [],
            "needs_background": "light"
          }
        },
        {
          "output_type": "stream",
          "text": [
            "F1 calculado 0.985051221299879\n",
            "fold:  2\n",
            "F1 score: 0.985977809543258\n",
            "Acc: 0.9770722613317009\n"
          ],
          "name": "stdout"
        },
        {
          "output_type": "display_data",
          "data": {
            "image/png": "[encoded data removed]",
            "text/plain": [
              "<Figure size 432x288 with 2 Axes>"
            ]
          },
          "metadata": {
            "tags": [],
            "needs_background": "light"
          }
        },
        {
          "output_type": "stream",
          "text": [
            "F1 calculado 0.985977809543258\n",
            "fold:  3\n",
            "F1 score: 0.9863070467770622\n",
            "Acc: 0.977934834024319\n"
          ],
          "name": "stdout"
        },
        {
          "output_type": "display_data",
          "data": {
            "image/png": "[encoded data removed]",
            "text/plain": [
              "<Figure size 432x288 with 2 Axes>"
            ]
          },
          "metadata": {
            "tags": [],
            "needs_background": "light"
          }
        },
        {
          "output_type": "stream",
          "text": [
            "F1 calculado 0.9863070467770622\n",
            "fold:  4\n",
            "F1 score: 0.9849434950385888\n",
            "Acc: 0.9756810150532848\n"
          ],
          "name": "stdout"
        },
        {
          "output_type": "display_data",
          "data": {
            "image/png": "[encoded data removed]",
            "text/plain": [
              "<Figure size 432x288 with 2 Axes>"
            ]
          },
          "metadata": {
            "tags": [],
            "needs_background": "light"
          }
        },
        {
          "output_type": "stream",
          "text": [
            "F1 calculado 0.9849434950385888\n",
            "fold:  5\n",
            "F1 score: 0.9835005302780048\n",
            "Acc: 0.9735941456356604\n"
          ],
          "name": "stdout"
        },
        {
          "output_type": "display_data",
          "data": {
            "image/png": "[encoded data removed]",
            "text/plain": [
              "<Figure size 432x288 with 2 Axes>"
            ]
          },
          "metadata": {
            "tags": [],
            "needs_background": "light"
          }
        },
        {
          "output_type": "stream",
          "text": [
            "F1 calculado 0.9835005302780048\n",
            "fold:  6\n",
            "F1 score: 0.9846054588791914\n",
            "Acc: 0.9760983889368096\n"
          ],
          "name": "stdout"
        },
        {
          "output_type": "display_data",
          "data": {
            "image/png": "[encoded data removed]",
            "text/plain": [
              "<Figure size 432x288 with 2 Axes>"
            ]
          },
          "metadata": {
            "tags": [],
            "needs_background": "light"
          }
        },
        {
          "output_type": "stream",
          "text": [
            "F1 calculado 0.9846054588791914\n",
            "fold:  7\n",
            "F1 score: 0.9817321592850572\n",
            "Acc: 0.9729263474220207\n"
          ],
          "name": "stdout"
        },
        {
          "output_type": "display_data",
          "data": {
            "image/png": "[encoded data removed]",
            "text/plain": [
              "<Figure size 432x288 with 2 Axes>"
            ]
          },
          "metadata": {
            "tags": [],
            "needs_background": "light"
          }
        },
        {
          "output_type": "stream",
          "text": [
            "F1 calculado 0.9817321592850572\n",
            "fold:  8\n",
            "F1 score: 0.9735426718342166\n",
            "Acc: 0.9627702495895823\n"
          ],
          "name": "stdout"
        },
        {
          "output_type": "display_data",
          "data": {
            "image/png": "[encoded data removed]",
            "text/plain": [
              "<Figure size 432x288 with 2 Axes>"
            ]
          },
          "metadata": {
            "tags": [],
            "needs_background": "light"
          }
        },
        {
          "output_type": "stream",
          "text": [
            "F1 calculado 0.9735426718342166\n",
            "fold:  9\n",
            "F1 score: 0.966195794302373\n",
            "Acc: 0.9561200923787528\n"
          ],
          "name": "stdout"
        },
        {
          "output_type": "display_data",
          "data": {
            "image/png": "[encoded data removed]",
            "text/plain": [
              "<Figure size 432x288 with 2 Axes>"
            ]
          },
          "metadata": {
            "tags": [],
            "needs_background": "light"
          }
        },
        {
          "output_type": "stream",
          "text": [
            "F1 calculado 0.966195794302373\n"
          ],
          "name": "stdout"
        }
      ]
    },
    {
      "cell_type": "code",
      "metadata": {
        "colab": {
          "base_uri": "https://localhost:8080/"
        },
        "id": "1jfrb8K_-8te",
        "outputId": "d1206efd-292d-4902-a286-a716c0138b9f"
      },
      "source": [
        "kf = KFold(n_splits=10, shuffle = True)\n",
        "kf.get_n_splits(X)\n",
        "\n",
        "print(kf)\n",
        "k= 1\n",
        "F1 = 0\n",
        "acc = 0\n",
        "for train_index, test_index in kf.split(X):\n",
        "    #print(\"TRAIN:\", train_index, \"TEST:\", test_index)\n",
        "    X_train, X_test = X.loc[train_index], X.loc[test_index]\n",
        "    y_train, y_test = Y.loc[train_index], Y.loc[test_index]\n",
        "    model = neighbors.KNeighborsClassifier().fit(X_train, y_train)\n",
        "    Y_predict = model.predict(X_test)\n",
        "    print('fold: ',k)\n",
        "    print(\"F1 score: {}\".format(f1_score(y_test, Y_predict,pos_label=1, average='binary')))\n",
        "    print(\"Acc: {}\".format(accuracy_score(y_test, Y_predict)))\n",
        "    F1 += f1_score(y_test, Y_predict,pos_label=1, average='binary')\n",
        "    acc += accuracy_score(y_test, Y_predict)\n",
        "\n",
        "    k += 1\n",
        "\n",
        "print('mean F1', F1/k)\n",
        "print('mean Acc', acc/k)"
      ],
      "execution_count": null,
      "outputs": [
        {
          "output_type": "stream",
          "text": [
            "KFold(n_splits=10, random_state=None, shuffle=True)\n",
            "fold:  1\n",
            "F1 score: 0.833344709897611\n",
            "Acc: 0.7282693377851975\n",
            "fold:  2\n",
            "F1 score: 0.8330748120749313\n",
            "Acc: 0.7275180856983862\n",
            "fold:  3\n",
            "F1 score: 0.8317095682494103\n",
            "Acc: 0.7260357828542808\n",
            "fold:  4\n",
            "F1 score: 0.8316997656557364\n",
            "Acc: 0.7262305573332591\n",
            "fold:  5\n",
            "F1 score: 0.8355146557600545\n",
            "Acc: 0.7314338184145357\n",
            "fold:  6\n",
            "F1 score: 0.8360946947699245\n",
            "Acc: 0.7329920142463618\n",
            "fold:  7\n",
            "F1 score: 0.8335896121647017\n",
            "Acc: 0.7289852249645232\n",
            "fold:  8\n",
            "F1 score: 0.8345826235093697\n",
            "Acc: 0.729819972731573\n",
            "fold:  9\n",
            "F1 score: 0.8362473637662426\n",
            "Acc: 0.7321016166281755\n",
            "fold:  10\n",
            "F1 score: 0.8294736842105263\n",
            "Acc: 0.7227802665627869\n",
            "mean F1 0.7577574081871372\n",
            "mean Acc 0.6623787888380982\n"
          ],
          "name": "stdout"
        }
      ]
    },
    {
      "cell_type": "markdown",
      "metadata": {
        "id": "ikMTci_1TwDm"
      },
      "source": [
        "From the analysis above we have scores to predict which company belongs a determined user regarding its characteristics we have mean F1 ranging from 75.77% (knn) to 97.3 in random forest, which provides us a better response. We will proceed to make a k-means analysis to see if there is a clear difference between companies. "
      ]
    },
    {
      "cell_type": "code",
      "metadata": {
        "id": "lvB-31C2IyCu"
      },
      "source": [
        "from sklearn.decomposition import PCA"
      ],
      "execution_count": null,
      "outputs": []
    },
    {
      "cell_type": "code",
      "metadata": {
        "colab": {
          "base_uri": "https://localhost:8080/",
          "height": 318
        },
        "id": "5Y3h-fOmI2Va",
        "outputId": "1629bbc1-c6e9-442c-9997-c064427e31b6"
      },
      "source": [
        "from sklearn.cluster import KMeans\n",
        "\n",
        "cluster_range = range( 1, 10 )\n",
        "cluster_errors = []\n",
        "\n",
        "for num_clusters in cluster_range:\n",
        "  clusters = KMeans( num_clusters,n_init = 10, random_state=2)\n",
        "  clusters.fit(todo)\n",
        "  labels = clusters.labels_\n",
        "  centroids = clusters.cluster_centers_\n",
        "  cluster_errors.append( clusters.inertia_ )\n",
        "clusters_df = pd.DataFrame( { \"num_clusters\":cluster_range, \"cluster_errors\": cluster_errors } )\n",
        "clusters_df[0:10]"
      ],
      "execution_count": null,
      "outputs": [
        {
          "output_type": "execute_result",
          "data": {
            "text/html": [
              "<div>\n",
              "<style scoped>\n",
              "    .dataframe tbody tr th:only-of-type {\n",
              "        vertical-align: middle;\n",
              "    }\n",
              "\n",
              "    .dataframe tbody tr th {\n",
              "        vertical-align: top;\n",
              "    }\n",
              "\n",
              "    .dataframe thead th {\n",
              "        text-align: right;\n",
              "    }\n",
              "</style>\n",
              "<table border=\"1\" class=\"dataframe\">\n",
              "  <thead>\n",
              "    <tr style=\"text-align: right;\">\n",
              "      <th></th>\n",
              "      <th>num_clusters</th>\n",
              "      <th>cluster_errors</th>\n",
              "    </tr>\n",
              "  </thead>\n",
              "  <tbody>\n",
              "    <tr>\n",
              "      <th>0</th>\n",
              "      <td>1</td>\n",
              "      <td>2.289558e+13</td>\n",
              "    </tr>\n",
              "    <tr>\n",
              "      <th>1</th>\n",
              "      <td>2</td>\n",
              "      <td>6.827597e+12</td>\n",
              "    </tr>\n",
              "    <tr>\n",
              "      <th>2</th>\n",
              "      <td>3</td>\n",
              "      <td>3.475301e+12</td>\n",
              "    </tr>\n",
              "    <tr>\n",
              "      <th>3</th>\n",
              "      <td>4</td>\n",
              "      <td>1.939345e+12</td>\n",
              "    </tr>\n",
              "    <tr>\n",
              "      <th>4</th>\n",
              "      <td>5</td>\n",
              "      <td>1.199122e+12</td>\n",
              "    </tr>\n",
              "    <tr>\n",
              "      <th>5</th>\n",
              "      <td>6</td>\n",
              "      <td>8.435694e+11</td>\n",
              "    </tr>\n",
              "    <tr>\n",
              "      <th>6</th>\n",
              "      <td>7</td>\n",
              "      <td>6.492294e+11</td>\n",
              "    </tr>\n",
              "    <tr>\n",
              "      <th>7</th>\n",
              "      <td>8</td>\n",
              "      <td>5.317940e+11</td>\n",
              "    </tr>\n",
              "    <tr>\n",
              "      <th>8</th>\n",
              "      <td>9</td>\n",
              "      <td>4.292571e+11</td>\n",
              "    </tr>\n",
              "  </tbody>\n",
              "</table>\n",
              "</div>"
            ],
            "text/plain": [
              "   num_clusters  cluster_errors\n",
              "0             1    2.289558e+13\n",
              "1             2    6.827597e+12\n",
              "2             3    3.475301e+12\n",
              "3             4    1.939345e+12\n",
              "4             5    1.199122e+12\n",
              "5             6    8.435694e+11\n",
              "6             7    6.492294e+11\n",
              "7             8    5.317940e+11\n",
              "8             9    4.292571e+11"
            ]
          },
          "metadata": {
            "tags": []
          },
          "execution_count": 54
        }
      ]
    },
    {
      "cell_type": "code",
      "metadata": {
        "colab": {
          "base_uri": "https://localhost:8080/",
          "height": 385
        },
        "id": "Uu5tsqFRNmm8",
        "outputId": "a33004ca-7b36-4993-d927-10d63e667ab3"
      },
      "source": [
        "plt.figure(figsize=(12,6))\n",
        "plt.plot( clusters_df.num_clusters, clusters_df.cluster_errors, marker = \"o\" )\n",
        "\n",
        "kmeans = KMeans(n_clusters=4, n_init = 20, random_state=4)\n",
        "kmeans.fit(todo)\n",
        "\n",
        "centroids=kmeans.cluster_centers_\n",
        "\n",
        "\n",
        "# creating a new dataframe only for labels and converting it into categorical variable\n",
        "df_labels = pd.DataFrame(kmeans.labels_ , columns = list(['labels']))\n",
        "\n",
        "df_labels['labels'] = df_labels['labels'].astype('category')"
      ],
      "execution_count": null,
      "outputs": [
        {
          "output_type": "display_data",
          "data": {
            "image/png": "[encoded data removed]",
            "text/plain": [
              "<Figure size 864x432 with 1 Axes>"
            ]
          },
          "metadata": {
            "tags": [],
            "needs_background": "light"
          }
        }
      ]
    },
    {
      "cell_type": "markdown",
      "metadata": {
        "id": "j1BNO_lUUQH6"
      },
      "source": [
        "Ideal number of clusters is 2, thus we will cluster in 2 groups. We can see next if they refer to company 0 and company 1."
      ]
    },
    {
      "cell_type": "code",
      "metadata": {
        "colab": {
          "base_uri": "https://localhost:8080/"
        },
        "id": "DOOH5hniNvWh",
        "outputId": "9870c7dc-de39-4592-9e0f-01663e73c26a"
      },
      "source": [
        "model_clus5 = KMeans(n_clusters = 2, max_iter=50)\n",
        "model_clus5.fit(todo)"
      ],
      "execution_count": null,
      "outputs": [
        {
          "output_type": "execute_result",
          "data": {
            "text/plain": [
              "KMeans(algorithm='auto', copy_x=True, init='k-means++', max_iter=50,\n",
              "       n_clusters=2, n_init=10, n_jobs=None, precompute_distances='auto',\n",
              "       random_state=None, tol=0.0001, verbose=0)"
            ]
          },
          "metadata": {
            "tags": []
          },
          "execution_count": 57
        }
      ]
    },
    {
      "cell_type": "code",
      "metadata": {
        "id": "CxUJZuoLN2Fd"
      },
      "source": [
        "kmeans = KMeans(n_clusters=2,random_state=42)\n",
        "clusters = kmeans.fit_predict(todo)\n",
        "df_k = todo.copy(deep=True)\n",
        "df_k['label'] = clusters"
      ],
      "execution_count": null,
      "outputs": []
    },
    {
      "cell_type": "code",
      "metadata": {
        "colab": {
          "base_uri": "https://localhost:8080/",
          "height": 425
        },
        "id": "oyi2vNQHN8S5",
        "outputId": "38773fbe-0241-4c9d-8a1f-d823dadedb4a"
      },
      "source": [
        "df_k"
      ],
      "execution_count": null,
      "outputs": [
        {
          "output_type": "execute_result",
          "data": {
            "text/html": [
              "<div>\n",
              "<style scoped>\n",
              "    .dataframe tbody tr th:only-of-type {\n",
              "        vertical-align: middle;\n",
              "    }\n",
              "\n",
              "    .dataframe tbody tr th {\n",
              "        vertical-align: top;\n",
              "    }\n",
              "\n",
              "    .dataframe thead th {\n",
              "        text-align: right;\n",
              "    }\n",
              "</style>\n",
              "<table border=\"1\" class=\"dataframe\">\n",
              "  <thead>\n",
              "    <tr style=\"text-align: right;\">\n",
              "      <th></th>\n",
              "      <th>Date of Travel</th>\n",
              "      <th>Company</th>\n",
              "      <th>City</th>\n",
              "      <th>KM Travelled</th>\n",
              "      <th>Price Charged</th>\n",
              "      <th>Cost of Trip</th>\n",
              "      <th>Gender</th>\n",
              "      <th>Age</th>\n",
              "      <th>Income (USD/Month)</th>\n",
              "      <th>label</th>\n",
              "    </tr>\n",
              "  </thead>\n",
              "  <tbody>\n",
              "    <tr>\n",
              "      <th>0</th>\n",
              "      <td>42377</td>\n",
              "      <td>0</td>\n",
              "      <td>8</td>\n",
              "      <td>30.45</td>\n",
              "      <td>370.95</td>\n",
              "      <td>313.6350</td>\n",
              "      <td>1</td>\n",
              "      <td>28</td>\n",
              "      <td>10813</td>\n",
              "      <td>0</td>\n",
              "    </tr>\n",
              "    <tr>\n",
              "      <th>1</th>\n",
              "      <td>43302</td>\n",
              "      <td>1</td>\n",
              "      <td>8</td>\n",
              "      <td>26.19</td>\n",
              "      <td>598.70</td>\n",
              "      <td>317.4228</td>\n",
              "      <td>1</td>\n",
              "      <td>28</td>\n",
              "      <td>10813</td>\n",
              "      <td>0</td>\n",
              "    </tr>\n",
              "    <tr>\n",
              "      <th>2</th>\n",
              "      <td>43427</td>\n",
              "      <td>1</td>\n",
              "      <td>8</td>\n",
              "      <td>42.55</td>\n",
              "      <td>792.05</td>\n",
              "      <td>597.4020</td>\n",
              "      <td>1</td>\n",
              "      <td>28</td>\n",
              "      <td>10813</td>\n",
              "      <td>0</td>\n",
              "    </tr>\n",
              "    <tr>\n",
              "      <th>3</th>\n",
              "      <td>42375</td>\n",
              "      <td>0</td>\n",
              "      <td>8</td>\n",
              "      <td>28.62</td>\n",
              "      <td>358.52</td>\n",
              "      <td>334.8540</td>\n",
              "      <td>1</td>\n",
              "      <td>27</td>\n",
              "      <td>9237</td>\n",
              "      <td>0</td>\n",
              "    </tr>\n",
              "    <tr>\n",
              "      <th>4</th>\n",
              "      <td>43211</td>\n",
              "      <td>1</td>\n",
              "      <td>8</td>\n",
              "      <td>36.38</td>\n",
              "      <td>721.10</td>\n",
              "      <td>467.1192</td>\n",
              "      <td>1</td>\n",
              "      <td>27</td>\n",
              "      <td>9237</td>\n",
              "      <td>0</td>\n",
              "    </tr>\n",
              "    <tr>\n",
              "      <th>...</th>\n",
              "      <td>...</td>\n",
              "      <td>...</td>\n",
              "      <td>...</td>\n",
              "      <td>...</td>\n",
              "      <td>...</td>\n",
              "      <td>...</td>\n",
              "      <td>...</td>\n",
              "      <td>...</td>\n",
              "      <td>...</td>\n",
              "      <td>...</td>\n",
              "    </tr>\n",
              "    <tr>\n",
              "      <th>359387</th>\n",
              "      <td>43107</td>\n",
              "      <td>1</td>\n",
              "      <td>7</td>\n",
              "      <td>16.66</td>\n",
              "      <td>261.18</td>\n",
              "      <td>213.9144</td>\n",
              "      <td>0</td>\n",
              "      <td>42</td>\n",
              "      <td>19417</td>\n",
              "      <td>1</td>\n",
              "    </tr>\n",
              "    <tr>\n",
              "      <th>359388</th>\n",
              "      <td>43103</td>\n",
              "      <td>1</td>\n",
              "      <td>6</td>\n",
              "      <td>13.72</td>\n",
              "      <td>277.97</td>\n",
              "      <td>172.8720</td>\n",
              "      <td>1</td>\n",
              "      <td>33</td>\n",
              "      <td>18713</td>\n",
              "      <td>1</td>\n",
              "    </tr>\n",
              "    <tr>\n",
              "      <th>359389</th>\n",
              "      <td>43104</td>\n",
              "      <td>1</td>\n",
              "      <td>17</td>\n",
              "      <td>19.00</td>\n",
              "      <td>303.77</td>\n",
              "      <td>232.5600</td>\n",
              "      <td>1</td>\n",
              "      <td>38</td>\n",
              "      <td>3960</td>\n",
              "      <td>0</td>\n",
              "    </tr>\n",
              "    <tr>\n",
              "      <th>359390</th>\n",
              "      <td>43106</td>\n",
              "      <td>1</td>\n",
              "      <td>17</td>\n",
              "      <td>5.60</td>\n",
              "      <td>92.42</td>\n",
              "      <td>70.5600</td>\n",
              "      <td>1</td>\n",
              "      <td>23</td>\n",
              "      <td>19454</td>\n",
              "      <td>1</td>\n",
              "    </tr>\n",
              "    <tr>\n",
              "      <th>359391</th>\n",
              "      <td>43104</td>\n",
              "      <td>1</td>\n",
              "      <td>17</td>\n",
              "      <td>13.30</td>\n",
              "      <td>244.65</td>\n",
              "      <td>180.3480</td>\n",
              "      <td>0</td>\n",
              "      <td>32</td>\n",
              "      <td>10128</td>\n",
              "      <td>0</td>\n",
              "    </tr>\n",
              "  </tbody>\n",
              "</table>\n",
              "<p>359392 rows × 10 columns</p>\n",
              "</div>"
            ],
            "text/plain": [
              "        Date of Travel  Company  City  ...  Age  Income (USD/Month)  label\n",
              "0                42377        0     8  ...   28               10813      0\n",
              "1                43302        1     8  ...   28               10813      0\n",
              "2                43427        1     8  ...   28               10813      0\n",
              "3                42375        0     8  ...   27                9237      0\n",
              "4                43211        1     8  ...   27                9237      0\n",
              "...                ...      ...   ...  ...  ...                 ...    ...\n",
              "359387           43107        1     7  ...   42               19417      1\n",
              "359388           43103        1     6  ...   33               18713      1\n",
              "359389           43104        1    17  ...   38                3960      0\n",
              "359390           43106        1    17  ...   23               19454      1\n",
              "359391           43104        1    17  ...   32               10128      0\n",
              "\n",
              "[359392 rows x 10 columns]"
            ]
          },
          "metadata": {
            "tags": []
          },
          "execution_count": 59
        }
      ]
    },
    {
      "cell_type": "code",
      "metadata": {
        "colab": {
          "base_uri": "https://localhost:8080/"
        },
        "id": "k-fmLnH6OAC0",
        "outputId": "23a2a140-b203-4f66-d4fd-76ccbf915aed"
      },
      "source": [
        " df_k[df_k.loc[:,'label']==0].mean()"
      ],
      "execution_count": null,
      "outputs": [
        {
          "output_type": "execute_result",
          "data": {
            "text/plain": [
              "Date of Travel        42964.368371\n",
              "Company                   0.764613\n",
              "City                      3.150859\n",
              "KM Travelled             22.572440\n",
              "Price Charged           421.925214\n",
              "Cost of Trip            286.278816\n",
              "Gender                    0.572896\n",
              "Age                      35.247821\n",
              "Income (USD/Month)     8731.114989\n",
              "label                     0.000000\n",
              "dtype: float64"
            ]
          },
          "metadata": {
            "tags": []
          },
          "execution_count": 60
        }
      ]
    },
    {
      "cell_type": "code",
      "metadata": {
        "colab": {
          "base_uri": "https://localhost:8080/"
        },
        "id": "TzvO4zyaOFFq",
        "outputId": "e5bb4151-1fc2-4786-f279-d62630e598fa"
      },
      "source": [
        " df_k[df_k.loc[:,'label']==1].mean()"
      ],
      "execution_count": null,
      "outputs": [
        {
          "output_type": "execute_result",
          "data": {
            "text/plain": [
              "Date of Travel        42963.731537\n",
              "Company                   0.763936\n",
              "City                      3.070944\n",
              "KM Travelled             22.561445\n",
              "Price Charged           425.143799\n",
              "Cost of Trip            286.090752\n",
              "Gender                    0.573000\n",
              "Age                      35.436267\n",
              "Income (USD/Month)    22125.566712\n",
              "label                     1.000000\n",
              "dtype: float64"
            ]
          },
          "metadata": {
            "tags": []
          },
          "execution_count": 61
        }
      ]
    },
    {
      "cell_type": "code",
      "metadata": {
        "id": "QEKKI7z2OIMY"
      },
      "source": [
        "import pandas as pd\n",
        "import matplotlib.pyplot as plt\n",
        "from sklearn.decomposition import PCA\n",
        "from sklearn.preprocessing import StandardScaler\n",
        "from sklearn.cluster import KMeans\n",
        "import numpy as np"
      ],
      "execution_count": null,
      "outputs": []
    },
    {
      "cell_type": "code",
      "metadata": {
        "id": "B3VuXkPUOUQ3"
      },
      "source": [
        "def reduce_data(data):\n",
        "    scaler = StandardScaler()\n",
        "    scaler.fit(data)\n",
        "    X = scaler.transform(data)\n",
        "    pca = PCA(n_components=2)\n",
        "    X = pca.fit_transform(X)\n",
        "    return X, pca"
      ],
      "execution_count": null,
      "outputs": []
    },
    {
      "cell_type": "code",
      "metadata": {
        "id": "5fYZ-YzQOXoE"
      },
      "source": [
        "def get_kmeans(data):\n",
        "    kmeans = KMeans(n_clusters=2)\n",
        "    kmeans.fit(data)\n",
        "    centroids = kmeans.cluster_centers_\n",
        "    labels = kmeans.labels_\n",
        "    \n",
        "    return centroids, labels"
      ],
      "execution_count": null,
      "outputs": []
    },
    {
      "cell_type": "code",
      "metadata": {
        "id": "VmHvrPhUOcJq"
      },
      "source": [
        "def biplot(data, directions, labels, country_names, centroids, var_names):\n",
        "    xs = data[:,0]\n",
        "    ys = data[:,1]\n",
        "    \n",
        "    scalex = 1.0/(xs.max() - xs.min())\n",
        "    scaley = 1.0/(ys.max() - ys.min())\n",
        "    \n",
        "    plt.tight_layout()  \n",
        "    "
      ],
      "execution_count": null,
      "outputs": []
    },
    {
      "cell_type": "code",
      "metadata": {
        "id": "NwJOQCDKOfjD"
      },
      "source": [
        "def biplot(data, directions, labels, country_names, centroids, var_names):\n",
        "    xs = data[:,0]\n",
        "    ys = data[:,1]\n",
        "    \n",
        "    scalex = 1.0/(xs.max() - xs.min())\n",
        "    scaley = 1.0/(ys.max() - ys.min())\n",
        "    \n",
        "    plt.tight_layout()  \n",
        "    \n",
        "    # plot country points\n",
        "    plt.scatter(xs * scalex,ys * scaley, c = labels, s=200)\n",
        "    # plot centroids \n",
        "    plt.scatter(centroids[:, 0] * scalex, centroids[:, 1] * scaley, c='r', marker='x', s=500)\n",
        "    \n",
        "    # print country names \n",
        "    for i in range(len(Company_names)):\n",
        "        plt.text(xs[i] * scalex, ys[i] * scaley + 0.01, Company_names[i], color = 'black', fontsize=12)\n",
        "    \n",
        "    # draw variable directions\n",
        "    for i in range(directions.shape[0]):\n",
        "        if i != 1:\n",
        "            plt.arrow(0, 0, directions[i,0] * 0.3, directions[i,1] * 0.3, color = 'r',alpha = 0.5)\n",
        "            plt.text(directions[i,0]* 0.35, directions[i,1] * 0.35, var_names[i], color = 'g', fontsize=10, ha = 'center', va = 'center')"
      ],
      "execution_count": null,
      "outputs": []
    },
    {
      "cell_type": "code",
      "metadata": {
        "id": "YmNqba8qOmPb"
      },
      "source": [
        "def biplot(data, directions, labels, country_names, centroids, var_names):\n",
        " xs = data[:,0]\n",
        " ys = data[:,1]\n",
        "    \n",
        " scalex = 1.0/(xs.max() - xs.min())\n",
        " scaley = 1.0/(ys.max() - ys.min())\n",
        "\n",
        " plt.tight_layout()  \n",
        " plt.scatter(xs * scalex, ys * scaley, c = labels, s=200)\n",
        " plt.scatter(centroids[:, 0] * scalex, centroids[:, 1] * scaley, c='r', marker='x', s=500)\n",
        " for i in range(len(todo_names)):\n",
        "  plt.text(xs[i] * scalex, ys[i] * scaley + 0.01, todo_names[i], \n",
        "          color = 'black', fontsize=12)\n",
        " for i in range(directions.shape[0]):\n",
        "  if i != 1:\n",
        "   plt.arrow(0, 0, directions[i,0] * 0.3, directions[i,1] * 0.3, \n",
        "            color = 'r', alpha = 0.5)\n",
        "   plt.text(directions[i,0]* 0.35, directions[i,1] * 0.35, var_names[i], color = 'g', fontsize=10, ha = 'center', va = 'center')"
      ],
      "execution_count": null,
      "outputs": []
    },
    {
      "cell_type": "code",
      "metadata": {
        "id": "xyClUu7dPBDC"
      },
      "source": [
        "import tensorflow as tf"
      ],
      "execution_count": null,
      "outputs": []
    },
    {
      "cell_type": "code",
      "metadata": {
        "id": "rPH7xjpNPPjh"
      },
      "source": [
        "#Importamos el método:\n",
        "from sklearn.cluster import KMeans\n",
        "\n",
        "#Inicializamos el algoritmo pasando los parámetros especificados:\n",
        "kmeans = KMeans(n_clusters=2, init='random')\n",
        "\n",
        "#Realizamos el proceso de clustering sobre los datos X_clust:\n",
        "clustering = kmeans.fit(X)"
      ],
      "execution_count": null,
      "outputs": []
    },
    {
      "cell_type": "code",
      "metadata": {
        "colab": {
          "base_uri": "https://localhost:8080/"
        },
        "id": "gf7wymirPYfj",
        "outputId": "776be8a4-d09c-4baa-d217-67f744f10dbd"
      },
      "source": [
        "#Comprobamos que únicamente hay tantos clusters como se ha especificado:\n",
        "print(\"El número de clusters diferentes es: {}\\n\".format(clustering.n_clusters))\n",
        "\n",
        "#Por otro lado vamos a comprobar las asignaciones de los 10 primeros elementos:\n",
        "print(\"Assignments of the first 10 elements:\")\n",
        "for it_sample in range(10):\n",
        "  print(\"\\t- Element {} from X_test is assigned to cluster {}\".format(it_sample,clustering.labels_[it_sample]))"
      ],
      "execution_count": null,
      "outputs": [
        {
          "output_type": "stream",
          "text": [
            "El número de clusters diferentes es: 2\n",
            "\n",
            "Assignments of the first 10 elements:\n",
            "\t- Element 0 from X_test is assigned to cluster 1\n",
            "\t- Element 1 from X_test is assigned to cluster 1\n",
            "\t- Element 2 from X_test is assigned to cluster 1\n",
            "\t- Element 3 from X_test is assigned to cluster 1\n",
            "\t- Element 4 from X_test is assigned to cluster 1\n",
            "\t- Element 5 from X_test is assigned to cluster 1\n",
            "\t- Element 6 from X_test is assigned to cluster 1\n",
            "\t- Element 7 from X_test is assigned to cluster 1\n",
            "\t- Element 8 from X_test is assigned to cluster 1\n",
            "\t- Element 9 from X_test is assigned to cluster 1\n"
          ],
          "name": "stdout"
        }
      ]
    },
    {
      "cell_type": "code",
      "metadata": {
        "id": "QpHnjoJoPjna"
      },
      "source": [
        "#Inicializamos PCA a una salida de 2 dimensiones:\n",
        "PCA_Mapping = PCA(n_components=2).fit(X)\n",
        "\n",
        "#Mapeamos los datos:\n",
        "X_clust_PCA = PCA_Mapping.transform(X)"
      ],
      "execution_count": null,
      "outputs": []
    },
    {
      "cell_type": "code",
      "metadata": {
        "id": "l1xeoeCZPwGs"
      },
      "source": [
        "#Inicializamos el algoritmo (5 clusters) y realizamos el clustering:\n",
        "clustering_PCA = KMeans(n_clusters = 2, init='k-means++').fit(X_clust_PCA)"
      ],
      "execution_count": null,
      "outputs": []
    },
    {
      "cell_type": "code",
      "metadata": {
        "colab": {
          "base_uri": "https://localhost:8080/",
          "height": 265
        },
        "id": "LfnHgXSGPy68",
        "outputId": "e9a1bb1c-857b-44f8-e591-3ce18a93b51e"
      },
      "source": [
        "#Importamos la librería gráfica:\n",
        "import matplotlib.pyplot as plt\n",
        "\n",
        "#Vector de colores:\n",
        "colors = ['blue','red']\n",
        "\n",
        "# #Mostramos los datos en crudo:\n",
        "# plt.subplot(2,1,1)\n",
        "# plt.scatter(X_clust_PCA[:100,0], X_clust_PCA[:100,1])\n",
        "# plt.subplot(2,1,2)\n",
        "\n",
        "#Mostramos los datos, siendo el color lo que representa su pertenencia a cada cluster:\n",
        "plt.scatter(X_clust_PCA[:100,0], X_clust_PCA[:100,1], c=[colors[u] for u in clustering_PCA.labels_[:100]])\n",
        "\n",
        "#Mostramos los centroides de cada uno de los clusters:\n",
        "plt.scatter(clustering_PCA.cluster_centers_[:,0], clustering_PCA.cluster_centers_[:,1], c=colors, marker='x', s=1000)\n",
        "\n",
        "\n",
        "plt.show()"
      ],
      "execution_count": null,
      "outputs": [
        {
          "output_type": "display_data",
          "data": {
            "image/png": "[encoded data removed]",
            "text/plain": [
              "<Figure size 432x288 with 1 Axes>"
            ]
          },
          "metadata": {
            "tags": [],
            "needs_background": "light"
          }
        }
      ]
    },
    {
      "cell_type": "markdown",
      "metadata": {
        "id": "FpkbqZRvUiUu"
      },
      "source": [
        "We can see they can be grouped in two clearly different group but this is not due they are part of two companies (yellow cab and pink cab) but because of income, which is very different from group 0 to group 1. Other indicators are very similar. "
      ]
    },
    {
      "cell_type": "markdown",
      "metadata": {
        "id": "JXEnX3RuWlEj"
      },
      "source": [
        "Regarding costs, we can see that the cost per km for the pink company is 1.10 USD whilst profit is 0.27 USD per km. Regarding yellow company cost per km is 1.32 USD whilst benefit per km is 0.71 USD."
      ]
    },
    {
      "cell_type": "code",
      "metadata": {
        "colab": {
          "base_uri": "https://localhost:8080/"
        },
        "id": "Elyxs-EAZ1un",
        "outputId": "e5bacf78-20c8-4eb2-abf8-2888f954e089"
      },
      "source": [
        "% pip install pulp            # PuLP\n",
        "% pip install glpk-utils  # GLPK"
      ],
      "execution_count": null,
      "outputs": [
        {
          "output_type": "stream",
          "text": [
            "Requirement already satisfied: pulp in /usr/local/lib/python3.7/dist-packages (2.4)\n",
            "Requirement already satisfied: amply>=0.1.2 in /usr/local/lib/python3.7/dist-packages (from pulp) (0.1.4)\n",
            "Requirement already satisfied: docutils>=0.3 in /usr/local/lib/python3.7/dist-packages (from amply>=0.1.2->pulp) (0.16)\n",
            "Requirement already satisfied: pyparsing in /usr/local/lib/python3.7/dist-packages (from amply>=0.1.2->pulp) (2.4.7)\n",
            "\u001b[31mERROR: Could not find a version that satisfies the requirement glpk-utils (from versions: none)\u001b[0m\n",
            "\u001b[31mERROR: No matching distribution found for glpk-utils\u001b[0m\n"
          ],
          "name": "stdout"
        }
      ]
    },
    {
      "cell_type": "code",
      "metadata": {
        "id": "iNQf5Rm0Z6a9"
      },
      "source": [
        "from pulp import *"
      ],
      "execution_count": null,
      "outputs": []
    },
    {
      "cell_type": "code",
      "metadata": {
        "id": "NbDX5LcXaGLS"
      },
      "source": [
        "import pandas as pd \n",
        "import numpy as np"
      ],
      "execution_count": null,
      "outputs": []
    },
    {
      "cell_type": "code",
      "metadata": {
        "id": "lTfMLyxlaJfe"
      },
      "source": [
        "prob = LpProblem('Simple_Problem', LpMinimize)"
      ],
      "execution_count": null,
      "outputs": []
    },
    {
      "cell_type": "code",
      "metadata": {
        "id": "muGPitOPaNWc"
      },
      "source": [
        "datacab = pd.read_csv('/content/Cab_Data.csv', header=0)\n",
        "datacustomer = pd.read_csv('/content/Customer_ID.csv', header=0)\n",
        "datacity = pd.read_csv('/content/City.csv', header=0)\n",
        "datatransaction = pd.read_csv('/content/Transaction_ID.csv', header=0)"
      ],
      "execution_count": null,
      "outputs": []
    },
    {
      "cell_type": "code",
      "metadata": {
        "colab": {
          "base_uri": "https://localhost:8080/",
          "height": 407
        },
        "id": "eC1PClP1aodT",
        "outputId": "efc3c7c9-2454-4d58-e1ba-b86e5b6d55f6"
      },
      "source": [
        "transactions = pd.merge(datacab, datatransaction, on='Transaction ID')\n",
        "transactions"
      ],
      "execution_count": null,
      "outputs": [
        {
          "output_type": "execute_result",
          "data": {
            "text/html": [
              "<div>\n",
              "<style scoped>\n",
              "    .dataframe tbody tr th:only-of-type {\n",
              "        vertical-align: middle;\n",
              "    }\n",
              "\n",
              "    .dataframe tbody tr th {\n",
              "        vertical-align: top;\n",
              "    }\n",
              "\n",
              "    .dataframe thead th {\n",
              "        text-align: right;\n",
              "    }\n",
              "</style>\n",
              "<table border=\"1\" class=\"dataframe\">\n",
              "  <thead>\n",
              "    <tr style=\"text-align: right;\">\n",
              "      <th></th>\n",
              "      <th>Transaction ID</th>\n",
              "      <th>Date of Travel</th>\n",
              "      <th>Company</th>\n",
              "      <th>City</th>\n",
              "      <th>KM Travelled</th>\n",
              "      <th>Price Charged</th>\n",
              "      <th>Cost of Trip</th>\n",
              "      <th>Customer ID</th>\n",
              "      <th>Payment_Mode</th>\n",
              "    </tr>\n",
              "  </thead>\n",
              "  <tbody>\n",
              "    <tr>\n",
              "      <th>0</th>\n",
              "      <td>10000011</td>\n",
              "      <td>42377</td>\n",
              "      <td>Pink Cab</td>\n",
              "      <td>ATLANTA GA</td>\n",
              "      <td>30.45</td>\n",
              "      <td>370.95</td>\n",
              "      <td>313.6350</td>\n",
              "      <td>29290</td>\n",
              "      <td>Card</td>\n",
              "    </tr>\n",
              "    <tr>\n",
              "      <th>1</th>\n",
              "      <td>10000012</td>\n",
              "      <td>42375</td>\n",
              "      <td>Pink Cab</td>\n",
              "      <td>ATLANTA GA</td>\n",
              "      <td>28.62</td>\n",
              "      <td>358.52</td>\n",
              "      <td>334.8540</td>\n",
              "      <td>27703</td>\n",
              "      <td>Card</td>\n",
              "    </tr>\n",
              "    <tr>\n",
              "      <th>2</th>\n",
              "      <td>10000013</td>\n",
              "      <td>42371</td>\n",
              "      <td>Pink Cab</td>\n",
              "      <td>ATLANTA GA</td>\n",
              "      <td>9.04</td>\n",
              "      <td>125.20</td>\n",
              "      <td>97.6320</td>\n",
              "      <td>28712</td>\n",
              "      <td>Cash</td>\n",
              "    </tr>\n",
              "    <tr>\n",
              "      <th>3</th>\n",
              "      <td>10000014</td>\n",
              "      <td>42376</td>\n",
              "      <td>Pink Cab</td>\n",
              "      <td>ATLANTA GA</td>\n",
              "      <td>33.17</td>\n",
              "      <td>377.40</td>\n",
              "      <td>351.6020</td>\n",
              "      <td>28020</td>\n",
              "      <td>Cash</td>\n",
              "    </tr>\n",
              "    <tr>\n",
              "      <th>4</th>\n",
              "      <td>10000015</td>\n",
              "      <td>42372</td>\n",
              "      <td>Pink Cab</td>\n",
              "      <td>ATLANTA GA</td>\n",
              "      <td>8.73</td>\n",
              "      <td>114.62</td>\n",
              "      <td>97.7760</td>\n",
              "      <td>27182</td>\n",
              "      <td>Card</td>\n",
              "    </tr>\n",
              "    <tr>\n",
              "      <th>...</th>\n",
              "      <td>...</td>\n",
              "      <td>...</td>\n",
              "      <td>...</td>\n",
              "      <td>...</td>\n",
              "      <td>...</td>\n",
              "      <td>...</td>\n",
              "      <td>...</td>\n",
              "      <td>...</td>\n",
              "      <td>...</td>\n",
              "    </tr>\n",
              "    <tr>\n",
              "      <th>359387</th>\n",
              "      <td>10440101</td>\n",
              "      <td>43108</td>\n",
              "      <td>Yellow Cab</td>\n",
              "      <td>WASHINGTON DC</td>\n",
              "      <td>4.80</td>\n",
              "      <td>69.24</td>\n",
              "      <td>63.3600</td>\n",
              "      <td>52392</td>\n",
              "      <td>Cash</td>\n",
              "    </tr>\n",
              "    <tr>\n",
              "      <th>359388</th>\n",
              "      <td>10440104</td>\n",
              "      <td>43104</td>\n",
              "      <td>Yellow Cab</td>\n",
              "      <td>WASHINGTON DC</td>\n",
              "      <td>8.40</td>\n",
              "      <td>113.75</td>\n",
              "      <td>106.8480</td>\n",
              "      <td>53286</td>\n",
              "      <td>Cash</td>\n",
              "    </tr>\n",
              "    <tr>\n",
              "      <th>359389</th>\n",
              "      <td>10440105</td>\n",
              "      <td>43105</td>\n",
              "      <td>Yellow Cab</td>\n",
              "      <td>WASHINGTON DC</td>\n",
              "      <td>27.75</td>\n",
              "      <td>437.07</td>\n",
              "      <td>349.6500</td>\n",
              "      <td>52265</td>\n",
              "      <td>Cash</td>\n",
              "    </tr>\n",
              "    <tr>\n",
              "      <th>359390</th>\n",
              "      <td>10440106</td>\n",
              "      <td>43105</td>\n",
              "      <td>Yellow Cab</td>\n",
              "      <td>WASHINGTON DC</td>\n",
              "      <td>8.80</td>\n",
              "      <td>146.19</td>\n",
              "      <td>114.0480</td>\n",
              "      <td>52175</td>\n",
              "      <td>Card</td>\n",
              "    </tr>\n",
              "    <tr>\n",
              "      <th>359391</th>\n",
              "      <td>10440107</td>\n",
              "      <td>43102</td>\n",
              "      <td>Yellow Cab</td>\n",
              "      <td>WASHINGTON DC</td>\n",
              "      <td>12.76</td>\n",
              "      <td>191.58</td>\n",
              "      <td>177.6192</td>\n",
              "      <td>52917</td>\n",
              "      <td>Card</td>\n",
              "    </tr>\n",
              "  </tbody>\n",
              "</table>\n",
              "<p>359392 rows × 9 columns</p>\n",
              "</div>"
            ],
            "text/plain": [
              "        Transaction ID  Date of Travel  ... Customer ID Payment_Mode\n",
              "0             10000011           42377  ...       29290         Card\n",
              "1             10000012           42375  ...       27703         Card\n",
              "2             10000013           42371  ...       28712         Cash\n",
              "3             10000014           42376  ...       28020         Cash\n",
              "4             10000015           42372  ...       27182         Card\n",
              "...                ...             ...  ...         ...          ...\n",
              "359387        10440101           43108  ...       52392         Cash\n",
              "359388        10440104           43104  ...       53286         Cash\n",
              "359389        10440105           43105  ...       52265         Cash\n",
              "359390        10440106           43105  ...       52175         Card\n",
              "359391        10440107           43102  ...       52917         Card\n",
              "\n",
              "[359392 rows x 9 columns]"
            ]
          },
          "metadata": {
            "tags": []
          },
          "execution_count": 106
        }
      ]
    },
    {
      "cell_type": "code",
      "metadata": {
        "colab": {
          "base_uri": "https://localhost:8080/",
          "height": 563
        },
        "id": "TCjgGwb3a2T4",
        "outputId": "be610e3a-074d-455e-fd1c-98a6de549fcf"
      },
      "source": [
        "new = pd.merge(transactions, datacustomer, on='Customer ID')\n",
        "new"
      ],
      "execution_count": null,
      "outputs": [
        {
          "output_type": "execute_result",
          "data": {
            "text/html": [
              "<div>\n",
              "<style scoped>\n",
              "    .dataframe tbody tr th:only-of-type {\n",
              "        vertical-align: middle;\n",
              "    }\n",
              "\n",
              "    .dataframe tbody tr th {\n",
              "        vertical-align: top;\n",
              "    }\n",
              "\n",
              "    .dataframe thead th {\n",
              "        text-align: right;\n",
              "    }\n",
              "</style>\n",
              "<table border=\"1\" class=\"dataframe\">\n",
              "  <thead>\n",
              "    <tr style=\"text-align: right;\">\n",
              "      <th></th>\n",
              "      <th>Transaction ID</th>\n",
              "      <th>Date of Travel</th>\n",
              "      <th>Company</th>\n",
              "      <th>City</th>\n",
              "      <th>KM Travelled</th>\n",
              "      <th>Price Charged</th>\n",
              "      <th>Cost of Trip</th>\n",
              "      <th>Customer ID</th>\n",
              "      <th>Payment_Mode</th>\n",
              "      <th>Gender</th>\n",
              "      <th>Age</th>\n",
              "      <th>Income (USD/Month)</th>\n",
              "    </tr>\n",
              "  </thead>\n",
              "  <tbody>\n",
              "    <tr>\n",
              "      <th>0</th>\n",
              "      <td>10000011</td>\n",
              "      <td>42377</td>\n",
              "      <td>Pink Cab</td>\n",
              "      <td>ATLANTA GA</td>\n",
              "      <td>30.45</td>\n",
              "      <td>370.95</td>\n",
              "      <td>313.6350</td>\n",
              "      <td>29290</td>\n",
              "      <td>Card</td>\n",
              "      <td>Male</td>\n",
              "      <td>28</td>\n",
              "      <td>10813</td>\n",
              "    </tr>\n",
              "    <tr>\n",
              "      <th>1</th>\n",
              "      <td>10351127</td>\n",
              "      <td>43302</td>\n",
              "      <td>Yellow Cab</td>\n",
              "      <td>ATLANTA GA</td>\n",
              "      <td>26.19</td>\n",
              "      <td>598.70</td>\n",
              "      <td>317.4228</td>\n",
              "      <td>29290</td>\n",
              "      <td>Cash</td>\n",
              "      <td>Male</td>\n",
              "      <td>28</td>\n",
              "      <td>10813</td>\n",
              "    </tr>\n",
              "    <tr>\n",
              "      <th>2</th>\n",
              "      <td>10412921</td>\n",
              "      <td>43427</td>\n",
              "      <td>Yellow Cab</td>\n",
              "      <td>ATLANTA GA</td>\n",
              "      <td>42.55</td>\n",
              "      <td>792.05</td>\n",
              "      <td>597.4020</td>\n",
              "      <td>29290</td>\n",
              "      <td>Card</td>\n",
              "      <td>Male</td>\n",
              "      <td>28</td>\n",
              "      <td>10813</td>\n",
              "    </tr>\n",
              "    <tr>\n",
              "      <th>3</th>\n",
              "      <td>10000012</td>\n",
              "      <td>42375</td>\n",
              "      <td>Pink Cab</td>\n",
              "      <td>ATLANTA GA</td>\n",
              "      <td>28.62</td>\n",
              "      <td>358.52</td>\n",
              "      <td>334.8540</td>\n",
              "      <td>27703</td>\n",
              "      <td>Card</td>\n",
              "      <td>Male</td>\n",
              "      <td>27</td>\n",
              "      <td>9237</td>\n",
              "    </tr>\n",
              "    <tr>\n",
              "      <th>4</th>\n",
              "      <td>10320494</td>\n",
              "      <td>43211</td>\n",
              "      <td>Yellow Cab</td>\n",
              "      <td>ATLANTA GA</td>\n",
              "      <td>36.38</td>\n",
              "      <td>721.10</td>\n",
              "      <td>467.1192</td>\n",
              "      <td>27703</td>\n",
              "      <td>Card</td>\n",
              "      <td>Male</td>\n",
              "      <td>27</td>\n",
              "      <td>9237</td>\n",
              "    </tr>\n",
              "    <tr>\n",
              "      <th>...</th>\n",
              "      <td>...</td>\n",
              "      <td>...</td>\n",
              "      <td>...</td>\n",
              "      <td>...</td>\n",
              "      <td>...</td>\n",
              "      <td>...</td>\n",
              "      <td>...</td>\n",
              "      <td>...</td>\n",
              "      <td>...</td>\n",
              "      <td>...</td>\n",
              "      <td>...</td>\n",
              "      <td>...</td>\n",
              "    </tr>\n",
              "    <tr>\n",
              "      <th>359387</th>\n",
              "      <td>10439790</td>\n",
              "      <td>43107</td>\n",
              "      <td>Yellow Cab</td>\n",
              "      <td>SEATTLE WA</td>\n",
              "      <td>16.66</td>\n",
              "      <td>261.18</td>\n",
              "      <td>213.9144</td>\n",
              "      <td>38520</td>\n",
              "      <td>Card</td>\n",
              "      <td>Female</td>\n",
              "      <td>42</td>\n",
              "      <td>19417</td>\n",
              "    </tr>\n",
              "    <tr>\n",
              "      <th>359388</th>\n",
              "      <td>10439799</td>\n",
              "      <td>43103</td>\n",
              "      <td>Yellow Cab</td>\n",
              "      <td>SILICON VALLEY</td>\n",
              "      <td>13.72</td>\n",
              "      <td>277.97</td>\n",
              "      <td>172.8720</td>\n",
              "      <td>12490</td>\n",
              "      <td>Cash</td>\n",
              "      <td>Male</td>\n",
              "      <td>33</td>\n",
              "      <td>18713</td>\n",
              "    </tr>\n",
              "    <tr>\n",
              "      <th>359389</th>\n",
              "      <td>10439838</td>\n",
              "      <td>43104</td>\n",
              "      <td>Yellow Cab</td>\n",
              "      <td>TUCSON AZ</td>\n",
              "      <td>19.00</td>\n",
              "      <td>303.77</td>\n",
              "      <td>232.5600</td>\n",
              "      <td>41414</td>\n",
              "      <td>Card</td>\n",
              "      <td>Male</td>\n",
              "      <td>38</td>\n",
              "      <td>3960</td>\n",
              "    </tr>\n",
              "    <tr>\n",
              "      <th>359390</th>\n",
              "      <td>10439840</td>\n",
              "      <td>43106</td>\n",
              "      <td>Yellow Cab</td>\n",
              "      <td>TUCSON AZ</td>\n",
              "      <td>5.60</td>\n",
              "      <td>92.42</td>\n",
              "      <td>70.5600</td>\n",
              "      <td>41677</td>\n",
              "      <td>Cash</td>\n",
              "      <td>Male</td>\n",
              "      <td>23</td>\n",
              "      <td>19454</td>\n",
              "    </tr>\n",
              "    <tr>\n",
              "      <th>359391</th>\n",
              "      <td>10439846</td>\n",
              "      <td>43104</td>\n",
              "      <td>Yellow Cab</td>\n",
              "      <td>TUCSON AZ</td>\n",
              "      <td>13.30</td>\n",
              "      <td>244.65</td>\n",
              "      <td>180.3480</td>\n",
              "      <td>39761</td>\n",
              "      <td>Card</td>\n",
              "      <td>Female</td>\n",
              "      <td>32</td>\n",
              "      <td>10128</td>\n",
              "    </tr>\n",
              "  </tbody>\n",
              "</table>\n",
              "<p>359392 rows × 12 columns</p>\n",
              "</div>"
            ],
            "text/plain": [
              "        Transaction ID  Date of Travel  ... Age Income (USD/Month)\n",
              "0             10000011           42377  ...  28              10813\n",
              "1             10351127           43302  ...  28              10813\n",
              "2             10412921           43427  ...  28              10813\n",
              "3             10000012           42375  ...  27               9237\n",
              "4             10320494           43211  ...  27               9237\n",
              "...                ...             ...  ...  ..                ...\n",
              "359387        10439790           43107  ...  42              19417\n",
              "359388        10439799           43103  ...  33              18713\n",
              "359389        10439838           43104  ...  38               3960\n",
              "359390        10439840           43106  ...  23              19454\n",
              "359391        10439846           43104  ...  32              10128\n",
              "\n",
              "[359392 rows x 12 columns]"
            ]
          },
          "metadata": {
            "tags": []
          },
          "execution_count": 107
        }
      ]
    },
    {
      "cell_type": "code",
      "metadata": {
        "colab": {
          "base_uri": "https://localhost:8080/",
          "height": 600
        },
        "id": "gSOjqrTEa7ZZ",
        "outputId": "f926ce52-de3e-4e94-d355-7a7400246675"
      },
      "source": [
        "ally = pd.merge(new, datacity, on='City')\n",
        "ally"
      ],
      "execution_count": null,
      "outputs": [
        {
          "output_type": "execute_result",
          "data": {
            "text/html": [
              "<div>\n",
              "<style scoped>\n",
              "    .dataframe tbody tr th:only-of-type {\n",
              "        vertical-align: middle;\n",
              "    }\n",
              "\n",
              "    .dataframe tbody tr th {\n",
              "        vertical-align: top;\n",
              "    }\n",
              "\n",
              "    .dataframe thead th {\n",
              "        text-align: right;\n",
              "    }\n",
              "</style>\n",
              "<table border=\"1\" class=\"dataframe\">\n",
              "  <thead>\n",
              "    <tr style=\"text-align: right;\">\n",
              "      <th></th>\n",
              "      <th>Transaction ID</th>\n",
              "      <th>Date of Travel</th>\n",
              "      <th>Company</th>\n",
              "      <th>City</th>\n",
              "      <th>KM Travelled</th>\n",
              "      <th>Price Charged</th>\n",
              "      <th>Cost of Trip</th>\n",
              "      <th>Customer ID</th>\n",
              "      <th>Payment_Mode</th>\n",
              "      <th>Gender</th>\n",
              "      <th>Age</th>\n",
              "      <th>Income (USD/Month)</th>\n",
              "      <th>Population</th>\n",
              "      <th>Users</th>\n",
              "    </tr>\n",
              "  </thead>\n",
              "  <tbody>\n",
              "    <tr>\n",
              "      <th>0</th>\n",
              "      <td>10000011</td>\n",
              "      <td>42377</td>\n",
              "      <td>Pink Cab</td>\n",
              "      <td>ATLANTA GA</td>\n",
              "      <td>30.45</td>\n",
              "      <td>370.95</td>\n",
              "      <td>313.6350</td>\n",
              "      <td>29290</td>\n",
              "      <td>Card</td>\n",
              "      <td>Male</td>\n",
              "      <td>28</td>\n",
              "      <td>10813</td>\n",
              "      <td>814,885</td>\n",
              "      <td>24,701</td>\n",
              "    </tr>\n",
              "    <tr>\n",
              "      <th>1</th>\n",
              "      <td>10351127</td>\n",
              "      <td>43302</td>\n",
              "      <td>Yellow Cab</td>\n",
              "      <td>ATLANTA GA</td>\n",
              "      <td>26.19</td>\n",
              "      <td>598.70</td>\n",
              "      <td>317.4228</td>\n",
              "      <td>29290</td>\n",
              "      <td>Cash</td>\n",
              "      <td>Male</td>\n",
              "      <td>28</td>\n",
              "      <td>10813</td>\n",
              "      <td>814,885</td>\n",
              "      <td>24,701</td>\n",
              "    </tr>\n",
              "    <tr>\n",
              "      <th>2</th>\n",
              "      <td>10412921</td>\n",
              "      <td>43427</td>\n",
              "      <td>Yellow Cab</td>\n",
              "      <td>ATLANTA GA</td>\n",
              "      <td>42.55</td>\n",
              "      <td>792.05</td>\n",
              "      <td>597.4020</td>\n",
              "      <td>29290</td>\n",
              "      <td>Card</td>\n",
              "      <td>Male</td>\n",
              "      <td>28</td>\n",
              "      <td>10813</td>\n",
              "      <td>814,885</td>\n",
              "      <td>24,701</td>\n",
              "    </tr>\n",
              "    <tr>\n",
              "      <th>3</th>\n",
              "      <td>10000012</td>\n",
              "      <td>42375</td>\n",
              "      <td>Pink Cab</td>\n",
              "      <td>ATLANTA GA</td>\n",
              "      <td>28.62</td>\n",
              "      <td>358.52</td>\n",
              "      <td>334.8540</td>\n",
              "      <td>27703</td>\n",
              "      <td>Card</td>\n",
              "      <td>Male</td>\n",
              "      <td>27</td>\n",
              "      <td>9237</td>\n",
              "      <td>814,885</td>\n",
              "      <td>24,701</td>\n",
              "    </tr>\n",
              "    <tr>\n",
              "      <th>4</th>\n",
              "      <td>10320494</td>\n",
              "      <td>43211</td>\n",
              "      <td>Yellow Cab</td>\n",
              "      <td>ATLANTA GA</td>\n",
              "      <td>36.38</td>\n",
              "      <td>721.10</td>\n",
              "      <td>467.1192</td>\n",
              "      <td>27703</td>\n",
              "      <td>Card</td>\n",
              "      <td>Male</td>\n",
              "      <td>27</td>\n",
              "      <td>9237</td>\n",
              "      <td>814,885</td>\n",
              "      <td>24,701</td>\n",
              "    </tr>\n",
              "    <tr>\n",
              "      <th>...</th>\n",
              "      <td>...</td>\n",
              "      <td>...</td>\n",
              "      <td>...</td>\n",
              "      <td>...</td>\n",
              "      <td>...</td>\n",
              "      <td>...</td>\n",
              "      <td>...</td>\n",
              "      <td>...</td>\n",
              "      <td>...</td>\n",
              "      <td>...</td>\n",
              "      <td>...</td>\n",
              "      <td>...</td>\n",
              "      <td>...</td>\n",
              "      <td>...</td>\n",
              "    </tr>\n",
              "    <tr>\n",
              "      <th>359387</th>\n",
              "      <td>10307228</td>\n",
              "      <td>43162</td>\n",
              "      <td>Yellow Cab</td>\n",
              "      <td>WASHINGTON DC</td>\n",
              "      <td>38.40</td>\n",
              "      <td>668.93</td>\n",
              "      <td>525.3120</td>\n",
              "      <td>51406</td>\n",
              "      <td>Cash</td>\n",
              "      <td>Female</td>\n",
              "      <td>29</td>\n",
              "      <td>6829</td>\n",
              "      <td>418,859</td>\n",
              "      <td>127,001</td>\n",
              "    </tr>\n",
              "    <tr>\n",
              "      <th>359388</th>\n",
              "      <td>10319775</td>\n",
              "      <td>43203</td>\n",
              "      <td>Yellow Cab</td>\n",
              "      <td>WASHINGTON DC</td>\n",
              "      <td>3.57</td>\n",
              "      <td>67.60</td>\n",
              "      <td>44.5536</td>\n",
              "      <td>51406</td>\n",
              "      <td>Cash</td>\n",
              "      <td>Female</td>\n",
              "      <td>29</td>\n",
              "      <td>6829</td>\n",
              "      <td>418,859</td>\n",
              "      <td>127,001</td>\n",
              "    </tr>\n",
              "    <tr>\n",
              "      <th>359389</th>\n",
              "      <td>10347676</td>\n",
              "      <td>43287</td>\n",
              "      <td>Yellow Cab</td>\n",
              "      <td>WASHINGTON DC</td>\n",
              "      <td>23.46</td>\n",
              "      <td>331.97</td>\n",
              "      <td>337.8240</td>\n",
              "      <td>51406</td>\n",
              "      <td>Card</td>\n",
              "      <td>Female</td>\n",
              "      <td>29</td>\n",
              "      <td>6829</td>\n",
              "      <td>418,859</td>\n",
              "      <td>127,001</td>\n",
              "    </tr>\n",
              "    <tr>\n",
              "      <th>359390</th>\n",
              "      <td>10358624</td>\n",
              "      <td>43314</td>\n",
              "      <td>Yellow Cab</td>\n",
              "      <td>WASHINGTON DC</td>\n",
              "      <td>27.60</td>\n",
              "      <td>358.23</td>\n",
              "      <td>364.3200</td>\n",
              "      <td>51406</td>\n",
              "      <td>Cash</td>\n",
              "      <td>Female</td>\n",
              "      <td>29</td>\n",
              "      <td>6829</td>\n",
              "      <td>418,859</td>\n",
              "      <td>127,001</td>\n",
              "    </tr>\n",
              "    <tr>\n",
              "      <th>359391</th>\n",
              "      <td>10370709</td>\n",
              "      <td>43342</td>\n",
              "      <td>Yellow Cab</td>\n",
              "      <td>WASHINGTON DC</td>\n",
              "      <td>34.24</td>\n",
              "      <td>453.11</td>\n",
              "      <td>427.3152</td>\n",
              "      <td>51406</td>\n",
              "      <td>Card</td>\n",
              "      <td>Female</td>\n",
              "      <td>29</td>\n",
              "      <td>6829</td>\n",
              "      <td>418,859</td>\n",
              "      <td>127,001</td>\n",
              "    </tr>\n",
              "  </tbody>\n",
              "</table>\n",
              "<p>359392 rows × 14 columns</p>\n",
              "</div>"
            ],
            "text/plain": [
              "        Transaction ID  Date of Travel  ... Population      Users\n",
              "0             10000011           42377  ...   814,885     24,701 \n",
              "1             10351127           43302  ...   814,885     24,701 \n",
              "2             10412921           43427  ...   814,885     24,701 \n",
              "3             10000012           42375  ...   814,885     24,701 \n",
              "4             10320494           43211  ...   814,885     24,701 \n",
              "...                ...             ...  ...        ...        ...\n",
              "359387        10307228           43162  ...   418,859    127,001 \n",
              "359388        10319775           43203  ...   418,859    127,001 \n",
              "359389        10347676           43287  ...   418,859    127,001 \n",
              "359390        10358624           43314  ...   418,859    127,001 \n",
              "359391        10370709           43342  ...   418,859    127,001 \n",
              "\n",
              "[359392 rows x 14 columns]"
            ]
          },
          "metadata": {
            "tags": []
          },
          "execution_count": 108
        }
      ]
    },
    {
      "cell_type": "code",
      "metadata": {
        "colab": {
          "base_uri": "https://localhost:8080/",
          "height": 563
        },
        "id": "770O4WH0bAYe",
        "outputId": "76c92cd6-e572-472b-d5ba-e835e73a865f"
      },
      "source": [
        "ally['City']= ally['City'].map( {'NEW YORK NY': 0, 'CHICAGO IL': 1, 'LOS ANGELES CA': 2, 'WASHINGTON DC': 3,'BOSTON MA': 4, 'SAN DIEGO CA': 5, 'SILICON VALLEY': 6, 'SEATTLE WA': 7, 'ATLANTA GA': 8, 'DALLAS TX': 9, 'MIAMI FL': 10, 'AUSTIN TX': 11, 'ORANGE COUNTY': 12, 'DENVER CO': 13, 'NASHVILLE TN': 14, 'SACRAMENTO CA': 15, 'PHOENIX AZ': 16, 'TUCSON AZ': 17, 'PITTSBURGH PA': 18})#.astype(int)\n",
        "ally"
      ],
      "execution_count": null,
      "outputs": [
        {
          "output_type": "execute_result",
          "data": {
            "text/html": [
              "<div>\n",
              "<style scoped>\n",
              "    .dataframe tbody tr th:only-of-type {\n",
              "        vertical-align: middle;\n",
              "    }\n",
              "\n",
              "    .dataframe tbody tr th {\n",
              "        vertical-align: top;\n",
              "    }\n",
              "\n",
              "    .dataframe thead th {\n",
              "        text-align: right;\n",
              "    }\n",
              "</style>\n",
              "<table border=\"1\" class=\"dataframe\">\n",
              "  <thead>\n",
              "    <tr style=\"text-align: right;\">\n",
              "      <th></th>\n",
              "      <th>Transaction ID</th>\n",
              "      <th>Date of Travel</th>\n",
              "      <th>Company</th>\n",
              "      <th>City</th>\n",
              "      <th>KM Travelled</th>\n",
              "      <th>Price Charged</th>\n",
              "      <th>Cost of Trip</th>\n",
              "      <th>Customer ID</th>\n",
              "      <th>Payment_Mode</th>\n",
              "      <th>Gender</th>\n",
              "      <th>Age</th>\n",
              "      <th>Income (USD/Month)</th>\n",
              "      <th>Population</th>\n",
              "      <th>Users</th>\n",
              "    </tr>\n",
              "  </thead>\n",
              "  <tbody>\n",
              "    <tr>\n",
              "      <th>0</th>\n",
              "      <td>10000011</td>\n",
              "      <td>42377</td>\n",
              "      <td>Pink Cab</td>\n",
              "      <td>8</td>\n",
              "      <td>30.45</td>\n",
              "      <td>370.95</td>\n",
              "      <td>313.6350</td>\n",
              "      <td>29290</td>\n",
              "      <td>Card</td>\n",
              "      <td>Male</td>\n",
              "      <td>28</td>\n",
              "      <td>10813</td>\n",
              "      <td>814,885</td>\n",
              "      <td>24,701</td>\n",
              "    </tr>\n",
              "    <tr>\n",
              "      <th>1</th>\n",
              "      <td>10351127</td>\n",
              "      <td>43302</td>\n",
              "      <td>Yellow Cab</td>\n",
              "      <td>8</td>\n",
              "      <td>26.19</td>\n",
              "      <td>598.70</td>\n",
              "      <td>317.4228</td>\n",
              "      <td>29290</td>\n",
              "      <td>Cash</td>\n",
              "      <td>Male</td>\n",
              "      <td>28</td>\n",
              "      <td>10813</td>\n",
              "      <td>814,885</td>\n",
              "      <td>24,701</td>\n",
              "    </tr>\n",
              "    <tr>\n",
              "      <th>2</th>\n",
              "      <td>10412921</td>\n",
              "      <td>43427</td>\n",
              "      <td>Yellow Cab</td>\n",
              "      <td>8</td>\n",
              "      <td>42.55</td>\n",
              "      <td>792.05</td>\n",
              "      <td>597.4020</td>\n",
              "      <td>29290</td>\n",
              "      <td>Card</td>\n",
              "      <td>Male</td>\n",
              "      <td>28</td>\n",
              "      <td>10813</td>\n",
              "      <td>814,885</td>\n",
              "      <td>24,701</td>\n",
              "    </tr>\n",
              "    <tr>\n",
              "      <th>3</th>\n",
              "      <td>10000012</td>\n",
              "      <td>42375</td>\n",
              "      <td>Pink Cab</td>\n",
              "      <td>8</td>\n",
              "      <td>28.62</td>\n",
              "      <td>358.52</td>\n",
              "      <td>334.8540</td>\n",
              "      <td>27703</td>\n",
              "      <td>Card</td>\n",
              "      <td>Male</td>\n",
              "      <td>27</td>\n",
              "      <td>9237</td>\n",
              "      <td>814,885</td>\n",
              "      <td>24,701</td>\n",
              "    </tr>\n",
              "    <tr>\n",
              "      <th>4</th>\n",
              "      <td>10320494</td>\n",
              "      <td>43211</td>\n",
              "      <td>Yellow Cab</td>\n",
              "      <td>8</td>\n",
              "      <td>36.38</td>\n",
              "      <td>721.10</td>\n",
              "      <td>467.1192</td>\n",
              "      <td>27703</td>\n",
              "      <td>Card</td>\n",
              "      <td>Male</td>\n",
              "      <td>27</td>\n",
              "      <td>9237</td>\n",
              "      <td>814,885</td>\n",
              "      <td>24,701</td>\n",
              "    </tr>\n",
              "    <tr>\n",
              "      <th>...</th>\n",
              "      <td>...</td>\n",
              "      <td>...</td>\n",
              "      <td>...</td>\n",
              "      <td>...</td>\n",
              "      <td>...</td>\n",
              "      <td>...</td>\n",
              "      <td>...</td>\n",
              "      <td>...</td>\n",
              "      <td>...</td>\n",
              "      <td>...</td>\n",
              "      <td>...</td>\n",
              "      <td>...</td>\n",
              "      <td>...</td>\n",
              "      <td>...</td>\n",
              "    </tr>\n",
              "    <tr>\n",
              "      <th>359387</th>\n",
              "      <td>10307228</td>\n",
              "      <td>43162</td>\n",
              "      <td>Yellow Cab</td>\n",
              "      <td>3</td>\n",
              "      <td>38.40</td>\n",
              "      <td>668.93</td>\n",
              "      <td>525.3120</td>\n",
              "      <td>51406</td>\n",
              "      <td>Cash</td>\n",
              "      <td>Female</td>\n",
              "      <td>29</td>\n",
              "      <td>6829</td>\n",
              "      <td>418,859</td>\n",
              "      <td>127,001</td>\n",
              "    </tr>\n",
              "    <tr>\n",
              "      <th>359388</th>\n",
              "      <td>10319775</td>\n",
              "      <td>43203</td>\n",
              "      <td>Yellow Cab</td>\n",
              "      <td>3</td>\n",
              "      <td>3.57</td>\n",
              "      <td>67.60</td>\n",
              "      <td>44.5536</td>\n",
              "      <td>51406</td>\n",
              "      <td>Cash</td>\n",
              "      <td>Female</td>\n",
              "      <td>29</td>\n",
              "      <td>6829</td>\n",
              "      <td>418,859</td>\n",
              "      <td>127,001</td>\n",
              "    </tr>\n",
              "    <tr>\n",
              "      <th>359389</th>\n",
              "      <td>10347676</td>\n",
              "      <td>43287</td>\n",
              "      <td>Yellow Cab</td>\n",
              "      <td>3</td>\n",
              "      <td>23.46</td>\n",
              "      <td>331.97</td>\n",
              "      <td>337.8240</td>\n",
              "      <td>51406</td>\n",
              "      <td>Card</td>\n",
              "      <td>Female</td>\n",
              "      <td>29</td>\n",
              "      <td>6829</td>\n",
              "      <td>418,859</td>\n",
              "      <td>127,001</td>\n",
              "    </tr>\n",
              "    <tr>\n",
              "      <th>359390</th>\n",
              "      <td>10358624</td>\n",
              "      <td>43314</td>\n",
              "      <td>Yellow Cab</td>\n",
              "      <td>3</td>\n",
              "      <td>27.60</td>\n",
              "      <td>358.23</td>\n",
              "      <td>364.3200</td>\n",
              "      <td>51406</td>\n",
              "      <td>Cash</td>\n",
              "      <td>Female</td>\n",
              "      <td>29</td>\n",
              "      <td>6829</td>\n",
              "      <td>418,859</td>\n",
              "      <td>127,001</td>\n",
              "    </tr>\n",
              "    <tr>\n",
              "      <th>359391</th>\n",
              "      <td>10370709</td>\n",
              "      <td>43342</td>\n",
              "      <td>Yellow Cab</td>\n",
              "      <td>3</td>\n",
              "      <td>34.24</td>\n",
              "      <td>453.11</td>\n",
              "      <td>427.3152</td>\n",
              "      <td>51406</td>\n",
              "      <td>Card</td>\n",
              "      <td>Female</td>\n",
              "      <td>29</td>\n",
              "      <td>6829</td>\n",
              "      <td>418,859</td>\n",
              "      <td>127,001</td>\n",
              "    </tr>\n",
              "  </tbody>\n",
              "</table>\n",
              "<p>359392 rows × 14 columns</p>\n",
              "</div>"
            ],
            "text/plain": [
              "        Transaction ID  Date of Travel  ... Population      Users\n",
              "0             10000011           42377  ...   814,885     24,701 \n",
              "1             10351127           43302  ...   814,885     24,701 \n",
              "2             10412921           43427  ...   814,885     24,701 \n",
              "3             10000012           42375  ...   814,885     24,701 \n",
              "4             10320494           43211  ...   814,885     24,701 \n",
              "...                ...             ...  ...        ...        ...\n",
              "359387        10307228           43162  ...   418,859    127,001 \n",
              "359388        10319775           43203  ...   418,859    127,001 \n",
              "359389        10347676           43287  ...   418,859    127,001 \n",
              "359390        10358624           43314  ...   418,859    127,001 \n",
              "359391        10370709           43342  ...   418,859    127,001 \n",
              "\n",
              "[359392 rows x 14 columns]"
            ]
          },
          "metadata": {
            "tags": []
          },
          "execution_count": 109
        }
      ]
    },
    {
      "cell_type": "code",
      "metadata": {
        "colab": {
          "base_uri": "https://localhost:8080/",
          "height": 563
        },
        "id": "l2j2ZxzxbE9A",
        "outputId": "6d12df28-e43b-46bb-ffac-83ad1af1fdb4"
      },
      "source": [
        "ally['Gender'] = ally['Gender'].map({'Female': 0, 'Male': 1})\n",
        "ally"
      ],
      "execution_count": null,
      "outputs": [
        {
          "output_type": "execute_result",
          "data": {
            "text/html": [
              "<div>\n",
              "<style scoped>\n",
              "    .dataframe tbody tr th:only-of-type {\n",
              "        vertical-align: middle;\n",
              "    }\n",
              "\n",
              "    .dataframe tbody tr th {\n",
              "        vertical-align: top;\n",
              "    }\n",
              "\n",
              "    .dataframe thead th {\n",
              "        text-align: right;\n",
              "    }\n",
              "</style>\n",
              "<table border=\"1\" class=\"dataframe\">\n",
              "  <thead>\n",
              "    <tr style=\"text-align: right;\">\n",
              "      <th></th>\n",
              "      <th>Transaction ID</th>\n",
              "      <th>Date of Travel</th>\n",
              "      <th>Company</th>\n",
              "      <th>City</th>\n",
              "      <th>KM Travelled</th>\n",
              "      <th>Price Charged</th>\n",
              "      <th>Cost of Trip</th>\n",
              "      <th>Customer ID</th>\n",
              "      <th>Payment_Mode</th>\n",
              "      <th>Gender</th>\n",
              "      <th>Age</th>\n",
              "      <th>Income (USD/Month)</th>\n",
              "      <th>Population</th>\n",
              "      <th>Users</th>\n",
              "    </tr>\n",
              "  </thead>\n",
              "  <tbody>\n",
              "    <tr>\n",
              "      <th>0</th>\n",
              "      <td>10000011</td>\n",
              "      <td>42377</td>\n",
              "      <td>Pink Cab</td>\n",
              "      <td>8</td>\n",
              "      <td>30.45</td>\n",
              "      <td>370.95</td>\n",
              "      <td>313.6350</td>\n",
              "      <td>29290</td>\n",
              "      <td>Card</td>\n",
              "      <td>1</td>\n",
              "      <td>28</td>\n",
              "      <td>10813</td>\n",
              "      <td>814,885</td>\n",
              "      <td>24,701</td>\n",
              "    </tr>\n",
              "    <tr>\n",
              "      <th>1</th>\n",
              "      <td>10351127</td>\n",
              "      <td>43302</td>\n",
              "      <td>Yellow Cab</td>\n",
              "      <td>8</td>\n",
              "      <td>26.19</td>\n",
              "      <td>598.70</td>\n",
              "      <td>317.4228</td>\n",
              "      <td>29290</td>\n",
              "      <td>Cash</td>\n",
              "      <td>1</td>\n",
              "      <td>28</td>\n",
              "      <td>10813</td>\n",
              "      <td>814,885</td>\n",
              "      <td>24,701</td>\n",
              "    </tr>\n",
              "    <tr>\n",
              "      <th>2</th>\n",
              "      <td>10412921</td>\n",
              "      <td>43427</td>\n",
              "      <td>Yellow Cab</td>\n",
              "      <td>8</td>\n",
              "      <td>42.55</td>\n",
              "      <td>792.05</td>\n",
              "      <td>597.4020</td>\n",
              "      <td>29290</td>\n",
              "      <td>Card</td>\n",
              "      <td>1</td>\n",
              "      <td>28</td>\n",
              "      <td>10813</td>\n",
              "      <td>814,885</td>\n",
              "      <td>24,701</td>\n",
              "    </tr>\n",
              "    <tr>\n",
              "      <th>3</th>\n",
              "      <td>10000012</td>\n",
              "      <td>42375</td>\n",
              "      <td>Pink Cab</td>\n",
              "      <td>8</td>\n",
              "      <td>28.62</td>\n",
              "      <td>358.52</td>\n",
              "      <td>334.8540</td>\n",
              "      <td>27703</td>\n",
              "      <td>Card</td>\n",
              "      <td>1</td>\n",
              "      <td>27</td>\n",
              "      <td>9237</td>\n",
              "      <td>814,885</td>\n",
              "      <td>24,701</td>\n",
              "    </tr>\n",
              "    <tr>\n",
              "      <th>4</th>\n",
              "      <td>10320494</td>\n",
              "      <td>43211</td>\n",
              "      <td>Yellow Cab</td>\n",
              "      <td>8</td>\n",
              "      <td>36.38</td>\n",
              "      <td>721.10</td>\n",
              "      <td>467.1192</td>\n",
              "      <td>27703</td>\n",
              "      <td>Card</td>\n",
              "      <td>1</td>\n",
              "      <td>27</td>\n",
              "      <td>9237</td>\n",
              "      <td>814,885</td>\n",
              "      <td>24,701</td>\n",
              "    </tr>\n",
              "    <tr>\n",
              "      <th>...</th>\n",
              "      <td>...</td>\n",
              "      <td>...</td>\n",
              "      <td>...</td>\n",
              "      <td>...</td>\n",
              "      <td>...</td>\n",
              "      <td>...</td>\n",
              "      <td>...</td>\n",
              "      <td>...</td>\n",
              "      <td>...</td>\n",
              "      <td>...</td>\n",
              "      <td>...</td>\n",
              "      <td>...</td>\n",
              "      <td>...</td>\n",
              "      <td>...</td>\n",
              "    </tr>\n",
              "    <tr>\n",
              "      <th>359387</th>\n",
              "      <td>10307228</td>\n",
              "      <td>43162</td>\n",
              "      <td>Yellow Cab</td>\n",
              "      <td>3</td>\n",
              "      <td>38.40</td>\n",
              "      <td>668.93</td>\n",
              "      <td>525.3120</td>\n",
              "      <td>51406</td>\n",
              "      <td>Cash</td>\n",
              "      <td>0</td>\n",
              "      <td>29</td>\n",
              "      <td>6829</td>\n",
              "      <td>418,859</td>\n",
              "      <td>127,001</td>\n",
              "    </tr>\n",
              "    <tr>\n",
              "      <th>359388</th>\n",
              "      <td>10319775</td>\n",
              "      <td>43203</td>\n",
              "      <td>Yellow Cab</td>\n",
              "      <td>3</td>\n",
              "      <td>3.57</td>\n",
              "      <td>67.60</td>\n",
              "      <td>44.5536</td>\n",
              "      <td>51406</td>\n",
              "      <td>Cash</td>\n",
              "      <td>0</td>\n",
              "      <td>29</td>\n",
              "      <td>6829</td>\n",
              "      <td>418,859</td>\n",
              "      <td>127,001</td>\n",
              "    </tr>\n",
              "    <tr>\n",
              "      <th>359389</th>\n",
              "      <td>10347676</td>\n",
              "      <td>43287</td>\n",
              "      <td>Yellow Cab</td>\n",
              "      <td>3</td>\n",
              "      <td>23.46</td>\n",
              "      <td>331.97</td>\n",
              "      <td>337.8240</td>\n",
              "      <td>51406</td>\n",
              "      <td>Card</td>\n",
              "      <td>0</td>\n",
              "      <td>29</td>\n",
              "      <td>6829</td>\n",
              "      <td>418,859</td>\n",
              "      <td>127,001</td>\n",
              "    </tr>\n",
              "    <tr>\n",
              "      <th>359390</th>\n",
              "      <td>10358624</td>\n",
              "      <td>43314</td>\n",
              "      <td>Yellow Cab</td>\n",
              "      <td>3</td>\n",
              "      <td>27.60</td>\n",
              "      <td>358.23</td>\n",
              "      <td>364.3200</td>\n",
              "      <td>51406</td>\n",
              "      <td>Cash</td>\n",
              "      <td>0</td>\n",
              "      <td>29</td>\n",
              "      <td>6829</td>\n",
              "      <td>418,859</td>\n",
              "      <td>127,001</td>\n",
              "    </tr>\n",
              "    <tr>\n",
              "      <th>359391</th>\n",
              "      <td>10370709</td>\n",
              "      <td>43342</td>\n",
              "      <td>Yellow Cab</td>\n",
              "      <td>3</td>\n",
              "      <td>34.24</td>\n",
              "      <td>453.11</td>\n",
              "      <td>427.3152</td>\n",
              "      <td>51406</td>\n",
              "      <td>Card</td>\n",
              "      <td>0</td>\n",
              "      <td>29</td>\n",
              "      <td>6829</td>\n",
              "      <td>418,859</td>\n",
              "      <td>127,001</td>\n",
              "    </tr>\n",
              "  </tbody>\n",
              "</table>\n",
              "<p>359392 rows × 14 columns</p>\n",
              "</div>"
            ],
            "text/plain": [
              "        Transaction ID  Date of Travel  ... Population      Users\n",
              "0             10000011           42377  ...   814,885     24,701 \n",
              "1             10351127           43302  ...   814,885     24,701 \n",
              "2             10412921           43427  ...   814,885     24,701 \n",
              "3             10000012           42375  ...   814,885     24,701 \n",
              "4             10320494           43211  ...   814,885     24,701 \n",
              "...                ...             ...  ...        ...        ...\n",
              "359387        10307228           43162  ...   418,859    127,001 \n",
              "359388        10319775           43203  ...   418,859    127,001 \n",
              "359389        10347676           43287  ...   418,859    127,001 \n",
              "359390        10358624           43314  ...   418,859    127,001 \n",
              "359391        10370709           43342  ...   418,859    127,001 \n",
              "\n",
              "[359392 rows x 14 columns]"
            ]
          },
          "metadata": {
            "tags": []
          },
          "execution_count": 110
        }
      ]
    },
    {
      "cell_type": "code",
      "metadata": {
        "colab": {
          "base_uri": "https://localhost:8080/",
          "height": 563
        },
        "id": "SNDs1gxtbKwP",
        "outputId": "79a839bd-4034-4085-9154-fdb26f1da72a"
      },
      "source": [
        "ally = ally.drop(['Transaction ID'],axis=1)\n",
        "ally"
      ],
      "execution_count": null,
      "outputs": [
        {
          "output_type": "execute_result",
          "data": {
            "text/html": [
              "<div>\n",
              "<style scoped>\n",
              "    .dataframe tbody tr th:only-of-type {\n",
              "        vertical-align: middle;\n",
              "    }\n",
              "\n",
              "    .dataframe tbody tr th {\n",
              "        vertical-align: top;\n",
              "    }\n",
              "\n",
              "    .dataframe thead th {\n",
              "        text-align: right;\n",
              "    }\n",
              "</style>\n",
              "<table border=\"1\" class=\"dataframe\">\n",
              "  <thead>\n",
              "    <tr style=\"text-align: right;\">\n",
              "      <th></th>\n",
              "      <th>Date of Travel</th>\n",
              "      <th>Company</th>\n",
              "      <th>City</th>\n",
              "      <th>KM Travelled</th>\n",
              "      <th>Price Charged</th>\n",
              "      <th>Cost of Trip</th>\n",
              "      <th>Customer ID</th>\n",
              "      <th>Payment_Mode</th>\n",
              "      <th>Gender</th>\n",
              "      <th>Age</th>\n",
              "      <th>Income (USD/Month)</th>\n",
              "      <th>Population</th>\n",
              "      <th>Users</th>\n",
              "    </tr>\n",
              "  </thead>\n",
              "  <tbody>\n",
              "    <tr>\n",
              "      <th>0</th>\n",
              "      <td>42377</td>\n",
              "      <td>Pink Cab</td>\n",
              "      <td>8</td>\n",
              "      <td>30.45</td>\n",
              "      <td>370.95</td>\n",
              "      <td>313.6350</td>\n",
              "      <td>29290</td>\n",
              "      <td>Card</td>\n",
              "      <td>1</td>\n",
              "      <td>28</td>\n",
              "      <td>10813</td>\n",
              "      <td>814,885</td>\n",
              "      <td>24,701</td>\n",
              "    </tr>\n",
              "    <tr>\n",
              "      <th>1</th>\n",
              "      <td>43302</td>\n",
              "      <td>Yellow Cab</td>\n",
              "      <td>8</td>\n",
              "      <td>26.19</td>\n",
              "      <td>598.70</td>\n",
              "      <td>317.4228</td>\n",
              "      <td>29290</td>\n",
              "      <td>Cash</td>\n",
              "      <td>1</td>\n",
              "      <td>28</td>\n",
              "      <td>10813</td>\n",
              "      <td>814,885</td>\n",
              "      <td>24,701</td>\n",
              "    </tr>\n",
              "    <tr>\n",
              "      <th>2</th>\n",
              "      <td>43427</td>\n",
              "      <td>Yellow Cab</td>\n",
              "      <td>8</td>\n",
              "      <td>42.55</td>\n",
              "      <td>792.05</td>\n",
              "      <td>597.4020</td>\n",
              "      <td>29290</td>\n",
              "      <td>Card</td>\n",
              "      <td>1</td>\n",
              "      <td>28</td>\n",
              "      <td>10813</td>\n",
              "      <td>814,885</td>\n",
              "      <td>24,701</td>\n",
              "    </tr>\n",
              "    <tr>\n",
              "      <th>3</th>\n",
              "      <td>42375</td>\n",
              "      <td>Pink Cab</td>\n",
              "      <td>8</td>\n",
              "      <td>28.62</td>\n",
              "      <td>358.52</td>\n",
              "      <td>334.8540</td>\n",
              "      <td>27703</td>\n",
              "      <td>Card</td>\n",
              "      <td>1</td>\n",
              "      <td>27</td>\n",
              "      <td>9237</td>\n",
              "      <td>814,885</td>\n",
              "      <td>24,701</td>\n",
              "    </tr>\n",
              "    <tr>\n",
              "      <th>4</th>\n",
              "      <td>43211</td>\n",
              "      <td>Yellow Cab</td>\n",
              "      <td>8</td>\n",
              "      <td>36.38</td>\n",
              "      <td>721.10</td>\n",
              "      <td>467.1192</td>\n",
              "      <td>27703</td>\n",
              "      <td>Card</td>\n",
              "      <td>1</td>\n",
              "      <td>27</td>\n",
              "      <td>9237</td>\n",
              "      <td>814,885</td>\n",
              "      <td>24,701</td>\n",
              "    </tr>\n",
              "    <tr>\n",
              "      <th>...</th>\n",
              "      <td>...</td>\n",
              "      <td>...</td>\n",
              "      <td>...</td>\n",
              "      <td>...</td>\n",
              "      <td>...</td>\n",
              "      <td>...</td>\n",
              "      <td>...</td>\n",
              "      <td>...</td>\n",
              "      <td>...</td>\n",
              "      <td>...</td>\n",
              "      <td>...</td>\n",
              "      <td>...</td>\n",
              "      <td>...</td>\n",
              "    </tr>\n",
              "    <tr>\n",
              "      <th>359387</th>\n",
              "      <td>43162</td>\n",
              "      <td>Yellow Cab</td>\n",
              "      <td>3</td>\n",
              "      <td>38.40</td>\n",
              "      <td>668.93</td>\n",
              "      <td>525.3120</td>\n",
              "      <td>51406</td>\n",
              "      <td>Cash</td>\n",
              "      <td>0</td>\n",
              "      <td>29</td>\n",
              "      <td>6829</td>\n",
              "      <td>418,859</td>\n",
              "      <td>127,001</td>\n",
              "    </tr>\n",
              "    <tr>\n",
              "      <th>359388</th>\n",
              "      <td>43203</td>\n",
              "      <td>Yellow Cab</td>\n",
              "      <td>3</td>\n",
              "      <td>3.57</td>\n",
              "      <td>67.60</td>\n",
              "      <td>44.5536</td>\n",
              "      <td>51406</td>\n",
              "      <td>Cash</td>\n",
              "      <td>0</td>\n",
              "      <td>29</td>\n",
              "      <td>6829</td>\n",
              "      <td>418,859</td>\n",
              "      <td>127,001</td>\n",
              "    </tr>\n",
              "    <tr>\n",
              "      <th>359389</th>\n",
              "      <td>43287</td>\n",
              "      <td>Yellow Cab</td>\n",
              "      <td>3</td>\n",
              "      <td>23.46</td>\n",
              "      <td>331.97</td>\n",
              "      <td>337.8240</td>\n",
              "      <td>51406</td>\n",
              "      <td>Card</td>\n",
              "      <td>0</td>\n",
              "      <td>29</td>\n",
              "      <td>6829</td>\n",
              "      <td>418,859</td>\n",
              "      <td>127,001</td>\n",
              "    </tr>\n",
              "    <tr>\n",
              "      <th>359390</th>\n",
              "      <td>43314</td>\n",
              "      <td>Yellow Cab</td>\n",
              "      <td>3</td>\n",
              "      <td>27.60</td>\n",
              "      <td>358.23</td>\n",
              "      <td>364.3200</td>\n",
              "      <td>51406</td>\n",
              "      <td>Cash</td>\n",
              "      <td>0</td>\n",
              "      <td>29</td>\n",
              "      <td>6829</td>\n",
              "      <td>418,859</td>\n",
              "      <td>127,001</td>\n",
              "    </tr>\n",
              "    <tr>\n",
              "      <th>359391</th>\n",
              "      <td>43342</td>\n",
              "      <td>Yellow Cab</td>\n",
              "      <td>3</td>\n",
              "      <td>34.24</td>\n",
              "      <td>453.11</td>\n",
              "      <td>427.3152</td>\n",
              "      <td>51406</td>\n",
              "      <td>Card</td>\n",
              "      <td>0</td>\n",
              "      <td>29</td>\n",
              "      <td>6829</td>\n",
              "      <td>418,859</td>\n",
              "      <td>127,001</td>\n",
              "    </tr>\n",
              "  </tbody>\n",
              "</table>\n",
              "<p>359392 rows × 13 columns</p>\n",
              "</div>"
            ],
            "text/plain": [
              "        Date of Travel     Company  ...  Population      Users\n",
              "0                42377    Pink Cab  ...    814,885     24,701 \n",
              "1                43302  Yellow Cab  ...    814,885     24,701 \n",
              "2                43427  Yellow Cab  ...    814,885     24,701 \n",
              "3                42375    Pink Cab  ...    814,885     24,701 \n",
              "4                43211  Yellow Cab  ...    814,885     24,701 \n",
              "...                ...         ...  ...         ...        ...\n",
              "359387           43162  Yellow Cab  ...    418,859    127,001 \n",
              "359388           43203  Yellow Cab  ...    418,859    127,001 \n",
              "359389           43287  Yellow Cab  ...    418,859    127,001 \n",
              "359390           43314  Yellow Cab  ...    418,859    127,001 \n",
              "359391           43342  Yellow Cab  ...    418,859    127,001 \n",
              "\n",
              "[359392 rows x 13 columns]"
            ]
          },
          "metadata": {
            "tags": []
          },
          "execution_count": 111
        }
      ]
    },
    {
      "cell_type": "code",
      "metadata": {
        "colab": {
          "base_uri": "https://localhost:8080/",
          "height": 563
        },
        "id": "ufTKQs16bP1u",
        "outputId": "d58dfcb4-4deb-4eab-90e3-e8ff52eeb7ff"
      },
      "source": [
        "ally = ally.drop(['Date of Travel'],axis=1)\n",
        "ally"
      ],
      "execution_count": null,
      "outputs": [
        {
          "output_type": "execute_result",
          "data": {
            "text/html": [
              "<div>\n",
              "<style scoped>\n",
              "    .dataframe tbody tr th:only-of-type {\n",
              "        vertical-align: middle;\n",
              "    }\n",
              "\n",
              "    .dataframe tbody tr th {\n",
              "        vertical-align: top;\n",
              "    }\n",
              "\n",
              "    .dataframe thead th {\n",
              "        text-align: right;\n",
              "    }\n",
              "</style>\n",
              "<table border=\"1\" class=\"dataframe\">\n",
              "  <thead>\n",
              "    <tr style=\"text-align: right;\">\n",
              "      <th></th>\n",
              "      <th>Company</th>\n",
              "      <th>City</th>\n",
              "      <th>KM Travelled</th>\n",
              "      <th>Price Charged</th>\n",
              "      <th>Cost of Trip</th>\n",
              "      <th>Customer ID</th>\n",
              "      <th>Payment_Mode</th>\n",
              "      <th>Gender</th>\n",
              "      <th>Age</th>\n",
              "      <th>Income (USD/Month)</th>\n",
              "      <th>Population</th>\n",
              "      <th>Users</th>\n",
              "    </tr>\n",
              "  </thead>\n",
              "  <tbody>\n",
              "    <tr>\n",
              "      <th>0</th>\n",
              "      <td>Pink Cab</td>\n",
              "      <td>8</td>\n",
              "      <td>30.45</td>\n",
              "      <td>370.95</td>\n",
              "      <td>313.6350</td>\n",
              "      <td>29290</td>\n",
              "      <td>Card</td>\n",
              "      <td>1</td>\n",
              "      <td>28</td>\n",
              "      <td>10813</td>\n",
              "      <td>814,885</td>\n",
              "      <td>24,701</td>\n",
              "    </tr>\n",
              "    <tr>\n",
              "      <th>1</th>\n",
              "      <td>Yellow Cab</td>\n",
              "      <td>8</td>\n",
              "      <td>26.19</td>\n",
              "      <td>598.70</td>\n",
              "      <td>317.4228</td>\n",
              "      <td>29290</td>\n",
              "      <td>Cash</td>\n",
              "      <td>1</td>\n",
              "      <td>28</td>\n",
              "      <td>10813</td>\n",
              "      <td>814,885</td>\n",
              "      <td>24,701</td>\n",
              "    </tr>\n",
              "    <tr>\n",
              "      <th>2</th>\n",
              "      <td>Yellow Cab</td>\n",
              "      <td>8</td>\n",
              "      <td>42.55</td>\n",
              "      <td>792.05</td>\n",
              "      <td>597.4020</td>\n",
              "      <td>29290</td>\n",
              "      <td>Card</td>\n",
              "      <td>1</td>\n",
              "      <td>28</td>\n",
              "      <td>10813</td>\n",
              "      <td>814,885</td>\n",
              "      <td>24,701</td>\n",
              "    </tr>\n",
              "    <tr>\n",
              "      <th>3</th>\n",
              "      <td>Pink Cab</td>\n",
              "      <td>8</td>\n",
              "      <td>28.62</td>\n",
              "      <td>358.52</td>\n",
              "      <td>334.8540</td>\n",
              "      <td>27703</td>\n",
              "      <td>Card</td>\n",
              "      <td>1</td>\n",
              "      <td>27</td>\n",
              "      <td>9237</td>\n",
              "      <td>814,885</td>\n",
              "      <td>24,701</td>\n",
              "    </tr>\n",
              "    <tr>\n",
              "      <th>4</th>\n",
              "      <td>Yellow Cab</td>\n",
              "      <td>8</td>\n",
              "      <td>36.38</td>\n",
              "      <td>721.10</td>\n",
              "      <td>467.1192</td>\n",
              "      <td>27703</td>\n",
              "      <td>Card</td>\n",
              "      <td>1</td>\n",
              "      <td>27</td>\n",
              "      <td>9237</td>\n",
              "      <td>814,885</td>\n",
              "      <td>24,701</td>\n",
              "    </tr>\n",
              "    <tr>\n",
              "      <th>...</th>\n",
              "      <td>...</td>\n",
              "      <td>...</td>\n",
              "      <td>...</td>\n",
              "      <td>...</td>\n",
              "      <td>...</td>\n",
              "      <td>...</td>\n",
              "      <td>...</td>\n",
              "      <td>...</td>\n",
              "      <td>...</td>\n",
              "      <td>...</td>\n",
              "      <td>...</td>\n",
              "      <td>...</td>\n",
              "    </tr>\n",
              "    <tr>\n",
              "      <th>359387</th>\n",
              "      <td>Yellow Cab</td>\n",
              "      <td>3</td>\n",
              "      <td>38.40</td>\n",
              "      <td>668.93</td>\n",
              "      <td>525.3120</td>\n",
              "      <td>51406</td>\n",
              "      <td>Cash</td>\n",
              "      <td>0</td>\n",
              "      <td>29</td>\n",
              "      <td>6829</td>\n",
              "      <td>418,859</td>\n",
              "      <td>127,001</td>\n",
              "    </tr>\n",
              "    <tr>\n",
              "      <th>359388</th>\n",
              "      <td>Yellow Cab</td>\n",
              "      <td>3</td>\n",
              "      <td>3.57</td>\n",
              "      <td>67.60</td>\n",
              "      <td>44.5536</td>\n",
              "      <td>51406</td>\n",
              "      <td>Cash</td>\n",
              "      <td>0</td>\n",
              "      <td>29</td>\n",
              "      <td>6829</td>\n",
              "      <td>418,859</td>\n",
              "      <td>127,001</td>\n",
              "    </tr>\n",
              "    <tr>\n",
              "      <th>359389</th>\n",
              "      <td>Yellow Cab</td>\n",
              "      <td>3</td>\n",
              "      <td>23.46</td>\n",
              "      <td>331.97</td>\n",
              "      <td>337.8240</td>\n",
              "      <td>51406</td>\n",
              "      <td>Card</td>\n",
              "      <td>0</td>\n",
              "      <td>29</td>\n",
              "      <td>6829</td>\n",
              "      <td>418,859</td>\n",
              "      <td>127,001</td>\n",
              "    </tr>\n",
              "    <tr>\n",
              "      <th>359390</th>\n",
              "      <td>Yellow Cab</td>\n",
              "      <td>3</td>\n",
              "      <td>27.60</td>\n",
              "      <td>358.23</td>\n",
              "      <td>364.3200</td>\n",
              "      <td>51406</td>\n",
              "      <td>Cash</td>\n",
              "      <td>0</td>\n",
              "      <td>29</td>\n",
              "      <td>6829</td>\n",
              "      <td>418,859</td>\n",
              "      <td>127,001</td>\n",
              "    </tr>\n",
              "    <tr>\n",
              "      <th>359391</th>\n",
              "      <td>Yellow Cab</td>\n",
              "      <td>3</td>\n",
              "      <td>34.24</td>\n",
              "      <td>453.11</td>\n",
              "      <td>427.3152</td>\n",
              "      <td>51406</td>\n",
              "      <td>Card</td>\n",
              "      <td>0</td>\n",
              "      <td>29</td>\n",
              "      <td>6829</td>\n",
              "      <td>418,859</td>\n",
              "      <td>127,001</td>\n",
              "    </tr>\n",
              "  </tbody>\n",
              "</table>\n",
              "<p>359392 rows × 12 columns</p>\n",
              "</div>"
            ],
            "text/plain": [
              "           Company  City  ...  Population      Users\n",
              "0         Pink Cab     8  ...    814,885     24,701 \n",
              "1       Yellow Cab     8  ...    814,885     24,701 \n",
              "2       Yellow Cab     8  ...    814,885     24,701 \n",
              "3         Pink Cab     8  ...    814,885     24,701 \n",
              "4       Yellow Cab     8  ...    814,885     24,701 \n",
              "...            ...   ...  ...         ...        ...\n",
              "359387  Yellow Cab     3  ...    418,859    127,001 \n",
              "359388  Yellow Cab     3  ...    418,859    127,001 \n",
              "359389  Yellow Cab     3  ...    418,859    127,001 \n",
              "359390  Yellow Cab     3  ...    418,859    127,001 \n",
              "359391  Yellow Cab     3  ...    418,859    127,001 \n",
              "\n",
              "[359392 rows x 12 columns]"
            ]
          },
          "metadata": {
            "tags": []
          },
          "execution_count": 112
        }
      ]
    },
    {
      "cell_type": "code",
      "metadata": {
        "colab": {
          "base_uri": "https://localhost:8080/",
          "height": 407
        },
        "id": "y2q2dBhtbnxU",
        "outputId": "e8b96ea4-5cfb-4cef-cdff-061cec4ece9e"
      },
      "source": [
        "ally = ally.drop(['Customer ID'],axis=1)\n",
        "ally"
      ],
      "execution_count": null,
      "outputs": [
        {
          "output_type": "execute_result",
          "data": {
            "text/html": [
              "<div>\n",
              "<style scoped>\n",
              "    .dataframe tbody tr th:only-of-type {\n",
              "        vertical-align: middle;\n",
              "    }\n",
              "\n",
              "    .dataframe tbody tr th {\n",
              "        vertical-align: top;\n",
              "    }\n",
              "\n",
              "    .dataframe thead th {\n",
              "        text-align: right;\n",
              "    }\n",
              "</style>\n",
              "<table border=\"1\" class=\"dataframe\">\n",
              "  <thead>\n",
              "    <tr style=\"text-align: right;\">\n",
              "      <th></th>\n",
              "      <th>Company</th>\n",
              "      <th>City</th>\n",
              "      <th>KM Travelled</th>\n",
              "      <th>Price Charged</th>\n",
              "      <th>Cost of Trip</th>\n",
              "      <th>Payment_Mode</th>\n",
              "      <th>Gender</th>\n",
              "      <th>Age</th>\n",
              "      <th>Income (USD/Month)</th>\n",
              "      <th>Population</th>\n",
              "      <th>Users</th>\n",
              "    </tr>\n",
              "  </thead>\n",
              "  <tbody>\n",
              "    <tr>\n",
              "      <th>0</th>\n",
              "      <td>Pink Cab</td>\n",
              "      <td>8</td>\n",
              "      <td>30.45</td>\n",
              "      <td>370.95</td>\n",
              "      <td>313.6350</td>\n",
              "      <td>Card</td>\n",
              "      <td>1</td>\n",
              "      <td>28</td>\n",
              "      <td>10813</td>\n",
              "      <td>814,885</td>\n",
              "      <td>24,701</td>\n",
              "    </tr>\n",
              "    <tr>\n",
              "      <th>1</th>\n",
              "      <td>Yellow Cab</td>\n",
              "      <td>8</td>\n",
              "      <td>26.19</td>\n",
              "      <td>598.70</td>\n",
              "      <td>317.4228</td>\n",
              "      <td>Cash</td>\n",
              "      <td>1</td>\n",
              "      <td>28</td>\n",
              "      <td>10813</td>\n",
              "      <td>814,885</td>\n",
              "      <td>24,701</td>\n",
              "    </tr>\n",
              "    <tr>\n",
              "      <th>2</th>\n",
              "      <td>Yellow Cab</td>\n",
              "      <td>8</td>\n",
              "      <td>42.55</td>\n",
              "      <td>792.05</td>\n",
              "      <td>597.4020</td>\n",
              "      <td>Card</td>\n",
              "      <td>1</td>\n",
              "      <td>28</td>\n",
              "      <td>10813</td>\n",
              "      <td>814,885</td>\n",
              "      <td>24,701</td>\n",
              "    </tr>\n",
              "    <tr>\n",
              "      <th>3</th>\n",
              "      <td>Pink Cab</td>\n",
              "      <td>8</td>\n",
              "      <td>28.62</td>\n",
              "      <td>358.52</td>\n",
              "      <td>334.8540</td>\n",
              "      <td>Card</td>\n",
              "      <td>1</td>\n",
              "      <td>27</td>\n",
              "      <td>9237</td>\n",
              "      <td>814,885</td>\n",
              "      <td>24,701</td>\n",
              "    </tr>\n",
              "    <tr>\n",
              "      <th>4</th>\n",
              "      <td>Yellow Cab</td>\n",
              "      <td>8</td>\n",
              "      <td>36.38</td>\n",
              "      <td>721.10</td>\n",
              "      <td>467.1192</td>\n",
              "      <td>Card</td>\n",
              "      <td>1</td>\n",
              "      <td>27</td>\n",
              "      <td>9237</td>\n",
              "      <td>814,885</td>\n",
              "      <td>24,701</td>\n",
              "    </tr>\n",
              "    <tr>\n",
              "      <th>...</th>\n",
              "      <td>...</td>\n",
              "      <td>...</td>\n",
              "      <td>...</td>\n",
              "      <td>...</td>\n",
              "      <td>...</td>\n",
              "      <td>...</td>\n",
              "      <td>...</td>\n",
              "      <td>...</td>\n",
              "      <td>...</td>\n",
              "      <td>...</td>\n",
              "      <td>...</td>\n",
              "    </tr>\n",
              "    <tr>\n",
              "      <th>359387</th>\n",
              "      <td>Yellow Cab</td>\n",
              "      <td>3</td>\n",
              "      <td>38.40</td>\n",
              "      <td>668.93</td>\n",
              "      <td>525.3120</td>\n",
              "      <td>Cash</td>\n",
              "      <td>0</td>\n",
              "      <td>29</td>\n",
              "      <td>6829</td>\n",
              "      <td>418,859</td>\n",
              "      <td>127,001</td>\n",
              "    </tr>\n",
              "    <tr>\n",
              "      <th>359388</th>\n",
              "      <td>Yellow Cab</td>\n",
              "      <td>3</td>\n",
              "      <td>3.57</td>\n",
              "      <td>67.60</td>\n",
              "      <td>44.5536</td>\n",
              "      <td>Cash</td>\n",
              "      <td>0</td>\n",
              "      <td>29</td>\n",
              "      <td>6829</td>\n",
              "      <td>418,859</td>\n",
              "      <td>127,001</td>\n",
              "    </tr>\n",
              "    <tr>\n",
              "      <th>359389</th>\n",
              "      <td>Yellow Cab</td>\n",
              "      <td>3</td>\n",
              "      <td>23.46</td>\n",
              "      <td>331.97</td>\n",
              "      <td>337.8240</td>\n",
              "      <td>Card</td>\n",
              "      <td>0</td>\n",
              "      <td>29</td>\n",
              "      <td>6829</td>\n",
              "      <td>418,859</td>\n",
              "      <td>127,001</td>\n",
              "    </tr>\n",
              "    <tr>\n",
              "      <th>359390</th>\n",
              "      <td>Yellow Cab</td>\n",
              "      <td>3</td>\n",
              "      <td>27.60</td>\n",
              "      <td>358.23</td>\n",
              "      <td>364.3200</td>\n",
              "      <td>Cash</td>\n",
              "      <td>0</td>\n",
              "      <td>29</td>\n",
              "      <td>6829</td>\n",
              "      <td>418,859</td>\n",
              "      <td>127,001</td>\n",
              "    </tr>\n",
              "    <tr>\n",
              "      <th>359391</th>\n",
              "      <td>Yellow Cab</td>\n",
              "      <td>3</td>\n",
              "      <td>34.24</td>\n",
              "      <td>453.11</td>\n",
              "      <td>427.3152</td>\n",
              "      <td>Card</td>\n",
              "      <td>0</td>\n",
              "      <td>29</td>\n",
              "      <td>6829</td>\n",
              "      <td>418,859</td>\n",
              "      <td>127,001</td>\n",
              "    </tr>\n",
              "  </tbody>\n",
              "</table>\n",
              "<p>359392 rows × 11 columns</p>\n",
              "</div>"
            ],
            "text/plain": [
              "           Company  City  ...  Population      Users\n",
              "0         Pink Cab     8  ...    814,885     24,701 \n",
              "1       Yellow Cab     8  ...    814,885     24,701 \n",
              "2       Yellow Cab     8  ...    814,885     24,701 \n",
              "3         Pink Cab     8  ...    814,885     24,701 \n",
              "4       Yellow Cab     8  ...    814,885     24,701 \n",
              "...            ...   ...  ...         ...        ...\n",
              "359387  Yellow Cab     3  ...    418,859    127,001 \n",
              "359388  Yellow Cab     3  ...    418,859    127,001 \n",
              "359389  Yellow Cab     3  ...    418,859    127,001 \n",
              "359390  Yellow Cab     3  ...    418,859    127,001 \n",
              "359391  Yellow Cab     3  ...    418,859    127,001 \n",
              "\n",
              "[359392 rows x 11 columns]"
            ]
          },
          "metadata": {
            "tags": []
          },
          "execution_count": 113
        }
      ]
    },
    {
      "cell_type": "code",
      "metadata": {
        "colab": {
          "base_uri": "https://localhost:8080/",
          "height": 407
        },
        "id": "YuauULOCc9TO",
        "outputId": "3ab58156-7b2e-495a-a493-5aaa55ec8ce5"
      },
      "source": [
        "ally = ally.drop(['Payment_Mode'],axis=1)\n",
        "ally"
      ],
      "execution_count": null,
      "outputs": [
        {
          "output_type": "execute_result",
          "data": {
            "text/html": [
              "<div>\n",
              "<style scoped>\n",
              "    .dataframe tbody tr th:only-of-type {\n",
              "        vertical-align: middle;\n",
              "    }\n",
              "\n",
              "    .dataframe tbody tr th {\n",
              "        vertical-align: top;\n",
              "    }\n",
              "\n",
              "    .dataframe thead th {\n",
              "        text-align: right;\n",
              "    }\n",
              "</style>\n",
              "<table border=\"1\" class=\"dataframe\">\n",
              "  <thead>\n",
              "    <tr style=\"text-align: right;\">\n",
              "      <th></th>\n",
              "      <th>Company</th>\n",
              "      <th>City</th>\n",
              "      <th>KM Travelled</th>\n",
              "      <th>Price Charged</th>\n",
              "      <th>Cost of Trip</th>\n",
              "      <th>Gender</th>\n",
              "      <th>Age</th>\n",
              "      <th>Income (USD/Month)</th>\n",
              "      <th>Population</th>\n",
              "      <th>Users</th>\n",
              "    </tr>\n",
              "  </thead>\n",
              "  <tbody>\n",
              "    <tr>\n",
              "      <th>0</th>\n",
              "      <td>Pink Cab</td>\n",
              "      <td>8</td>\n",
              "      <td>30.45</td>\n",
              "      <td>370.95</td>\n",
              "      <td>313.6350</td>\n",
              "      <td>1</td>\n",
              "      <td>28</td>\n",
              "      <td>10813</td>\n",
              "      <td>814,885</td>\n",
              "      <td>24,701</td>\n",
              "    </tr>\n",
              "    <tr>\n",
              "      <th>1</th>\n",
              "      <td>Yellow Cab</td>\n",
              "      <td>8</td>\n",
              "      <td>26.19</td>\n",
              "      <td>598.70</td>\n",
              "      <td>317.4228</td>\n",
              "      <td>1</td>\n",
              "      <td>28</td>\n",
              "      <td>10813</td>\n",
              "      <td>814,885</td>\n",
              "      <td>24,701</td>\n",
              "    </tr>\n",
              "    <tr>\n",
              "      <th>2</th>\n",
              "      <td>Yellow Cab</td>\n",
              "      <td>8</td>\n",
              "      <td>42.55</td>\n",
              "      <td>792.05</td>\n",
              "      <td>597.4020</td>\n",
              "      <td>1</td>\n",
              "      <td>28</td>\n",
              "      <td>10813</td>\n",
              "      <td>814,885</td>\n",
              "      <td>24,701</td>\n",
              "    </tr>\n",
              "    <tr>\n",
              "      <th>3</th>\n",
              "      <td>Pink Cab</td>\n",
              "      <td>8</td>\n",
              "      <td>28.62</td>\n",
              "      <td>358.52</td>\n",
              "      <td>334.8540</td>\n",
              "      <td>1</td>\n",
              "      <td>27</td>\n",
              "      <td>9237</td>\n",
              "      <td>814,885</td>\n",
              "      <td>24,701</td>\n",
              "    </tr>\n",
              "    <tr>\n",
              "      <th>4</th>\n",
              "      <td>Yellow Cab</td>\n",
              "      <td>8</td>\n",
              "      <td>36.38</td>\n",
              "      <td>721.10</td>\n",
              "      <td>467.1192</td>\n",
              "      <td>1</td>\n",
              "      <td>27</td>\n",
              "      <td>9237</td>\n",
              "      <td>814,885</td>\n",
              "      <td>24,701</td>\n",
              "    </tr>\n",
              "    <tr>\n",
              "      <th>...</th>\n",
              "      <td>...</td>\n",
              "      <td>...</td>\n",
              "      <td>...</td>\n",
              "      <td>...</td>\n",
              "      <td>...</td>\n",
              "      <td>...</td>\n",
              "      <td>...</td>\n",
              "      <td>...</td>\n",
              "      <td>...</td>\n",
              "      <td>...</td>\n",
              "    </tr>\n",
              "    <tr>\n",
              "      <th>359387</th>\n",
              "      <td>Yellow Cab</td>\n",
              "      <td>3</td>\n",
              "      <td>38.40</td>\n",
              "      <td>668.93</td>\n",
              "      <td>525.3120</td>\n",
              "      <td>0</td>\n",
              "      <td>29</td>\n",
              "      <td>6829</td>\n",
              "      <td>418,859</td>\n",
              "      <td>127,001</td>\n",
              "    </tr>\n",
              "    <tr>\n",
              "      <th>359388</th>\n",
              "      <td>Yellow Cab</td>\n",
              "      <td>3</td>\n",
              "      <td>3.57</td>\n",
              "      <td>67.60</td>\n",
              "      <td>44.5536</td>\n",
              "      <td>0</td>\n",
              "      <td>29</td>\n",
              "      <td>6829</td>\n",
              "      <td>418,859</td>\n",
              "      <td>127,001</td>\n",
              "    </tr>\n",
              "    <tr>\n",
              "      <th>359389</th>\n",
              "      <td>Yellow Cab</td>\n",
              "      <td>3</td>\n",
              "      <td>23.46</td>\n",
              "      <td>331.97</td>\n",
              "      <td>337.8240</td>\n",
              "      <td>0</td>\n",
              "      <td>29</td>\n",
              "      <td>6829</td>\n",
              "      <td>418,859</td>\n",
              "      <td>127,001</td>\n",
              "    </tr>\n",
              "    <tr>\n",
              "      <th>359390</th>\n",
              "      <td>Yellow Cab</td>\n",
              "      <td>3</td>\n",
              "      <td>27.60</td>\n",
              "      <td>358.23</td>\n",
              "      <td>364.3200</td>\n",
              "      <td>0</td>\n",
              "      <td>29</td>\n",
              "      <td>6829</td>\n",
              "      <td>418,859</td>\n",
              "      <td>127,001</td>\n",
              "    </tr>\n",
              "    <tr>\n",
              "      <th>359391</th>\n",
              "      <td>Yellow Cab</td>\n",
              "      <td>3</td>\n",
              "      <td>34.24</td>\n",
              "      <td>453.11</td>\n",
              "      <td>427.3152</td>\n",
              "      <td>0</td>\n",
              "      <td>29</td>\n",
              "      <td>6829</td>\n",
              "      <td>418,859</td>\n",
              "      <td>127,001</td>\n",
              "    </tr>\n",
              "  </tbody>\n",
              "</table>\n",
              "<p>359392 rows × 10 columns</p>\n",
              "</div>"
            ],
            "text/plain": [
              "           Company  City  ...  Population      Users\n",
              "0         Pink Cab     8  ...    814,885     24,701 \n",
              "1       Yellow Cab     8  ...    814,885     24,701 \n",
              "2       Yellow Cab     8  ...    814,885     24,701 \n",
              "3         Pink Cab     8  ...    814,885     24,701 \n",
              "4       Yellow Cab     8  ...    814,885     24,701 \n",
              "...            ...   ...  ...         ...        ...\n",
              "359387  Yellow Cab     3  ...    418,859    127,001 \n",
              "359388  Yellow Cab     3  ...    418,859    127,001 \n",
              "359389  Yellow Cab     3  ...    418,859    127,001 \n",
              "359390  Yellow Cab     3  ...    418,859    127,001 \n",
              "359391  Yellow Cab     3  ...    418,859    127,001 \n",
              "\n",
              "[359392 rows x 10 columns]"
            ]
          },
          "metadata": {
            "tags": []
          },
          "execution_count": 114
        }
      ]
    },
    {
      "cell_type": "code",
      "metadata": {
        "id": "1DrnjqBObcwi"
      },
      "source": [
        "cabitens = list(ally['Price Charged'])"
      ],
      "execution_count": null,
      "outputs": []
    },
    {
      "cell_type": "code",
      "metadata": {
        "id": "NLH428dRbghC"
      },
      "source": [
        "costs = dict(zip(cabitens, ally['Cost of Trip']))"
      ],
      "execution_count": null,
      "outputs": []
    },
    {
      "cell_type": "code",
      "metadata": {
        "id": "Ks4mkC43byPQ"
      },
      "source": [
        "quantity = dict(zip(cabitens, ally['Users']))"
      ],
      "execution_count": null,
      "outputs": []
    },
    {
      "cell_type": "code",
      "metadata": {
        "id": "Itq7DUcab5KL"
      },
      "source": [
        "costis = dict(zip(cabitens, ally['Price Charged']))"
      ],
      "execution_count": null,
      "outputs": []
    },
    {
      "cell_type": "code",
      "metadata": {
        "id": "KzRGVUkJcBk1"
      },
      "source": [
        "distance = dict(zip(cabitens, new['KM Travelled']))"
      ],
      "execution_count": null,
      "outputs": []
    },
    {
      "cell_type": "code",
      "metadata": {
        "id": "6lEuad7fe1iS"
      },
      "source": [
        "company = dict(zip(cabitens, ally['Company']))"
      ],
      "execution_count": null,
      "outputs": []
    },
    {
      "cell_type": "code",
      "metadata": {
        "id": "NTPySWsocJhS"
      },
      "source": [
        "total = LpVariable.dicts(\"total\", cabitens,lowBound=0,cat='Continuous')"
      ],
      "execution_count": null,
      "outputs": []
    },
    {
      "cell_type": "code",
      "metadata": {
        "colab": {
          "base_uri": "https://localhost:8080/"
        },
        "id": "CEHbsvZ4cPI4",
        "outputId": "e79bb150-94da-4736-9269-98c195f4cf6c"
      },
      "source": [
        "prob += lpSum([costs[i]*total[i] for i in cabitens])"
      ],
      "execution_count": null,
      "outputs": [
        {
          "output_type": "stream",
          "text": [
            "/usr/local/lib/python3.7/dist-packages/pulp/pulp.py:1537: UserWarning: Overwriting previously set objective.\n",
            "  warnings.warn(\"Overwriting previously set objective.\")\n"
          ],
          "name": "stderr"
        }
      ]
    },
    {
      "cell_type": "code",
      "metadata": {
        "colab": {
          "base_uri": "https://localhost:8080/"
        },
        "id": "sxZeT7NPcYfa",
        "outputId": "b1ab3d69-875a-4615-c3c9-9d724e868f1c"
      },
      "source": [
        "prob.solve()"
      ],
      "execution_count": null,
      "outputs": [
        {
          "output_type": "execute_result",
          "data": {
            "text/plain": [
              "1"
            ]
          },
          "metadata": {
            "tags": []
          },
          "execution_count": 126
        }
      ]
    },
    {
      "cell_type": "code",
      "metadata": {
        "colab": {
          "base_uri": "https://localhost:8080/"
        },
        "id": "835eJ1izcrQ0",
        "outputId": "627b3875-b659-4ba9-caeb-15522cc2e7ab"
      },
      "source": [
        "# The status of the solution is printed to the screen\n",
        "print(\"Status:\", LpStatus[prob.status])"
      ],
      "execution_count": null,
      "outputs": [
        {
          "output_type": "stream",
          "text": [
            "Status: Optimal\n"
          ],
          "name": "stdout"
        }
      ]
    },
    {
      "cell_type": "code",
      "metadata": {
        "id": "Hu3It1Dwcukg"
      },
      "source": [
        "for v in prob.variables():\n",
        "    if v.varValue>0:\n",
        "        print(v.name, \"=\", v.varValue)"
      ],
      "execution_count": null,
      "outputs": []
    },
    {
      "cell_type": "code",
      "metadata": {
        "colab": {
          "base_uri": "https://localhost:8080/"
        },
        "id": "mWXjp6vUdcNe",
        "outputId": "f050e331-f9d6-4a3c-d175-4311ae9f0efb"
      },
      "source": [
        "obj = value(prob.objective)\n",
        "print(\"results: ${}\".format(round(obj,2)))"
      ],
      "execution_count": null,
      "outputs": [
        {
          "output_type": "stream",
          "text": [
            "results: $0.0\n"
          ],
          "name": "stdout"
        }
      ]
    },
    {
      "cell_type": "code",
      "metadata": {
        "colab": {
          "base_uri": "https://localhost:8080/",
          "height": 407
        },
        "id": "9E8UvWlodg7D",
        "outputId": "b312409b-ebcb-4e1e-ed03-91e171e76c3a"
      },
      "source": [
        "ally['Company'] = ally['Company'].map({'Yellow Cab': 0, 'Pink Cab': 1,})\n",
        "ally"
      ],
      "execution_count": null,
      "outputs": [
        {
          "output_type": "execute_result",
          "data": {
            "text/html": [
              "<div>\n",
              "<style scoped>\n",
              "    .dataframe tbody tr th:only-of-type {\n",
              "        vertical-align: middle;\n",
              "    }\n",
              "\n",
              "    .dataframe tbody tr th {\n",
              "        vertical-align: top;\n",
              "    }\n",
              "\n",
              "    .dataframe thead th {\n",
              "        text-align: right;\n",
              "    }\n",
              "</style>\n",
              "<table border=\"1\" class=\"dataframe\">\n",
              "  <thead>\n",
              "    <tr style=\"text-align: right;\">\n",
              "      <th></th>\n",
              "      <th>Company</th>\n",
              "      <th>City</th>\n",
              "      <th>KM Travelled</th>\n",
              "      <th>Price Charged</th>\n",
              "      <th>Cost of Trip</th>\n",
              "      <th>Gender</th>\n",
              "      <th>Age</th>\n",
              "      <th>Income (USD/Month)</th>\n",
              "      <th>Population</th>\n",
              "      <th>Users</th>\n",
              "    </tr>\n",
              "  </thead>\n",
              "  <tbody>\n",
              "    <tr>\n",
              "      <th>0</th>\n",
              "      <td>1</td>\n",
              "      <td>8</td>\n",
              "      <td>30.45</td>\n",
              "      <td>370.95</td>\n",
              "      <td>313.6350</td>\n",
              "      <td>1</td>\n",
              "      <td>28</td>\n",
              "      <td>10813</td>\n",
              "      <td>814,885</td>\n",
              "      <td>24,701</td>\n",
              "    </tr>\n",
              "    <tr>\n",
              "      <th>1</th>\n",
              "      <td>0</td>\n",
              "      <td>8</td>\n",
              "      <td>26.19</td>\n",
              "      <td>598.70</td>\n",
              "      <td>317.4228</td>\n",
              "      <td>1</td>\n",
              "      <td>28</td>\n",
              "      <td>10813</td>\n",
              "      <td>814,885</td>\n",
              "      <td>24,701</td>\n",
              "    </tr>\n",
              "    <tr>\n",
              "      <th>2</th>\n",
              "      <td>0</td>\n",
              "      <td>8</td>\n",
              "      <td>42.55</td>\n",
              "      <td>792.05</td>\n",
              "      <td>597.4020</td>\n",
              "      <td>1</td>\n",
              "      <td>28</td>\n",
              "      <td>10813</td>\n",
              "      <td>814,885</td>\n",
              "      <td>24,701</td>\n",
              "    </tr>\n",
              "    <tr>\n",
              "      <th>3</th>\n",
              "      <td>1</td>\n",
              "      <td>8</td>\n",
              "      <td>28.62</td>\n",
              "      <td>358.52</td>\n",
              "      <td>334.8540</td>\n",
              "      <td>1</td>\n",
              "      <td>27</td>\n",
              "      <td>9237</td>\n",
              "      <td>814,885</td>\n",
              "      <td>24,701</td>\n",
              "    </tr>\n",
              "    <tr>\n",
              "      <th>4</th>\n",
              "      <td>0</td>\n",
              "      <td>8</td>\n",
              "      <td>36.38</td>\n",
              "      <td>721.10</td>\n",
              "      <td>467.1192</td>\n",
              "      <td>1</td>\n",
              "      <td>27</td>\n",
              "      <td>9237</td>\n",
              "      <td>814,885</td>\n",
              "      <td>24,701</td>\n",
              "    </tr>\n",
              "    <tr>\n",
              "      <th>...</th>\n",
              "      <td>...</td>\n",
              "      <td>...</td>\n",
              "      <td>...</td>\n",
              "      <td>...</td>\n",
              "      <td>...</td>\n",
              "      <td>...</td>\n",
              "      <td>...</td>\n",
              "      <td>...</td>\n",
              "      <td>...</td>\n",
              "      <td>...</td>\n",
              "    </tr>\n",
              "    <tr>\n",
              "      <th>359387</th>\n",
              "      <td>0</td>\n",
              "      <td>3</td>\n",
              "      <td>38.40</td>\n",
              "      <td>668.93</td>\n",
              "      <td>525.3120</td>\n",
              "      <td>0</td>\n",
              "      <td>29</td>\n",
              "      <td>6829</td>\n",
              "      <td>418,859</td>\n",
              "      <td>127,001</td>\n",
              "    </tr>\n",
              "    <tr>\n",
              "      <th>359388</th>\n",
              "      <td>0</td>\n",
              "      <td>3</td>\n",
              "      <td>3.57</td>\n",
              "      <td>67.60</td>\n",
              "      <td>44.5536</td>\n",
              "      <td>0</td>\n",
              "      <td>29</td>\n",
              "      <td>6829</td>\n",
              "      <td>418,859</td>\n",
              "      <td>127,001</td>\n",
              "    </tr>\n",
              "    <tr>\n",
              "      <th>359389</th>\n",
              "      <td>0</td>\n",
              "      <td>3</td>\n",
              "      <td>23.46</td>\n",
              "      <td>331.97</td>\n",
              "      <td>337.8240</td>\n",
              "      <td>0</td>\n",
              "      <td>29</td>\n",
              "      <td>6829</td>\n",
              "      <td>418,859</td>\n",
              "      <td>127,001</td>\n",
              "    </tr>\n",
              "    <tr>\n",
              "      <th>359390</th>\n",
              "      <td>0</td>\n",
              "      <td>3</td>\n",
              "      <td>27.60</td>\n",
              "      <td>358.23</td>\n",
              "      <td>364.3200</td>\n",
              "      <td>0</td>\n",
              "      <td>29</td>\n",
              "      <td>6829</td>\n",
              "      <td>418,859</td>\n",
              "      <td>127,001</td>\n",
              "    </tr>\n",
              "    <tr>\n",
              "      <th>359391</th>\n",
              "      <td>0</td>\n",
              "      <td>3</td>\n",
              "      <td>34.24</td>\n",
              "      <td>453.11</td>\n",
              "      <td>427.3152</td>\n",
              "      <td>0</td>\n",
              "      <td>29</td>\n",
              "      <td>6829</td>\n",
              "      <td>418,859</td>\n",
              "      <td>127,001</td>\n",
              "    </tr>\n",
              "  </tbody>\n",
              "</table>\n",
              "<p>359392 rows × 10 columns</p>\n",
              "</div>"
            ],
            "text/plain": [
              "        Company  City  KM Travelled  ...  Income (USD/Month)  Population      Users\n",
              "0             1     8         30.45  ...               10813    814,885     24,701 \n",
              "1             0     8         26.19  ...               10813    814,885     24,701 \n",
              "2             0     8         42.55  ...               10813    814,885     24,701 \n",
              "3             1     8         28.62  ...                9237    814,885     24,701 \n",
              "4             0     8         36.38  ...                9237    814,885     24,701 \n",
              "...         ...   ...           ...  ...                 ...         ...        ...\n",
              "359387        0     3         38.40  ...                6829    418,859    127,001 \n",
              "359388        0     3          3.57  ...                6829    418,859    127,001 \n",
              "359389        0     3         23.46  ...                6829    418,859    127,001 \n",
              "359390        0     3         27.60  ...                6829    418,859    127,001 \n",
              "359391        0     3         34.24  ...                6829    418,859    127,001 \n",
              "\n",
              "[359392 rows x 10 columns]"
            ]
          },
          "metadata": {
            "tags": []
          },
          "execution_count": 130
        }
      ]
    },
    {
      "cell_type": "code",
      "metadata": {
        "id": "Bcu6mGX_dwYk"
      },
      "source": [
        "cabitens = LpVariable.dicts(\"Chosen\",cabitens,0,1,cat='Integer')"
      ],
      "execution_count": null,
      "outputs": []
    },
    {
      "cell_type": "code",
      "metadata": {
        "id": "-Iwpd4-fd2Ek"
      },
      "source": [
        "for f in cabitens:\n",
        "    prob += cabitens[f]>= cabitens[f]*0.1\n",
        "    prob += cabitens[f]<= cabitens[f]*1e5"
      ],
      "execution_count": null,
      "outputs": []
    },
    {
      "cell_type": "code",
      "metadata": {
        "colab": {
          "base_uri": "https://localhost:8080/"
        },
        "id": "VmOeJd_Kd_NK",
        "outputId": "a53d8b85-cc93-482d-8df4-5cfefa4a9634"
      },
      "source": [
        "prob.solve()"
      ],
      "execution_count": null,
      "outputs": [
        {
          "output_type": "execute_result",
          "data": {
            "text/plain": [
              "1"
            ]
          },
          "metadata": {
            "tags": []
          },
          "execution_count": 133
        }
      ]
    },
    {
      "cell_type": "markdown",
      "metadata": {
        "id": "Pvz8c1TkhWmk"
      },
      "source": [
        "After applying a linear programming to minimize costs, we can see that the optimal solution would be costs minimized to 1 and that would would pick company pink. "
      ]
    },
    {
      "cell_type": "code",
      "metadata": {
        "colab": {
          "base_uri": "https://localhost:8080/"
        },
        "id": "Bl2z2OH7-ZOr",
        "outputId": "24cb3590-6e98-4f57-a7a1-8c9a1b7dcc0c"
      },
      "source": [
        "pip install HyperclassifierSearch"
      ],
      "execution_count": null,
      "outputs": [
        {
          "output_type": "stream",
          "text": [
            "Collecting HyperclassifierSearch\n",
            "  Downloading https://files.pythonhosted.org/packages/6b/45/a0b4c8c557c4f8816e4855169bd0b4e70bd76dd90a80cc9ff78d57a42dc8/HyperclassifierSearch-1.0.tar.gz\n",
            "Building wheels for collected packages: HyperclassifierSearch\n",
            "  Building wheel for HyperclassifierSearch (setup.py) ... \u001b[?25l\u001b[?25hdone\n",
            "  Created wheel for HyperclassifierSearch: filename=HyperclassifierSearch-1.0-cp37-none-any.whl size=3850 sha256=59f401a3627afe93011d0f4188eba8f211ad2f2a0fc51eb036654f9b0de4e3a2\n",
            "  Stored in directory: /root/.cache/pip/wheels/22/cf/5c/fda0f48da469edf4531fcc01fd80e9ce9082160988b52121b6\n",
            "Successfully built HyperclassifierSearch\n",
            "Installing collected packages: HyperclassifierSearch\n",
            "Successfully installed HyperclassifierSearch-1.0\n"
          ],
          "name": "stdout"
        }
      ]
    },
    {
      "cell_type": "code",
      "metadata": {
        "id": "xXWNMqpb-Yep"
      },
      "source": [
        "# import the package HyperclassifierSearch (after e.g. 'pip install HyperclassifierSearch')\n",
        "from HyperclassifierSearch import HyperclassifierSearch"
      ],
      "execution_count": null,
      "outputs": []
    },
    {
      "cell_type": "code",
      "metadata": {
        "id": "VIWrdblr-0S6"
      },
      "source": [
        "best_model.best_score_\n",
        "best_model.best_estimator_"
      ],
      "execution_count": null,
      "outputs": []
    },
    {
      "cell_type": "code",
      "metadata": {
        "id": "xTFU2xkx-0y9"
      },
      "source": [
        "search.evaluate_model()"
      ],
      "execution_count": null,
      "outputs": []
    },
    {
      "cell_type": "code",
      "metadata": {
        "id": "OyF-16oN6Bnc"
      },
      "source": [
        "import pandas as pd\n",
        "import numpy as np"
      ],
      "execution_count": null,
      "outputs": []
    },
    {
      "cell_type": "code",
      "metadata": {
        "id": "3KpwJss-3zH1"
      },
      "source": [
        "country = pd.read_csv('/content/eficiencias completas - Hoja 1.csv', header=0, decimal=',')"
      ],
      "execution_count": null,
      "outputs": []
    },
    {
      "cell_type": "code",
      "metadata": {
        "id": "EmB-ST8Y6ju0"
      },
      "source": [
        "import matplotlib.pyplot as plt\n"
      ],
      "execution_count": null,
      "outputs": []
    },
    {
      "cell_type": "code",
      "metadata": {
        "colab": {
          "base_uri": "https://localhost:8080/",
          "height": 312
        },
        "id": "eBKtSlWz6Edn",
        "outputId": "051bac56-3a39-4844-d58c-1b4906e6c7cb"
      },
      "source": [
        "country['VRS'].hist(bins=50)\n",
        "plt.ylabel('Frecuencia')\n",
        "plt.xlabel('Score de eficiencia')\n",
        "plt.title('Distribución de los scores de eficiencia')"
      ],
      "execution_count": null,
      "outputs": [
        {
          "output_type": "execute_result",
          "data": {
            "text/plain": [
              "Text(0.5, 1.0, 'Distribución de los scores de eficiencia')"
            ]
          },
          "metadata": {
            "tags": []
          },
          "execution_count": 6
        },
        {
          "output_type": "display_data",
          "data": {
            "image/png": "[encoded data removed]",
            "text/plain": [
              "<Figure size 432x288 with 1 Axes>"
            ]
          },
          "metadata": {
            "tags": [],
            "needs_background": "light"
          }
        }
      ]
    },
    {
      "cell_type": "code",
      "metadata": {
        "id": "FZHrDFYm68yE"
      },
      "source": [
        ""
      ],
      "execution_count": null,
      "outputs": []
    },
    {
      "cell_type": "code",
      "metadata": {
        "colab": {
          "base_uri": "https://localhost:8080/",
          "height": 1000
        },
        "id": "q6Oze7tp64W_",
        "outputId": "236cb819-d377-4ce1-da15-27edfc4876d9"
      },
      "source": [
        "country"
      ],
      "execution_count": null,
      "outputs": [
        {
          "output_type": "execute_result",
          "data": {
            "text/html": [
              "<div>\n",
              "<style scoped>\n",
              "    .dataframe tbody tr th:only-of-type {\n",
              "        vertical-align: middle;\n",
              "    }\n",
              "\n",
              "    .dataframe tbody tr th {\n",
              "        vertical-align: top;\n",
              "    }\n",
              "\n",
              "    .dataframe thead th {\n",
              "        text-align: right;\n",
              "    }\n",
              "</style>\n",
              "<table border=\"1\" class=\"dataframe\">\n",
              "  <thead>\n",
              "    <tr style=\"text-align: right;\">\n",
              "      <th></th>\n",
              "      <th>DMU</th>\n",
              "      <th>CRS</th>\n",
              "      <th>VRS</th>\n",
              "      <th>Escala</th>\n",
              "      <th>Número de veces tomada como referencia</th>\n",
              "      <th>DMUsin</th>\n",
              "      <th>CRSsin</th>\n",
              "      <th>VRSsin</th>\n",
              "      <th>Escalasin</th>\n",
              "      <th>número de veces</th>\n",
              "    </tr>\n",
              "  </thead>\n",
              "  <tbody>\n",
              "    <tr>\n",
              "      <th>0</th>\n",
              "      <td>Alemania</td>\n",
              "      <td>1.000</td>\n",
              "      <td>1.000</td>\n",
              "      <td>1.000000</td>\n",
              "      <td>9</td>\n",
              "      <td>Uruguay</td>\n",
              "      <td>0.054</td>\n",
              "      <td>1.000</td>\n",
              "      <td>0.054000</td>\n",
              "      <td>17</td>\n",
              "    </tr>\n",
              "    <tr>\n",
              "      <th>1</th>\n",
              "      <td>Uruguay</td>\n",
              "      <td>0.063</td>\n",
              "      <td>1.000</td>\n",
              "      <td>0.063000</td>\n",
              "      <td>9</td>\n",
              "      <td>Portugal</td>\n",
              "      <td>1.000</td>\n",
              "      <td>1.000</td>\n",
              "      <td>1.000000</td>\n",
              "      <td>13</td>\n",
              "    </tr>\n",
              "    <tr>\n",
              "      <th>2</th>\n",
              "      <td>Reino Unido</td>\n",
              "      <td>1.000</td>\n",
              "      <td>1.000</td>\n",
              "      <td>1.000000</td>\n",
              "      <td>7</td>\n",
              "      <td>Reino Unido</td>\n",
              "      <td>1.000</td>\n",
              "      <td>1.000</td>\n",
              "      <td>1.000000</td>\n",
              "      <td>11</td>\n",
              "    </tr>\n",
              "    <tr>\n",
              "      <th>3</th>\n",
              "      <td>Serbia</td>\n",
              "      <td>1.000</td>\n",
              "      <td>1.000</td>\n",
              "      <td>1.000000</td>\n",
              "      <td>7</td>\n",
              "      <td>Alemania</td>\n",
              "      <td>1.000</td>\n",
              "      <td>1.000</td>\n",
              "      <td>1.000000</td>\n",
              "      <td>7</td>\n",
              "    </tr>\n",
              "    <tr>\n",
              "      <th>4</th>\n",
              "      <td>Portugal</td>\n",
              "      <td>1.000</td>\n",
              "      <td>1.000</td>\n",
              "      <td>1.000000</td>\n",
              "      <td>6</td>\n",
              "      <td>Suecia</td>\n",
              "      <td>0.493</td>\n",
              "      <td>1.000</td>\n",
              "      <td>0.493000</td>\n",
              "      <td>6</td>\n",
              "    </tr>\n",
              "    <tr>\n",
              "      <th>5</th>\n",
              "      <td>Croacia</td>\n",
              "      <td>1.000</td>\n",
              "      <td>1.000</td>\n",
              "      <td>1.000000</td>\n",
              "      <td>4</td>\n",
              "      <td>Suiza</td>\n",
              "      <td>1.000</td>\n",
              "      <td>1.000</td>\n",
              "      <td>1.000000</td>\n",
              "      <td>6</td>\n",
              "    </tr>\n",
              "    <tr>\n",
              "      <th>6</th>\n",
              "      <td>Estados Unidos</td>\n",
              "      <td>1.000</td>\n",
              "      <td>1.000</td>\n",
              "      <td>1.000000</td>\n",
              "      <td>3</td>\n",
              "      <td>Letonia</td>\n",
              "      <td>1.000</td>\n",
              "      <td>1.000</td>\n",
              "      <td>1.000000</td>\n",
              "      <td>5</td>\n",
              "    </tr>\n",
              "    <tr>\n",
              "      <th>7</th>\n",
              "      <td>Países Bajos</td>\n",
              "      <td>1.000</td>\n",
              "      <td>1.000</td>\n",
              "      <td>1.000000</td>\n",
              "      <td>3</td>\n",
              "      <td>Perú</td>\n",
              "      <td>0.129</td>\n",
              "      <td>1.000</td>\n",
              "      <td>0.129000</td>\n",
              "      <td>3</td>\n",
              "    </tr>\n",
              "    <tr>\n",
              "      <th>8</th>\n",
              "      <td>Perú</td>\n",
              "      <td>0.233</td>\n",
              "      <td>1.000</td>\n",
              "      <td>0.233000</td>\n",
              "      <td>3</td>\n",
              "      <td>Brasil</td>\n",
              "      <td>0.127</td>\n",
              "      <td>1.000</td>\n",
              "      <td>0.127000</td>\n",
              "      <td>1</td>\n",
              "    </tr>\n",
              "    <tr>\n",
              "      <th>9</th>\n",
              "      <td>Suecia</td>\n",
              "      <td>0.641</td>\n",
              "      <td>1.000</td>\n",
              "      <td>0.641000</td>\n",
              "      <td>3</td>\n",
              "      <td>Serbia</td>\n",
              "      <td>0.079</td>\n",
              "      <td>1.000</td>\n",
              "      <td>0.079000</td>\n",
              "      <td>1</td>\n",
              "    </tr>\n",
              "    <tr>\n",
              "      <th>10</th>\n",
              "      <td>Eslovenia</td>\n",
              "      <td>0.444</td>\n",
              "      <td>1.000</td>\n",
              "      <td>0.444000</td>\n",
              "      <td>2</td>\n",
              "      <td>Argentina</td>\n",
              "      <td>0.002</td>\n",
              "      <td>0.003</td>\n",
              "      <td>0.666667</td>\n",
              "      <td>0</td>\n",
              "    </tr>\n",
              "    <tr>\n",
              "      <th>11</th>\n",
              "      <td>Letonia</td>\n",
              "      <td>1.000</td>\n",
              "      <td>1.000</td>\n",
              "      <td>1.000000</td>\n",
              "      <td>2</td>\n",
              "      <td>Australia</td>\n",
              "      <td>0.093</td>\n",
              "      <td>0.154</td>\n",
              "      <td>0.603896</td>\n",
              "      <td>0</td>\n",
              "    </tr>\n",
              "    <tr>\n",
              "      <th>12</th>\n",
              "      <td>Sudáfrica</td>\n",
              "      <td>0.022</td>\n",
              "      <td>1.000</td>\n",
              "      <td>0.022000</td>\n",
              "      <td>2</td>\n",
              "      <td>Austria</td>\n",
              "      <td>0.102</td>\n",
              "      <td>0.109</td>\n",
              "      <td>0.935780</td>\n",
              "      <td>0</td>\n",
              "    </tr>\n",
              "    <tr>\n",
              "      <th>13</th>\n",
              "      <td>Lituania</td>\n",
              "      <td>0.886</td>\n",
              "      <td>1.000</td>\n",
              "      <td>0.886000</td>\n",
              "      <td>1</td>\n",
              "      <td>Bélgica</td>\n",
              "      <td>0.609</td>\n",
              "      <td>0.689</td>\n",
              "      <td>0.883890</td>\n",
              "      <td>0</td>\n",
              "    </tr>\n",
              "    <tr>\n",
              "      <th>14</th>\n",
              "      <td>Nueva Zelanda</td>\n",
              "      <td>0.085</td>\n",
              "      <td>1.000</td>\n",
              "      <td>0.085000</td>\n",
              "      <td>1</td>\n",
              "      <td>Canadá</td>\n",
              "      <td>0.589</td>\n",
              "      <td>0.663</td>\n",
              "      <td>0.888386</td>\n",
              "      <td>0</td>\n",
              "    </tr>\n",
              "    <tr>\n",
              "      <th>15</th>\n",
              "      <td>Suiza</td>\n",
              "      <td>1.000</td>\n",
              "      <td>1.000</td>\n",
              "      <td>1.000000</td>\n",
              "      <td>1</td>\n",
              "      <td>Chile</td>\n",
              "      <td>0.016</td>\n",
              "      <td>0.022</td>\n",
              "      <td>0.727273</td>\n",
              "      <td>0</td>\n",
              "    </tr>\n",
              "    <tr>\n",
              "      <th>16</th>\n",
              "      <td>Argentina</td>\n",
              "      <td>0.005</td>\n",
              "      <td>0.007</td>\n",
              "      <td>0.714286</td>\n",
              "      <td>0</td>\n",
              "      <td>Croacia</td>\n",
              "      <td>0.049</td>\n",
              "      <td>0.215</td>\n",
              "      <td>0.227907</td>\n",
              "      <td>0</td>\n",
              "    </tr>\n",
              "    <tr>\n",
              "      <th>17</th>\n",
              "      <td>Australia</td>\n",
              "      <td>0.177</td>\n",
              "      <td>0.319</td>\n",
              "      <td>0.554859</td>\n",
              "      <td>0</td>\n",
              "      <td>Eslovaquia</td>\n",
              "      <td>0.121</td>\n",
              "      <td>0.303</td>\n",
              "      <td>0.399340</td>\n",
              "      <td>0</td>\n",
              "    </tr>\n",
              "    <tr>\n",
              "      <th>18</th>\n",
              "      <td>Austria</td>\n",
              "      <td>0.167</td>\n",
              "      <td>0.289</td>\n",
              "      <td>0.577855</td>\n",
              "      <td>0</td>\n",
              "      <td>Eslovenia</td>\n",
              "      <td>0.025</td>\n",
              "      <td>0.265</td>\n",
              "      <td>0.094340</td>\n",
              "      <td>0</td>\n",
              "    </tr>\n",
              "    <tr>\n",
              "      <th>19</th>\n",
              "      <td>Bélgica</td>\n",
              "      <td>0.631</td>\n",
              "      <td>0.774</td>\n",
              "      <td>0.815245</td>\n",
              "      <td>0</td>\n",
              "      <td>Estados Unidos</td>\n",
              "      <td>1.000</td>\n",
              "      <td>1.000</td>\n",
              "      <td>1.000000</td>\n",
              "      <td>0</td>\n",
              "    </tr>\n",
              "    <tr>\n",
              "      <th>20</th>\n",
              "      <td>Brasil</td>\n",
              "      <td>0.202</td>\n",
              "      <td>1.000</td>\n",
              "      <td>0.202000</td>\n",
              "      <td>0</td>\n",
              "      <td>Francia</td>\n",
              "      <td>0.550</td>\n",
              "      <td>0.821</td>\n",
              "      <td>0.669915</td>\n",
              "      <td>0</td>\n",
              "    </tr>\n",
              "    <tr>\n",
              "      <th>21</th>\n",
              "      <td>Canadá</td>\n",
              "      <td>0.770</td>\n",
              "      <td>0.860</td>\n",
              "      <td>0.895349</td>\n",
              "      <td>0</td>\n",
              "      <td>Hungría</td>\n",
              "      <td>0.041</td>\n",
              "      <td>0.053</td>\n",
              "      <td>0.773585</td>\n",
              "      <td>0</td>\n",
              "    </tr>\n",
              "    <tr>\n",
              "      <th>22</th>\n",
              "      <td>Chile</td>\n",
              "      <td>0.030</td>\n",
              "      <td>0.043</td>\n",
              "      <td>0.697674</td>\n",
              "      <td>0</td>\n",
              "      <td>India</td>\n",
              "      <td>0.007</td>\n",
              "      <td>0.011</td>\n",
              "      <td>0.636364</td>\n",
              "      <td>0</td>\n",
              "    </tr>\n",
              "    <tr>\n",
              "      <th>23</th>\n",
              "      <td>Eslovaquia</td>\n",
              "      <td>0.121</td>\n",
              "      <td>0.339</td>\n",
              "      <td>0.356932</td>\n",
              "      <td>0</td>\n",
              "      <td>Israel</td>\n",
              "      <td>0.035</td>\n",
              "      <td>0.039</td>\n",
              "      <td>0.897436</td>\n",
              "      <td>0</td>\n",
              "    </tr>\n",
              "    <tr>\n",
              "      <th>24</th>\n",
              "      <td>Francia</td>\n",
              "      <td>0.563</td>\n",
              "      <td>0.735</td>\n",
              "      <td>0.765986</td>\n",
              "      <td>0</td>\n",
              "      <td>Italia</td>\n",
              "      <td>0.178</td>\n",
              "      <td>0.219</td>\n",
              "      <td>0.812785</td>\n",
              "      <td>0</td>\n",
              "    </tr>\n",
              "    <tr>\n",
              "      <th>25</th>\n",
              "      <td>Hungría</td>\n",
              "      <td>0.043</td>\n",
              "      <td>0.600</td>\n",
              "      <td>0.071667</td>\n",
              "      <td>0</td>\n",
              "      <td>Lituania</td>\n",
              "      <td>0.791</td>\n",
              "      <td>1.000</td>\n",
              "      <td>0.791000</td>\n",
              "      <td>0</td>\n",
              "    </tr>\n",
              "    <tr>\n",
              "      <th>26</th>\n",
              "      <td>India</td>\n",
              "      <td>0.090</td>\n",
              "      <td>1.000</td>\n",
              "      <td>0.090000</td>\n",
              "      <td>0</td>\n",
              "      <td>México</td>\n",
              "      <td>0.442</td>\n",
              "      <td>0.821</td>\n",
              "      <td>0.538368</td>\n",
              "      <td>0</td>\n",
              "    </tr>\n",
              "    <tr>\n",
              "      <th>27</th>\n",
              "      <td>Israel</td>\n",
              "      <td>0.072</td>\n",
              "      <td>0.144</td>\n",
              "      <td>0.500000</td>\n",
              "      <td>0</td>\n",
              "      <td>Nueva Zelanda</td>\n",
              "      <td>0.064</td>\n",
              "      <td>0.114</td>\n",
              "      <td>0.561404</td>\n",
              "      <td>0</td>\n",
              "    </tr>\n",
              "    <tr>\n",
              "      <th>28</th>\n",
              "      <td>Italia</td>\n",
              "      <td>0.205</td>\n",
              "      <td>0.222</td>\n",
              "      <td>0.923423</td>\n",
              "      <td>0</td>\n",
              "      <td>Países Bajos</td>\n",
              "      <td>1.000</td>\n",
              "      <td>1.000</td>\n",
              "      <td>1.000000</td>\n",
              "      <td>0</td>\n",
              "    </tr>\n",
              "    <tr>\n",
              "      <th>29</th>\n",
              "      <td>México</td>\n",
              "      <td>0.761</td>\n",
              "      <td>1.000</td>\n",
              "      <td>0.761000</td>\n",
              "      <td>0</td>\n",
              "      <td>República Checa</td>\n",
              "      <td>0.481</td>\n",
              "      <td>0.608</td>\n",
              "      <td>0.791118</td>\n",
              "      <td>0</td>\n",
              "    </tr>\n",
              "    <tr>\n",
              "      <th>30</th>\n",
              "      <td>República Checa</td>\n",
              "      <td>0.481</td>\n",
              "      <td>0.608</td>\n",
              "      <td>0.791118</td>\n",
              "      <td>0</td>\n",
              "      <td>Rumanía</td>\n",
              "      <td>0.073</td>\n",
              "      <td>0.120</td>\n",
              "      <td>0.608333</td>\n",
              "      <td>0</td>\n",
              "    </tr>\n",
              "    <tr>\n",
              "      <th>31</th>\n",
              "      <td>Rumanía</td>\n",
              "      <td>0.079</td>\n",
              "      <td>0.150</td>\n",
              "      <td>0.526667</td>\n",
              "      <td>0</td>\n",
              "      <td>Rusia</td>\n",
              "      <td>0.142</td>\n",
              "      <td>0.188</td>\n",
              "      <td>0.755319</td>\n",
              "      <td>0</td>\n",
              "    </tr>\n",
              "    <tr>\n",
              "      <th>32</th>\n",
              "      <td>Rusia</td>\n",
              "      <td>1.000</td>\n",
              "      <td>1.000</td>\n",
              "      <td>1.000000</td>\n",
              "      <td>0</td>\n",
              "      <td>Sudáfrica</td>\n",
              "      <td>0.010</td>\n",
              "      <td>0.012</td>\n",
              "      <td>0.833333</td>\n",
              "      <td>0</td>\n",
              "    </tr>\n",
              "  </tbody>\n",
              "</table>\n",
              "</div>"
            ],
            "text/plain": [
              "                DMU    CRS    VRS  ...  VRSsin  Escalasin número de veces\n",
              "0          Alemania  1.000  1.000  ...   1.000   0.054000              17\n",
              "1           Uruguay  0.063  1.000  ...   1.000   1.000000              13\n",
              "2       Reino Unido  1.000  1.000  ...   1.000   1.000000              11\n",
              "3            Serbia  1.000  1.000  ...   1.000   1.000000               7\n",
              "4          Portugal  1.000  1.000  ...   1.000   0.493000               6\n",
              "5           Croacia  1.000  1.000  ...   1.000   1.000000               6\n",
              "6    Estados Unidos  1.000  1.000  ...   1.000   1.000000               5\n",
              "7      Países Bajos  1.000  1.000  ...   1.000   0.129000               3\n",
              "8              Perú  0.233  1.000  ...   1.000   0.127000               1\n",
              "9            Suecia  0.641  1.000  ...   1.000   0.079000               1\n",
              "10        Eslovenia  0.444  1.000  ...   0.003   0.666667               0\n",
              "11          Letonia  1.000  1.000  ...   0.154   0.603896               0\n",
              "12        Sudáfrica  0.022  1.000  ...   0.109   0.935780               0\n",
              "13         Lituania  0.886  1.000  ...   0.689   0.883890               0\n",
              "14    Nueva Zelanda  0.085  1.000  ...   0.663   0.888386               0\n",
              "15            Suiza  1.000  1.000  ...   0.022   0.727273               0\n",
              "16        Argentina  0.005  0.007  ...   0.215   0.227907               0\n",
              "17        Australia  0.177  0.319  ...   0.303   0.399340               0\n",
              "18          Austria  0.167  0.289  ...   0.265   0.094340               0\n",
              "19          Bélgica  0.631  0.774  ...   1.000   1.000000               0\n",
              "20           Brasil  0.202  1.000  ...   0.821   0.669915               0\n",
              "21           Canadá  0.770  0.860  ...   0.053   0.773585               0\n",
              "22            Chile  0.030  0.043  ...   0.011   0.636364               0\n",
              "23       Eslovaquia  0.121  0.339  ...   0.039   0.897436               0\n",
              "24          Francia  0.563  0.735  ...   0.219   0.812785               0\n",
              "25          Hungría  0.043  0.600  ...   1.000   0.791000               0\n",
              "26            India  0.090  1.000  ...   0.821   0.538368               0\n",
              "27           Israel  0.072  0.144  ...   0.114   0.561404               0\n",
              "28           Italia  0.205  0.222  ...   1.000   1.000000               0\n",
              "29           México  0.761  1.000  ...   0.608   0.791118               0\n",
              "30  República Checa  0.481  0.608  ...   0.120   0.608333               0\n",
              "31          Rumanía  0.079  0.150  ...   0.188   0.755319               0\n",
              "32            Rusia  1.000  1.000  ...   0.012   0.833333               0\n",
              "\n",
              "[33 rows x 10 columns]"
            ]
          },
          "metadata": {
            "tags": []
          },
          "execution_count": 12
        }
      ]
    },
    {
      "cell_type": "code",
      "metadata": {
        "colab": {
          "base_uri": "https://localhost:8080/",
          "height": 312
        },
        "id": "HypW4ASh6utf",
        "outputId": "7f3e7bf4-6721-4890-ba94-217f67cf7c24"
      },
      "source": [
        "country['Escala'].hist(bins=50)\n",
        "plt.ylabel('Frecuencia')\n",
        "plt.xlabel('Score de eficiencia')\n",
        "plt.title('Distribución de los scores de eficiencia Escala')"
      ],
      "execution_count": null,
      "outputs": [
        {
          "output_type": "execute_result",
          "data": {
            "text/plain": [
              "Text(0.5, 1.0, 'Distribución de los scores de eficiencia Escala')"
            ]
          },
          "metadata": {
            "tags": []
          },
          "execution_count": 13
        },
        {
          "output_type": "display_data",
          "data": {
            "image/png": "[encoded data removed]",
            "text/plain": [
              "<Figure size 432x288 with 1 Axes>"
            ]
          },
          "metadata": {
            "tags": [],
            "needs_background": "light"
          }
        }
      ]
    }
  ]
}