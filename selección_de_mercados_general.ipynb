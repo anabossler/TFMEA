{
  "nbformat": 4,
  "nbformat_minor": 0,
  "metadata": {
    "colab": {
      "name": "selección de mercados: general",
      "provenance": []
    },
    "kernelspec": {
      "name": "python3",
      "display_name": "Python 3"
    }
  },
  "cells": [
    {
      "cell_type": "code",
      "metadata": {
        "colab": {
          "base_uri": "https://localhost:8080/"
        },
        "id": "5tEfpk9R71ji",
        "outputId": "3411f54d-0bba-47a8-8c52-52cbe0f2df44"
      },
      "source": [
        "import pandas as pd\n",
        "from sklearn.model_selection import train_test_split\n",
        "import matplotlib.pyplot as plt\n",
        "import numpy as np\n",
        "import sklearn\n",
        "# Commented out IPython magic to ensure Python compatibility.\n",
        "import seaborn as sns\n",
        "# %matplotlib inline\n",
        "\n",
        "print(\"Versión de librería sklearn: {}\".format(sklearn.__version__))"
      ],
      "execution_count": 48,
      "outputs": [
        {
          "output_type": "stream",
          "text": [
            "Versión de librería sklearn: 0.22.2.post1\n"
          ],
          "name": "stdout"
        }
      ]
    },
    {
      "cell_type": "code",
      "metadata": {
        "id": "TeoDu-1rJ_9F"
      },
      "source": [
        "import numpy as np"
      ],
      "execution_count": 51,
      "outputs": []
    },
    {
      "cell_type": "code",
      "metadata": {
        "id": "dw6yobe48wh3"
      },
      "source": [
        "mercado = pd.read_csv('/content/Cópia de vinotrabajo - Sheet1.csv', header=0)\n",
        "tfm = pd.read_csv('/content/basededatostfmrestringido - Hoja 1.csv', header=0)\n"
      ],
      "execution_count": 81,
      "outputs": []
    },
    {
      "cell_type": "code",
      "metadata": {
        "colab": {
          "base_uri": "https://localhost:8080/"
        },
        "id": "MmZmjV4l9JGr",
        "outputId": "bc5c4970-4b14-4338-9eba-0cda05564426"
      },
      "source": [
        "mercado.shape\n"
      ],
      "execution_count": 4,
      "outputs": [
        {
          "output_type": "execute_result",
          "data": {
            "text/plain": [
              "(4292, 3)"
            ]
          },
          "metadata": {
            "tags": []
          },
          "execution_count": 4
        }
      ]
    },
    {
      "cell_type": "code",
      "metadata": {
        "colab": {
          "base_uri": "https://localhost:8080/"
        },
        "id": "HGjfEddQ9V-g",
        "outputId": "104f3a2f-af59-413d-bea2-f3b67b780636"
      },
      "source": [
        "tfm.shape"
      ],
      "execution_count": 5,
      "outputs": [
        {
          "output_type": "execute_result",
          "data": {
            "text/plain": [
              "(33, 10)"
            ]
          },
          "metadata": {
            "tags": []
          },
          "execution_count": 5
        }
      ]
    },
    {
      "cell_type": "code",
      "metadata": {
        "colab": {
          "base_uri": "https://localhost:8080/"
        },
        "id": "y7id2rwc9Xy7",
        "outputId": "7610b1aa-8d8b-48cd-e9a4-7b40cc4d2d3f"
      },
      "source": [
        "mercado.columns"
      ],
      "execution_count": 54,
      "outputs": [
        {
          "output_type": "execute_result",
          "data": {
            "text/plain": [
              "Index(['Marca', 'preciolitro', 'País'], dtype='object')"
            ]
          },
          "metadata": {
            "tags": []
          },
          "execution_count": 54
        }
      ]
    },
    {
      "cell_type": "code",
      "metadata": {
        "colab": {
          "base_uri": "https://localhost:8080/"
        },
        "id": "SCUZhTTQ9eyj",
        "outputId": "265d2afb-e8a2-4796-9f38-9e2aaceca2b6"
      },
      "source": [
        "tfm.columns"
      ],
      "execution_count": 57,
      "outputs": [
        {
          "output_type": "execute_result",
          "data": {
            "text/plain": [
              "Index(['País', 'valorexpo', 'porcexpoespaña', 'porceimpoespa', 'cantidad',\n",
              "       'precio', 'porcenimpoomundial', 'crecimvalorcinc', 'Distancia',\n",
              "       'concentracion', 'ease_doing', 'restaurantes', 'preciominor',\n",
              "       'calidadvino'],\n",
              "      dtype='object')"
            ]
          },
          "metadata": {
            "tags": []
          },
          "execution_count": 57
        }
      ]
    },
    {
      "cell_type": "code",
      "metadata": {
        "colab": {
          "base_uri": "https://localhost:8080/",
          "height": 859
        },
        "id": "7ZWawX5H9ugH",
        "outputId": "7e4e9e2d-7e38-4710-c9d8-011e57053ae5"
      },
      "source": [
        "unificado = pd.merge(mercado, tfm, on='País')\n",
        "unificado"
      ],
      "execution_count": 58,
      "outputs": [
        {
          "output_type": "execute_result",
          "data": {
            "text/html": [
              "<div>\n",
              "<style scoped>\n",
              "    .dataframe tbody tr th:only-of-type {\n",
              "        vertical-align: middle;\n",
              "    }\n",
              "\n",
              "    .dataframe tbody tr th {\n",
              "        vertical-align: top;\n",
              "    }\n",
              "\n",
              "    .dataframe thead th {\n",
              "        text-align: right;\n",
              "    }\n",
              "</style>\n",
              "<table border=\"1\" class=\"dataframe\">\n",
              "  <thead>\n",
              "    <tr style=\"text-align: right;\">\n",
              "      <th></th>\n",
              "      <th>Marca</th>\n",
              "      <th>preciolitro</th>\n",
              "      <th>País</th>\n",
              "      <th>valorexpo</th>\n",
              "      <th>porcexpoespaña</th>\n",
              "      <th>porceimpoespa</th>\n",
              "      <th>cantidad</th>\n",
              "      <th>precio</th>\n",
              "      <th>porcenimpoomundial</th>\n",
              "      <th>crecimvalorcinc</th>\n",
              "      <th>Distancia</th>\n",
              "      <th>concentracion</th>\n",
              "      <th>ease_doing</th>\n",
              "      <th>restaurantes</th>\n",
              "      <th>preciominor</th>\n",
              "      <th>calidadvino</th>\n",
              "    </tr>\n",
              "  </thead>\n",
              "  <tbody>\n",
              "    <tr>\n",
              "      <th>0</th>\n",
              "      <td>Kloster Eberbach Spätburgunder rosé Rheingau Q...</td>\n",
              "      <td>10.65</td>\n",
              "      <td>Alemania</td>\n",
              "      <td>375263</td>\n",
              "      <td>12.2</td>\n",
              "      <td>14.1</td>\n",
              "      <td>360815</td>\n",
              "      <td>1040</td>\n",
              "      <td>8.0</td>\n",
              "      <td>3</td>\n",
              "      <td>2297</td>\n",
              "      <td>0.25</td>\n",
              "      <td>22</td>\n",
              "      <td>60</td>\n",
              "      <td>12.6</td>\n",
              "      <td>89.9</td>\n",
              "    </tr>\n",
              "    <tr>\n",
              "      <th>1</th>\n",
              "      <td>Osborne Solaz Tempranillo 14.50 % vol 0.75 Liter</td>\n",
              "      <td>6.60</td>\n",
              "      <td>Alemania</td>\n",
              "      <td>375263</td>\n",
              "      <td>12.2</td>\n",
              "      <td>14.1</td>\n",
              "      <td>360815</td>\n",
              "      <td>1040</td>\n",
              "      <td>8.0</td>\n",
              "      <td>3</td>\n",
              "      <td>2297</td>\n",
              "      <td>0.25</td>\n",
              "      <td>22</td>\n",
              "      <td>60</td>\n",
              "      <td>12.6</td>\n",
              "      <td>89.9</td>\n",
              "    </tr>\n",
              "    <tr>\n",
              "      <th>2</th>\n",
              "      <td>Finca los Príncipes Rioja Crianza 13.5 % vol 0...</td>\n",
              "      <td>7.97</td>\n",
              "      <td>Alemania</td>\n",
              "      <td>375263</td>\n",
              "      <td>12.2</td>\n",
              "      <td>14.1</td>\n",
              "      <td>360815</td>\n",
              "      <td>1040</td>\n",
              "      <td>8.0</td>\n",
              "      <td>3</td>\n",
              "      <td>2297</td>\n",
              "      <td>0.25</td>\n",
              "      <td>22</td>\n",
              "      <td>60</td>\n",
              "      <td>12.6</td>\n",
              "      <td>89.9</td>\n",
              "    </tr>\n",
              "    <tr>\n",
              "      <th>3</th>\n",
              "      <td>Fetzer Eagle Peak Merlot 13.5 % vol. 0.75 Liter</td>\n",
              "      <td>9.32</td>\n",
              "      <td>Alemania</td>\n",
              "      <td>375263</td>\n",
              "      <td>12.2</td>\n",
              "      <td>14.1</td>\n",
              "      <td>360815</td>\n",
              "      <td>1040</td>\n",
              "      <td>8.0</td>\n",
              "      <td>3</td>\n",
              "      <td>2297</td>\n",
              "      <td>0.25</td>\n",
              "      <td>22</td>\n",
              "      <td>60</td>\n",
              "      <td>12.6</td>\n",
              "      <td>89.9</td>\n",
              "    </tr>\n",
              "    <tr>\n",
              "      <th>4</th>\n",
              "      <td>Brumale Grecanico Inzolia Terre Siciliane IGT ...</td>\n",
              "      <td>5.99</td>\n",
              "      <td>Alemania</td>\n",
              "      <td>375263</td>\n",
              "      <td>12.2</td>\n",
              "      <td>14.1</td>\n",
              "      <td>360815</td>\n",
              "      <td>1040</td>\n",
              "      <td>8.0</td>\n",
              "      <td>3</td>\n",
              "      <td>2297</td>\n",
              "      <td>0.25</td>\n",
              "      <td>22</td>\n",
              "      <td>60</td>\n",
              "      <td>12.6</td>\n",
              "      <td>89.9</td>\n",
              "    </tr>\n",
              "    <tr>\n",
              "      <th>...</th>\n",
              "      <td>...</td>\n",
              "      <td>...</td>\n",
              "      <td>...</td>\n",
              "      <td>...</td>\n",
              "      <td>...</td>\n",
              "      <td>...</td>\n",
              "      <td>...</td>\n",
              "      <td>...</td>\n",
              "      <td>...</td>\n",
              "      <td>...</td>\n",
              "      <td>...</td>\n",
              "      <td>...</td>\n",
              "      <td>...</td>\n",
              "      <td>...</td>\n",
              "      <td>...</td>\n",
              "      <td>...</td>\n",
              "    </tr>\n",
              "    <tr>\n",
              "      <th>2440</th>\n",
              "      <td>Nuits Saint Georges AC. 75cl. 2016</td>\n",
              "      <td>75.87</td>\n",
              "      <td>Suiza</td>\n",
              "      <td>128808</td>\n",
              "      <td>4.2</td>\n",
              "      <td>11.6</td>\n",
              "      <td>25499</td>\n",
              "      <td>5051</td>\n",
              "      <td>3.3</td>\n",
              "      <td>4</td>\n",
              "      <td>1159</td>\n",
              "      <td>0.28</td>\n",
              "      <td>36</td>\n",
              "      <td>74</td>\n",
              "      <td>13.8</td>\n",
              "      <td>88.57</td>\n",
              "    </tr>\n",
              "    <tr>\n",
              "      <th>2441</th>\n",
              "      <td>Grand Vin Son Mayol. 75cl. 2016</td>\n",
              "      <td>118.53</td>\n",
              "      <td>Suiza</td>\n",
              "      <td>128808</td>\n",
              "      <td>4.2</td>\n",
              "      <td>11.6</td>\n",
              "      <td>25499</td>\n",
              "      <td>5051</td>\n",
              "      <td>3.3</td>\n",
              "      <td>4</td>\n",
              "      <td>1159</td>\n",
              "      <td>0.28</td>\n",
              "      <td>36</td>\n",
              "      <td>74</td>\n",
              "      <td>13.8</td>\n",
              "      <td>88.57</td>\n",
              "    </tr>\n",
              "    <tr>\n",
              "      <th>2442</th>\n",
              "      <td>Bio Amoreira da Torre. 75cl. 2019</td>\n",
              "      <td>15.87</td>\n",
              "      <td>Suiza</td>\n",
              "      <td>128808</td>\n",
              "      <td>4.2</td>\n",
              "      <td>11.6</td>\n",
              "      <td>25499</td>\n",
              "      <td>5051</td>\n",
              "      <td>3.3</td>\n",
              "      <td>4</td>\n",
              "      <td>1159</td>\n",
              "      <td>0.28</td>\n",
              "      <td>36</td>\n",
              "      <td>74</td>\n",
              "      <td>13.8</td>\n",
              "      <td>88.57</td>\n",
              "    </tr>\n",
              "    <tr>\n",
              "      <th>2443</th>\n",
              "      <td>Ramiro's. 75cl. 2016</td>\n",
              "      <td>74.53</td>\n",
              "      <td>Suiza</td>\n",
              "      <td>128808</td>\n",
              "      <td>4.2</td>\n",
              "      <td>11.6</td>\n",
              "      <td>25499</td>\n",
              "      <td>5051</td>\n",
              "      <td>3.3</td>\n",
              "      <td>4</td>\n",
              "      <td>1159</td>\n",
              "      <td>0.28</td>\n",
              "      <td>36</td>\n",
              "      <td>74</td>\n",
              "      <td>13.8</td>\n",
              "      <td>88.57</td>\n",
              "    </tr>\n",
              "    <tr>\n",
              "      <th>2444</th>\n",
              "      <td>Cornalin AOC. 75cl. 2018</td>\n",
              "      <td>37.47</td>\n",
              "      <td>Suiza</td>\n",
              "      <td>128808</td>\n",
              "      <td>4.2</td>\n",
              "      <td>11.6</td>\n",
              "      <td>25499</td>\n",
              "      <td>5051</td>\n",
              "      <td>3.3</td>\n",
              "      <td>4</td>\n",
              "      <td>1159</td>\n",
              "      <td>0.28</td>\n",
              "      <td>36</td>\n",
              "      <td>74</td>\n",
              "      <td>13.8</td>\n",
              "      <td>88.57</td>\n",
              "    </tr>\n",
              "  </tbody>\n",
              "</table>\n",
              "<p>2445 rows × 16 columns</p>\n",
              "</div>"
            ],
            "text/plain": [
              "                                                  Marca  ... calidadvino\n",
              "0     Kloster Eberbach Spätburgunder rosé Rheingau Q...  ...        89.9\n",
              "1      Osborne Solaz Tempranillo 14.50 % vol 0.75 Liter  ...        89.9\n",
              "2     Finca los Príncipes Rioja Crianza 13.5 % vol 0...  ...        89.9\n",
              "3       Fetzer Eagle Peak Merlot 13.5 % vol. 0.75 Liter  ...        89.9\n",
              "4     Brumale Grecanico Inzolia Terre Siciliane IGT ...  ...        89.9\n",
              "...                                                 ...  ...         ...\n",
              "2440                 Nuits Saint Georges AC. 75cl. 2016  ...       88.57\n",
              "2441                    Grand Vin Son Mayol. 75cl. 2016  ...       88.57\n",
              "2442                  Bio Amoreira da Torre. 75cl. 2019  ...       88.57\n",
              "2443                               Ramiro's. 75cl. 2016  ...       88.57\n",
              "2444                           Cornalin AOC. 75cl. 2018  ...       88.57\n",
              "\n",
              "[2445 rows x 16 columns]"
            ]
          },
          "metadata": {
            "tags": []
          },
          "execution_count": 58
        }
      ]
    },
    {
      "cell_type": "code",
      "metadata": {
        "colab": {
          "base_uri": "https://localhost:8080/"
        },
        "id": "sS7968r794zC",
        "outputId": "d5ffe7f6-c5b9-4cca-df57-3b4f882199b8"
      },
      "source": [
        "unificado.columns"
      ],
      "execution_count": 12,
      "outputs": [
        {
          "output_type": "execute_result",
          "data": {
            "text/plain": [
              "Index(['Marca', 'preciolitro', 'País', 'u1', 'u2', 'u3', 'x1', 'x3', 'x4',\n",
              "       'x6', 'x7', 'x10'],\n",
              "      dtype='object')"
            ]
          },
          "metadata": {
            "tags": []
          },
          "execution_count": 12
        }
      ]
    },
    {
      "cell_type": "code",
      "metadata": {
        "colab": {
          "base_uri": "https://localhost:8080/"
        },
        "id": "cvS2LlH898jx",
        "outputId": "69e1417a-998f-47bd-bd71-b0ed0bf48283"
      },
      "source": [
        "unificado.shape"
      ],
      "execution_count": 13,
      "outputs": [
        {
          "output_type": "execute_result",
          "data": {
            "text/plain": [
              "(2555, 12)"
            ]
          },
          "metadata": {
            "tags": []
          },
          "execution_count": 13
        }
      ]
    },
    {
      "cell_type": "code",
      "metadata": {
        "colab": {
          "base_uri": "https://localhost:8080/",
          "height": 427
        },
        "id": "UXcaCf3M-K35",
        "outputId": "020aeff0-33ff-4690-bb6b-43e267f0d21f"
      },
      "source": [
        "unificado = unificado.drop(['Marca'],axis=1)\n",
        "unificado"
      ],
      "execution_count": 59,
      "outputs": [
        {
          "output_type": "execute_result",
          "data": {
            "text/html": [
              "<div>\n",
              "<style scoped>\n",
              "    .dataframe tbody tr th:only-of-type {\n",
              "        vertical-align: middle;\n",
              "    }\n",
              "\n",
              "    .dataframe tbody tr th {\n",
              "        vertical-align: top;\n",
              "    }\n",
              "\n",
              "    .dataframe thead th {\n",
              "        text-align: right;\n",
              "    }\n",
              "</style>\n",
              "<table border=\"1\" class=\"dataframe\">\n",
              "  <thead>\n",
              "    <tr style=\"text-align: right;\">\n",
              "      <th></th>\n",
              "      <th>preciolitro</th>\n",
              "      <th>País</th>\n",
              "      <th>valorexpo</th>\n",
              "      <th>porcexpoespaña</th>\n",
              "      <th>porceimpoespa</th>\n",
              "      <th>cantidad</th>\n",
              "      <th>precio</th>\n",
              "      <th>porcenimpoomundial</th>\n",
              "      <th>crecimvalorcinc</th>\n",
              "      <th>Distancia</th>\n",
              "      <th>concentracion</th>\n",
              "      <th>ease_doing</th>\n",
              "      <th>restaurantes</th>\n",
              "      <th>preciominor</th>\n",
              "      <th>calidadvino</th>\n",
              "    </tr>\n",
              "  </thead>\n",
              "  <tbody>\n",
              "    <tr>\n",
              "      <th>0</th>\n",
              "      <td>10.65</td>\n",
              "      <td>Alemania</td>\n",
              "      <td>375263</td>\n",
              "      <td>12.2</td>\n",
              "      <td>14.1</td>\n",
              "      <td>360815</td>\n",
              "      <td>1040</td>\n",
              "      <td>8.0</td>\n",
              "      <td>3</td>\n",
              "      <td>2297</td>\n",
              "      <td>0.25</td>\n",
              "      <td>22</td>\n",
              "      <td>60</td>\n",
              "      <td>12.6</td>\n",
              "      <td>89.9</td>\n",
              "    </tr>\n",
              "    <tr>\n",
              "      <th>1</th>\n",
              "      <td>6.60</td>\n",
              "      <td>Alemania</td>\n",
              "      <td>375263</td>\n",
              "      <td>12.2</td>\n",
              "      <td>14.1</td>\n",
              "      <td>360815</td>\n",
              "      <td>1040</td>\n",
              "      <td>8.0</td>\n",
              "      <td>3</td>\n",
              "      <td>2297</td>\n",
              "      <td>0.25</td>\n",
              "      <td>22</td>\n",
              "      <td>60</td>\n",
              "      <td>12.6</td>\n",
              "      <td>89.9</td>\n",
              "    </tr>\n",
              "    <tr>\n",
              "      <th>2</th>\n",
              "      <td>7.97</td>\n",
              "      <td>Alemania</td>\n",
              "      <td>375263</td>\n",
              "      <td>12.2</td>\n",
              "      <td>14.1</td>\n",
              "      <td>360815</td>\n",
              "      <td>1040</td>\n",
              "      <td>8.0</td>\n",
              "      <td>3</td>\n",
              "      <td>2297</td>\n",
              "      <td>0.25</td>\n",
              "      <td>22</td>\n",
              "      <td>60</td>\n",
              "      <td>12.6</td>\n",
              "      <td>89.9</td>\n",
              "    </tr>\n",
              "    <tr>\n",
              "      <th>3</th>\n",
              "      <td>9.32</td>\n",
              "      <td>Alemania</td>\n",
              "      <td>375263</td>\n",
              "      <td>12.2</td>\n",
              "      <td>14.1</td>\n",
              "      <td>360815</td>\n",
              "      <td>1040</td>\n",
              "      <td>8.0</td>\n",
              "      <td>3</td>\n",
              "      <td>2297</td>\n",
              "      <td>0.25</td>\n",
              "      <td>22</td>\n",
              "      <td>60</td>\n",
              "      <td>12.6</td>\n",
              "      <td>89.9</td>\n",
              "    </tr>\n",
              "    <tr>\n",
              "      <th>4</th>\n",
              "      <td>5.99</td>\n",
              "      <td>Alemania</td>\n",
              "      <td>375263</td>\n",
              "      <td>12.2</td>\n",
              "      <td>14.1</td>\n",
              "      <td>360815</td>\n",
              "      <td>1040</td>\n",
              "      <td>8.0</td>\n",
              "      <td>3</td>\n",
              "      <td>2297</td>\n",
              "      <td>0.25</td>\n",
              "      <td>22</td>\n",
              "      <td>60</td>\n",
              "      <td>12.6</td>\n",
              "      <td>89.9</td>\n",
              "    </tr>\n",
              "    <tr>\n",
              "      <th>...</th>\n",
              "      <td>...</td>\n",
              "      <td>...</td>\n",
              "      <td>...</td>\n",
              "      <td>...</td>\n",
              "      <td>...</td>\n",
              "      <td>...</td>\n",
              "      <td>...</td>\n",
              "      <td>...</td>\n",
              "      <td>...</td>\n",
              "      <td>...</td>\n",
              "      <td>...</td>\n",
              "      <td>...</td>\n",
              "      <td>...</td>\n",
              "      <td>...</td>\n",
              "      <td>...</td>\n",
              "    </tr>\n",
              "    <tr>\n",
              "      <th>2440</th>\n",
              "      <td>75.87</td>\n",
              "      <td>Suiza</td>\n",
              "      <td>128808</td>\n",
              "      <td>4.2</td>\n",
              "      <td>11.6</td>\n",
              "      <td>25499</td>\n",
              "      <td>5051</td>\n",
              "      <td>3.3</td>\n",
              "      <td>4</td>\n",
              "      <td>1159</td>\n",
              "      <td>0.28</td>\n",
              "      <td>36</td>\n",
              "      <td>74</td>\n",
              "      <td>13.8</td>\n",
              "      <td>88.57</td>\n",
              "    </tr>\n",
              "    <tr>\n",
              "      <th>2441</th>\n",
              "      <td>118.53</td>\n",
              "      <td>Suiza</td>\n",
              "      <td>128808</td>\n",
              "      <td>4.2</td>\n",
              "      <td>11.6</td>\n",
              "      <td>25499</td>\n",
              "      <td>5051</td>\n",
              "      <td>3.3</td>\n",
              "      <td>4</td>\n",
              "      <td>1159</td>\n",
              "      <td>0.28</td>\n",
              "      <td>36</td>\n",
              "      <td>74</td>\n",
              "      <td>13.8</td>\n",
              "      <td>88.57</td>\n",
              "    </tr>\n",
              "    <tr>\n",
              "      <th>2442</th>\n",
              "      <td>15.87</td>\n",
              "      <td>Suiza</td>\n",
              "      <td>128808</td>\n",
              "      <td>4.2</td>\n",
              "      <td>11.6</td>\n",
              "      <td>25499</td>\n",
              "      <td>5051</td>\n",
              "      <td>3.3</td>\n",
              "      <td>4</td>\n",
              "      <td>1159</td>\n",
              "      <td>0.28</td>\n",
              "      <td>36</td>\n",
              "      <td>74</td>\n",
              "      <td>13.8</td>\n",
              "      <td>88.57</td>\n",
              "    </tr>\n",
              "    <tr>\n",
              "      <th>2443</th>\n",
              "      <td>74.53</td>\n",
              "      <td>Suiza</td>\n",
              "      <td>128808</td>\n",
              "      <td>4.2</td>\n",
              "      <td>11.6</td>\n",
              "      <td>25499</td>\n",
              "      <td>5051</td>\n",
              "      <td>3.3</td>\n",
              "      <td>4</td>\n",
              "      <td>1159</td>\n",
              "      <td>0.28</td>\n",
              "      <td>36</td>\n",
              "      <td>74</td>\n",
              "      <td>13.8</td>\n",
              "      <td>88.57</td>\n",
              "    </tr>\n",
              "    <tr>\n",
              "      <th>2444</th>\n",
              "      <td>37.47</td>\n",
              "      <td>Suiza</td>\n",
              "      <td>128808</td>\n",
              "      <td>4.2</td>\n",
              "      <td>11.6</td>\n",
              "      <td>25499</td>\n",
              "      <td>5051</td>\n",
              "      <td>3.3</td>\n",
              "      <td>4</td>\n",
              "      <td>1159</td>\n",
              "      <td>0.28</td>\n",
              "      <td>36</td>\n",
              "      <td>74</td>\n",
              "      <td>13.8</td>\n",
              "      <td>88.57</td>\n",
              "    </tr>\n",
              "  </tbody>\n",
              "</table>\n",
              "<p>2445 rows × 15 columns</p>\n",
              "</div>"
            ],
            "text/plain": [
              "     preciolitro      País  valorexpo  ...  restaurantes  preciominor  calidadvino\n",
              "0          10.65  Alemania     375263  ...            60         12.6         89.9\n",
              "1           6.60  Alemania     375263  ...            60         12.6         89.9\n",
              "2           7.97  Alemania     375263  ...            60         12.6         89.9\n",
              "3           9.32  Alemania     375263  ...            60         12.6         89.9\n",
              "4           5.99  Alemania     375263  ...            60         12.6         89.9\n",
              "...          ...       ...        ...  ...           ...          ...          ...\n",
              "2440       75.87     Suiza     128808  ...            74         13.8        88.57\n",
              "2441      118.53     Suiza     128808  ...            74         13.8        88.57\n",
              "2442       15.87     Suiza     128808  ...            74         13.8        88.57\n",
              "2443       74.53     Suiza     128808  ...            74         13.8        88.57\n",
              "2444       37.47     Suiza     128808  ...            74         13.8        88.57\n",
              "\n",
              "[2445 rows x 15 columns]"
            ]
          },
          "metadata": {
            "tags": []
          },
          "execution_count": 59
        }
      ]
    },
    {
      "cell_type": "code",
      "metadata": {
        "colab": {
          "base_uri": "https://localhost:8080/",
          "height": 338
        },
        "id": "04ZFyzFDPeiR",
        "outputId": "b3d995a2-b70b-4818-92db-d3eb4652f88a"
      },
      "source": [
        "tfm['País']= tfm['País'].map( {'Alemania': 0, 'Austria': 1, 'Bélgica': 2, 'Italia': 3, 'Francia': 4, 'República Checa': 5, 'Suiza': 6, 'Suecia': 7, 'Portugal': 8, 'Checa':9, 'Austria':10 })#.astype(int)\n",
        "tfm"
      ],
      "execution_count": 82,
      "outputs": [
        {
          "output_type": "execute_result",
          "data": {
            "text/html": [
              "<div>\n",
              "<style scoped>\n",
              "    .dataframe tbody tr th:only-of-type {\n",
              "        vertical-align: middle;\n",
              "    }\n",
              "\n",
              "    .dataframe tbody tr th {\n",
              "        vertical-align: top;\n",
              "    }\n",
              "\n",
              "    .dataframe thead th {\n",
              "        text-align: right;\n",
              "    }\n",
              "</style>\n",
              "<table border=\"1\" class=\"dataframe\">\n",
              "  <thead>\n",
              "    <tr style=\"text-align: right;\">\n",
              "      <th></th>\n",
              "      <th>País</th>\n",
              "      <th>valorexpo</th>\n",
              "      <th>porcexpoespaña</th>\n",
              "      <th>porceimpoespa</th>\n",
              "      <th>cantidad</th>\n",
              "      <th>precio</th>\n",
              "      <th>porcenimpoomundial</th>\n",
              "      <th>crecimvalorcinc</th>\n",
              "      <th>Distancia</th>\n",
              "      <th>concentracion</th>\n",
              "      <th>ease_doing</th>\n",
              "      <th>restaurantes</th>\n",
              "      <th>preciominor</th>\n",
              "      <th>calidadvino</th>\n",
              "    </tr>\n",
              "  </thead>\n",
              "  <tbody>\n",
              "    <tr>\n",
              "      <th>0</th>\n",
              "      <td>0</td>\n",
              "      <td>375263</td>\n",
              "      <td>12.2</td>\n",
              "      <td>14.1</td>\n",
              "      <td>360815</td>\n",
              "      <td>1040</td>\n",
              "      <td>8.0</td>\n",
              "      <td>3</td>\n",
              "      <td>2297</td>\n",
              "      <td>0.25</td>\n",
              "      <td>22</td>\n",
              "      <td>60</td>\n",
              "      <td>12.6</td>\n",
              "      <td>89.90</td>\n",
              "    </tr>\n",
              "    <tr>\n",
              "      <th>1</th>\n",
              "      <td>4</td>\n",
              "      <td>290855</td>\n",
              "      <td>9.5</td>\n",
              "      <td>28.6</td>\n",
              "      <td>536123</td>\n",
              "      <td>543</td>\n",
              "      <td>2.7</td>\n",
              "      <td>9</td>\n",
              "      <td>3212</td>\n",
              "      <td>0.16</td>\n",
              "      <td>32</td>\n",
              "      <td>188</td>\n",
              "      <td>10.3</td>\n",
              "      <td>88.40</td>\n",
              "    </tr>\n",
              "    <tr>\n",
              "      <th>2</th>\n",
              "      <td>6</td>\n",
              "      <td>128808</td>\n",
              "      <td>4.2</td>\n",
              "      <td>11.6</td>\n",
              "      <td>25499</td>\n",
              "      <td>5051</td>\n",
              "      <td>3.3</td>\n",
              "      <td>4</td>\n",
              "      <td>1159</td>\n",
              "      <td>0.28</td>\n",
              "      <td>36</td>\n",
              "      <td>74</td>\n",
              "      <td>13.8</td>\n",
              "      <td>88.57</td>\n",
              "    </tr>\n",
              "    <tr>\n",
              "      <th>3</th>\n",
              "      <td>8</td>\n",
              "      <td>125514</td>\n",
              "      <td>4.1</td>\n",
              "      <td>75.7</td>\n",
              "      <td>257144</td>\n",
              "      <td>488</td>\n",
              "      <td>0.5</td>\n",
              "      <td>13</td>\n",
              "      <td>889</td>\n",
              "      <td>0.59</td>\n",
              "      <td>39</td>\n",
              "      <td>26</td>\n",
              "      <td>58.3</td>\n",
              "      <td>88.25</td>\n",
              "    </tr>\n",
              "    <tr>\n",
              "      <th>4</th>\n",
              "      <td>2</td>\n",
              "      <td>109994</td>\n",
              "      <td>3.6</td>\n",
              "      <td>10.3</td>\n",
              "      <td>49068</td>\n",
              "      <td>2242</td>\n",
              "      <td>3.1</td>\n",
              "      <td>4</td>\n",
              "      <td>1513</td>\n",
              "      <td>0.33</td>\n",
              "      <td>46</td>\n",
              "      <td>44</td>\n",
              "      <td>5.7</td>\n",
              "      <td>90.40</td>\n",
              "    </tr>\n",
              "    <tr>\n",
              "      <th>5</th>\n",
              "      <td>7</td>\n",
              "      <td>72597</td>\n",
              "      <td>2.4</td>\n",
              "      <td>11.0</td>\n",
              "      <td>23871</td>\n",
              "      <td>3041</td>\n",
              "      <td>2.1</td>\n",
              "      <td>3</td>\n",
              "      <td>3358</td>\n",
              "      <td>0.16</td>\n",
              "      <td>10</td>\n",
              "      <td>26</td>\n",
              "      <td>9.6</td>\n",
              "      <td>83.00</td>\n",
              "    </tr>\n",
              "    <tr>\n",
              "      <th>6</th>\n",
              "      <td>3</td>\n",
              "      <td>65576</td>\n",
              "      <td>2.1</td>\n",
              "      <td>18.6</td>\n",
              "      <td>112596</td>\n",
              "      <td>582</td>\n",
              "      <td>1.0</td>\n",
              "      <td>3</td>\n",
              "      <td>1026</td>\n",
              "      <td>0.53</td>\n",
              "      <td>58</td>\n",
              "      <td>100</td>\n",
              "      <td>10.2</td>\n",
              "      <td>88.56</td>\n",
              "    </tr>\n",
              "    <tr>\n",
              "      <th>7</th>\n",
              "      <td>5</td>\n",
              "      <td>15707</td>\n",
              "      <td>0.5</td>\n",
              "      <td>8.0</td>\n",
              "      <td>16986</td>\n",
              "      <td>925</td>\n",
              "      <td>0.7</td>\n",
              "      <td>9</td>\n",
              "      <td>1758</td>\n",
              "      <td>0.14</td>\n",
              "      <td>41</td>\n",
              "      <td>15</td>\n",
              "      <td>6.6</td>\n",
              "      <td>87.25</td>\n",
              "    </tr>\n",
              "    <tr>\n",
              "      <th>8</th>\n",
              "      <td>10</td>\n",
              "      <td>9219</td>\n",
              "      <td>0.3</td>\n",
              "      <td>6.0</td>\n",
              "      <td>2685</td>\n",
              "      <td>3434</td>\n",
              "      <td>0.7</td>\n",
              "      <td>6</td>\n",
              "      <td>1324</td>\n",
              "      <td>0.30</td>\n",
              "      <td>27</td>\n",
              "      <td>94</td>\n",
              "      <td>8.9</td>\n",
              "      <td>90.10</td>\n",
              "    </tr>\n",
              "  </tbody>\n",
              "</table>\n",
              "</div>"
            ],
            "text/plain": [
              "   País  valorexpo  porcexpoespaña  ...  restaurantes  preciominor  calidadvino\n",
              "0     0     375263            12.2  ...            60         12.6        89.90\n",
              "1     4     290855             9.5  ...           188         10.3        88.40\n",
              "2     6     128808             4.2  ...            74         13.8        88.57\n",
              "3     8     125514             4.1  ...            26         58.3        88.25\n",
              "4     2     109994             3.6  ...            44          5.7        90.40\n",
              "5     7      72597             2.4  ...            26          9.6        83.00\n",
              "6     3      65576             2.1  ...           100         10.2        88.56\n",
              "7     5      15707             0.5  ...            15          6.6        87.25\n",
              "8    10       9219             0.3  ...            94          8.9        90.10\n",
              "\n",
              "[9 rows x 14 columns]"
            ]
          },
          "metadata": {
            "tags": []
          },
          "execution_count": 82
        }
      ]
    },
    {
      "cell_type": "code",
      "metadata": {
        "colab": {
          "base_uri": "https://localhost:8080/",
          "height": 288
        },
        "id": "3oXWP4fjAU5s",
        "outputId": "f66bdbdf-0947-4ac5-eab7-765308dc08cc"
      },
      "source": [
        "unificado.describe()"
      ],
      "execution_count": 40,
      "outputs": [
        {
          "output_type": "execute_result",
          "data": {
            "text/html": [
              "<div>\n",
              "<style scoped>\n",
              "    .dataframe tbody tr th:only-of-type {\n",
              "        vertical-align: middle;\n",
              "    }\n",
              "\n",
              "    .dataframe tbody tr th {\n",
              "        vertical-align: top;\n",
              "    }\n",
              "\n",
              "    .dataframe thead th {\n",
              "        text-align: right;\n",
              "    }\n",
              "</style>\n",
              "<table border=\"1\" class=\"dataframe\">\n",
              "  <thead>\n",
              "    <tr style=\"text-align: right;\">\n",
              "      <th></th>\n",
              "      <th>País</th>\n",
              "      <th>u1</th>\n",
              "      <th>u2</th>\n",
              "      <th>x3</th>\n",
              "      <th>x6</th>\n",
              "      <th>x7</th>\n",
              "      <th>x10</th>\n",
              "    </tr>\n",
              "  </thead>\n",
              "  <tbody>\n",
              "    <tr>\n",
              "      <th>count</th>\n",
              "      <td>2555.000000</td>\n",
              "      <td>2555.000000</td>\n",
              "      <td>2555.000000</td>\n",
              "      <td>2555.000000</td>\n",
              "      <td>2.555000e+03</td>\n",
              "      <td>2555.000000</td>\n",
              "      <td>2555.000000</td>\n",
              "    </tr>\n",
              "    <tr>\n",
              "      <th>mean</th>\n",
              "      <td>4.906067</td>\n",
              "      <td>41121.631311</td>\n",
              "      <td>18032.766341</td>\n",
              "      <td>8.982544</td>\n",
              "      <td>1.175101e+06</td>\n",
              "      <td>28582.516634</td>\n",
              "      <td>65.594912</td>\n",
              "    </tr>\n",
              "    <tr>\n",
              "      <th>std</th>\n",
              "      <td>3.797304</td>\n",
              "      <td>48963.373066</td>\n",
              "      <td>22096.681759</td>\n",
              "      <td>2.078987</td>\n",
              "      <td>1.068908e+06</td>\n",
              "      <td>27037.950350</td>\n",
              "      <td>54.632558</td>\n",
              "    </tr>\n",
              "    <tr>\n",
              "      <th>min</th>\n",
              "      <td>0.000000</td>\n",
              "      <td>6894.000000</td>\n",
              "      <td>1272.000000</td>\n",
              "      <td>5.700000</td>\n",
              "      <td>2.506800e+05</td>\n",
              "      <td>8545.000000</td>\n",
              "      <td>15.000000</td>\n",
              "    </tr>\n",
              "    <tr>\n",
              "      <th>25%</th>\n",
              "      <td>1.000000</td>\n",
              "      <td>8763.000000</td>\n",
              "      <td>8238.000000</td>\n",
              "      <td>6.600000</td>\n",
              "      <td>4.450750e+05</td>\n",
              "      <td>10230.000000</td>\n",
              "      <td>26.000000</td>\n",
              "    </tr>\n",
              "    <tr>\n",
              "      <th>50%</th>\n",
              "      <td>5.000000</td>\n",
              "      <td>36080.000000</td>\n",
              "      <td>11135.000000</td>\n",
              "      <td>9.600000</td>\n",
              "      <td>5.330970e+05</td>\n",
              "      <td>11460.000000</td>\n",
              "      <td>44.000000</td>\n",
              "    </tr>\n",
              "    <tr>\n",
              "      <th>75%</th>\n",
              "      <td>7.000000</td>\n",
              "      <td>38330.000000</td>\n",
              "      <td>11317.000000</td>\n",
              "      <td>10.200000</td>\n",
              "      <td>2.003576e+06</td>\n",
              "      <td>60360.000000</td>\n",
              "      <td>100.000000</td>\n",
              "    </tr>\n",
              "    <tr>\n",
              "      <th>max</th>\n",
              "      <td>11.000000</td>\n",
              "      <td>213792.000000</td>\n",
              "      <td>84713.000000</td>\n",
              "      <td>13.800000</td>\n",
              "      <td>3.861123e+06</td>\n",
              "      <td>83020.000000</td>\n",
              "      <td>188.000000</td>\n",
              "    </tr>\n",
              "  </tbody>\n",
              "</table>\n",
              "</div>"
            ],
            "text/plain": [
              "              País             u1  ...            x7          x10\n",
              "count  2555.000000    2555.000000  ...   2555.000000  2555.000000\n",
              "mean      4.906067   41121.631311  ...  28582.516634    65.594912\n",
              "std       3.797304   48963.373066  ...  27037.950350    54.632558\n",
              "min       0.000000    6894.000000  ...   8545.000000    15.000000\n",
              "25%       1.000000    8763.000000  ...  10230.000000    26.000000\n",
              "50%       5.000000   36080.000000  ...  11460.000000    44.000000\n",
              "75%       7.000000   38330.000000  ...  60360.000000   100.000000\n",
              "max      11.000000  213792.000000  ...  83020.000000   188.000000\n",
              "\n",
              "[8 rows x 7 columns]"
            ]
          },
          "metadata": {
            "tags": []
          },
          "execution_count": 40
        }
      ]
    },
    {
      "cell_type": "code",
      "metadata": {
        "colab": {
          "base_uri": "https://localhost:8080/"
        },
        "id": "52Uase1ZRoIO",
        "outputId": "a4e0b326-e2a0-4e9b-a058-7dfec388d7ad"
      },
      "source": [
        "def missing(df):\n",
        "    total=df.isnull().sum().sort_values(ascending=False)\n",
        "    percent=(df.isnull().sum()*100/df.isnull().count()).sort_values(ascending=False)\n",
        "\n",
        "missing(unificado)\n",
        "\n",
        "unificado.isnull().sum()\n"
      ],
      "execution_count": 18,
      "outputs": [
        {
          "output_type": "execute_result",
          "data": {
            "text/plain": [
              "preciolitro    0\n",
              "País           0\n",
              "u1             0\n",
              "u2             0\n",
              "u3             0\n",
              "x1             0\n",
              "x3             0\n",
              "x4             0\n",
              "x6             0\n",
              "x7             0\n",
              "x10            0\n",
              "dtype: int64"
            ]
          },
          "metadata": {
            "tags": []
          },
          "execution_count": 18
        }
      ]
    },
    {
      "cell_type": "code",
      "metadata": {
        "colab": {
          "base_uri": "https://localhost:8080/",
          "height": 1000
        },
        "id": "6s6QdZWCAdzw",
        "outputId": "736cb448-7a8d-4a18-c905-9fcc9c08dc99"
      },
      "source": [
        "features=list(unificado.select_dtypes(exclude=['object']))\n",
        "fig=plt.subplots(figsize=(15,30))\n",
        "for i, j in enumerate(features):\n",
        "    plt.subplot(6, 2, i+1),\n",
        "    plt.subplots_adjust(hspace = 1.0)\n",
        "    sns.boxplot(unificado[j])\n",
        "    plt.title(j)"
      ],
      "execution_count": 22,
      "outputs": [
        {
          "output_type": "stream",
          "text": [
            "/usr/local/lib/python3.7/dist-packages/seaborn/_decorators.py:43: FutureWarning: Pass the following variable as a keyword arg: x. From version 0.12, the only valid positional argument will be `data`, and passing other arguments without an explicit keyword will result in an error or misinterpretation.\n",
            "  FutureWarning\n",
            "/usr/local/lib/python3.7/dist-packages/seaborn/_decorators.py:43: FutureWarning: Pass the following variable as a keyword arg: x. From version 0.12, the only valid positional argument will be `data`, and passing other arguments without an explicit keyword will result in an error or misinterpretation.\n",
            "  FutureWarning\n",
            "/usr/local/lib/python3.7/dist-packages/seaborn/_decorators.py:43: FutureWarning: Pass the following variable as a keyword arg: x. From version 0.12, the only valid positional argument will be `data`, and passing other arguments without an explicit keyword will result in an error or misinterpretation.\n",
            "  FutureWarning\n",
            "/usr/local/lib/python3.7/dist-packages/seaborn/_decorators.py:43: FutureWarning: Pass the following variable as a keyword arg: x. From version 0.12, the only valid positional argument will be `data`, and passing other arguments without an explicit keyword will result in an error or misinterpretation.\n",
            "  FutureWarning\n",
            "/usr/local/lib/python3.7/dist-packages/seaborn/_decorators.py:43: FutureWarning: Pass the following variable as a keyword arg: x. From version 0.12, the only valid positional argument will be `data`, and passing other arguments without an explicit keyword will result in an error or misinterpretation.\n",
            "  FutureWarning\n",
            "/usr/local/lib/python3.7/dist-packages/seaborn/_decorators.py:43: FutureWarning: Pass the following variable as a keyword arg: x. From version 0.12, the only valid positional argument will be `data`, and passing other arguments without an explicit keyword will result in an error or misinterpretation.\n",
            "  FutureWarning\n",
            "/usr/local/lib/python3.7/dist-packages/seaborn/_decorators.py:43: FutureWarning: Pass the following variable as a keyword arg: x. From version 0.12, the only valid positional argument will be `data`, and passing other arguments without an explicit keyword will result in an error or misinterpretation.\n",
            "  FutureWarning\n",
            "/usr/local/lib/python3.7/dist-packages/seaborn/_decorators.py:43: FutureWarning: Pass the following variable as a keyword arg: x. From version 0.12, the only valid positional argument will be `data`, and passing other arguments without an explicit keyword will result in an error or misinterpretation.\n",
            "  FutureWarning\n"
          ],
          "name": "stderr"
        },
        {
          "output_type": "display_data",
          "data": {
            "image/png": "[encoded data removed]",
            "text/plain": [
              "<Figure size 1080x2160 with 8 Axes>"
            ]
          },
          "metadata": {
            "tags": [],
            "needs_background": "light"
          }
        }
      ]
    },
    {
      "cell_type": "code",
      "metadata": {
        "colab": {
          "base_uri": "https://localhost:8080/",
          "height": 282
        },
        "id": "T8nMHaarAnTN",
        "outputId": "e70b352c-3d98-4f70-b3a0-d332103e342e"
      },
      "source": [
        "plt.scatter(unificado['u1'], unificado['x7'],alpha=0.002)"
      ],
      "execution_count": 25,
      "outputs": [
        {
          "output_type": "execute_result",
          "data": {
            "text/plain": [
              "<matplotlib.collections.PathCollection at 0x7f6897a6b890>"
            ]
          },
          "metadata": {
            "tags": []
          },
          "execution_count": 25
        },
        {
          "output_type": "display_data",
          "data": {
            "image/png": "[encoded data removed]",
            "text/plain": [
              "<Figure size 432x288 with 1 Axes>"
            ]
          },
          "metadata": {
            "tags": [],
            "needs_background": "light"
          }
        }
      ]
    },
    {
      "cell_type": "code",
      "metadata": {
        "colab": {
          "base_uri": "https://localhost:8080/",
          "height": 282
        },
        "id": "kv3GdLy6AzTb",
        "outputId": "5e040ce8-d982-49ae-b6c8-71a89a1b176f"
      },
      "source": [
        "plt.scatter(unificado['u1'], unificado['u3'],alpha=0.002)"
      ],
      "execution_count": 27,
      "outputs": [
        {
          "output_type": "execute_result",
          "data": {
            "text/plain": [
              "<matplotlib.collections.PathCollection at 0x7f68979effd0>"
            ]
          },
          "metadata": {
            "tags": []
          },
          "execution_count": 27
        },
        {
          "output_type": "display_data",
          "data": {
            "image/png": "[encoded data removed]",
            "text/plain": [
              "<Figure size 432x288 with 1 Axes>"
            ]
          },
          "metadata": {
            "tags": [],
            "needs_background": "light"
          }
        }
      ]
    },
    {
      "cell_type": "code",
      "metadata": {
        "id": "tYfs3ro3BKeV"
      },
      "source": [
        "X = tfm.drop('País', axis=1)\n",
        "Y = tfm.País"
      ],
      "execution_count": 83,
      "outputs": []
    },
    {
      "cell_type": "code",
      "metadata": {
        "id": "lxZ-dB4VUgJx"
      },
      "source": [
        "X_array = np.asarray(X)"
      ],
      "execution_count": 84,
      "outputs": []
    },
    {
      "cell_type": "code",
      "metadata": {
        "colab": {
          "base_uri": "https://localhost:8080/"
        },
        "id": "pchseOVqSh4L",
        "outputId": "cc112946-f207-4050-acdd-715cabc2bc43"
      },
      "source": [
        "X_train, X_test, Y_train, Y_test = train_test_split(X, Y, test_size=.30)\n",
        "X_val, X_test_test, Y_val, Y_test = train_test_split(X, Y, test_size=.30)\n",
        "print(\"Datos iniciales\\t\\t:\\t{}\\n\\t- X_train\\t:\\t{}\\n\\t- X_test\\t:\\t{}\".format(len(X),len(X_train),len(X_test)))"
      ],
      "execution_count": 85,
      "outputs": [
        {
          "output_type": "stream",
          "text": [
            "Datos iniciales\t\t:\t9\n",
            "\t- X_train\t:\t6\n",
            "\t- X_test\t:\t3\n"
          ],
          "name": "stdout"
        }
      ]
    },
    {
      "cell_type": "code",
      "metadata": {
        "id": "_F6v7JJ0BcgA"
      },
      "source": [
        "X_train, X_val, Y_train, Y_val = train_test_split(X_train, Y_train, test_size=len(X_test))"
      ],
      "execution_count": 86,
      "outputs": []
    },
    {
      "cell_type": "code",
      "metadata": {
        "colab": {
          "base_uri": "https://localhost:8080/"
        },
        "id": "KSYQ54I6BgmB",
        "outputId": "65c134bd-975e-4906-dc4b-b8332df2ffe5"
      },
      "source": [
        "print(\"Datos iniciales\\t\\t:\\t{}\\n\\t- X_train\\t:\\t{}\\n\\t- X_val\\t\\t:\\t{}\\n\\t- X_test\\t:\\t{}\".format(len(X),len(X_train),len(X_val),len(X_test)))"
      ],
      "execution_count": 87,
      "outputs": [
        {
          "output_type": "stream",
          "text": [
            "Datos iniciales\t\t:\t9\n",
            "\t- X_train\t:\t3\n",
            "\t- X_val\t\t:\t3\n",
            "\t- X_test\t:\t3\n"
          ],
          "name": "stdout"
        }
      ]
    },
    {
      "cell_type": "code",
      "metadata": {
        "id": "MfNgD6KdBhfI"
      },
      "source": [
        "from sklearn.linear_model import LinearRegression"
      ],
      "execution_count": 88,
      "outputs": []
    },
    {
      "cell_type": "code",
      "metadata": {
        "colab": {
          "base_uri": "https://localhost:8080/"
        },
        "id": "sktVaZYhU4-a",
        "outputId": "f4df9d89-e432-47b6-d6c6-4aaefb399e3c"
      },
      "source": [
        "new['preciolitro'].isnull().values.any()"
      ],
      "execution_count": null,
      "outputs": [
        {
          "output_type": "execute_result",
          "data": {
            "text/plain": [
              "False"
            ]
          },
          "metadata": {
            "tags": []
          },
          "execution_count": 25
        }
      ]
    },
    {
      "cell_type": "code",
      "metadata": {
        "id": "bXewblPmBuTk"
      },
      "source": [
        "model = LinearRegression().fit(X_train,Y_train)"
      ],
      "execution_count": 89,
      "outputs": []
    },
    {
      "cell_type": "code",
      "metadata": {
        "colab": {
          "base_uri": "https://localhost:8080/",
          "height": 265
        },
        "id": "VdF8vBFxVXGZ",
        "outputId": "e2e01e7e-fa34-4726-ebb3-087448a4c5e5"
      },
      "source": [
        "Y_predict = model.predict(X_test)\n",
        "plt.plot(np.array(Y_test)[:9],'b')\n",
        "plt.plot(Y_predict[:9],'r')\n",
        "plt.legend(['Original', 'Prediction'])\n",
        "plt.show()"
      ],
      "execution_count": 91,
      "outputs": [
        {
          "output_type": "display_data",
          "data": {
            "image/png": "[encoded data removed]",
            "text/plain": [
              "<Figure size 432x288 with 1 Axes>"
            ]
          },
          "metadata": {
            "tags": [],
            "needs_background": "light"
          }
        }
      ]
    },
    {
      "cell_type": "code",
      "metadata": {
        "colab": {
          "base_uri": "https://localhost:8080/"
        },
        "id": "77DVrD7qVa5y",
        "outputId": "7312e2d4-2c34-4cb7-e533-a35d3dbee12a"
      },
      "source": [
        "print(\"Bondad del ajuste en Train:\\t{}\".format(model.score(X_train,Y_train)))\n",
        "print(\"Bondad del ajuste en Test:\\t{}\".format(model.score(X_test,Y_test)))"
      ],
      "execution_count": 92,
      "outputs": [
        {
          "output_type": "stream",
          "text": [
            "Bondad del ajuste en Train:\t1.0\n",
            "Bondad del ajuste en Test:\t-21.48095452669963\n"
          ],
          "name": "stdout"
        }
      ]
    },
    {
      "cell_type": "code",
      "metadata": {
        "id": "8RIXF_iHVf4D",
        "colab": {
          "base_uri": "https://localhost:8080/"
        },
        "outputId": "047b4741-3c93-4d02-8a34-f6d642f47ab2"
      },
      "source": [
        "from sklearn.linear_model import Lasso\n",
        "model = Lasso(alpha=1.0).fit(X_train,Y_train)"
      ],
      "execution_count": 93,
      "outputs": [
        {
          "output_type": "stream",
          "text": [
            "/usr/local/lib/python3.7/dist-packages/sklearn/linear_model/_coordinate_descent.py:476: ConvergenceWarning: Objective did not converge. You might want to increase the number of iterations. Duality gap: 0.0037668656402204317, tolerance: 0.0018666666666666669\n",
            "  positive)\n"
          ],
          "name": "stderr"
        }
      ]
    },
    {
      "cell_type": "code",
      "metadata": {
        "colab": {
          "base_uri": "https://localhost:8080/"
        },
        "id": "usCvzsPIVkzs",
        "outputId": "e695d99a-2d0d-4e5a-a17c-153ae7281e56"
      },
      "source": [
        "print(\"Bondad del ajuste en Train:\\t{}\".format(model.score(X_train,Y_train)))\n",
        "print(\"Bondad del ajuste en Test:\\t{}\".format(model.score(X_test,Y_test)))"
      ],
      "execution_count": 94,
      "outputs": [
        {
          "output_type": "stream",
          "text": [
            "Bondad del ajuste en Train:\t0.9999998660196404\n",
            "Bondad del ajuste en Test:\t-1.5526711784715612\n"
          ],
          "name": "stdout"
        }
      ]
    },
    {
      "cell_type": "code",
      "metadata": {
        "id": "2XUhvc5cD7vm"
      },
      "source": [
        "from sklearn.neighbors import KNeighborsClassifier\n",
        "from sklearn.metrics import classification_report\n",
        "from sklearn.model_selection import train_test_split\n",
        "from sklearn.metrics import roc_auc_score\n",
        "from sklearn.model_selection import GridSearchCV"
      ],
      "execution_count": 98,
      "outputs": []
    },
    {
      "cell_type": "code",
      "metadata": {
        "id": "nUgEFDMdDfUA"
      },
      "source": [
        "knn = KNeighborsClassifier()"
      ],
      "execution_count": 99,
      "outputs": []
    },
    {
      "cell_type": "code",
      "metadata": {
        "colab": {
          "base_uri": "https://localhost:8080/"
        },
        "id": "NK4AFQMVVsSU",
        "outputId": "dffb5928-5715-49c5-d0c2-8f5ac5c0a3e3"
      },
      "source": [
        "print(\"Bondad del ajuste en Train:\\t{}\".format(model.score(X_train,Y_train)))\n",
        "print(\"Bondad del ajuste en Test:\\t{}\".format(model.score(X_test,Y_test)))"
      ],
      "execution_count": null,
      "outputs": [
        {
          "output_type": "stream",
          "text": [
            "Bondad del ajuste en Train:\t1.0\n",
            "Bondad del ajuste en Test:\t0.1295959228248999\n"
          ],
          "name": "stdout"
        }
      ]
    },
    {
      "cell_type": "code",
      "metadata": {
        "id": "bq0z6ctUWBsW"
      },
      "source": [
        "from sklearn.model_selection import train_test_split\n",
        "import numpy as np\n",
        "import matplotlib.pyplot as plt\n",
        "from sklearn import datasets\n",
        "from sklearn import svm"
      ],
      "execution_count": 108,
      "outputs": []
    },
    {
      "cell_type": "code",
      "metadata": {
        "id": "hZjMWJPrWCUj"
      },
      "source": [
        "model = svm.SVC().fit(X_train,Y_train)"
      ],
      "execution_count": 109,
      "outputs": []
    },
    {
      "cell_type": "code",
      "metadata": {
        "colab": {
          "base_uri": "https://localhost:8080/"
        },
        "id": "hcJ8cW43WFXt",
        "outputId": "d92553e2-0cf2-47b0-8fb7-9de83c7755b8"
      },
      "source": [
        "Y_predict = model.predict(X_test)\n",
        "print(\"Acc: {}\".format(accuracy_score(Y_test, Y_predict)))"
      ],
      "execution_count": 110,
      "outputs": [
        {
          "output_type": "stream",
          "text": [
            "Acc: 0.0\n"
          ],
          "name": "stdout"
        }
      ]
    },
    {
      "cell_type": "code",
      "metadata": {
        "colab": {
          "base_uri": "https://localhost:8080/"
        },
        "id": "MrI3tRsUWIW5",
        "outputId": "a55d857d-6383-465c-a644-9502ae9c6108"
      },
      "source": [
        "from sklearn.ensemble import RandomForestClassifier\n",
        "model = RandomForestClassifier().fit(X_train,Y_train)\n",
        "Y_predict = model.predict(X_test)\n",
        "print(\"Acc: {}\".format(accuracy_score(Y_test, Y_predict)))"
      ],
      "execution_count": 111,
      "outputs": [
        {
          "output_type": "stream",
          "text": [
            "Acc: 0.0\n"
          ],
          "name": "stdout"
        }
      ]
    },
    {
      "cell_type": "code",
      "metadata": {
        "id": "sSR5F_ukWLb6"
      },
      "source": [
        "from sklearn.decomposition import PCA"
      ],
      "execution_count": 112,
      "outputs": []
    },
    {
      "cell_type": "code",
      "metadata": {
        "colab": {
          "base_uri": "https://localhost:8080/",
          "height": 318
        },
        "id": "ZjruYobuWS35",
        "outputId": "d276150f-c6f0-460b-9c4b-e75c104a2443"
      },
      "source": [
        "from sklearn.cluster import KMeans\n",
        "\n",
        "cluster_range = range( 1, 10 )\n",
        "cluster_errors = []\n",
        "\n",
        "for num_clusters in cluster_range:\n",
        "  clusters = KMeans( num_clusters,n_init = 10, random_state=2)\n",
        "  clusters.fit(new)\n",
        "  labels = clusters.labels_\n",
        "  centroids = clusters.cluster_centers_\n",
        "  cluster_errors.append( clusters.inertia_ )\n",
        "clusters_df = pd.DataFrame( { \"num_clusters\":cluster_range, \"cluster_errors\": cluster_errors } )\n",
        "clusters_df[0:10]"
      ],
      "execution_count": null,
      "outputs": [
        {
          "output_type": "execute_result",
          "data": {
            "text/html": [
              "<div>\n",
              "<style scoped>\n",
              "    .dataframe tbody tr th:only-of-type {\n",
              "        vertical-align: middle;\n",
              "    }\n",
              "\n",
              "    .dataframe tbody tr th {\n",
              "        vertical-align: top;\n",
              "    }\n",
              "\n",
              "    .dataframe thead th {\n",
              "        text-align: right;\n",
              "    }\n",
              "</style>\n",
              "<table border=\"1\" class=\"dataframe\">\n",
              "  <thead>\n",
              "    <tr style=\"text-align: right;\">\n",
              "      <th></th>\n",
              "      <th>num_clusters</th>\n",
              "      <th>cluster_errors</th>\n",
              "    </tr>\n",
              "  </thead>\n",
              "  <tbody>\n",
              "    <tr>\n",
              "      <th>0</th>\n",
              "      <td>1</td>\n",
              "      <td>3.080961e+14</td>\n",
              "    </tr>\n",
              "    <tr>\n",
              "      <th>1</th>\n",
              "      <td>2</td>\n",
              "      <td>8.719097e+13</td>\n",
              "    </tr>\n",
              "    <tr>\n",
              "      <th>2</th>\n",
              "      <td>3</td>\n",
              "      <td>2.103182e+13</td>\n",
              "    </tr>\n",
              "    <tr>\n",
              "      <th>3</th>\n",
              "      <td>4</td>\n",
              "      <td>9.821657e+12</td>\n",
              "    </tr>\n",
              "    <tr>\n",
              "      <th>4</th>\n",
              "      <td>5</td>\n",
              "      <td>5.041399e+12</td>\n",
              "    </tr>\n",
              "    <tr>\n",
              "      <th>5</th>\n",
              "      <td>6</td>\n",
              "      <td>1.594200e+12</td>\n",
              "    </tr>\n",
              "    <tr>\n",
              "      <th>6</th>\n",
              "      <td>7</td>\n",
              "      <td>6.887775e+11</td>\n",
              "    </tr>\n",
              "    <tr>\n",
              "      <th>7</th>\n",
              "      <td>8</td>\n",
              "      <td>3.880102e+11</td>\n",
              "    </tr>\n",
              "    <tr>\n",
              "      <th>8</th>\n",
              "      <td>9</td>\n",
              "      <td>2.180537e+11</td>\n",
              "    </tr>\n",
              "  </tbody>\n",
              "</table>\n",
              "</div>"
            ],
            "text/plain": [
              "   num_clusters  cluster_errors\n",
              "0             1    3.080961e+14\n",
              "1             2    8.719097e+13\n",
              "2             3    2.103182e+13\n",
              "3             4    9.821657e+12\n",
              "4             5    5.041399e+12\n",
              "5             6    1.594200e+12\n",
              "6             7    6.887775e+11\n",
              "7             8    3.880102e+11\n",
              "8             9    2.180537e+11"
            ]
          },
          "metadata": {
            "tags": []
          },
          "execution_count": 69
        }
      ]
    },
    {
      "cell_type": "code",
      "metadata": {
        "colab": {
          "base_uri": "https://localhost:8080/",
          "height": 385
        },
        "id": "61-o2G2eWY1_",
        "outputId": "fc93ba88-818d-4e4a-fc43-7bd640760068"
      },
      "source": [
        "plt.figure(figsize=(12,6))\n",
        "plt.plot( clusters_df.num_clusters, clusters_df.cluster_errors, marker = \"o\" )\n",
        "\n",
        "kmeans = KMeans(n_clusters=4, n_init = 20, random_state=4)\n",
        "kmeans.fit(new)\n",
        "\n",
        "centroids=kmeans.cluster_centers_\n",
        "\n",
        "\n",
        "# creating a new dataframe only for labels and converting it into categorical variable\n",
        "df_labels = pd.DataFrame(kmeans.labels_ , columns = list(['labels']))\n",
        "\n",
        "df_labels['labels'] = df_labels['labels'].astype('category')"
      ],
      "execution_count": null,
      "outputs": [
        {
          "output_type": "display_data",
          "data": {
            "image/png": "[encoded data removed]",
            "text/plain": [
              "<Figure size 864x432 with 1 Axes>"
            ]
          },
          "metadata": {
            "tags": [],
            "needs_background": "light"
          }
        }
      ]
    },
    {
      "cell_type": "code",
      "metadata": {
        "colab": {
          "base_uri": "https://localhost:8080/"
        },
        "id": "rXRIbEzxWfVD",
        "outputId": "31dfadaf-18d1-4748-eeb3-2a17284219f4"
      },
      "source": [
        "model_clus5 = KMeans(n_clusters = 2, max_iter=50, verbose=1)\n",
        "model_clus5.fit(new)"
      ],
      "execution_count": null,
      "outputs": [
        {
          "output_type": "stream",
          "text": [
            "Initialization complete\n",
            "start iteration\n",
            "done sorting\n",
            "end inner loop\n",
            "Iteration 0, inertia 87190972861717.39\n",
            "start iteration\n",
            "done sorting\n",
            "end inner loop\n",
            "Iteration 1, inertia 87190972861717.39\n",
            "center shift 0.000000e+00 within tolerance 2.588434e+05\n",
            "Initialization complete\n",
            "start iteration\n",
            "done sorting\n",
            "end inner loop\n",
            "Iteration 0, inertia 123019618862415.78\n",
            "start iteration\n",
            "done sorting\n",
            "end inner loop\n",
            "Iteration 1, inertia 123019618862415.78\n",
            "center shift 0.000000e+00 within tolerance 2.588434e+05\n",
            "Initialization complete\n",
            "start iteration\n",
            "done sorting\n",
            "end inner loop\n",
            "Iteration 0, inertia 123019618862415.78\n",
            "start iteration\n",
            "done sorting\n",
            "end inner loop\n",
            "Iteration 1, inertia 123019618862415.78\n",
            "center shift 0.000000e+00 within tolerance 2.588434e+05\n",
            "Initialization complete\n",
            "start iteration\n",
            "done sorting\n",
            "end inner loop\n",
            "Iteration 0, inertia 123019618862415.78\n",
            "start iteration\n",
            "done sorting\n",
            "end inner loop\n",
            "Iteration 1, inertia 123019618862415.78\n",
            "center shift 0.000000e+00 within tolerance 2.588434e+05\n",
            "Initialization complete\n",
            "start iteration\n",
            "done sorting\n",
            "end inner loop\n",
            "Iteration 0, inertia 87190972861717.39\n",
            "start iteration\n",
            "done sorting\n",
            "end inner loop\n",
            "Iteration 1, inertia 87190972861717.39\n",
            "center shift 0.000000e+00 within tolerance 2.588434e+05\n",
            "Initialization complete\n",
            "start iteration\n",
            "done sorting\n",
            "end inner loop\n",
            "Iteration 0, inertia 87190972861717.39\n",
            "start iteration\n",
            "done sorting\n",
            "end inner loop\n",
            "Iteration 1, inertia 87190972861717.39\n",
            "center shift 0.000000e+00 within tolerance 2.588434e+05\n",
            "Initialization complete\n",
            "start iteration\n",
            "done sorting\n",
            "end inner loop\n",
            "Iteration 0, inertia 87190972861717.39\n",
            "start iteration\n",
            "done sorting\n",
            "end inner loop\n",
            "Iteration 1, inertia 87190972861717.39\n",
            "center shift 0.000000e+00 within tolerance 2.588434e+05\n",
            "Initialization complete\n",
            "start iteration\n",
            "done sorting\n",
            "end inner loop\n",
            "Iteration 0, inertia 87190972861717.39\n",
            "start iteration\n",
            "done sorting\n",
            "end inner loop\n",
            "Iteration 1, inertia 87190972861717.39\n",
            "center shift 0.000000e+00 within tolerance 2.588434e+05\n",
            "Initialization complete\n",
            "start iteration\n",
            "done sorting\n",
            "end inner loop\n",
            "Iteration 0, inertia 87190972861717.39\n",
            "start iteration\n",
            "done sorting\n",
            "end inner loop\n",
            "Iteration 1, inertia 87190972861717.39\n",
            "center shift 0.000000e+00 within tolerance 2.588434e+05\n",
            "Initialization complete\n",
            "start iteration\n",
            "done sorting\n",
            "end inner loop\n",
            "Iteration 0, inertia 87190972861717.39\n",
            "start iteration\n",
            "done sorting\n",
            "end inner loop\n",
            "Iteration 1, inertia 87190972861717.39\n",
            "center shift 0.000000e+00 within tolerance 2.588434e+05\n"
          ],
          "name": "stdout"
        },
        {
          "output_type": "execute_result",
          "data": {
            "text/plain": [
              "KMeans(algorithm='auto', copy_x=True, init='k-means++', max_iter=50,\n",
              "       n_clusters=2, n_init=10, n_jobs=None, precompute_distances='auto',\n",
              "       random_state=None, tol=0.0001, verbose=1)"
            ]
          },
          "metadata": {
            "tags": []
          },
          "execution_count": 71
        }
      ]
    },
    {
      "cell_type": "code",
      "metadata": {
        "id": "avMsB8wtWjeR"
      },
      "source": [
        "kmeans = KMeans(n_clusters=2,random_state=42)\n",
        "clusters = kmeans.fit_predict(new)\n",
        "df_k = new.copy(deep=True)\n",
        "df_k['label'] = clusters"
      ],
      "execution_count": null,
      "outputs": []
    },
    {
      "cell_type": "code",
      "metadata": {
        "colab": {
          "base_uri": "https://localhost:8080/",
          "height": 427
        },
        "id": "5TD1TZyQWsW9",
        "outputId": "5d9b909e-a6df-4e5c-f893-84edf90834a1"
      },
      "source": [
        "df_k"
      ],
      "execution_count": null,
      "outputs": [
        {
          "output_type": "execute_result",
          "data": {
            "text/html": [
              "<div>\n",
              "<style scoped>\n",
              "    .dataframe tbody tr th:only-of-type {\n",
              "        vertical-align: middle;\n",
              "    }\n",
              "\n",
              "    .dataframe tbody tr th {\n",
              "        vertical-align: top;\n",
              "    }\n",
              "\n",
              "    .dataframe thead th {\n",
              "        text-align: right;\n",
              "    }\n",
              "</style>\n",
              "<table border=\"1\" class=\"dataframe\">\n",
              "  <thead>\n",
              "    <tr style=\"text-align: right;\">\n",
              "      <th></th>\n",
              "      <th>preciolitro</th>\n",
              "      <th>Pais</th>\n",
              "      <th>valorexpo</th>\n",
              "      <th>porcexpoespaña</th>\n",
              "      <th>porceimpoespa</th>\n",
              "      <th>cantidad</th>\n",
              "      <th>precio</th>\n",
              "      <th>porcenimpoomundial</th>\n",
              "      <th>crecimvalorcinc</th>\n",
              "      <th>Distancia</th>\n",
              "      <th>concentracion</th>\n",
              "      <th>tarifa</th>\n",
              "      <th>ease_doing</th>\n",
              "      <th>label</th>\n",
              "    </tr>\n",
              "  </thead>\n",
              "  <tbody>\n",
              "    <tr>\n",
              "      <th>0</th>\n",
              "      <td>10.650</td>\n",
              "      <td>0</td>\n",
              "      <td>375263</td>\n",
              "      <td>12.2</td>\n",
              "      <td>14.1</td>\n",
              "      <td>360815</td>\n",
              "      <td>1040</td>\n",
              "      <td>8.0</td>\n",
              "      <td>3</td>\n",
              "      <td>2297</td>\n",
              "      <td>0.25</td>\n",
              "      <td>0.0</td>\n",
              "      <td>22</td>\n",
              "      <td>1</td>\n",
              "    </tr>\n",
              "    <tr>\n",
              "      <th>1</th>\n",
              "      <td>6.600</td>\n",
              "      <td>0</td>\n",
              "      <td>375263</td>\n",
              "      <td>12.2</td>\n",
              "      <td>14.1</td>\n",
              "      <td>360815</td>\n",
              "      <td>1040</td>\n",
              "      <td>8.0</td>\n",
              "      <td>3</td>\n",
              "      <td>2297</td>\n",
              "      <td>0.25</td>\n",
              "      <td>0.0</td>\n",
              "      <td>22</td>\n",
              "      <td>1</td>\n",
              "    </tr>\n",
              "    <tr>\n",
              "      <th>2</th>\n",
              "      <td>7.970</td>\n",
              "      <td>0</td>\n",
              "      <td>375263</td>\n",
              "      <td>12.2</td>\n",
              "      <td>14.1</td>\n",
              "      <td>360815</td>\n",
              "      <td>1040</td>\n",
              "      <td>8.0</td>\n",
              "      <td>3</td>\n",
              "      <td>2297</td>\n",
              "      <td>0.25</td>\n",
              "      <td>0.0</td>\n",
              "      <td>22</td>\n",
              "      <td>1</td>\n",
              "    </tr>\n",
              "    <tr>\n",
              "      <th>3</th>\n",
              "      <td>9.320</td>\n",
              "      <td>0</td>\n",
              "      <td>375263</td>\n",
              "      <td>12.2</td>\n",
              "      <td>14.1</td>\n",
              "      <td>360815</td>\n",
              "      <td>1040</td>\n",
              "      <td>8.0</td>\n",
              "      <td>3</td>\n",
              "      <td>2297</td>\n",
              "      <td>0.25</td>\n",
              "      <td>0.0</td>\n",
              "      <td>22</td>\n",
              "      <td>1</td>\n",
              "    </tr>\n",
              "    <tr>\n",
              "      <th>4</th>\n",
              "      <td>5.990</td>\n",
              "      <td>0</td>\n",
              "      <td>375263</td>\n",
              "      <td>12.2</td>\n",
              "      <td>14.1</td>\n",
              "      <td>360815</td>\n",
              "      <td>1040</td>\n",
              "      <td>8.0</td>\n",
              "      <td>3</td>\n",
              "      <td>2297</td>\n",
              "      <td>0.25</td>\n",
              "      <td>0.0</td>\n",
              "      <td>22</td>\n",
              "      <td>1</td>\n",
              "    </tr>\n",
              "    <tr>\n",
              "      <th>...</th>\n",
              "      <td>...</td>\n",
              "      <td>...</td>\n",
              "      <td>...</td>\n",
              "      <td>...</td>\n",
              "      <td>...</td>\n",
              "      <td>...</td>\n",
              "      <td>...</td>\n",
              "      <td>...</td>\n",
              "      <td>...</td>\n",
              "      <td>...</td>\n",
              "      <td>...</td>\n",
              "      <td>...</td>\n",
              "      <td>...</td>\n",
              "      <td>...</td>\n",
              "    </tr>\n",
              "    <tr>\n",
              "      <th>9151</th>\n",
              "      <td>21.537</td>\n",
              "      <td>10</td>\n",
              "      <td>128808</td>\n",
              "      <td>4.2</td>\n",
              "      <td>11.6</td>\n",
              "      <td>25499</td>\n",
              "      <td>5051</td>\n",
              "      <td>3.3</td>\n",
              "      <td>4</td>\n",
              "      <td>1159</td>\n",
              "      <td>0.28</td>\n",
              "      <td>18.5</td>\n",
              "      <td>36</td>\n",
              "      <td>0</td>\n",
              "    </tr>\n",
              "    <tr>\n",
              "      <th>9152</th>\n",
              "      <td>16.200</td>\n",
              "      <td>10</td>\n",
              "      <td>128808</td>\n",
              "      <td>4.2</td>\n",
              "      <td>11.6</td>\n",
              "      <td>25499</td>\n",
              "      <td>5051</td>\n",
              "      <td>3.3</td>\n",
              "      <td>4</td>\n",
              "      <td>1159</td>\n",
              "      <td>0.28</td>\n",
              "      <td>18.5</td>\n",
              "      <td>36</td>\n",
              "      <td>0</td>\n",
              "    </tr>\n",
              "    <tr>\n",
              "      <th>9153</th>\n",
              "      <td>27.000</td>\n",
              "      <td>10</td>\n",
              "      <td>128808</td>\n",
              "      <td>4.2</td>\n",
              "      <td>11.6</td>\n",
              "      <td>25499</td>\n",
              "      <td>5051</td>\n",
              "      <td>3.3</td>\n",
              "      <td>4</td>\n",
              "      <td>1159</td>\n",
              "      <td>0.28</td>\n",
              "      <td>18.5</td>\n",
              "      <td>36</td>\n",
              "      <td>0</td>\n",
              "    </tr>\n",
              "    <tr>\n",
              "      <th>9154</th>\n",
              "      <td>17.937</td>\n",
              "      <td>10</td>\n",
              "      <td>128808</td>\n",
              "      <td>4.2</td>\n",
              "      <td>11.6</td>\n",
              "      <td>25499</td>\n",
              "      <td>5051</td>\n",
              "      <td>3.3</td>\n",
              "      <td>4</td>\n",
              "      <td>1159</td>\n",
              "      <td>0.28</td>\n",
              "      <td>18.5</td>\n",
              "      <td>36</td>\n",
              "      <td>0</td>\n",
              "    </tr>\n",
              "    <tr>\n",
              "      <th>9155</th>\n",
              "      <td>10.503</td>\n",
              "      <td>10</td>\n",
              "      <td>128808</td>\n",
              "      <td>4.2</td>\n",
              "      <td>11.6</td>\n",
              "      <td>25499</td>\n",
              "      <td>5051</td>\n",
              "      <td>3.3</td>\n",
              "      <td>4</td>\n",
              "      <td>1159</td>\n",
              "      <td>0.28</td>\n",
              "      <td>18.5</td>\n",
              "      <td>36</td>\n",
              "      <td>0</td>\n",
              "    </tr>\n",
              "  </tbody>\n",
              "</table>\n",
              "<p>9156 rows × 14 columns</p>\n",
              "</div>"
            ],
            "text/plain": [
              "      preciolitro  Pais  valorexpo  ...  tarifa  ease_doing  label\n",
              "0          10.650     0     375263  ...     0.0          22      1\n",
              "1           6.600     0     375263  ...     0.0          22      1\n",
              "2           7.970     0     375263  ...     0.0          22      1\n",
              "3           9.320     0     375263  ...     0.0          22      1\n",
              "4           5.990     0     375263  ...     0.0          22      1\n",
              "...           ...   ...        ...  ...     ...         ...    ...\n",
              "9151       21.537    10     128808  ...    18.5          36      0\n",
              "9152       16.200    10     128808  ...    18.5          36      0\n",
              "9153       27.000    10     128808  ...    18.5          36      0\n",
              "9154       17.937    10     128808  ...    18.5          36      0\n",
              "9155       10.503    10     128808  ...    18.5          36      0\n",
              "\n",
              "[9156 rows x 14 columns]"
            ]
          },
          "metadata": {
            "tags": []
          },
          "execution_count": 73
        }
      ]
    },
    {
      "cell_type": "code",
      "metadata": {
        "colab": {
          "base_uri": "https://localhost:8080/"
        },
        "id": "Sl1-brHUWuyO",
        "outputId": "ffe8f19a-6edc-441f-b9c3-07882c9c6377"
      },
      "source": [
        " df_k[df_k.loc[:,'label']==0].mean()"
      ],
      "execution_count": null,
      "outputs": [
        {
          "output_type": "execute_result",
          "data": {
            "text/plain": [
              "preciolitro              25.434944\n",
              "Pais                      5.234526\n",
              "valorexpo             48785.437567\n",
              "porcexpoespaña            1.591646\n",
              "porceimpoespa             9.652236\n",
              "cantidad              30631.145438\n",
              "precio                 2500.235957\n",
              "porcenimpoomundial        1.465725\n",
              "crecimvalorcinc           5.396780\n",
              "Distancia              2179.292129\n",
              "concentracion             0.260572\n",
              "tarifa                    0.929964\n",
              "ease_doing               33.367979\n",
              "label                     0.000000\n",
              "dtype: float64"
            ]
          },
          "metadata": {
            "tags": []
          },
          "execution_count": 74
        }
      ]
    },
    {
      "cell_type": "code",
      "metadata": {
        "colab": {
          "base_uri": "https://localhost:8080/"
        },
        "id": "uH0zDeS0Wy7a",
        "outputId": "aba50098-e85e-45ed-cbff-52e3851a94f3"
      },
      "source": [
        " df_k[df_k.loc[:,'label']==1].mean()"
      ],
      "execution_count": null,
      "outputs": [
        {
          "output_type": "execute_result",
          "data": {
            "text/plain": [
              "preciolitro               12.513598\n",
              "Pais                      10.886708\n",
              "valorexpo             173019.459338\n",
              "porcexpoespaña             5.649131\n",
              "porceimpoespa             62.568817\n",
              "cantidad              323934.771733\n",
              "precio                   523.527201\n",
              "porcenimpoomundial         1.307796\n",
              "crecimvalorcinc           11.684240\n",
              "Distancia               1468.067302\n",
              "concentracion              0.479473\n",
              "tarifa                     0.000000\n",
              "ease_doing                36.718452\n",
              "label                      1.000000\n",
              "dtype: float64"
            ]
          },
          "metadata": {
            "tags": []
          },
          "execution_count": 75
        }
      ]
    },
    {
      "cell_type": "code",
      "metadata": {
        "id": "zPyvTARNW1uX"
      },
      "source": [
        "#Inicializamos PCA a una salida de 2 dimensiones:\n",
        "PCA_Mapping = PCA(n_components=2).fit(X)\n",
        "\n",
        "#Mapeamos los datos:\n",
        "X_clust_PCA = PCA_Mapping.transform(X)"
      ],
      "execution_count": null,
      "outputs": []
    },
    {
      "cell_type": "code",
      "metadata": {
        "id": "sv8r-sn_W8PJ"
      },
      "source": [
        "#Inicializamos el algoritmo (5 clusters) y realizamos el clustering:\n",
        "clustering_PCA = KMeans(n_clusters = 2, init='k-means++').fit(X_clust_PCA)"
      ],
      "execution_count": null,
      "outputs": []
    },
    {
      "cell_type": "code",
      "metadata": {
        "colab": {
          "base_uri": "https://localhost:8080/",
          "height": 265
        },
        "id": "W6J89h18W-cP",
        "outputId": "2263a49d-db11-414f-ed48-73eb06c58e1b"
      },
      "source": [
        "#Importamos la librería gráfica:\n",
        "import matplotlib.pyplot as plt\n",
        "\n",
        "#Vector de colores:\n",
        "colors = ['blue','red']\n",
        "\n",
        "# #Mostramos los datos en crudo:\n",
        "# plt.subplot(2,1,1)\n",
        "# plt.scatter(X_clust_PCA[:100,0], X_clust_PCA[:100,1])\n",
        "# plt.subplot(2,1,2)\n",
        "\n",
        "#Mostramos los datos, siendo el color lo que representa su pertenencia a cada cluster:\n",
        "plt.scatter(X_clust_PCA[:200,0], X_clust_PCA[:200,1], c=[colors[u] for u in clustering_PCA.labels_[:200]])\n",
        "\n",
        "#Mostramos los centroides de cada uno de los clusters:\n",
        "plt.scatter(clustering_PCA.cluster_centers_[:,0], clustering_PCA.cluster_centers_[:,1], c=colors, marker='x', s=4000)\n",
        "\n",
        "\n",
        "plt.show()"
      ],
      "execution_count": null,
      "outputs": [
        {
          "output_type": "display_data",
          "data": {
            "image/png": "[encoded data removed]",
            "text/plain": [
              "<Figure size 432x288 with 1 Axes>"
            ]
          },
          "metadata": {
            "tags": [],
            "needs_background": "light"
          }
        }
      ]
    },
    {
      "cell_type": "code",
      "metadata": {
        "id": "CNAnIwYjXPAT"
      },
      "source": [
        "target = tfm.pop('País')"
      ],
      "execution_count": 114,
      "outputs": []
    },
    {
      "cell_type": "code",
      "metadata": {
        "id": "ExQ-sJHuXT_f"
      },
      "source": [
        "import tensorflow as tf\n",
        "dataset = tf.data.Dataset.from_tensor_slices((tfm.values, target.values))"
      ],
      "execution_count": 117,
      "outputs": []
    },
    {
      "cell_type": "code",
      "metadata": {
        "colab": {
          "base_uri": "https://localhost:8080/"
        },
        "id": "yGOOgLxuXX5g",
        "outputId": "56dd486c-8329-438a-bbad-080bda2955c7"
      },
      "source": [
        "for feat, targ in dataset.take(5):\n",
        "  print ('Features: {}, Target: {}'.format(feat, targ))"
      ],
      "execution_count": 118,
      "outputs": [
        {
          "output_type": "stream",
          "text": [
            "Features: [3.75263e+05 1.22000e+01 1.41000e+01 3.60815e+05 1.04000e+03 8.00000e+00\n",
            " 3.00000e+00 2.29700e+03 2.50000e-01 2.20000e+01 6.00000e+01 1.26000e+01\n",
            " 8.99000e+01], Target: 0\n",
            "Features: [2.90855e+05 9.50000e+00 2.86000e+01 5.36123e+05 5.43000e+02 2.70000e+00\n",
            " 9.00000e+00 3.21200e+03 1.60000e-01 3.20000e+01 1.88000e+02 1.03000e+01\n",
            " 8.84000e+01], Target: 4\n",
            "Features: [1.28808e+05 4.20000e+00 1.16000e+01 2.54990e+04 5.05100e+03 3.30000e+00\n",
            " 4.00000e+00 1.15900e+03 2.80000e-01 3.60000e+01 7.40000e+01 1.38000e+01\n",
            " 8.85700e+01], Target: 6\n",
            "Features: [1.25514e+05 4.10000e+00 7.57000e+01 2.57144e+05 4.88000e+02 5.00000e-01\n",
            " 1.30000e+01 8.89000e+02 5.90000e-01 3.90000e+01 2.60000e+01 5.83000e+01\n",
            " 8.82500e+01], Target: 8\n",
            "Features: [1.09994e+05 3.60000e+00 1.03000e+01 4.90680e+04 2.24200e+03 3.10000e+00\n",
            " 4.00000e+00 1.51300e+03 3.30000e-01 4.60000e+01 4.40000e+01 5.70000e+00\n",
            " 9.04000e+01], Target: 2\n"
          ],
          "name": "stdout"
        }
      ]
    },
    {
      "cell_type": "code",
      "metadata": {
        "id": "zS7YuhbtXanF"
      },
      "source": [
        "train_dataset = dataset.shuffle(len(tfm)).batch(64)"
      ],
      "execution_count": 120,
      "outputs": []
    },
    {
      "cell_type": "code",
      "metadata": {
        "id": "2agnGklYXfvs"
      },
      "source": [
        "def get_compiled_model():\n",
        "    model = tf.keras.Sequential([\n",
        "    tf.keras.layers.Dense(3, activation='relu'),\n",
        "    tf.keras.layers.Dense(10, activation='relu'),\n",
        "    tf.keras.layers.Dense(1)\n",
        "  ])\n",
        "\n",
        "    model.compile(optimizer='adam',\n",
        "                loss=tf.keras.losses.BinaryCrossentropy(from_logits=True),\n",
        "                metrics=['accuracy'])\n",
        "    return model"
      ],
      "execution_count": 127,
      "outputs": []
    },
    {
      "cell_type": "code",
      "metadata": {
        "colab": {
          "base_uri": "https://localhost:8080/"
        },
        "id": "53nR9yJlM5oO",
        "outputId": "27f0e895-f163-4995-8fc8-b75d7a837505"
      },
      "source": [
        "model.summary()"
      ],
      "execution_count": 128,
      "outputs": [
        {
          "output_type": "stream",
          "text": [
            "Model: \"sequential_1\"\n",
            "_________________________________________________________________\n",
            "Layer (type)                 Output Shape              Param #   \n",
            "=================================================================\n",
            "dense_3 (Dense)              (None, 3)                 42        \n",
            "_________________________________________________________________\n",
            "dense_4 (Dense)              (None, 10)                40        \n",
            "_________________________________________________________________\n",
            "dense_5 (Dense)              (None, 2)                 22        \n",
            "=================================================================\n",
            "Total params: 104\n",
            "Trainable params: 104\n",
            "Non-trainable params: 0\n",
            "_________________________________________________________________\n"
          ],
          "name": "stdout"
        }
      ]
    },
    {
      "cell_type": "code",
      "metadata": {
        "colab": {
          "base_uri": "https://localhost:8080/"
        },
        "id": "PGzaBzMmXiYN",
        "outputId": "95a9e0de-6f6b-483d-d836-7e4da608186c"
      },
      "source": [
        "model = get_compiled_model()\n",
        "model.fit(train_dataset, epochs=15)"
      ],
      "execution_count": 129,
      "outputs": [
        {
          "output_type": "stream",
          "text": [
            "Epoch 1/15\n",
            "1/1 [==============================] - 1s 888ms/step - loss: 59413.3906 - accuracy: 0.1111\n",
            "Epoch 2/15\n",
            "1/1 [==============================] - 0s 3ms/step - loss: 58322.2695 - accuracy: 0.1111\n",
            "Epoch 3/15\n",
            "1/1 [==============================] - 0s 4ms/step - loss: 57238.7773 - accuracy: 0.1111\n",
            "Epoch 4/15\n",
            "1/1 [==============================] - 0s 3ms/step - loss: 56163.0195 - accuracy: 0.1111\n",
            "Epoch 5/15\n",
            "1/1 [==============================] - 0s 4ms/step - loss: 55095.1211 - accuracy: 0.1111\n",
            "Epoch 6/15\n",
            "1/1 [==============================] - 0s 5ms/step - loss: 54035.2070 - accuracy: 0.1111\n",
            "Epoch 7/15\n",
            "1/1 [==============================] - 0s 4ms/step - loss: 52983.3633 - accuracy: 0.1111\n",
            "Epoch 8/15\n",
            "1/1 [==============================] - 0s 4ms/step - loss: 51939.7070 - accuracy: 0.1111\n",
            "Epoch 9/15\n",
            "1/1 [==============================] - 0s 3ms/step - loss: 50904.3281 - accuracy: 0.1111\n",
            "Epoch 10/15\n",
            "1/1 [==============================] - 0s 3ms/step - loss: 49877.3008 - accuracy: 0.1111\n",
            "Epoch 11/15\n",
            "1/1 [==============================] - 0s 5ms/step - loss: 48858.7227 - accuracy: 0.1111\n",
            "Epoch 12/15\n",
            "1/1 [==============================] - 0s 4ms/step - loss: 47848.6680 - accuracy: 0.1111\n",
            "Epoch 13/15\n",
            "1/1 [==============================] - 0s 4ms/step - loss: 46847.1953 - accuracy: 0.1111\n",
            "Epoch 14/15\n",
            "1/1 [==============================] - 0s 5ms/step - loss: 45854.3750 - accuracy: 0.1111\n",
            "Epoch 15/15\n",
            "1/1 [==============================] - 0s 4ms/step - loss: 44870.2422 - accuracy: 0.1111\n"
          ],
          "name": "stdout"
        },
        {
          "output_type": "execute_result",
          "data": {
            "text/plain": [
              "<tensorflow.python.keras.callbacks.History at 0x7f68517f7810>"
            ]
          },
          "metadata": {
            "tags": []
          },
          "execution_count": 129
        }
      ]
    },
    {
      "cell_type": "code",
      "metadata": {
        "id": "h6V8u6Z4XnkM"
      },
      "source": [
        "from sklearn.metrics import precision_score,recall_score,f1_score"
      ],
      "execution_count": 130,
      "outputs": []
    },
    {
      "cell_type": "code",
      "metadata": {
        "colab": {
          "base_uri": "https://localhost:8080/",
          "height": 605
        },
        "id": "GHzkOqQCX59F",
        "outputId": "5093e1aa-1bdc-440b-9afc-3d6a15dcdd03"
      },
      "source": [
        "from sklearn.model_selection import KFold\n",
        "from sklearn.metrics import f1_score\n",
        "from sklearn.metrics import multilabel_confusion_matrix\n",
        "import matplotlib.pyplot as plt\n",
        "\n",
        "kf = KFold(n_splits=2)\n",
        "kf.get_n_splits(X)\n",
        "\n",
        "print(kf)\n",
        "k=0\n",
        "for train_index, test_index in kf.split(X):\n",
        "    #print(\"TRAIN:\", train_index, \"TEST:\", test_index)\n",
        "    X_train, X_test = X.loc[train_index], X.loc[test_index]\n",
        "    y_train, y_test = Y.loc[train_index], Y.loc[test_index]\n",
        "    model = RandomForestClassifier().fit(X_train, y_train)\n",
        "    Y_predict = model.predict(X_test)\n",
        "    print('fold: ',k)\n",
        "    print(\"F1 score: {}\".format(f1_score(y_test, Y_predict,pos_label=1, average='weighted')))\n",
        "    print(\"Acc: {}\".format(accuracy_score(y_test, Y_predict)))\n",
        "    fig, (ax1, ax2) = plt.subplots(1, 2)\n",
        "    \n",
        "    ax1.imshow(multilabel_confusion_matrix(y_test, Y_predict)[0], cmap='binary')\n",
        "    ax1.set_title('label: 0')\n",
        "    for i in range(2):\n",
        "        for j in range(2):\n",
        "            text = ax1.text(j, i, multilabel_confusion_matrix(y_test, Y_predict)[0][i, j],\n",
        "                       ha=\"center\", va=\"center\", color=\"g\")\n",
        "    ax2.imshow(multilabel_confusion_matrix(y_test, Y_predict)[2], cmap='binary')\n",
        "    ax2.set_title('label: 1')\n",
        "    for i in range(2):\n",
        "        for j in range(2):\n",
        "            text = ax2.text(j, i, multilabel_confusion_matrix(y_test, Y_predict)[1][i, j],\n",
        "                       ha=\"center\", va=\"center\", color=\"g\")\n",
        "    plt.show()\n",
        "    \n",
        "    TN = multilabel_confusion_matrix(y_test, Y_predict)[1][0,0]\n",
        "    FP = multilabel_confusion_matrix(y_test, Y_predict)[1][0,1]\n",
        "    FN = multilabel_confusion_matrix(y_test, Y_predict)[1][1,0]\n",
        "    TP = multilabel_confusion_matrix(y_test, Y_predict)[1][1,1]\n",
        "    \n",
        "    recall = TP/(TP+FN)\n",
        "    precision = TP/(TP+FP)\n",
        "    \n",
        "    f1_calculado = 2 * (precision * recall) / (precision + recall)\n",
        "    print('F1 calculado', f1_calculado)\n",
        "    \n",
        "    k += 1"
      ],
      "execution_count": 134,
      "outputs": [
        {
          "output_type": "stream",
          "text": [
            "KFold(n_splits=2, random_state=None, shuffle=False)\n",
            "fold:  0\n",
            "F1 score: 0.0\n",
            "Acc: 0.0\n"
          ],
          "name": "stdout"
        },
        {
          "output_type": "display_data",
          "data": {
            "image/png": "[encoded data removed]",
            "text/plain": [
              "<Figure size 432x288 with 2 Axes>"
            ]
          },
          "metadata": {
            "tags": [],
            "needs_background": "light"
          }
        },
        {
          "output_type": "stream",
          "text": [
            "/usr/local/lib/python3.7/dist-packages/ipykernel_launcher.py:42: RuntimeWarning: invalid value encountered in double_scalars\n"
          ],
          "name": "stderr"
        },
        {
          "output_type": "stream",
          "text": [
            "F1 calculado nan\n",
            "fold:  1\n",
            "F1 score: 0.0\n",
            "Acc: 0.0\n"
          ],
          "name": "stdout"
        },
        {
          "output_type": "display_data",
          "data": {
            "image/png": "[encoded data removed]",
            "text/plain": [
              "<Figure size 432x288 with 2 Axes>"
            ]
          },
          "metadata": {
            "tags": [],
            "needs_background": "light"
          }
        },
        {
          "output_type": "stream",
          "text": [
            "F1 calculado nan\n"
          ],
          "name": "stdout"
        },
        {
          "output_type": "stream",
          "text": [
            "/usr/local/lib/python3.7/dist-packages/ipykernel_launcher.py:41: RuntimeWarning: invalid value encountered in double_scalars\n"
          ],
          "name": "stderr"
        }
      ]
    },
    {
      "cell_type": "code",
      "metadata": {
        "id": "F5J1aicIFgB5"
      },
      "source": [
        "import numpy as np\n",
        "from sklearn.linear_model import LinearRegression"
      ],
      "execution_count": 136,
      "outputs": []
    },
    {
      "cell_type": "code",
      "metadata": {
        "id": "kclju7OmFm7S"
      },
      "source": [
        "model = LinearRegression()"
      ],
      "execution_count": 137,
      "outputs": []
    },
    {
      "cell_type": "code",
      "metadata": {
        "colab": {
          "base_uri": "https://localhost:8080/"
        },
        "id": "6hQCwNxTFqj5",
        "outputId": "a0e5d4de-6627-4c9b-f7bd-7fdde6376a48"
      },
      "source": [
        "model.fit(X, Y)"
      ],
      "execution_count": 138,
      "outputs": [
        {
          "output_type": "execute_result",
          "data": {
            "text/plain": [
              "LinearRegression(copy_X=True, fit_intercept=True, n_jobs=None, normalize=False)"
            ]
          },
          "metadata": {
            "tags": []
          },
          "execution_count": 138
        }
      ]
    },
    {
      "cell_type": "code",
      "metadata": {
        "id": "TL-v5Vr-FxsZ"
      },
      "source": [
        "model = LinearRegression().fit(X, Y)"
      ],
      "execution_count": 139,
      "outputs": []
    },
    {
      "cell_type": "code",
      "metadata": {
        "colab": {
          "base_uri": "https://localhost:8080/"
        },
        "id": "oiEMhudtF1si",
        "outputId": "f40b903a-a178-4204-e1fb-49892db8342e"
      },
      "source": [
        "r_sq = model.score(X, Y)\n",
        "print('coefficient of determination:', r_sq)"
      ],
      "execution_count": 140,
      "outputs": [
        {
          "output_type": "stream",
          "text": [
            "coefficient of determination: 1.0\n"
          ],
          "name": "stdout"
        }
      ]
    },
    {
      "cell_type": "code",
      "metadata": {
        "colab": {
          "base_uri": "https://localhost:8080/"
        },
        "id": "R2OoUEc0GAsy",
        "outputId": "3fb07bde-8210-4ba5-a6ed-f608ea314f98"
      },
      "source": [
        "print('intercept:', model.intercept_)\n",
        "\n",
        "print('slope:', model.coef_)\n"
      ],
      "execution_count": 141,
      "outputs": [
        {
          "output_type": "stream",
          "text": [
            "intercept: 20.946374237535057\n",
            "slope: [-4.70620513e-05 -1.11064163e-03 -5.94097849e-02  2.99213547e-05\n",
            "  1.06162293e-03 -2.81598635e-03 -7.94145912e-03 -1.72205520e-03\n",
            " -1.24767615e-03 -1.48058965e-01 -5.46564668e-03  7.45970933e-02\n",
            " -8.55074941e-02]\n"
          ],
          "name": "stdout"
        }
      ]
    },
    {
      "cell_type": "code",
      "metadata": {
        "colab": {
          "base_uri": "https://localhost:8080/"
        },
        "id": "fNJ307BAGMIp",
        "outputId": "f0af2a9b-1b82-41f6-fa97-4876556fa1a8"
      },
      "source": [
        "y_pred = model.intercept_ + model.coef_ * X\n",
        "print('predicted response:', y_pred, sep='\\n')"
      ],
      "execution_count": 142,
      "outputs": [
        {
          "output_type": "stream",
          "text": [
            "predicted response:\n",
            "   valorexpo  porcexpoespaña  ...  preciominor  calidadvino\n",
            "0   3.285728       20.932824  ...    21.886298    13.259251\n",
            "1   7.258141       20.935823  ...    21.714724    13.387512\n",
            "2  14.884406       20.941710  ...    21.975814    13.372975\n",
            "3  15.039428       20.941821  ...    25.295385    13.400338\n",
            "4  15.769831       20.942376  ...    21.371578    13.216497\n",
            "5  17.529811       20.943709  ...    21.662506    13.849252\n",
            "6  17.860233       20.944042  ...    21.707265    13.373831\n",
            "7  20.207171       20.945819  ...    21.438715    13.485845\n",
            "8  20.512509       20.946041  ...    21.610288    13.242149\n",
            "\n",
            "[9 rows x 13 columns]\n"
          ],
          "name": "stdout"
        }
      ]
    },
    {
      "cell_type": "code",
      "metadata": {
        "id": "WlZB5Kxu4n35"
      },
      "source": [
        "import pandas as pd \n",
        "import numpy as np"
      ],
      "execution_count": null,
      "outputs": []
    },
    {
      "cell_type": "code",
      "metadata": {
        "id": "emQ6uZzCGqiS"
      },
      "source": [
        "country = pd.read_csv('/content/vinotrabajo - Sheet1 (9).csv', header=0)"
      ],
      "execution_count": null,
      "outputs": []
    },
    {
      "cell_type": "code",
      "metadata": {
        "colab": {
          "base_uri": "https://localhost:8080/",
          "height": 288
        },
        "id": "hc3oPLju5I4O",
        "outputId": "2519dcb3-06d8-4e51-f047-bea9f0d7510d"
      },
      "source": [
        "country_checa = country[country['Pais'] == 'República Checa']\n",
        "country_checa.describe()"
      ],
      "execution_count": null,
      "outputs": [
        {
          "output_type": "execute_result",
          "data": {
            "text/html": [
              "<div>\n",
              "<style scoped>\n",
              "    .dataframe tbody tr th:only-of-type {\n",
              "        vertical-align: middle;\n",
              "    }\n",
              "\n",
              "    .dataframe tbody tr th {\n",
              "        vertical-align: top;\n",
              "    }\n",
              "\n",
              "    .dataframe thead th {\n",
              "        text-align: right;\n",
              "    }\n",
              "</style>\n",
              "<table border=\"1\" class=\"dataframe\">\n",
              "  <thead>\n",
              "    <tr style=\"text-align: right;\">\n",
              "      <th></th>\n",
              "      <th>preciolitro</th>\n",
              "    </tr>\n",
              "  </thead>\n",
              "  <tbody>\n",
              "    <tr>\n",
              "      <th>count</th>\n",
              "      <td>478.000000</td>\n",
              "    </tr>\n",
              "    <tr>\n",
              "      <th>mean</th>\n",
              "      <td>13.767335</td>\n",
              "    </tr>\n",
              "    <tr>\n",
              "      <th>std</th>\n",
              "      <td>9.817388</td>\n",
              "    </tr>\n",
              "    <tr>\n",
              "      <th>min</th>\n",
              "      <td>2.531940</td>\n",
              "    </tr>\n",
              "    <tr>\n",
              "      <th>25%</th>\n",
              "      <td>8.101600</td>\n",
              "    </tr>\n",
              "    <tr>\n",
              "      <th>50%</th>\n",
              "      <td>11.400000</td>\n",
              "    </tr>\n",
              "    <tr>\n",
              "      <th>75%</th>\n",
              "      <td>15.184800</td>\n",
              "    </tr>\n",
              "    <tr>\n",
              "      <th>max</th>\n",
              "      <td>86.070000</td>\n",
              "    </tr>\n",
              "  </tbody>\n",
              "</table>\n",
              "</div>"
            ],
            "text/plain": [
              "       preciolitro\n",
              "count   478.000000\n",
              "mean     13.767335\n",
              "std       9.817388\n",
              "min       2.531940\n",
              "25%       8.101600\n",
              "50%      11.400000\n",
              "75%      15.184800\n",
              "max      86.070000"
            ]
          },
          "metadata": {
            "tags": []
          },
          "execution_count": 6
        }
      ]
    },
    {
      "cell_type": "code",
      "metadata": {
        "colab": {
          "base_uri": "https://localhost:8080/",
          "height": 288
        },
        "id": "tpw5aQcOKLnf",
        "outputId": "fbe67280-7447-4904-b23c-243ed5e28dc1"
      },
      "source": [
        "country_alem = country[country['Pais'] == 'Alemania']\n",
        "country_alem.describe()"
      ],
      "execution_count": null,
      "outputs": [
        {
          "output_type": "execute_result",
          "data": {
            "text/html": [
              "<div>\n",
              "<style scoped>\n",
              "    .dataframe tbody tr th:only-of-type {\n",
              "        vertical-align: middle;\n",
              "    }\n",
              "\n",
              "    .dataframe tbody tr th {\n",
              "        vertical-align: top;\n",
              "    }\n",
              "\n",
              "    .dataframe thead th {\n",
              "        text-align: right;\n",
              "    }\n",
              "</style>\n",
              "<table border=\"1\" class=\"dataframe\">\n",
              "  <thead>\n",
              "    <tr style=\"text-align: right;\">\n",
              "      <th></th>\n",
              "      <th>preciolitro</th>\n",
              "    </tr>\n",
              "  </thead>\n",
              "  <tbody>\n",
              "    <tr>\n",
              "      <th>count</th>\n",
              "      <td>150.000000</td>\n",
              "    </tr>\n",
              "    <tr>\n",
              "      <th>mean</th>\n",
              "      <td>25.825600</td>\n",
              "    </tr>\n",
              "    <tr>\n",
              "      <th>std</th>\n",
              "      <td>46.634125</td>\n",
              "    </tr>\n",
              "    <tr>\n",
              "      <th>min</th>\n",
              "      <td>3.180000</td>\n",
              "    </tr>\n",
              "    <tr>\n",
              "      <th>25%</th>\n",
              "      <td>7.990000</td>\n",
              "    </tr>\n",
              "    <tr>\n",
              "      <th>50%</th>\n",
              "      <td>11.985000</td>\n",
              "    </tr>\n",
              "    <tr>\n",
              "      <th>75%</th>\n",
              "      <td>21.290000</td>\n",
              "    </tr>\n",
              "    <tr>\n",
              "      <th>max</th>\n",
              "      <td>332.000000</td>\n",
              "    </tr>\n",
              "  </tbody>\n",
              "</table>\n",
              "</div>"
            ],
            "text/plain": [
              "       preciolitro\n",
              "count   150.000000\n",
              "mean     25.825600\n",
              "std      46.634125\n",
              "min       3.180000\n",
              "25%       7.990000\n",
              "50%      11.985000\n",
              "75%      21.290000\n",
              "max     332.000000"
            ]
          },
          "metadata": {
            "tags": []
          },
          "execution_count": 8
        }
      ]
    },
    {
      "cell_type": "code",
      "metadata": {
        "colab": {
          "base_uri": "https://localhost:8080/",
          "height": 288
        },
        "id": "-2ScN00vKgls",
        "outputId": "f77ebab8-a39f-44ab-9f05-c79dd3276740"
      },
      "source": [
        "country_swi = country[country['Pais'] == 'Suiza']\n",
        "country_swi.describe()"
      ],
      "execution_count": null,
      "outputs": [
        {
          "output_type": "execute_result",
          "data": {
            "text/html": [
              "<div>\n",
              "<style scoped>\n",
              "    .dataframe tbody tr th:only-of-type {\n",
              "        vertical-align: middle;\n",
              "    }\n",
              "\n",
              "    .dataframe tbody tr th {\n",
              "        vertical-align: top;\n",
              "    }\n",
              "\n",
              "    .dataframe thead th {\n",
              "        text-align: right;\n",
              "    }\n",
              "</style>\n",
              "<table border=\"1\" class=\"dataframe\">\n",
              "  <thead>\n",
              "    <tr style=\"text-align: right;\">\n",
              "      <th></th>\n",
              "      <th>preciolitro</th>\n",
              "    </tr>\n",
              "  </thead>\n",
              "  <tbody>\n",
              "    <tr>\n",
              "      <th>count</th>\n",
              "      <td>281.000000</td>\n",
              "    </tr>\n",
              "    <tr>\n",
              "      <th>mean</th>\n",
              "      <td>24.277804</td>\n",
              "    </tr>\n",
              "    <tr>\n",
              "      <th>std</th>\n",
              "      <td>48.993665</td>\n",
              "    </tr>\n",
              "    <tr>\n",
              "      <th>min</th>\n",
              "      <td>3.105000</td>\n",
              "    </tr>\n",
              "    <tr>\n",
              "      <th>25%</th>\n",
              "      <td>11.943000</td>\n",
              "    </tr>\n",
              "    <tr>\n",
              "      <th>50%</th>\n",
              "      <td>15.597000</td>\n",
              "    </tr>\n",
              "    <tr>\n",
              "      <th>75%</th>\n",
              "      <td>21.537000</td>\n",
              "    </tr>\n",
              "    <tr>\n",
              "      <th>max</th>\n",
              "      <td>690.003000</td>\n",
              "    </tr>\n",
              "  </tbody>\n",
              "</table>\n",
              "</div>"
            ],
            "text/plain": [
              "       preciolitro\n",
              "count   281.000000\n",
              "mean     24.277804\n",
              "std      48.993665\n",
              "min       3.105000\n",
              "25%      11.943000\n",
              "50%      15.597000\n",
              "75%      21.537000\n",
              "max     690.003000"
            ]
          },
          "metadata": {
            "tags": []
          },
          "execution_count": 9
        }
      ]
    },
    {
      "cell_type": "code",
      "metadata": {
        "colab": {
          "base_uri": "https://localhost:8080/",
          "height": 288
        },
        "id": "SBdoKmNaKgn1",
        "outputId": "52799183-70fb-48f6-f6ef-a8046abf6cd6"
      },
      "source": [
        "country_net = country[country['Pais'] == 'Holanda']\n",
        "country_net.describe()"
      ],
      "execution_count": null,
      "outputs": [
        {
          "output_type": "execute_result",
          "data": {
            "text/html": [
              "<div>\n",
              "<style scoped>\n",
              "    .dataframe tbody tr th:only-of-type {\n",
              "        vertical-align: middle;\n",
              "    }\n",
              "\n",
              "    .dataframe tbody tr th {\n",
              "        vertical-align: top;\n",
              "    }\n",
              "\n",
              "    .dataframe thead th {\n",
              "        text-align: right;\n",
              "    }\n",
              "</style>\n",
              "<table border=\"1\" class=\"dataframe\">\n",
              "  <thead>\n",
              "    <tr style=\"text-align: right;\">\n",
              "      <th></th>\n",
              "      <th>preciolitro</th>\n",
              "    </tr>\n",
              "  </thead>\n",
              "  <tbody>\n",
              "    <tr>\n",
              "      <th>count</th>\n",
              "      <td>346.000000</td>\n",
              "    </tr>\n",
              "    <tr>\n",
              "      <th>mean</th>\n",
              "      <td>7.921272</td>\n",
              "    </tr>\n",
              "    <tr>\n",
              "      <th>std</th>\n",
              "      <td>8.587817</td>\n",
              "    </tr>\n",
              "    <tr>\n",
              "      <th>min</th>\n",
              "      <td>1.990000</td>\n",
              "    </tr>\n",
              "    <tr>\n",
              "      <th>25%</th>\n",
              "      <td>4.390000</td>\n",
              "    </tr>\n",
              "    <tr>\n",
              "      <th>50%</th>\n",
              "      <td>6.650000</td>\n",
              "    </tr>\n",
              "    <tr>\n",
              "      <th>75%</th>\n",
              "      <td>7.960000</td>\n",
              "    </tr>\n",
              "    <tr>\n",
              "      <th>max</th>\n",
              "      <td>76.930000</td>\n",
              "    </tr>\n",
              "  </tbody>\n",
              "</table>\n",
              "</div>"
            ],
            "text/plain": [
              "       preciolitro\n",
              "count   346.000000\n",
              "mean      7.921272\n",
              "std       8.587817\n",
              "min       1.990000\n",
              "25%       4.390000\n",
              "50%       6.650000\n",
              "75%       7.960000\n",
              "max      76.930000"
            ]
          },
          "metadata": {
            "tags": []
          },
          "execution_count": 16
        }
      ]
    },
    {
      "cell_type": "code",
      "metadata": {
        "colab": {
          "base_uri": "https://localhost:8080/",
          "height": 288
        },
        "id": "wDZyBPekK2VT",
        "outputId": "d588e457-ebce-462a-ab04-8e41ebe77de2"
      },
      "source": [
        "country_fra = country[country['Pais'] == 'Francia']\n",
        "country_fra.describe()"
      ],
      "execution_count": null,
      "outputs": [
        {
          "output_type": "execute_result",
          "data": {
            "text/html": [
              "<div>\n",
              "<style scoped>\n",
              "    .dataframe tbody tr th:only-of-type {\n",
              "        vertical-align: middle;\n",
              "    }\n",
              "\n",
              "    .dataframe tbody tr th {\n",
              "        vertical-align: top;\n",
              "    }\n",
              "\n",
              "    .dataframe thead th {\n",
              "        text-align: right;\n",
              "    }\n",
              "</style>\n",
              "<table border=\"1\" class=\"dataframe\">\n",
              "  <thead>\n",
              "    <tr style=\"text-align: right;\">\n",
              "      <th></th>\n",
              "      <th>preciolitro</th>\n",
              "    </tr>\n",
              "  </thead>\n",
              "  <tbody>\n",
              "    <tr>\n",
              "      <th>count</th>\n",
              "      <td>798.000000</td>\n",
              "    </tr>\n",
              "    <tr>\n",
              "      <th>mean</th>\n",
              "      <td>10.528358</td>\n",
              "    </tr>\n",
              "    <tr>\n",
              "      <th>std</th>\n",
              "      <td>13.123843</td>\n",
              "    </tr>\n",
              "    <tr>\n",
              "      <th>min</th>\n",
              "      <td>0.450000</td>\n",
              "    </tr>\n",
              "    <tr>\n",
              "      <th>25%</th>\n",
              "      <td>4.790000</td>\n",
              "    </tr>\n",
              "    <tr>\n",
              "      <th>50%</th>\n",
              "      <td>6.795000</td>\n",
              "    </tr>\n",
              "    <tr>\n",
              "      <th>75%</th>\n",
              "      <td>9.730000</td>\n",
              "    </tr>\n",
              "    <tr>\n",
              "      <th>max</th>\n",
              "      <td>116.660000</td>\n",
              "    </tr>\n",
              "  </tbody>\n",
              "</table>\n",
              "</div>"
            ],
            "text/plain": [
              "       preciolitro\n",
              "count   798.000000\n",
              "mean     10.528358\n",
              "std      13.123843\n",
              "min       0.450000\n",
              "25%       4.790000\n",
              "50%       6.795000\n",
              "75%       9.730000\n",
              "max     116.660000"
            ]
          },
          "metadata": {
            "tags": []
          },
          "execution_count": 12
        }
      ]
    },
    {
      "cell_type": "code",
      "metadata": {
        "colab": {
          "base_uri": "https://localhost:8080/",
          "height": 288
        },
        "id": "X_-4TdwjLJ5n",
        "outputId": "9ef67610-08e6-4862-bf66-136bd08fcbdb"
      },
      "source": [
        "country_pt = country[country['Pais'] == 'Portugal']\n",
        "country_pt.describe()"
      ],
      "execution_count": null,
      "outputs": [
        {
          "output_type": "execute_result",
          "data": {
            "text/html": [
              "<div>\n",
              "<style scoped>\n",
              "    .dataframe tbody tr th:only-of-type {\n",
              "        vertical-align: middle;\n",
              "    }\n",
              "\n",
              "    .dataframe tbody tr th {\n",
              "        vertical-align: top;\n",
              "    }\n",
              "\n",
              "    .dataframe thead th {\n",
              "        text-align: right;\n",
              "    }\n",
              "</style>\n",
              "<table border=\"1\" class=\"dataframe\">\n",
              "  <thead>\n",
              "    <tr style=\"text-align: right;\">\n",
              "      <th></th>\n",
              "      <th>preciolitro</th>\n",
              "    </tr>\n",
              "  </thead>\n",
              "  <tbody>\n",
              "    <tr>\n",
              "      <th>count</th>\n",
              "      <td>2618.000000</td>\n",
              "    </tr>\n",
              "    <tr>\n",
              "      <th>mean</th>\n",
              "      <td>12.356005</td>\n",
              "    </tr>\n",
              "    <tr>\n",
              "      <th>std</th>\n",
              "      <td>20.624717</td>\n",
              "    </tr>\n",
              "    <tr>\n",
              "      <th>min</th>\n",
              "      <td>0.530000</td>\n",
              "    </tr>\n",
              "    <tr>\n",
              "      <th>25%</th>\n",
              "      <td>3.990000</td>\n",
              "    </tr>\n",
              "    <tr>\n",
              "      <th>50%</th>\n",
              "      <td>5.990000</td>\n",
              "    </tr>\n",
              "    <tr>\n",
              "      <th>75%</th>\n",
              "      <td>11.990000</td>\n",
              "    </tr>\n",
              "    <tr>\n",
              "      <th>max</th>\n",
              "      <td>206.670000</td>\n",
              "    </tr>\n",
              "  </tbody>\n",
              "</table>\n",
              "</div>"
            ],
            "text/plain": [
              "       preciolitro\n",
              "count  2618.000000\n",
              "mean     12.356005\n",
              "std      20.624717\n",
              "min       0.530000\n",
              "25%       3.990000\n",
              "50%       5.990000\n",
              "75%      11.990000\n",
              "max     206.670000"
            ]
          },
          "metadata": {
            "tags": []
          },
          "execution_count": 13
        }
      ]
    },
    {
      "cell_type": "code",
      "metadata": {
        "colab": {
          "base_uri": "https://localhost:8080/",
          "height": 288
        },
        "id": "MbFNc_k6LUWp",
        "outputId": "1ec9c6c5-2dec-47a3-939a-e53028de507a"
      },
      "source": [
        "country_bel = country[country['Pais'] == 'Bélgica']\n",
        "country_bel.describe()"
      ],
      "execution_count": null,
      "outputs": [
        {
          "output_type": "execute_result",
          "data": {
            "text/html": [
              "<div>\n",
              "<style scoped>\n",
              "    .dataframe tbody tr th:only-of-type {\n",
              "        vertical-align: middle;\n",
              "    }\n",
              "\n",
              "    .dataframe tbody tr th {\n",
              "        vertical-align: top;\n",
              "    }\n",
              "\n",
              "    .dataframe thead th {\n",
              "        text-align: right;\n",
              "    }\n",
              "</style>\n",
              "<table border=\"1\" class=\"dataframe\">\n",
              "  <thead>\n",
              "    <tr style=\"text-align: right;\">\n",
              "      <th></th>\n",
              "      <th>preciolitro</th>\n",
              "    </tr>\n",
              "  </thead>\n",
              "  <tbody>\n",
              "    <tr>\n",
              "      <th>count</th>\n",
              "      <td>496.000000</td>\n",
              "    </tr>\n",
              "    <tr>\n",
              "      <th>mean</th>\n",
              "      <td>7.633952</td>\n",
              "    </tr>\n",
              "    <tr>\n",
              "      <th>std</th>\n",
              "      <td>3.271672</td>\n",
              "    </tr>\n",
              "    <tr>\n",
              "      <th>min</th>\n",
              "      <td>1.550000</td>\n",
              "    </tr>\n",
              "    <tr>\n",
              "      <th>25%</th>\n",
              "      <td>5.490000</td>\n",
              "    </tr>\n",
              "    <tr>\n",
              "      <th>50%</th>\n",
              "      <td>6.990000</td>\n",
              "    </tr>\n",
              "    <tr>\n",
              "      <th>75%</th>\n",
              "      <td>8.990000</td>\n",
              "    </tr>\n",
              "    <tr>\n",
              "      <th>max</th>\n",
              "      <td>16.990000</td>\n",
              "    </tr>\n",
              "  </tbody>\n",
              "</table>\n",
              "</div>"
            ],
            "text/plain": [
              "       preciolitro\n",
              "count   496.000000\n",
              "mean      7.633952\n",
              "std       3.271672\n",
              "min       1.550000\n",
              "25%       5.490000\n",
              "50%       6.990000\n",
              "75%       8.990000\n",
              "max      16.990000"
            ]
          },
          "metadata": {
            "tags": []
          },
          "execution_count": 14
        }
      ]
    },
    {
      "cell_type": "code",
      "metadata": {
        "colab": {
          "base_uri": "https://localhost:8080/",
          "height": 288
        },
        "id": "7WyNLCQ5Lfvg",
        "outputId": "76470b09-e019-48fc-cadc-8ff38d0a3691"
      },
      "source": [
        "country_swe = country[country['Pais'] == 'Suecia']\n",
        "country_swe.describe()"
      ],
      "execution_count": null,
      "outputs": [
        {
          "output_type": "execute_result",
          "data": {
            "text/html": [
              "<div>\n",
              "<style scoped>\n",
              "    .dataframe tbody tr th:only-of-type {\n",
              "        vertical-align: middle;\n",
              "    }\n",
              "\n",
              "    .dataframe tbody tr th {\n",
              "        vertical-align: top;\n",
              "    }\n",
              "\n",
              "    .dataframe thead th {\n",
              "        text-align: right;\n",
              "    }\n",
              "</style>\n",
              "<table border=\"1\" class=\"dataframe\">\n",
              "  <thead>\n",
              "    <tr style=\"text-align: right;\">\n",
              "      <th></th>\n",
              "      <th>preciolitro</th>\n",
              "    </tr>\n",
              "  </thead>\n",
              "  <tbody>\n",
              "    <tr>\n",
              "      <th>count</th>\n",
              "      <td>347.000000</td>\n",
              "    </tr>\n",
              "    <tr>\n",
              "      <th>mean</th>\n",
              "      <td>32.670559</td>\n",
              "    </tr>\n",
              "    <tr>\n",
              "      <th>std</th>\n",
              "      <td>42.822005</td>\n",
              "    </tr>\n",
              "    <tr>\n",
              "      <th>min</th>\n",
              "      <td>5.576670</td>\n",
              "    </tr>\n",
              "    <tr>\n",
              "      <th>25%</th>\n",
              "      <td>13.068000</td>\n",
              "    </tr>\n",
              "    <tr>\n",
              "      <th>50%</th>\n",
              "      <td>22.307670</td>\n",
              "    </tr>\n",
              "    <tr>\n",
              "      <th>75%</th>\n",
              "      <td>36.893835</td>\n",
              "    </tr>\n",
              "    <tr>\n",
              "      <th>max</th>\n",
              "      <td>514.668330</td>\n",
              "    </tr>\n",
              "  </tbody>\n",
              "</table>\n",
              "</div>"
            ],
            "text/plain": [
              "       preciolitro\n",
              "count   347.000000\n",
              "mean     32.670559\n",
              "std      42.822005\n",
              "min       5.576670\n",
              "25%      13.068000\n",
              "50%      22.307670\n",
              "75%      36.893835\n",
              "max     514.668330"
            ]
          },
          "metadata": {
            "tags": []
          },
          "execution_count": 15
        }
      ]
    },
    {
      "cell_type": "code",
      "metadata": {
        "colab": {
          "base_uri": "https://localhost:8080/",
          "height": 288
        },
        "id": "aDyMgjuVLJ7_",
        "outputId": "7afc0bf0-bc5c-43d8-a9b1-5f15e1cfd88d"
      },
      "source": [
        "country_dk = country[country['Pais'] == 'Dinamarca']\n",
        "country_dk.describe()"
      ],
      "execution_count": null,
      "outputs": [
        {
          "output_type": "execute_result",
          "data": {
            "text/html": [
              "<div>\n",
              "<style scoped>\n",
              "    .dataframe tbody tr th:only-of-type {\n",
              "        vertical-align: middle;\n",
              "    }\n",
              "\n",
              "    .dataframe tbody tr th {\n",
              "        vertical-align: top;\n",
              "    }\n",
              "\n",
              "    .dataframe thead th {\n",
              "        text-align: right;\n",
              "    }\n",
              "</style>\n",
              "<table border=\"1\" class=\"dataframe\">\n",
              "  <thead>\n",
              "    <tr style=\"text-align: right;\">\n",
              "      <th></th>\n",
              "      <th>preciolitro</th>\n",
              "    </tr>\n",
              "  </thead>\n",
              "  <tbody>\n",
              "    <tr>\n",
              "      <th>count</th>\n",
              "      <td>267.000000</td>\n",
              "    </tr>\n",
              "    <tr>\n",
              "      <th>mean</th>\n",
              "      <td>10.102860</td>\n",
              "    </tr>\n",
              "    <tr>\n",
              "      <th>std</th>\n",
              "      <td>5.406162</td>\n",
              "    </tr>\n",
              "    <tr>\n",
              "      <th>min</th>\n",
              "      <td>2.600000</td>\n",
              "    </tr>\n",
              "    <tr>\n",
              "      <th>25%</th>\n",
              "      <td>6.370000</td>\n",
              "    </tr>\n",
              "    <tr>\n",
              "      <th>50%</th>\n",
              "      <td>8.450000</td>\n",
              "    </tr>\n",
              "    <tr>\n",
              "      <th>75%</th>\n",
              "      <td>12.870000</td>\n",
              "    </tr>\n",
              "    <tr>\n",
              "      <th>max</th>\n",
              "      <td>29.185000</td>\n",
              "    </tr>\n",
              "  </tbody>\n",
              "</table>\n",
              "</div>"
            ],
            "text/plain": [
              "       preciolitro\n",
              "count   267.000000\n",
              "mean     10.102860\n",
              "std       5.406162\n",
              "min       2.600000\n",
              "25%       6.370000\n",
              "50%       8.450000\n",
              "75%      12.870000\n",
              "max      29.185000"
            ]
          },
          "metadata": {
            "tags": []
          },
          "execution_count": 17
        }
      ]
    },
    {
      "cell_type": "code",
      "metadata": {
        "colab": {
          "base_uri": "https://localhost:8080/",
          "height": 288
        },
        "id": "faPiu_roL8da",
        "outputId": "2528a0b1-f1d4-46de-83c4-bec90c0bee94"
      },
      "source": [
        "country_irl = country[country['Pais'] == 'Irlanda']\n",
        "country_irl.describe()"
      ],
      "execution_count": null,
      "outputs": [
        {
          "output_type": "execute_result",
          "data": {
            "text/html": [
              "<div>\n",
              "<style scoped>\n",
              "    .dataframe tbody tr th:only-of-type {\n",
              "        vertical-align: middle;\n",
              "    }\n",
              "\n",
              "    .dataframe tbody tr th {\n",
              "        vertical-align: top;\n",
              "    }\n",
              "\n",
              "    .dataframe thead th {\n",
              "        text-align: right;\n",
              "    }\n",
              "</style>\n",
              "<table border=\"1\" class=\"dataframe\">\n",
              "  <thead>\n",
              "    <tr style=\"text-align: right;\">\n",
              "      <th></th>\n",
              "      <th>preciolitro</th>\n",
              "    </tr>\n",
              "  </thead>\n",
              "  <tbody>\n",
              "    <tr>\n",
              "      <th>count</th>\n",
              "      <td>221.000000</td>\n",
              "    </tr>\n",
              "    <tr>\n",
              "      <th>mean</th>\n",
              "      <td>14.734163</td>\n",
              "    </tr>\n",
              "    <tr>\n",
              "      <th>std</th>\n",
              "      <td>5.094880</td>\n",
              "    </tr>\n",
              "    <tr>\n",
              "      <th>min</th>\n",
              "      <td>4.840000</td>\n",
              "    </tr>\n",
              "    <tr>\n",
              "      <th>25%</th>\n",
              "      <td>11.330000</td>\n",
              "    </tr>\n",
              "    <tr>\n",
              "      <th>50%</th>\n",
              "      <td>13.330000</td>\n",
              "    </tr>\n",
              "    <tr>\n",
              "      <th>75%</th>\n",
              "      <td>16.000000</td>\n",
              "    </tr>\n",
              "    <tr>\n",
              "      <th>max</th>\n",
              "      <td>38.030000</td>\n",
              "    </tr>\n",
              "  </tbody>\n",
              "</table>\n",
              "</div>"
            ],
            "text/plain": [
              "       preciolitro\n",
              "count   221.000000\n",
              "mean     14.734163\n",
              "std       5.094880\n",
              "min       4.840000\n",
              "25%      11.330000\n",
              "50%      13.330000\n",
              "75%      16.000000\n",
              "max      38.030000"
            ]
          },
          "metadata": {
            "tags": []
          },
          "execution_count": 18
        }
      ]
    },
    {
      "cell_type": "code",
      "metadata": {
        "colab": {
          "base_uri": "https://localhost:8080/",
          "height": 288
        },
        "id": "QE2C8wbKMW9d",
        "outputId": "6751d9e5-a47b-4ae6-8784-7ed6ab0b584a"
      },
      "source": [
        "country_pol = country[country['Pais'] == 'Polonia']\n",
        "country_pol.describe()"
      ],
      "execution_count": null,
      "outputs": [
        {
          "output_type": "execute_result",
          "data": {
            "text/html": [
              "<div>\n",
              "<style scoped>\n",
              "    .dataframe tbody tr th:only-of-type {\n",
              "        vertical-align: middle;\n",
              "    }\n",
              "\n",
              "    .dataframe tbody tr th {\n",
              "        vertical-align: top;\n",
              "    }\n",
              "\n",
              "    .dataframe thead th {\n",
              "        text-align: right;\n",
              "    }\n",
              "</style>\n",
              "<table border=\"1\" class=\"dataframe\">\n",
              "  <thead>\n",
              "    <tr style=\"text-align: right;\">\n",
              "      <th></th>\n",
              "      <th>preciolitro</th>\n",
              "    </tr>\n",
              "  </thead>\n",
              "  <tbody>\n",
              "    <tr>\n",
              "      <th>count</th>\n",
              "      <td>583.000000</td>\n",
              "    </tr>\n",
              "    <tr>\n",
              "      <th>mean</th>\n",
              "      <td>24.792334</td>\n",
              "    </tr>\n",
              "    <tr>\n",
              "      <th>std</th>\n",
              "      <td>26.511549</td>\n",
              "    </tr>\n",
              "    <tr>\n",
              "      <th>min</th>\n",
              "      <td>0.000000</td>\n",
              "    </tr>\n",
              "    <tr>\n",
              "      <th>25%</th>\n",
              "      <td>10.788800</td>\n",
              "    </tr>\n",
              "    <tr>\n",
              "      <th>50%</th>\n",
              "      <td>17.012600</td>\n",
              "    </tr>\n",
              "    <tr>\n",
              "      <th>75%</th>\n",
              "      <td>26.516600</td>\n",
              "    </tr>\n",
              "    <tr>\n",
              "      <th>max</th>\n",
              "      <td>234.372600</td>\n",
              "    </tr>\n",
              "  </tbody>\n",
              "</table>\n",
              "</div>"
            ],
            "text/plain": [
              "       preciolitro\n",
              "count   583.000000\n",
              "mean     24.792334\n",
              "std      26.511549\n",
              "min       0.000000\n",
              "25%      10.788800\n",
              "50%      17.012600\n",
              "75%      26.516600\n",
              "max     234.372600"
            ]
          },
          "metadata": {
            "tags": []
          },
          "execution_count": 19
        }
      ]
    },
    {
      "cell_type": "code",
      "metadata": {
        "colab": {
          "base_uri": "https://localhost:8080/",
          "height": 288
        },
        "id": "nkazAx9RMW_-",
        "outputId": "332fa96a-cffc-4f57-d64c-bc26832906bd"
      },
      "source": [
        "country_no = country[country['Pais'] == 'Noruega']\n",
        "country_no.describe()"
      ],
      "execution_count": null,
      "outputs": [
        {
          "output_type": "execute_result",
          "data": {
            "text/html": [
              "<div>\n",
              "<style scoped>\n",
              "    .dataframe tbody tr th:only-of-type {\n",
              "        vertical-align: middle;\n",
              "    }\n",
              "\n",
              "    .dataframe tbody tr th {\n",
              "        vertical-align: top;\n",
              "    }\n",
              "\n",
              "    .dataframe thead th {\n",
              "        text-align: right;\n",
              "    }\n",
              "</style>\n",
              "<table border=\"1\" class=\"dataframe\">\n",
              "  <thead>\n",
              "    <tr style=\"text-align: right;\">\n",
              "      <th></th>\n",
              "      <th>preciolitro</th>\n",
              "    </tr>\n",
              "  </thead>\n",
              "  <tbody>\n",
              "    <tr>\n",
              "      <th>count</th>\n",
              "      <td>295.000000</td>\n",
              "    </tr>\n",
              "    <tr>\n",
              "      <th>mean</th>\n",
              "      <td>52.821765</td>\n",
              "    </tr>\n",
              "    <tr>\n",
              "      <th>std</th>\n",
              "      <td>59.120378</td>\n",
              "    </tr>\n",
              "    <tr>\n",
              "      <th>min</th>\n",
              "      <td>12.206700</td>\n",
              "    </tr>\n",
              "    <tr>\n",
              "      <th>25%</th>\n",
              "      <td>26.396865</td>\n",
              "    </tr>\n",
              "    <tr>\n",
              "      <th>50%</th>\n",
              "      <td>40.260330</td>\n",
              "    </tr>\n",
              "    <tr>\n",
              "      <th>75%</th>\n",
              "      <td>59.393565</td>\n",
              "    </tr>\n",
              "    <tr>\n",
              "      <th>max</th>\n",
              "      <td>628.716330</td>\n",
              "    </tr>\n",
              "  </tbody>\n",
              "</table>\n",
              "</div>"
            ],
            "text/plain": [
              "       preciolitro\n",
              "count   295.000000\n",
              "mean     52.821765\n",
              "std      59.120378\n",
              "min      12.206700\n",
              "25%      26.396865\n",
              "50%      40.260330\n",
              "75%      59.393565\n",
              "max     628.716330"
            ]
          },
          "metadata": {
            "tags": []
          },
          "execution_count": 20
        }
      ]
    },
    {
      "cell_type": "code",
      "metadata": {
        "colab": {
          "base_uri": "https://localhost:8080/",
          "height": 288
        },
        "id": "Nly3jseZMyEW",
        "outputId": "9dbcc758-e90f-4faa-bbb6-98b326c4d705"
      },
      "source": [
        "country_che = country[country['Pais'] == 'República Checa']\n",
        "country_che.describe()"
      ],
      "execution_count": null,
      "outputs": [
        {
          "output_type": "execute_result",
          "data": {
            "text/html": [
              "<div>\n",
              "<style scoped>\n",
              "    .dataframe tbody tr th:only-of-type {\n",
              "        vertical-align: middle;\n",
              "    }\n",
              "\n",
              "    .dataframe tbody tr th {\n",
              "        vertical-align: top;\n",
              "    }\n",
              "\n",
              "    .dataframe thead th {\n",
              "        text-align: right;\n",
              "    }\n",
              "</style>\n",
              "<table border=\"1\" class=\"dataframe\">\n",
              "  <thead>\n",
              "    <tr style=\"text-align: right;\">\n",
              "      <th></th>\n",
              "      <th>preciolitro</th>\n",
              "    </tr>\n",
              "  </thead>\n",
              "  <tbody>\n",
              "    <tr>\n",
              "      <th>count</th>\n",
              "      <td>478.000000</td>\n",
              "    </tr>\n",
              "    <tr>\n",
              "      <th>mean</th>\n",
              "      <td>13.767335</td>\n",
              "    </tr>\n",
              "    <tr>\n",
              "      <th>std</th>\n",
              "      <td>9.817388</td>\n",
              "    </tr>\n",
              "    <tr>\n",
              "      <th>min</th>\n",
              "      <td>2.531940</td>\n",
              "    </tr>\n",
              "    <tr>\n",
              "      <th>25%</th>\n",
              "      <td>8.101600</td>\n",
              "    </tr>\n",
              "    <tr>\n",
              "      <th>50%</th>\n",
              "      <td>11.400000</td>\n",
              "    </tr>\n",
              "    <tr>\n",
              "      <th>75%</th>\n",
              "      <td>15.184800</td>\n",
              "    </tr>\n",
              "    <tr>\n",
              "      <th>max</th>\n",
              "      <td>86.070000</td>\n",
              "    </tr>\n",
              "  </tbody>\n",
              "</table>\n",
              "</div>"
            ],
            "text/plain": [
              "       preciolitro\n",
              "count   478.000000\n",
              "mean     13.767335\n",
              "std       9.817388\n",
              "min       2.531940\n",
              "25%       8.101600\n",
              "50%      11.400000\n",
              "75%      15.184800\n",
              "max      86.070000"
            ]
          },
          "metadata": {
            "tags": []
          },
          "execution_count": 21
        }
      ]
    },
    {
      "cell_type": "code",
      "metadata": {
        "colab": {
          "base_uri": "https://localhost:8080/",
          "height": 288
        },
        "id": "tTZKx_NONLOZ",
        "outputId": "c65d6c4e-21e1-43b2-95cc-a7992b6541e5"
      },
      "source": [
        "country_it = country[country['Pais'] == 'Italia']\n",
        "country_it.describe()"
      ],
      "execution_count": null,
      "outputs": [
        {
          "output_type": "execute_result",
          "data": {
            "text/html": [
              "<div>\n",
              "<style scoped>\n",
              "    .dataframe tbody tr th:only-of-type {\n",
              "        vertical-align: middle;\n",
              "    }\n",
              "\n",
              "    .dataframe tbody tr th {\n",
              "        vertical-align: top;\n",
              "    }\n",
              "\n",
              "    .dataframe thead th {\n",
              "        text-align: right;\n",
              "    }\n",
              "</style>\n",
              "<table border=\"1\" class=\"dataframe\">\n",
              "  <thead>\n",
              "    <tr style=\"text-align: right;\">\n",
              "      <th></th>\n",
              "      <th>preciolitro</th>\n",
              "    </tr>\n",
              "  </thead>\n",
              "  <tbody>\n",
              "    <tr>\n",
              "      <th>count</th>\n",
              "      <td>716.000000</td>\n",
              "    </tr>\n",
              "    <tr>\n",
              "      <th>mean</th>\n",
              "      <td>9.124106</td>\n",
              "    </tr>\n",
              "    <tr>\n",
              "      <th>std</th>\n",
              "      <td>10.188791</td>\n",
              "    </tr>\n",
              "    <tr>\n",
              "      <th>min</th>\n",
              "      <td>0.650000</td>\n",
              "    </tr>\n",
              "    <tr>\n",
              "      <th>25%</th>\n",
              "      <td>4.650000</td>\n",
              "    </tr>\n",
              "    <tr>\n",
              "      <th>50%</th>\n",
              "      <td>6.650000</td>\n",
              "    </tr>\n",
              "    <tr>\n",
              "      <th>75%</th>\n",
              "      <td>9.577500</td>\n",
              "    </tr>\n",
              "    <tr>\n",
              "      <th>max</th>\n",
              "      <td>99.000000</td>\n",
              "    </tr>\n",
              "  </tbody>\n",
              "</table>\n",
              "</div>"
            ],
            "text/plain": [
              "       preciolitro\n",
              "count   716.000000\n",
              "mean      9.124106\n",
              "std      10.188791\n",
              "min       0.650000\n",
              "25%       4.650000\n",
              "50%       6.650000\n",
              "75%       9.577500\n",
              "max      99.000000"
            ]
          },
          "metadata": {
            "tags": []
          },
          "execution_count": 22
        }
      ]
    },
    {
      "cell_type": "code",
      "metadata": {
        "colab": {
          "base_uri": "https://localhost:8080/",
          "height": 288
        },
        "id": "cpGzpuknNQf9",
        "outputId": "6f7c8db4-d2ff-49f5-b147-93e5b4b34660"
      },
      "source": [
        "country_aus = country[country['Pais'] == 'Austria']\n",
        "country_aus.describe()"
      ],
      "execution_count": null,
      "outputs": [
        {
          "output_type": "execute_result",
          "data": {
            "text/html": [
              "<div>\n",
              "<style scoped>\n",
              "    .dataframe tbody tr th:only-of-type {\n",
              "        vertical-align: middle;\n",
              "    }\n",
              "\n",
              "    .dataframe tbody tr th {\n",
              "        vertical-align: top;\n",
              "    }\n",
              "\n",
              "    .dataframe thead th {\n",
              "        text-align: right;\n",
              "    }\n",
              "</style>\n",
              "<table border=\"1\" class=\"dataframe\">\n",
              "  <thead>\n",
              "    <tr style=\"text-align: right;\">\n",
              "      <th></th>\n",
              "      <th>preciolitro</th>\n",
              "    </tr>\n",
              "  </thead>\n",
              "  <tbody>\n",
              "    <tr>\n",
              "      <th>count</th>\n",
              "      <td>1560.000000</td>\n",
              "    </tr>\n",
              "    <tr>\n",
              "      <th>mean</th>\n",
              "      <td>43.840821</td>\n",
              "    </tr>\n",
              "    <tr>\n",
              "      <th>std</th>\n",
              "      <td>138.579208</td>\n",
              "    </tr>\n",
              "    <tr>\n",
              "      <th>min</th>\n",
              "      <td>1.000000</td>\n",
              "    </tr>\n",
              "    <tr>\n",
              "      <th>25%</th>\n",
              "      <td>9.320000</td>\n",
              "    </tr>\n",
              "    <tr>\n",
              "      <th>50%</th>\n",
              "      <td>14.650000</td>\n",
              "    </tr>\n",
              "    <tr>\n",
              "      <th>75%</th>\n",
              "      <td>30.022500</td>\n",
              "    </tr>\n",
              "    <tr>\n",
              "      <th>max</th>\n",
              "      <td>1720.000000</td>\n",
              "    </tr>\n",
              "  </tbody>\n",
              "</table>\n",
              "</div>"
            ],
            "text/plain": [
              "       preciolitro\n",
              "count  1560.000000\n",
              "mean     43.840821\n",
              "std     138.579208\n",
              "min       1.000000\n",
              "25%       9.320000\n",
              "50%      14.650000\n",
              "75%      30.022500\n",
              "max    1720.000000"
            ]
          },
          "metadata": {
            "tags": []
          },
          "execution_count": 23
        }
      ]
    },
    {
      "cell_type": "code",
      "metadata": {
        "colab": {
          "base_uri": "https://localhost:8080/",
          "height": 288
        },
        "id": "KtOIv93PNc1z",
        "outputId": "af759bc2-73b3-4f81-acea-a16067218233"
      },
      "source": [
        "country_hung = country[country['Pais'] == 'Hungria']\n",
        "country_hung.describe()"
      ],
      "execution_count": null,
      "outputs": [
        {
          "output_type": "execute_result",
          "data": {
            "text/html": [
              "<div>\n",
              "<style scoped>\n",
              "    .dataframe tbody tr th:only-of-type {\n",
              "        vertical-align: middle;\n",
              "    }\n",
              "\n",
              "    .dataframe tbody tr th {\n",
              "        vertical-align: top;\n",
              "    }\n",
              "\n",
              "    .dataframe thead th {\n",
              "        text-align: right;\n",
              "    }\n",
              "</style>\n",
              "<table border=\"1\" class=\"dataframe\">\n",
              "  <thead>\n",
              "    <tr style=\"text-align: right;\">\n",
              "      <th></th>\n",
              "      <th>preciolitro</th>\n",
              "    </tr>\n",
              "  </thead>\n",
              "  <tbody>\n",
              "    <tr>\n",
              "      <th>count</th>\n",
              "      <td>0.0</td>\n",
              "    </tr>\n",
              "    <tr>\n",
              "      <th>mean</th>\n",
              "      <td>NaN</td>\n",
              "    </tr>\n",
              "    <tr>\n",
              "      <th>std</th>\n",
              "      <td>NaN</td>\n",
              "    </tr>\n",
              "    <tr>\n",
              "      <th>min</th>\n",
              "      <td>NaN</td>\n",
              "    </tr>\n",
              "    <tr>\n",
              "      <th>25%</th>\n",
              "      <td>NaN</td>\n",
              "    </tr>\n",
              "    <tr>\n",
              "      <th>50%</th>\n",
              "      <td>NaN</td>\n",
              "    </tr>\n",
              "    <tr>\n",
              "      <th>75%</th>\n",
              "      <td>NaN</td>\n",
              "    </tr>\n",
              "    <tr>\n",
              "      <th>max</th>\n",
              "      <td>NaN</td>\n",
              "    </tr>\n",
              "  </tbody>\n",
              "</table>\n",
              "</div>"
            ],
            "text/plain": [
              "       preciolitro\n",
              "count          0.0\n",
              "mean           NaN\n",
              "std            NaN\n",
              "min            NaN\n",
              "25%            NaN\n",
              "50%            NaN\n",
              "75%            NaN\n",
              "max            NaN"
            ]
          },
          "metadata": {
            "tags": []
          },
          "execution_count": 25
        }
      ]
    },
    {
      "cell_type": "code",
      "metadata": {
        "id": "0N-tDL10Nc5N"
      },
      "source": [
        ""
      ],
      "execution_count": null,
      "outputs": []
    },
    {
      "cell_type": "code",
      "metadata": {
        "id": "vNJipK-O7H5u"
      },
      "source": [
        "mapa = pd.read_csv('/content/basededatosexpo - Hoja 1.csv', header=0)"
      ],
      "execution_count": null,
      "outputs": []
    },
    {
      "cell_type": "code",
      "metadata": {
        "colab": {
          "base_uri": "https://localhost:8080/",
          "height": 945
        },
        "id": "oULxjM3u7OG1",
        "outputId": "bc61a533-69d4-47ef-8470-b1186f52a12a"
      },
      "source": [
        "new = pd.merge(country, mapa, on='Pais')\n",
        "new"
      ],
      "execution_count": null,
      "outputs": [
        {
          "output_type": "execute_result",
          "data": {
            "text/html": [
              "<div>\n",
              "<style scoped>\n",
              "    .dataframe tbody tr th:only-of-type {\n",
              "        vertical-align: middle;\n",
              "    }\n",
              "\n",
              "    .dataframe tbody tr th {\n",
              "        vertical-align: top;\n",
              "    }\n",
              "\n",
              "    .dataframe thead th {\n",
              "        text-align: right;\n",
              "    }\n",
              "</style>\n",
              "<table border=\"1\" class=\"dataframe\">\n",
              "  <thead>\n",
              "    <tr style=\"text-align: right;\">\n",
              "      <th></th>\n",
              "      <th>Marca</th>\n",
              "      <th>preciolitro</th>\n",
              "      <th>Pais</th>\n",
              "      <th>valorexpo</th>\n",
              "      <th>porcexpoespaña</th>\n",
              "      <th>porceimpoespa</th>\n",
              "      <th>cantidad</th>\n",
              "      <th>precio</th>\n",
              "      <th>porcenimpoomundial</th>\n",
              "      <th>crecimvalorcinc</th>\n",
              "      <th>Distancia</th>\n",
              "      <th>concentracion</th>\n",
              "      <th>tarifa</th>\n",
              "      <th>ease_doing</th>\n",
              "    </tr>\n",
              "  </thead>\n",
              "  <tbody>\n",
              "    <tr>\n",
              "      <th>0</th>\n",
              "      <td>Kloster Eberbach Spätburgunder rosé Rheingau Q...</td>\n",
              "      <td>10.650</td>\n",
              "      <td>Alemania</td>\n",
              "      <td>375263</td>\n",
              "      <td>12.2</td>\n",
              "      <td>14.1</td>\n",
              "      <td>360815</td>\n",
              "      <td>1040</td>\n",
              "      <td>8.0</td>\n",
              "      <td>3</td>\n",
              "      <td>2297</td>\n",
              "      <td>0.25</td>\n",
              "      <td>0.0</td>\n",
              "      <td>22</td>\n",
              "    </tr>\n",
              "    <tr>\n",
              "      <th>1</th>\n",
              "      <td>Osborne Solaz Tempranillo 14.50 % vol 0.75 Liter</td>\n",
              "      <td>6.600</td>\n",
              "      <td>Alemania</td>\n",
              "      <td>375263</td>\n",
              "      <td>12.2</td>\n",
              "      <td>14.1</td>\n",
              "      <td>360815</td>\n",
              "      <td>1040</td>\n",
              "      <td>8.0</td>\n",
              "      <td>3</td>\n",
              "      <td>2297</td>\n",
              "      <td>0.25</td>\n",
              "      <td>0.0</td>\n",
              "      <td>22</td>\n",
              "    </tr>\n",
              "    <tr>\n",
              "      <th>2</th>\n",
              "      <td>Finca los Príncipes Rioja Crianza 13.5 % vol 0...</td>\n",
              "      <td>7.970</td>\n",
              "      <td>Alemania</td>\n",
              "      <td>375263</td>\n",
              "      <td>12.2</td>\n",
              "      <td>14.1</td>\n",
              "      <td>360815</td>\n",
              "      <td>1040</td>\n",
              "      <td>8.0</td>\n",
              "      <td>3</td>\n",
              "      <td>2297</td>\n",
              "      <td>0.25</td>\n",
              "      <td>0.0</td>\n",
              "      <td>22</td>\n",
              "    </tr>\n",
              "    <tr>\n",
              "      <th>3</th>\n",
              "      <td>Fetzer Eagle Peak Merlot 13.5 % vol. 0.75 Liter</td>\n",
              "      <td>9.320</td>\n",
              "      <td>Alemania</td>\n",
              "      <td>375263</td>\n",
              "      <td>12.2</td>\n",
              "      <td>14.1</td>\n",
              "      <td>360815</td>\n",
              "      <td>1040</td>\n",
              "      <td>8.0</td>\n",
              "      <td>3</td>\n",
              "      <td>2297</td>\n",
              "      <td>0.25</td>\n",
              "      <td>0.0</td>\n",
              "      <td>22</td>\n",
              "    </tr>\n",
              "    <tr>\n",
              "      <th>4</th>\n",
              "      <td>Brumale Grecanico Inzolia Terre Siciliane IGT ...</td>\n",
              "      <td>5.990</td>\n",
              "      <td>Alemania</td>\n",
              "      <td>375263</td>\n",
              "      <td>12.2</td>\n",
              "      <td>14.1</td>\n",
              "      <td>360815</td>\n",
              "      <td>1040</td>\n",
              "      <td>8.0</td>\n",
              "      <td>3</td>\n",
              "      <td>2297</td>\n",
              "      <td>0.25</td>\n",
              "      <td>0.0</td>\n",
              "      <td>22</td>\n",
              "    </tr>\n",
              "    <tr>\n",
              "      <th>...</th>\n",
              "      <td>...</td>\n",
              "      <td>...</td>\n",
              "      <td>...</td>\n",
              "      <td>...</td>\n",
              "      <td>...</td>\n",
              "      <td>...</td>\n",
              "      <td>...</td>\n",
              "      <td>...</td>\n",
              "      <td>...</td>\n",
              "      <td>...</td>\n",
              "      <td>...</td>\n",
              "      <td>...</td>\n",
              "      <td>...</td>\n",
              "      <td>...</td>\n",
              "    </tr>\n",
              "    <tr>\n",
              "      <th>9151</th>\n",
              "      <td>Naturaplan Organic Valais AOC Rebbio Jean-René...</td>\n",
              "      <td>21.537</td>\n",
              "      <td>Suiza</td>\n",
              "      <td>128808</td>\n",
              "      <td>4.2</td>\n",
              "      <td>11.6</td>\n",
              "      <td>25499</td>\n",
              "      <td>5051</td>\n",
              "      <td>3.3</td>\n",
              "      <td>4</td>\n",
              "      <td>1159</td>\n",
              "      <td>0.28</td>\n",
              "      <td>18.5</td>\n",
              "      <td>36</td>\n",
              "    </tr>\n",
              "    <tr>\n",
              "      <th>9152</th>\n",
              "      <td>Zürich AOC Goldküste Pinot Noir Cabernet</td>\n",
              "      <td>16.200</td>\n",
              "      <td>Suiza</td>\n",
              "      <td>128808</td>\n",
              "      <td>4.2</td>\n",
              "      <td>11.6</td>\n",
              "      <td>25499</td>\n",
              "      <td>5051</td>\n",
              "      <td>3.3</td>\n",
              "      <td>4</td>\n",
              "      <td>1159</td>\n",
              "      <td>0.28</td>\n",
              "      <td>18.5</td>\n",
              "      <td>36</td>\n",
              "    </tr>\n",
              "    <tr>\n",
              "      <th>9153</th>\n",
              "      <td>Genève AOC Merlot Barrique</td>\n",
              "      <td>27.000</td>\n",
              "      <td>Suiza</td>\n",
              "      <td>128808</td>\n",
              "      <td>4.2</td>\n",
              "      <td>11.6</td>\n",
              "      <td>25499</td>\n",
              "      <td>5051</td>\n",
              "      <td>3.3</td>\n",
              "      <td>4</td>\n",
              "      <td>1159</td>\n",
              "      <td>0.28</td>\n",
              "      <td>18.5</td>\n",
              "      <td>36</td>\n",
              "    </tr>\n",
              "    <tr>\n",
              "      <th>9154</th>\n",
              "      <td>Amarone della Valpolicella Rocca Alata DOC</td>\n",
              "      <td>17.937</td>\n",
              "      <td>Suiza</td>\n",
              "      <td>128808</td>\n",
              "      <td>4.2</td>\n",
              "      <td>11.6</td>\n",
              "      <td>25499</td>\n",
              "      <td>5051</td>\n",
              "      <td>3.3</td>\n",
              "      <td>4</td>\n",
              "      <td>1159</td>\n",
              "      <td>0.28</td>\n",
              "      <td>18.5</td>\n",
              "      <td>36</td>\n",
              "    </tr>\n",
              "    <tr>\n",
              "      <th>9155</th>\n",
              "      <td>Primitivo di Manduria DOC Moi</td>\n",
              "      <td>10.503</td>\n",
              "      <td>Suiza</td>\n",
              "      <td>128808</td>\n",
              "      <td>4.2</td>\n",
              "      <td>11.6</td>\n",
              "      <td>25499</td>\n",
              "      <td>5051</td>\n",
              "      <td>3.3</td>\n",
              "      <td>4</td>\n",
              "      <td>1159</td>\n",
              "      <td>0.28</td>\n",
              "      <td>18.5</td>\n",
              "      <td>36</td>\n",
              "    </tr>\n",
              "  </tbody>\n",
              "</table>\n",
              "<p>9156 rows × 14 columns</p>\n",
              "</div>"
            ],
            "text/plain": [
              "                                                  Marca  ...  ease_doing\n",
              "0     Kloster Eberbach Spätburgunder rosé Rheingau Q...  ...          22\n",
              "1      Osborne Solaz Tempranillo 14.50 % vol 0.75 Liter  ...          22\n",
              "2     Finca los Príncipes Rioja Crianza 13.5 % vol 0...  ...          22\n",
              "3       Fetzer Eagle Peak Merlot 13.5 % vol. 0.75 Liter  ...          22\n",
              "4     Brumale Grecanico Inzolia Terre Siciliane IGT ...  ...          22\n",
              "...                                                 ...  ...         ...\n",
              "9151  Naturaplan Organic Valais AOC Rebbio Jean-René...  ...          36\n",
              "9152           Zürich AOC Goldküste Pinot Noir Cabernet  ...          36\n",
              "9153                         Genève AOC Merlot Barrique  ...          36\n",
              "9154         Amarone della Valpolicella Rocca Alata DOC  ...          36\n",
              "9155                      Primitivo di Manduria DOC Moi  ...          36\n",
              "\n",
              "[9156 rows x 14 columns]"
            ]
          },
          "metadata": {
            "tags": []
          },
          "execution_count": 7
        }
      ]
    },
    {
      "cell_type": "code",
      "metadata": {
        "colab": {
          "base_uri": "https://localhost:8080/",
          "height": 308
        },
        "id": "-bHfkHG67dcT",
        "outputId": "c751d4f8-8e48-4b93-a0e5-86d5e96c9713"
      },
      "source": [
        "country_checa = new[new['Pais'] == 'República Checa']\n",
        "country_checa.describe()"
      ],
      "execution_count": null,
      "outputs": [
        {
          "output_type": "execute_result",
          "data": {
            "text/html": [
              "<div>\n",
              "<style scoped>\n",
              "    .dataframe tbody tr th:only-of-type {\n",
              "        vertical-align: middle;\n",
              "    }\n",
              "\n",
              "    .dataframe tbody tr th {\n",
              "        vertical-align: top;\n",
              "    }\n",
              "\n",
              "    .dataframe thead th {\n",
              "        text-align: right;\n",
              "    }\n",
              "</style>\n",
              "<table border=\"1\" class=\"dataframe\">\n",
              "  <thead>\n",
              "    <tr style=\"text-align: right;\">\n",
              "      <th></th>\n",
              "      <th>preciolitro</th>\n",
              "      <th>valorexpo</th>\n",
              "      <th>porcexpoespaña</th>\n",
              "      <th>porceimpoespa</th>\n",
              "      <th>cantidad</th>\n",
              "      <th>precio</th>\n",
              "      <th>porcenimpoomundial</th>\n",
              "      <th>crecimvalorcinc</th>\n",
              "      <th>Distancia</th>\n",
              "      <th>concentracion</th>\n",
              "      <th>tarifa</th>\n",
              "      <th>ease_doing</th>\n",
              "    </tr>\n",
              "  </thead>\n",
              "  <tbody>\n",
              "    <tr>\n",
              "      <th>count</th>\n",
              "      <td>478.000000</td>\n",
              "      <td>478.0</td>\n",
              "      <td>478.0</td>\n",
              "      <td>478.0</td>\n",
              "      <td>478.0</td>\n",
              "      <td>478.0</td>\n",
              "      <td>4.780000e+02</td>\n",
              "      <td>478.0</td>\n",
              "      <td>478.0</td>\n",
              "      <td>4.780000e+02</td>\n",
              "      <td>478.0</td>\n",
              "      <td>478.0</td>\n",
              "    </tr>\n",
              "    <tr>\n",
              "      <th>mean</th>\n",
              "      <td>13.767335</td>\n",
              "      <td>15707.0</td>\n",
              "      <td>0.5</td>\n",
              "      <td>8.0</td>\n",
              "      <td>16986.0</td>\n",
              "      <td>925.0</td>\n",
              "      <td>7.000000e-01</td>\n",
              "      <td>9.0</td>\n",
              "      <td>1758.0</td>\n",
              "      <td>1.400000e-01</td>\n",
              "      <td>0.0</td>\n",
              "      <td>41.0</td>\n",
              "    </tr>\n",
              "    <tr>\n",
              "      <th>std</th>\n",
              "      <td>9.817388</td>\n",
              "      <td>0.0</td>\n",
              "      <td>0.0</td>\n",
              "      <td>0.0</td>\n",
              "      <td>0.0</td>\n",
              "      <td>0.0</td>\n",
              "      <td>6.223763e-15</td>\n",
              "      <td>0.0</td>\n",
              "      <td>0.0</td>\n",
              "      <td>4.723391e-16</td>\n",
              "      <td>0.0</td>\n",
              "      <td>0.0</td>\n",
              "    </tr>\n",
              "    <tr>\n",
              "      <th>min</th>\n",
              "      <td>2.531940</td>\n",
              "      <td>15707.0</td>\n",
              "      <td>0.5</td>\n",
              "      <td>8.0</td>\n",
              "      <td>16986.0</td>\n",
              "      <td>925.0</td>\n",
              "      <td>7.000000e-01</td>\n",
              "      <td>9.0</td>\n",
              "      <td>1758.0</td>\n",
              "      <td>1.400000e-01</td>\n",
              "      <td>0.0</td>\n",
              "      <td>41.0</td>\n",
              "    </tr>\n",
              "    <tr>\n",
              "      <th>25%</th>\n",
              "      <td>8.101600</td>\n",
              "      <td>15707.0</td>\n",
              "      <td>0.5</td>\n",
              "      <td>8.0</td>\n",
              "      <td>16986.0</td>\n",
              "      <td>925.0</td>\n",
              "      <td>7.000000e-01</td>\n",
              "      <td>9.0</td>\n",
              "      <td>1758.0</td>\n",
              "      <td>1.400000e-01</td>\n",
              "      <td>0.0</td>\n",
              "      <td>41.0</td>\n",
              "    </tr>\n",
              "    <tr>\n",
              "      <th>50%</th>\n",
              "      <td>11.400000</td>\n",
              "      <td>15707.0</td>\n",
              "      <td>0.5</td>\n",
              "      <td>8.0</td>\n",
              "      <td>16986.0</td>\n",
              "      <td>925.0</td>\n",
              "      <td>7.000000e-01</td>\n",
              "      <td>9.0</td>\n",
              "      <td>1758.0</td>\n",
              "      <td>1.400000e-01</td>\n",
              "      <td>0.0</td>\n",
              "      <td>41.0</td>\n",
              "    </tr>\n",
              "    <tr>\n",
              "      <th>75%</th>\n",
              "      <td>15.184800</td>\n",
              "      <td>15707.0</td>\n",
              "      <td>0.5</td>\n",
              "      <td>8.0</td>\n",
              "      <td>16986.0</td>\n",
              "      <td>925.0</td>\n",
              "      <td>7.000000e-01</td>\n",
              "      <td>9.0</td>\n",
              "      <td>1758.0</td>\n",
              "      <td>1.400000e-01</td>\n",
              "      <td>0.0</td>\n",
              "      <td>41.0</td>\n",
              "    </tr>\n",
              "    <tr>\n",
              "      <th>max</th>\n",
              "      <td>86.070000</td>\n",
              "      <td>15707.0</td>\n",
              "      <td>0.5</td>\n",
              "      <td>8.0</td>\n",
              "      <td>16986.0</td>\n",
              "      <td>925.0</td>\n",
              "      <td>7.000000e-01</td>\n",
              "      <td>9.0</td>\n",
              "      <td>1758.0</td>\n",
              "      <td>1.400000e-01</td>\n",
              "      <td>0.0</td>\n",
              "      <td>41.0</td>\n",
              "    </tr>\n",
              "  </tbody>\n",
              "</table>\n",
              "</div>"
            ],
            "text/plain": [
              "       preciolitro  valorexpo  ...  tarifa  ease_doing\n",
              "count   478.000000      478.0  ...   478.0       478.0\n",
              "mean     13.767335    15707.0  ...     0.0        41.0\n",
              "std       9.817388        0.0  ...     0.0         0.0\n",
              "min       2.531940    15707.0  ...     0.0        41.0\n",
              "25%       8.101600    15707.0  ...     0.0        41.0\n",
              "50%      11.400000    15707.0  ...     0.0        41.0\n",
              "75%      15.184800    15707.0  ...     0.0        41.0\n",
              "max      86.070000    15707.0  ...     0.0        41.0\n",
              "\n",
              "[8 rows x 12 columns]"
            ]
          },
          "metadata": {
            "tags": []
          },
          "execution_count": 8
        }
      ]
    },
    {
      "cell_type": "code",
      "metadata": {
        "id": "B31_Sg6r7lK8",
        "colab": {
          "base_uri": "https://localhost:8080/",
          "height": 198
        },
        "outputId": "69529780-418e-4582-b9c3-2288f24e3969"
      },
      "source": [
        "country_no.head()"
      ],
      "execution_count": null,
      "outputs": [
        {
          "output_type": "execute_result",
          "data": {
            "text/html": [
              "<div>\n",
              "<style scoped>\n",
              "    .dataframe tbody tr th:only-of-type {\n",
              "        vertical-align: middle;\n",
              "    }\n",
              "\n",
              "    .dataframe tbody tr th {\n",
              "        vertical-align: top;\n",
              "    }\n",
              "\n",
              "    .dataframe thead th {\n",
              "        text-align: right;\n",
              "    }\n",
              "</style>\n",
              "<table border=\"1\" class=\"dataframe\">\n",
              "  <thead>\n",
              "    <tr style=\"text-align: right;\">\n",
              "      <th></th>\n",
              "      <th>Marca</th>\n",
              "      <th>preciolitro</th>\n",
              "      <th>Pais</th>\n",
              "    </tr>\n",
              "  </thead>\n",
              "  <tbody>\n",
              "    <tr>\n",
              "      <th>4554</th>\n",
              "      <td>Lamblin Petit Chablis 2016</td>\n",
              "      <td>26.38647</td>\n",
              "      <td>Noruega</td>\n",
              "    </tr>\n",
              "    <tr>\n",
              "      <th>4555</th>\n",
              "      <td>Charly Nicolle Chablis Per Aspera</td>\n",
              "      <td>30.34647</td>\n",
              "      <td>Noruega</td>\n",
              "    </tr>\n",
              "    <tr>\n",
              "      <th>4556</th>\n",
              "      <td>Georg Breuer Nonnenberg Riesling 2018</td>\n",
              "      <td>87.63480</td>\n",
              "      <td>Noruega</td>\n",
              "    </tr>\n",
              "    <tr>\n",
              "      <th>4557</th>\n",
              "      <td>Barone di Serramarrocco Chardonnay</td>\n",
              "      <td>26.32113</td>\n",
              "      <td>Noruega</td>\n",
              "    </tr>\n",
              "    <tr>\n",
              "      <th>4558</th>\n",
              "      <td>Le Dada de Rouillac 2014</td>\n",
              "      <td>26.40033</td>\n",
              "      <td>Noruega</td>\n",
              "    </tr>\n",
              "  </tbody>\n",
              "</table>\n",
              "</div>"
            ],
            "text/plain": [
              "                                      Marca  preciolitro     Pais\n",
              "4554             Lamblin Petit Chablis 2016     26.38647  Noruega\n",
              "4555      Charly Nicolle Chablis Per Aspera     30.34647  Noruega\n",
              "4556  Georg Breuer Nonnenberg Riesling 2018     87.63480  Noruega\n",
              "4557     Barone di Serramarrocco Chardonnay     26.32113  Noruega\n",
              "4558               Le Dada de Rouillac 2014     26.40033  Noruega"
            ]
          },
          "metadata": {
            "tags": []
          },
          "execution_count": 30
        }
      ]
    },
    {
      "cell_type": "code",
      "metadata": {
        "colab": {
          "base_uri": "https://localhost:8080/"
        },
        "id": "yfvE7cY7Ox9_",
        "outputId": "f71316b0-6859-49bb-d012-b8fac6bd31ba"
      },
      "source": [
        "from google.colab import drive\n",
        "drive.mount('/content/drive')"
      ],
      "execution_count": null,
      "outputs": [
        {
          "output_type": "stream",
          "text": [
            "Drive already mounted at /content/drive; to attempt to forcibly remount, call drive.mount(\"/content/drive\", force_remount=True).\n"
          ],
          "name": "stdout"
        }
      ]
    },
    {
      "cell_type": "code",
      "metadata": {
        "id": "7ThUAz57PULu"
      },
      "source": [
        "country = pd.read_csv('/content/novotfmvino - Hoja 1 (1).csv', header=0, decimal=',')"
      ],
      "execution_count": null,
      "outputs": []
    },
    {
      "cell_type": "code",
      "metadata": {
        "colab": {
          "base_uri": "https://localhost:8080/",
          "height": 287
        },
        "id": "JERga8QaQh-u",
        "outputId": "86ed0a52-6d9c-4652-b195-49e35f348f5e"
      },
      "source": [
        "country.head()"
      ],
      "execution_count": null,
      "outputs": [
        {
          "output_type": "execute_result",
          "data": {
            "text/html": [
              "<div>\n",
              "<style scoped>\n",
              "    .dataframe tbody tr th:only-of-type {\n",
              "        vertical-align: middle;\n",
              "    }\n",
              "\n",
              "    .dataframe tbody tr th {\n",
              "        vertical-align: top;\n",
              "    }\n",
              "\n",
              "    .dataframe thead th {\n",
              "        text-align: right;\n",
              "    }\n",
              "</style>\n",
              "<table border=\"1\" class=\"dataframe\">\n",
              "  <thead>\n",
              "    <tr style=\"text-align: right;\">\n",
              "      <th></th>\n",
              "      <th>País</th>\n",
              "      <th>valorexportado</th>\n",
              "      <th>porcentajeenlasexpoespañaenelpai</th>\n",
              "      <th>cantidad</th>\n",
              "      <th>distanciageo</th>\n",
              "      <th>concentracion</th>\n",
              "      <th>easy</th>\n",
              "      <th>rankingvino</th>\n",
              "      <th>numeroperaciones</th>\n",
              "      <th>población</th>\n",
              "      <th>pib</th>\n",
              "      <th>precio retail</th>\n",
              "      <th>restaurantesespañol</th>\n",
              "      <th>restaurantes</th>\n",
              "    </tr>\n",
              "  </thead>\n",
              "  <tbody>\n",
              "    <tr>\n",
              "      <th>0</th>\n",
              "      <td>Reino Unido</td>\n",
              "      <td>266029</td>\n",
              "      <td>9.4</td>\n",
              "      <td>94668.0</td>\n",
              "      <td>0.000792</td>\n",
              "      <td>0.18</td>\n",
              "      <td>8</td>\n",
              "      <td>91.58</td>\n",
              "      <td>16782</td>\n",
              "      <td>66650</td>\n",
              "      <td>2829000</td>\n",
              "      <td>NaN</td>\n",
              "      <td>2495.0</td>\n",
              "      <td>227958.0</td>\n",
              "    </tr>\n",
              "    <tr>\n",
              "      <th>1</th>\n",
              "      <td>Estados Unidos</td>\n",
              "      <td>246950</td>\n",
              "      <td>5.7</td>\n",
              "      <td>44991.0</td>\n",
              "      <td>0.000173</td>\n",
              "      <td>0.21</td>\n",
              "      <td>6</td>\n",
              "      <td>88.56</td>\n",
              "      <td>32900</td>\n",
              "      <td>328200</td>\n",
              "      <td>21430000</td>\n",
              "      <td>NaN</td>\n",
              "      <td>7472.0</td>\n",
              "      <td>281499.0</td>\n",
              "    </tr>\n",
              "    <tr>\n",
              "      <th>2</th>\n",
              "      <td>Alemania</td>\n",
              "      <td>213792</td>\n",
              "      <td>12.6</td>\n",
              "      <td>84713.0</td>\n",
              "      <td>0.000167</td>\n",
              "      <td>0.27</td>\n",
              "      <td>22</td>\n",
              "      <td>89.85</td>\n",
              "      <td>20276</td>\n",
              "      <td>83020</td>\n",
              "      <td>3861000</td>\n",
              "      <td>31.108434</td>\n",
              "      <td>133.0</td>\n",
              "      <td>14177.0</td>\n",
              "    </tr>\n",
              "    <tr>\n",
              "      <th>3</th>\n",
              "      <td>Suiza</td>\n",
              "      <td>112855</td>\n",
              "      <td>13.8</td>\n",
              "      <td>14561.0</td>\n",
              "      <td>0.000802</td>\n",
              "      <td>0.25</td>\n",
              "      <td>36</td>\n",
              "      <td>88.57</td>\n",
              "      <td>2820</td>\n",
              "      <td>8545</td>\n",
              "      <td>703000</td>\n",
              "      <td>29.240964</td>\n",
              "      <td>NaN</td>\n",
              "      <td>NaN</td>\n",
              "    </tr>\n",
              "    <tr>\n",
              "      <th>4</th>\n",
              "      <td>Países Bajos</td>\n",
              "      <td>98705</td>\n",
              "      <td>9.0</td>\n",
              "      <td>40163.0</td>\n",
              "      <td>0.000675</td>\n",
              "      <td>0.13</td>\n",
              "      <td>42</td>\n",
              "      <td>NaN</td>\n",
              "      <td>11413</td>\n",
              "      <td>17280</td>\n",
              "      <td>907100</td>\n",
              "      <td>9.542169</td>\n",
              "      <td>100.0</td>\n",
              "      <td>16904.0</td>\n",
              "    </tr>\n",
              "  </tbody>\n",
              "</table>\n",
              "</div>"
            ],
            "text/plain": [
              "             País  valorexportado  ...  restaurantesespañol  restaurantes\n",
              "0     Reino Unido          266029  ...               2495.0      227958.0\n",
              "1  Estados Unidos          246950  ...               7472.0      281499.0\n",
              "2        Alemania          213792  ...                133.0       14177.0\n",
              "3           Suiza          112855  ...                  NaN           NaN\n",
              "4    Países Bajos           98705  ...                100.0       16904.0\n",
              "\n",
              "[5 rows x 14 columns]"
            ]
          },
          "metadata": {
            "tags": []
          },
          "execution_count": 47
        }
      ]
    },
    {
      "cell_type": "code",
      "metadata": {
        "colab": {
          "base_uri": "https://localhost:8080/",
          "height": 475
        },
        "id": "whhaClhXQldY",
        "outputId": "46a33648-b41a-4239-cb94-d6e861384f9a"
      },
      "source": [
        "country.corr()"
      ],
      "execution_count": null,
      "outputs": [
        {
          "output_type": "execute_result",
          "data": {
            "text/html": [
              "<div>\n",
              "<style scoped>\n",
              "    .dataframe tbody tr th:only-of-type {\n",
              "        vertical-align: middle;\n",
              "    }\n",
              "\n",
              "    .dataframe tbody tr th {\n",
              "        vertical-align: top;\n",
              "    }\n",
              "\n",
              "    .dataframe thead th {\n",
              "        text-align: right;\n",
              "    }\n",
              "</style>\n",
              "<table border=\"1\" class=\"dataframe\">\n",
              "  <thead>\n",
              "    <tr style=\"text-align: right;\">\n",
              "      <th></th>\n",
              "      <th>valorexportado</th>\n",
              "      <th>porcentajeenlasexpoespañaenelpai</th>\n",
              "      <th>cantidad</th>\n",
              "      <th>distanciageo</th>\n",
              "      <th>concentracion</th>\n",
              "      <th>easy</th>\n",
              "      <th>rankingvino</th>\n",
              "      <th>numeroperaciones</th>\n",
              "      <th>población</th>\n",
              "      <th>pib</th>\n",
              "      <th>precio retail</th>\n",
              "      <th>restaurantesespañol</th>\n",
              "      <th>restaurantes</th>\n",
              "    </tr>\n",
              "  </thead>\n",
              "  <tbody>\n",
              "    <tr>\n",
              "      <th>valorexportado</th>\n",
              "      <td>1.000000</td>\n",
              "      <td>-0.068473</td>\n",
              "      <td>0.794212</td>\n",
              "      <td>0.222118</td>\n",
              "      <td>-0.162329</td>\n",
              "      <td>-0.336428</td>\n",
              "      <td>0.445153</td>\n",
              "      <td>0.921107</td>\n",
              "      <td>0.060963</td>\n",
              "      <td>0.649539</td>\n",
              "      <td>-0.021174</td>\n",
              "      <td>0.583342</td>\n",
              "      <td>0.535157</td>\n",
              "    </tr>\n",
              "    <tr>\n",
              "      <th>porcentajeenlasexpoespañaenelpai</th>\n",
              "      <td>-0.068473</td>\n",
              "      <td>1.000000</td>\n",
              "      <td>0.013296</td>\n",
              "      <td>0.018666</td>\n",
              "      <td>0.143328</td>\n",
              "      <td>-0.180884</td>\n",
              "      <td>-0.058959</td>\n",
              "      <td>-0.084902</td>\n",
              "      <td>-0.067701</td>\n",
              "      <td>-0.077054</td>\n",
              "      <td>-0.120307</td>\n",
              "      <td>-0.140214</td>\n",
              "      <td>-0.230336</td>\n",
              "    </tr>\n",
              "    <tr>\n",
              "      <th>cantidad</th>\n",
              "      <td>0.794212</td>\n",
              "      <td>0.013296</td>\n",
              "      <td>1.000000</td>\n",
              "      <td>0.598270</td>\n",
              "      <td>-0.066488</td>\n",
              "      <td>-0.275698</td>\n",
              "      <td>0.433169</td>\n",
              "      <td>0.694704</td>\n",
              "      <td>-0.008291</td>\n",
              "      <td>0.345812</td>\n",
              "      <td>-0.242299</td>\n",
              "      <td>0.232020</td>\n",
              "      <td>0.272730</td>\n",
              "    </tr>\n",
              "    <tr>\n",
              "      <th>distanciageo</th>\n",
              "      <td>0.222118</td>\n",
              "      <td>0.018666</td>\n",
              "      <td>0.598270</td>\n",
              "      <td>1.000000</td>\n",
              "      <td>-0.131856</td>\n",
              "      <td>-0.216735</td>\n",
              "      <td>0.302191</td>\n",
              "      <td>0.108949</td>\n",
              "      <td>-0.176813</td>\n",
              "      <td>-0.086328</td>\n",
              "      <td>-0.394144</td>\n",
              "      <td>-0.159697</td>\n",
              "      <td>0.021884</td>\n",
              "    </tr>\n",
              "    <tr>\n",
              "      <th>concentracion</th>\n",
              "      <td>-0.162329</td>\n",
              "      <td>0.143328</td>\n",
              "      <td>-0.066488</td>\n",
              "      <td>-0.131856</td>\n",
              "      <td>1.000000</td>\n",
              "      <td>0.458618</td>\n",
              "      <td>-0.098062</td>\n",
              "      <td>-0.170464</td>\n",
              "      <td>-0.097758</td>\n",
              "      <td>-0.085228</td>\n",
              "      <td>0.040008</td>\n",
              "      <td>0.100990</td>\n",
              "      <td>-0.127546</td>\n",
              "    </tr>\n",
              "    <tr>\n",
              "      <th>easy</th>\n",
              "      <td>-0.336428</td>\n",
              "      <td>-0.180884</td>\n",
              "      <td>-0.275698</td>\n",
              "      <td>-0.216735</td>\n",
              "      <td>0.458618</td>\n",
              "      <td>1.000000</td>\n",
              "      <td>-0.506139</td>\n",
              "      <td>-0.334611</td>\n",
              "      <td>0.109191</td>\n",
              "      <td>-0.195173</td>\n",
              "      <td>-0.562837</td>\n",
              "      <td>-0.059513</td>\n",
              "      <td>-0.277890</td>\n",
              "    </tr>\n",
              "    <tr>\n",
              "      <th>rankingvino</th>\n",
              "      <td>0.445153</td>\n",
              "      <td>-0.058959</td>\n",
              "      <td>0.433169</td>\n",
              "      <td>0.302191</td>\n",
              "      <td>-0.098062</td>\n",
              "      <td>-0.506139</td>\n",
              "      <td>1.000000</td>\n",
              "      <td>0.348891</td>\n",
              "      <td>0.219950</td>\n",
              "      <td>0.189965</td>\n",
              "      <td>0.750275</td>\n",
              "      <td>0.167833</td>\n",
              "      <td>0.417583</td>\n",
              "    </tr>\n",
              "    <tr>\n",
              "      <th>numeroperaciones</th>\n",
              "      <td>0.921107</td>\n",
              "      <td>-0.084902</td>\n",
              "      <td>0.694704</td>\n",
              "      <td>0.108949</td>\n",
              "      <td>-0.170464</td>\n",
              "      <td>-0.334611</td>\n",
              "      <td>0.348891</td>\n",
              "      <td>1.000000</td>\n",
              "      <td>0.097545</td>\n",
              "      <td>0.823702</td>\n",
              "      <td>-0.114385</td>\n",
              "      <td>0.693752</td>\n",
              "      <td>0.533218</td>\n",
              "    </tr>\n",
              "    <tr>\n",
              "      <th>población</th>\n",
              "      <td>0.060963</td>\n",
              "      <td>-0.067701</td>\n",
              "      <td>-0.008291</td>\n",
              "      <td>-0.176813</td>\n",
              "      <td>-0.097758</td>\n",
              "      <td>0.109191</td>\n",
              "      <td>0.219950</td>\n",
              "      <td>0.097545</td>\n",
              "      <td>1.000000</td>\n",
              "      <td>0.308482</td>\n",
              "      <td>-0.173361</td>\n",
              "      <td>0.656001</td>\n",
              "      <td>0.390006</td>\n",
              "    </tr>\n",
              "    <tr>\n",
              "      <th>pib</th>\n",
              "      <td>0.649539</td>\n",
              "      <td>-0.077054</td>\n",
              "      <td>0.345812</td>\n",
              "      <td>-0.086328</td>\n",
              "      <td>-0.085228</td>\n",
              "      <td>-0.195173</td>\n",
              "      <td>0.189965</td>\n",
              "      <td>0.823702</td>\n",
              "      <td>0.308482</td>\n",
              "      <td>1.000000</td>\n",
              "      <td>-0.108822</td>\n",
              "      <td>0.862414</td>\n",
              "      <td>0.592149</td>\n",
              "    </tr>\n",
              "    <tr>\n",
              "      <th>precio retail</th>\n",
              "      <td>-0.021174</td>\n",
              "      <td>-0.120307</td>\n",
              "      <td>-0.242299</td>\n",
              "      <td>-0.394144</td>\n",
              "      <td>0.040008</td>\n",
              "      <td>-0.562837</td>\n",
              "      <td>0.750275</td>\n",
              "      <td>-0.114385</td>\n",
              "      <td>-0.173361</td>\n",
              "      <td>-0.108822</td>\n",
              "      <td>1.000000</td>\n",
              "      <td>0.633524</td>\n",
              "      <td>0.363131</td>\n",
              "    </tr>\n",
              "    <tr>\n",
              "      <th>restaurantesespañol</th>\n",
              "      <td>0.583342</td>\n",
              "      <td>-0.140214</td>\n",
              "      <td>0.232020</td>\n",
              "      <td>-0.159697</td>\n",
              "      <td>0.100990</td>\n",
              "      <td>-0.059513</td>\n",
              "      <td>0.167833</td>\n",
              "      <td>0.693752</td>\n",
              "      <td>0.656001</td>\n",
              "      <td>0.862414</td>\n",
              "      <td>0.633524</td>\n",
              "      <td>1.000000</td>\n",
              "      <td>0.715251</td>\n",
              "    </tr>\n",
              "    <tr>\n",
              "      <th>restaurantes</th>\n",
              "      <td>0.535157</td>\n",
              "      <td>-0.230336</td>\n",
              "      <td>0.272730</td>\n",
              "      <td>0.021884</td>\n",
              "      <td>-0.127546</td>\n",
              "      <td>-0.277890</td>\n",
              "      <td>0.417583</td>\n",
              "      <td>0.533218</td>\n",
              "      <td>0.390006</td>\n",
              "      <td>0.592149</td>\n",
              "      <td>0.363131</td>\n",
              "      <td>0.715251</td>\n",
              "      <td>1.000000</td>\n",
              "    </tr>\n",
              "  </tbody>\n",
              "</table>\n",
              "</div>"
            ],
            "text/plain": [
              "                                  valorexportado  ...  restaurantes\n",
              "valorexportado                          1.000000  ...      0.535157\n",
              "porcentajeenlasexpoespañaenelpai       -0.068473  ...     -0.230336\n",
              "cantidad                                0.794212  ...      0.272730\n",
              "distanciageo                            0.222118  ...      0.021884\n",
              "concentracion                          -0.162329  ...     -0.127546\n",
              "easy                                   -0.336428  ...     -0.277890\n",
              "rankingvino                             0.445153  ...      0.417583\n",
              "numeroperaciones                        0.921107  ...      0.533218\n",
              "población                               0.060963  ...      0.390006\n",
              "pib                                     0.649539  ...      0.592149\n",
              "precio retail                          -0.021174  ...      0.363131\n",
              "restaurantesespañol                     0.583342  ...      0.715251\n",
              "restaurantes                            0.535157  ...      1.000000\n",
              "\n",
              "[13 rows x 13 columns]"
            ]
          },
          "metadata": {
            "tags": []
          },
          "execution_count": 50
        }
      ]
    },
    {
      "cell_type": "code",
      "metadata": {
        "id": "PCfzNewNQ_ZD"
      },
      "source": [
        "import seaborn as sns\n"
      ],
      "execution_count": null,
      "outputs": []
    },
    {
      "cell_type": "code",
      "metadata": {
        "colab": {
          "base_uri": "https://localhost:8080/",
          "height": 454
        },
        "id": "q1zm0LAURCkx",
        "outputId": "0505603a-a560-4641-fbb8-d621a6e8bbe4"
      },
      "source": [
        "import seaborn as sns\n",
        "corr = country.corr()\n",
        "sns.heatmap(corr, \n",
        "            xticklabels=corr.columns.values,\n",
        "            yticklabels=corr.columns.values)"
      ],
      "execution_count": null,
      "outputs": [
        {
          "output_type": "execute_result",
          "data": {
            "text/plain": [
              "<matplotlib.axes._subplots.AxesSubplot at 0x7f5cce132190>"
            ]
          },
          "metadata": {
            "tags": []
          },
          "execution_count": 49
        },
        {
          "output_type": "display_data",
          "data": {
            "image/png": "[encoded data removed]",
            "text/plain": [
              "<Figure size 432x288 with 2 Axes>"
            ]
          },
          "metadata": {
            "tags": [],
            "needs_background": "light"
          }
        }
      ]
    }
  ]
}